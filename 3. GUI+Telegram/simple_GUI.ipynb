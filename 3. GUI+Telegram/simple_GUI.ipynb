{
 "cells": [
  {
   "cell_type": "code",
   "execution_count": 1,
   "metadata": {},
   "outputs": [],
   "source": [
    "import json\n",
    "import random\n",
    "import gensim\n",
    "\n",
    "from sklearn.feature_extraction.text import TfidfVectorizer\n",
    "from sklearn.metrics.pairwise import cosine_similarity"
   ]
  },
  {
   "cell_type": "code",
   "execution_count": 2,
   "metadata": {},
   "outputs": [],
   "source": [
    "corpus = list()"
   ]
  },
  {
   "cell_type": "code",
   "execution_count": 3,
   "metadata": {},
   "outputs": [],
   "source": [
    "with open ('articoli.txt', 'r', encoding = 'utf-8') as file:\n",
    "    corpus = json.loads(file.read())\n",
    "    \n",
    "# eliminazione di quelle frasi che sono delle domande\n",
    "# (per evitare che il chatbot risponda con delle domande)\n",
    "for sentence in corpus:\n",
    "    if (sentence[len(sentence)-1] == '?'):\n",
    "        corpus.remove(sentence)"
   ]
  },
  {
   "cell_type": "code",
   "execution_count": 4,
   "metadata": {},
   "outputs": [],
   "source": [
    "with open('q&a.json', 'r') as data_structure:\n",
    "    q_a = json.load(data_structure)\n",
    "    # appendiamo le chiavi del dizionario (le domande delle FAQ)\n",
    "    for k in q_a.keys():\n",
    "        corpus.append(k)"
   ]
  },
  {
   "cell_type": "markdown",
   "metadata": {},
   "source": [
    "# Costruzione del modello"
   ]
  },
  {
   "cell_type": "code",
   "execution_count": 5,
   "metadata": {},
   "outputs": [],
   "source": [
    "# carichiamo il modello tfidf\n",
    "tfidf = TfidfVectorizer(ngram_range=(1, 3), min_df=2, max_df = 1000)\n",
    "matrix_tfidf = tfidf.fit_transform(corpus)"
   ]
  },
  {
   "cell_type": "code",
   "execution_count": 6,
   "metadata": {},
   "outputs": [],
   "source": [
    "# riordina la lista in ordine decrescente\n",
    "def find_index(cos_sim_matrix):\n",
    "    top, index = 0.0, -1\n",
    "    i = 0\n",
    "    for i in range(len(cos_sim_matrix)):\n",
    "        if cos_sim_matrix[i] > top:\n",
    "            top = cos_sim_matrix[i]\n",
    "            index = i\n",
    "    return index"
   ]
  },
  {
   "cell_type": "code",
   "execution_count": 7,
   "metadata": {},
   "outputs": [],
   "source": [
    "def compute_similarity (model, matrix, query):\n",
    "    vec_query = model.transform([query])\n",
    "    # calcoliamo similarità tra query e count matrix\n",
    "    # e rendiamo la similarity matrix unidimensionale\n",
    "    cos_sim = cosine_similarity(vec_query, matrix).flatten()\n",
    "    \n",
    "    return cos_sim"
   ]
  },
  {
   "cell_type": "code",
   "execution_count": 8,
   "metadata": {},
   "outputs": [],
   "source": [
    "# function to return a random greeting responde to a users greeting\n",
    "def greeting_response(text):\n",
    "    text = text.lower()\n",
    "    \n",
    "    # bots greeting response\n",
    "    bot_greetings = ['ciao', 'ehi']\n",
    "    # user's greeting\n",
    "    user_greetings = ['ciao']\n",
    "    \n",
    "    # se una parola dell'utente contiene una parola in user_greetings\n",
    "    for word in text.split():\n",
    "        if word in user_greetings:\n",
    "            # restituisci una parola presa a caso da bot_greetings\n",
    "            return random.choice(bot_greetings)"
   ]
  },
  {
   "cell_type": "code",
   "execution_count": 9,
   "metadata": {},
   "outputs": [],
   "source": [
    "def bot_response(user_input, model, matrix, q_a):\n",
    "    bot_response = ''\n",
    "    \n",
    "    # cosine similarity function calcola la similarità tra\n",
    "    # X e Y. Nel nostro caso X = query (vvero domanda \n",
    "    # dell'utente) e matrix di similarità calcolata in fase di\n",
    "    # training del modello\n",
    "    similarity_scores_list = compute_similarity(model, matrix, user_input)\n",
    "    # lista di indici riodinati a seconda del similarity score\n",
    "    index = find_index(similarity_scores_list)\n",
    "     \n",
    "    if index == -1:\n",
    "        bot_response = bot_response + 'Scusa, non sono in grado di risponderti.'\n",
    "        return bot_response\n",
    "    else:\n",
    "        if corpus[index] in q_a.keys():\n",
    "            bot_response = bot_response + q_a[corpus[index]][0]\n",
    "        # altrimenti, prende una frase degli articoli\n",
    "        else:\n",
    "            bot_response = bot_response + corpus[index]\n",
    "            response_flag = 1 # abbiamo trovato la risposta\n",
    "        return bot_response"
   ]
  },
  {
   "cell_type": "code",
   "execution_count": 10,
   "metadata": {},
   "outputs": [],
   "source": [
    "def chatbot_response(text):\n",
    "    exit_list = ['esci','stop']\n",
    "    user_input = text\n",
    "    if user_input.lower() in exit_list:\n",
    "        print('Co-bot: Ciao, a presto!')\n",
    "        #break\n",
    "    else:\n",
    "        if greeting_response(user_input) != None:\n",
    "            return greeting_response(user_input)\n",
    "        else:\n",
    "            \n",
    "            return bot_response(user_input, tfidf, matrix_tfidf, q_a)"
   ]
  },
  {
   "cell_type": "markdown",
   "metadata": {},
   "source": [
    "# Implementazione interfaccia"
   ]
  },
  {
   "cell_type": "code",
   "execution_count": 11,
   "metadata": {},
   "outputs": [],
   "source": [
    "def send():\n",
    "    te = messageWindow.get(\"1.0\",END)\n",
    "    chatWindow.insert(INSERT, 'Me: '+ '\\n')\n",
    "    chatWindow.config(foreground=\"#442265\", font=(\"Verdana\", 14 ))\n",
    "    chatWindow.insert(INSERT,te)\n",
    "    chatWindow.insert(INSERT,'\\n')\n",
    "    chatWindow.insert(INSERT, 'chatbot: '+ '\\n\\n')\n",
    "    c = chatbot_response(te)\n",
    "    chatWindow.insert(INSERT,c)\n",
    "    chatWindow.insert(INSERT,'\\n\\n')"
   ]
  },
  {
   "cell_type": "code",
   "execution_count": 12,
   "metadata": {},
   "outputs": [],
   "source": [
    "from tkinter import *\n",
    "\n",
    "root = Tk()\n",
    "\n",
    "root.title(\"ChatBot\")\n",
    "root.geometry(\"400x500\")\n",
    "root.resizable(width=TRUE, height=TRUE)\n",
    "\n",
    "chatWindow = Text(root, bd=1, bg=\"light blue\",  width=\"50\", height=\"8\", font=(\"Arial\", 17), foreground=\"black\")\n",
    "chatWindow.place(x=6,y=6, height=386, width=370)\n",
    "\n",
    "\n",
    "messageWindow = Text(root, bd=0, bg=\"light blue\",width=\"30\", height=\"4\", font=(\"Arial\", 17), foreground=\"black\")\n",
    "messageWindow.place(x=128, y=400, height=88, width=260)\n",
    "\n",
    "scrollbar = Scrollbar(root, command=chatWindow.yview)\n",
    "scrollbar.place(x=375,y=5, height=385)\n",
    "\n",
    "Button= Button(root, text=\"Send\",  width=\"12\", height=5,\n",
    "                    bd=0, bg=\"red\", activebackground=\"blue\",foreground='red',font=(\"Arial\", 12), command = send)\n",
    "Button.place(x=6, y=400, height=88)\n",
    "\n",
    "\n",
    "root.mainloop()"
   ]
  }
 ],
 "metadata": {
  "kernelspec": {
   "display_name": "Python 3",
   "language": "python",
   "name": "python3"
  },
  "language_info": {
   "codemirror_mode": {
    "name": "ipython",
    "version": 3
   },
   "file_extension": ".py",
   "mimetype": "text/x-python",
   "name": "python",
   "nbconvert_exporter": "python",
   "pygments_lexer": "ipython3",
   "version": "3.8.3"
  }
 },
 "nbformat": 4,
 "nbformat_minor": 4
}
