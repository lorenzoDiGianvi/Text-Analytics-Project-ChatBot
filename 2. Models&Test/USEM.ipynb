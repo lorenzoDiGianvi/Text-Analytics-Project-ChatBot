{
 "cells": [
  {
   "cell_type": "markdown",
   "metadata": {
    "id": "rmnCJde5q8yD"
   },
   "source": [
    "### Import pacchetti"
   ]
  },
  {
   "cell_type": "code",
   "execution_count": null,
   "metadata": {
    "colab": {
     "base_uri": "https://localhost:8080/"
    },
    "id": "I2OVPrY7q8Gs",
    "outputId": "32fea796-0463-4642-ed40-2a56e240edd8"
   },
   "outputs": [
    {
     "name": "stdout",
     "output_type": "stream",
     "text": [
      "[nltk_data] Downloading package punkt to /root/nltk_data...\n",
      "[nltk_data]   Package punkt is already up-to-date!\n",
      "[nltk_data] Downloading package stopwords to /root/nltk_data...\n",
      "[nltk_data]   Package stopwords is already up-to-date!\n"
     ]
    },
    {
     "data": {
      "text/plain": [
       "True"
      ]
     },
     "execution_count": 7,
     "metadata": {
      "tags": []
     },
     "output_type": "execute_result"
    }
   ],
   "source": [
    "import json\n",
    "import nltk\n",
    "import random\n",
    "import tensorflow as tf\n",
    "import tensorflow_hub as hub\n",
    "import numpy as np\n",
    "import bokeh\n",
    "import bokeh.models\n",
    "import bokeh.plotting\n",
    "import os\n",
    "import pandas as pd\n",
    "import tensorflow.compat.v2 as tf\n",
    "import tensorflow_hub as hub\n",
    "from tensorflow_text import SentencepieceTokenizer\n",
    "import sklearn.metrics.pairwise\n",
    "\n",
    "from simpleneighbors import SimpleNeighbors\n",
    "from tqdm import tqdm\n",
    "from tqdm import trange\n",
    "\n",
    "from google.colab import files\n",
    "from nltk import word_tokenize\n",
    "\n",
    "nltk.download('punkt')\n",
    "nltk.download('stopwords')"
   ]
  },
  {
   "cell_type": "markdown",
   "metadata": {
    "id": "tY07YOmZrGV8"
   },
   "source": [
    "### Caricamento risorse"
   ]
  },
  {
   "cell_type": "code",
   "execution_count": null,
   "metadata": {
    "colab": {
     "base_uri": "https://localhost:8080/",
     "height": 83,
     "resources": {
      "http://localhost:8080/nbextensions/google.colab/files.js": {
       "data": "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",
       "headers": [
        [
         "content-type",
         "application/javascript"
        ]
       ],
       "ok": true,
       "status": 200,
       "status_text": "OK"
      }
     }
    },
    "id": "RXgDfskDrIpS",
    "outputId": "e3e8ddd4-1732-4533-ae0f-72b047dfe917"
   },
   "outputs": [
    {
     "data": {
      "text/html": [
       "\n",
       "     <input type=\"file\" id=\"files-3b6b3bf2-fa1b-4ed7-b12e-7ef073804a13\" name=\"files[]\" multiple disabled\n",
       "        style=\"border:none\" />\n",
       "     <output id=\"result-3b6b3bf2-fa1b-4ed7-b12e-7ef073804a13\">\n",
       "      Upload widget is only available when the cell has been executed in the\n",
       "      current browser session. Please rerun this cell to enable.\n",
       "      </output>\n",
       "      <script src=\"/nbextensions/google.colab/files.js\"></script> "
      ],
      "text/plain": [
       "<IPython.core.display.HTML object>"
      ]
     },
     "metadata": {
      "tags": []
     },
     "output_type": "display_data"
    },
    {
     "data": {
      "text/html": [
       "\n",
       "     <input type=\"file\" id=\"files-87bea669-e7ba-4726-8bea-74bafaae29e9\" name=\"files[]\" multiple disabled\n",
       "        style=\"border:none\" />\n",
       "     <output id=\"result-87bea669-e7ba-4726-8bea-74bafaae29e9\">\n",
       "      Upload widget is only available when the cell has been executed in the\n",
       "      current browser session. Please rerun this cell to enable.\n",
       "      </output>\n",
       "      <script src=\"/nbextensions/google.colab/files.js\"></script> "
      ],
      "text/plain": [
       "<IPython.core.display.HTML object>"
      ]
     },
     "metadata": {
      "tags": []
     },
     "output_type": "display_data"
    },
    {
     "data": {
      "text/html": [
       "\n",
       "     <input type=\"file\" id=\"files-0a1f4415-7535-4c62-a235-418da3c272ff\" name=\"files[]\" multiple disabled\n",
       "        style=\"border:none\" />\n",
       "     <output id=\"result-0a1f4415-7535-4c62-a235-418da3c272ff\">\n",
       "      Upload widget is only available when the cell has been executed in the\n",
       "      current browser session. Please rerun this cell to enable.\n",
       "      </output>\n",
       "      <script src=\"/nbextensions/google.colab/files.js\"></script> "
      ],
      "text/plain": [
       "<IPython.core.display.HTML object>"
      ]
     },
     "metadata": {
      "tags": []
     },
     "output_type": "display_data"
    }
   ],
   "source": [
    "corpus = list()\n",
    "\n",
    "files.upload() #file mio\n",
    "files.upload() #file Lore\n",
    "files.upload() #file Ludo\n",
    "\n",
    "carica_file = list()\n",
    "carica_lore = list()\n",
    "carica_ludo = list()\n",
    "\n",
    "#file mio\n",
    "with open('file_Stefano.txt', 'r', encoding='utf-8') as f:\n",
    "  for line in f:\n",
    "    carica_file.append(line)\n",
    "\n",
    "#file Lore\n",
    "with open('file_Lorenzo.txt', 'r', encoding='utf-8') as lo:\n",
    "  articoliSeparati = json.loads(lo.read())\n",
    "  for articolo in articoliSeparati:\n",
    "    for frase in articolo:\n",
    "        carica_lore.append(frase)\n",
    "\n",
    "#file Ludo\n",
    "with open('q&a.json', 'r') as ludo:\n",
    "    q_a = json.load(ludo)\n",
    "    for k in q_a.keys():\n",
    "      carica_ludo.append(k)\n",
    "  \n",
    "corpus = carica_file + carica_lore + carica_ludo"
   ]
  },
  {
   "cell_type": "markdown",
   "metadata": {
    "id": "KRF-17AJv6ng"
   },
   "source": [
    "### Preprocessing"
   ]
  },
  {
   "cell_type": "code",
   "execution_count": null,
   "metadata": {
    "id": "kge9b2o6v6W4"
   },
   "outputs": [],
   "source": [
    "# SENTENCE SPLITTING\n",
    "doc_corpus = list()\n",
    "sentence_corpus = list()\n",
    "\n",
    "for line in corpus:\n",
    "  sentence_doc_list = nltk.sent_tokenize(line)\n",
    "  doc_corpus.append(sentence_doc_list)\n",
    "\n",
    "for doc in doc_corpus:\n",
    "  for sentence in doc:\n",
    "    ######### se ci sono delle domande, non le teniamo in conto####\n",
    "    ######### NON LO POSSO FARE QUI ###########\n",
    "    #if sentence[len(sentence)-1] != '?':\n",
    "    sentence_corpus.append(sentence.lower())"
   ]
  },
  {
   "cell_type": "code",
   "execution_count": null,
   "metadata": {
    "colab": {
     "base_uri": "https://localhost:8080/"
    },
    "id": "jp2NG933xYwy",
    "outputId": "42738294-544a-4894-fa49-7f655dd13176"
   },
   "outputs": [
    {
     "name": "stdout",
     "output_type": "stream",
     "text": [
      "La pandemia da COVID-19 ha reso necessaria una riorganizzazione dei percorsi assistenziali legati alla nascita. Per questo motivo, l’ISS mette a disposizione del personale sanitario una selezione di risorse, letteratura ed evidence disponibili su gravidanza, parto e allattamento. In evidenza:  la pagina dedicata alla vaccinazione contro il COVID-19 in gravidanza e allattamentola pagina dedicata allo studio “COVID-19 e salute mentale perinatale: impatto del COVID-19 sul vissuto e lo stato emotivo in epoca perinatale delle donne in contatto con i Consultori Familiari (CF)”, di cui l’Istituto Superiore di Sanità è coordinatore, aggiornata al 7 gennaio 2021Leggi gli altri approfondimenti:Per aiutare il personale sanitario nel lavoro quotidiano di assistenza alle donne durante la gravidanza, il parto e l’allattamento, le ricercatrici dell’ISS hanno messo a punto alcuni materiali di comunicazione specifici. Visita lapagina dedicata.Data di ultimo aggiornamento: 9 gennaio 2021 Data di creazione della pagina: 27 febbraio 2020 \n",
      "\n",
      "Non esiste alcuna evidenza che gli animali domestici giochino un ruolo nella diffusione di SARS-CoV-2 che riconosce, invece, nel contagio interumano la via principale di trasmissione. Tuttavia, poiché la sorveglianza veterinaria e gli studi sperimentali suggeriscono che gli animali domestici siano, occasionalmente, suscettibili a SARS-CoV-2, è importante proteggere gli animali di pazienti affetti da COVID-19, limitando la loro esposizione. Il virus SARS-CoV-2, lasciato il suo probabile serbatoio animale selvatico, si è diffuso rapidamente in tutti i continenti, trovando nella specie umana una popolazione recettiva e in grado di permettergli una efficiente trasmissione intraspecifica. L'elevata circolazione del virus tra gli esseri umani sembra però non risparmiare, in alcune occasioni, gli animali che condividono con l'uomo ambiente domestico, quotidianità e affetto. Al 2 aprile 2020, a fronte di 800 mila casi confermati nel mondo di COVID-19 nell’uomo, sono solamente 4 i casi documentati di positività da SARS-CoV-2 negli animali da compagnia: due cani e un gatto ad Hong Kong e un gatto in Belgio. In tutti i casi, all'origine dell'infezione negli animali vi sarebbe la malattia dei loro proprietari, tutti affetti da COVID-19. Il dato, per quanto limitato a poche osservazioni, merita attenzione. A questi casi di infezione avvenuta naturalmente, si stanno infatti aggiungendo i risultati degli studi sperimentali effettuati in laboratorio su alcune specie domestiche. Questi confermerebbero la suscettibilità del gatto, del furetto e, in misura minore, del cane all’infezione da SARS-CoV-2. Le evidenze disponibili suggeriscono che l’esposizione degli animali a SARS-CoV-2 possa dare luogo a infezioni asintomatiche/paucisintomatiche, ovvero manifestarsi con malattia vera e propria. Nei due cani e nel gatto osservati ad Hong Kong, l'infezione si è evoluta in forma asintomatica. Il gatto descritto in Belgio ha, invece, sviluppato una sintomatologia respiratoria e gastroenterica a distanza di una settimana dal rientro della proprietaria dall'Italia. L'animale ha mostrato anoressia, vomito, diarrea, difficoltà respiratorie e tosse ma è andato incontro a un miglioramento spontaneo a partire dal nono giorno dall'esordio della malattia. Il rapporto realizzato dal Comitato scientifico istituito presso l'Agenzia federale Belga per la Sicurezza alimentare segnala che nel vomito e nelle feci dell'animale era presente un'elevata carica virale. Questo rilievo unitamente ai sintomi clinici, fa ipotizzare che l'animale, dopo essere stato esposto al contagio da parte della sua proprietaria, sia andato incontro a una infezione virale produttiva, ovvero accompagnata da una attiva replicazione del virus. È opportuno sottolineare che, in tutti e 4 i casi descritti, gli accertamenti diagnostici sono stati condotti mediante tecniche molecolari e, al momento, non sono disponibili dati di isolamento virale, utili a definire con maggiore certezza lo stato di infezione. Tuttavia, in uno dei due cani di Hong Kong la positività degli accertamenti sierologici supporta l'ipotesi che il cane fosse infetto da SARS-CoV-2. Essendo SARS-CoV-2 un virus nuovo, occorre intensificare gli sforzi per raccogliere ulteriori segnali dell’eventuale comparsa di malattia nei nostri animali da compagnia, evitando tuttavia di generare allarmi ingiustificati. Vivendo in ambienti a forte circolazione virale a causa della malattia dei loro proprietari, non è inatteso che anche gli animali possano, occasionalmente, contrarre l'infezione. Ma, nei casi osservati, gli animali sono stati incolpevoli “vittime”. Non esiste infatti alcuna evidenza che cani o gatti giochino un ruolo nella diffusione epidemica di SARS-CoV-2 che riconosce, invece, nel contagio interumano la via di trasmissione. Tuttavia, la possibilità che gli animali domestici possano contrarre l'infezione pone domande in merito alla gestione sanitaria degli animali di proprietà di pazienti affetti da COVID-19. La raccomandazione generale è quella di adottare comportamenti utili a ridurre quanto più possibile l'esposizione degli animali al contagio, evitando, ad esempio, i contatti ravvicinati con il paziente, così come si richiede agli altri membri del nucleo familiare. Gli organismi internazionali che si sono occupati dell'argomento raccomandano di evitare effusioni e di mantenere le misure igieniche di base che andrebbero sempre tenute come il lavaggio delle mani prima e dopo essere stati a contatto con gli animali, con la lettiera o la scodella del cibo. A margine di tutto ciò occorre sottolineare che gli animali domestici contribuiscono alla nostra gioia e al nostro benessere, soprattutto in periodi di stress come quelli che stiamo vivendo. In assenza di sintomi riferibili a COVID-19 e se non si è in isolamento domiciliare, passare del tempo con il proprio animale domestico e accompagnare il proprio cane nell'uscita quotidiana (nel rispetto della normativa) contribuisce a mantenere in salute noi stessi e i nostri amici animali. Bisogna considerare che le conoscenze sul virus SARS-CoV-2 sono in rapida evoluzione e dunque quanto detto è da considerarsi ad interim. Tuttavia, l'Istituto Superiore di Sanità (ISS) ritiene utile promuovere lo scambio di conoscenze, man mano che queste sono rese disponibili, per il benessere e salute degli animali da compagnia e dei loro proprietari e dunque fornirà gli aggiornamenti necessari per rimanere in linea con l’evolversi della letteratura scientifica e delle posizioni ufficiali delle principali autorità nazionali e internazionali e per fornire informazioni dettagliate e indicazioni di comportamento Il Rapporto ISS COVID-19 n. 16/2020 - “Animali da compagnia e SARS-cov-2: cosa occorre sapere, come occorre comportarsi. Versione del 19 aprile 2020” (pdf 2,1 Mb) Il poster “Animali da compagnia: consigli per un accudimento sicuro” (pdf 274 kb) Data di ultimo aggiornamento: 22 aprile 2020Data di creazione della pagina: 4 marzo 2020Autore: Umberto Agrimi – direttore del Dipartimento Sicurezza alimentare, nutrizione e sanità pubblica veterinaria, ISS \n",
      "\n",
      "Le ipotesi che suggeriscono correlazioni tra le aree a maggior inquinamento atmosferico e la diffusione del virus responsabile della COVID-19 hanno sollecitato la richiesta di pareri all’Istituto Superiore di Sanità (ISS) e stimolato molti gruppi di studiosi a collaborare per esaminare il problema e le possibili associazioni. Tuttavia, l’incertezza che ancora riguarda molti aspetti di questa epidemia richiede quindi una certa cautela e un approfondimento delle eventuali relazioni causa-effetto. L’esposizione all’inquinamento atmosferico indoor e outdoor - e in particolare al materiale particellare PM (PM10, PM2,5), agli ossidi di azoto (NO e NO2), nonché all’ozono (O3) - può determinare un insieme di effetti sanitari avversi già ampiamente descritti nella letteratura scientifica accreditata. Nel 2016, l’Organizzazione Mondiale della Sanità (OMS) ha stimato che globalmente sono circa 7 milioni le morti premature all’anno correlate a questo fattore di rischio, con il 91% di questi decessi a carico dei Paesi a basso-medio reddito e relative alle popolazioni delle aree del sud asiatico, sub-sahariane e dell’America latina. In particolare, per la popolazione europea sono state stimate circa 550.000 morti premature. Inoltre, l’OMS ha dedicato particolare attenzione agli effetti sanitari dovuti ai livelli di inquinamento degli ambienti indoor, determinati principalmente dall’uso di combustibili di bassa qualità per il riscaldamento degli ambienti e dalla preparazione dei cibi, ma anche dall’uso di sostanze chimiche per l’igiene personale e per la pulizia degli ambienti, aromi per la profumazione indoor, pitture, vernici, ecc. Questa componente riveste un ruolo rilevante se si considera che la popolazione trascorre la maggior parte del tempo in ambienti chiusi (abitazione, scuola, lavoro, solo per citarne alcuni). A livello globale, i principali effetti sanitari correlati all’inquinamento dell’aria indoor e outdoor sono relativi all’aumento delle malattie non trasmissibili (Non Communicable Diseases, NCD), che includono principalmente le malattie croniche del sistema cardiocircolatorio quali le malattie ischemiche del cuore (infarto miocardico, ictus cerebrale), quelle dell’apparato respiratorio, come l’asma, la bronco pneumopatia cronica ostruttiva (BPCO), che porta a una maggiore predisposizione alle infezioni respiratorie, e il cancro del polmone per esposizioni sul lungo periodo. Più recentemente all’esposizione cronica all’inquinamento atmosferico e al PM2,5 si associano patologie quali il diabete, un ritardo nello sviluppo neurologico dei bambini così come effetti neurologici degenerativi nella popolazione adulta/anziana. Gli effetti a breve termine sono supportati da molti studi dedicati a singole città e/o a aree urbane aggregate e riguardano una ridotta capacità polmonare, aggravamento e complicanze dell’asma e, per esposizione durante la gestazione, un basso peso alla nascita del bambino. L’ampia letteratura scientifica si è anche dedicata a indagare quale sia la popolazione più suscettibile agli effetti dell’esposizione all’inquinamento atmosferico indoor e outdoor. Le caratteristiche di suscettibilità includono principalmente una predisposizione genetica, fattori socioeconomici, età, durata e intensità dell’esposizione, la presenza di malattie preesistenti, come asma, BPCO e fibrosi cistica. Molti studi evidenziano che i bambini, e più in generale la popolazione di età inferiore ai 14 anni, è la più suscettibile agli effetti sanitari acuti delle infezioni alle basse vie respiratorie. Un altro aspetto da sottolineare è la natura del materiale particellare. Il PM (sia quello emesso direttamente nell’aria, che quello prodotto durante i processi di conversione gas-particelle) è una miscela complessa di inquinanti organici e inorganici, costituito dal materiale carbonioso derivante dai diversi processi di combustione che lo generano (per esempio, nelle aree a intensa urbanizzazione il PM deriva essenzialmente dai processi di combustione di sorgenti mobili e fisse come i veicoli a motore, gli impianti per la produzione di energia), ma anche da un insieme di altre sostanze particolarmente tossiche per l’uomo (microinquinanti inorganici e organici come: metalli, idrocarburi policiclici aromatici, diossine). La composizione qualitativa e quantitativa del PM varia quindi molto in funzione della tipologia di sorgenti di emissione che lo producono. Gli effetti sanitari che ne derivano dipendono non solo dai livelli di concentrazione a cui le popolazioni sono esposte ma anche da molti altri fattori, che includono le sorgenti, le trasformazioni fisiche e chimiche di precursori, il clima, e la specifica situazione locale (orografica e topografica) delle aree urbane e non urbane che ne influenzano la “qualità” e la composizione. Vivere in aree urbane dove l’inquinamento atmosferico è elevato incide sullo stato di salute generale della popolazione, come dimostrano gli studi di numerosi gruppi di ricercatori scientifici nazionali e internazionali. La popolazione di queste aree presenta alcuni profili di salute particolari, come registra anche il sistema di sorveglianza PASSI dell’ISS. Dai dati PASSI, emerge che nella popolazione adulta che vive nelle città metropolitane è maggiore la prevalenza di persone con sintomi depressivi, con diagnosi di malattia cronica respiratoria (bronchite cronica, enfisema, insufficienza respiratoria o asma bronchiale), diabete e tumore. Questi eccessi risultano statisticamente significativi anche tenendo conto delle differenze nella struttura per età, genere e caratteristiche sociali di chi vive nelle metropoli, rispetto a chi vive in altre aree urbane o rurali del Paese. Gli stili di vita hanno sicuramente un peso nel determinare questo quadro e fra i residenti nelle città metropolitane si osserva una maggiore quota di sedentari e fumatori. L’Agenzia Ambientale Europea (EEA) ogni anno produce un report sul Burden of Disease dell’inquinamento atmosferico in Europa in base ai livelli di concentrazione dei singoli inquinanti misurati (PM2,5, NO2 e O3) dalla rete di monitoraggio dell’aria presente in ciascun Paese (concentrazioni variabili anche in funzione delle condizioni meteorologiche peculiari registrate ogni anno, oltre al numero e alla qualità di funzionalità delle centraline). Nel report 2019 (dati riferiti al 2017) l’EEA stima per l’Italia, per esposizione a PM2,5, circa 60.000 morti premature. Va ricordato che le misure delle postazioni di monitoraggio dell’aria sono finalizzate alla corretta gestione dei territori per l’individuazione di possibili soluzioni di riduzione dell’inquinamento e rappresentano solo una misura indicativa dell’esposizione, considerando inoltre che ormai la popolazione trascorre la maggior parte del tempo in ambienti indoor. In merito alla possibilità di un’associazione diretta della diffusione dell’infezione da SARS-CoV-2 con le aree a elevato livello di inquinamento atmosferico è necessario porre una particolare cautela, trattandosi di un’infezione virale, sottoposta a meccanismi di trasmissione attraverso il contagio diversi da quelli che caratterizzano la diffusione dell’inquinamento atmosferico. In Italia, l’ipotesi di un’associazione è stata avanzata in virtù del fatto che aree come Lombardia, Veneto ed Emilia-Romagna, dove il virus ha presentato la maggiore diffusione, si registrano generalmente le maggiori concentrazioni degli inquinanti atmosferici misurati e controllati secondo quanto indicato e prescritto dalla legislazione di settore (DLgs 155/2010). Tuttavia, la diffusione del virus si è presentata attraverso focolai circoscritti all’interno di zone della macroarea di appartenenza (pianura padana) sottoposta a valori di inquinamento atmosferico elevati e piuttosto omogenei; altre aree a forte inquinamento atmosferico, anche se prossime, sono rimaste inizialmente escluse e interessate, solo successivamente, con minor forza dalla contaminazione del virus. Si osserva, inoltre, che a seguito delle disposizioni governative, la ridotta mobilità delle persone e la chiusura di molte attività produttive, ha portato a una progressiva e significativa riduzione dei livelli di inquinamento dell’aria (PM10, PM2,5, NO2, benzene). Va considerato che le aree dove il virus ha evidenziato l’impatto più elevato, sono le aree italiane sia ad elevata densità di popolazione sia a più alta produttività del Paese. In questi territori sono presenti il maggior numero di aziende con vocazione e crescita internazionale che hanno continui e frequenti rapporti con Paesi stranieri (in particolare Stati Uniti, Cina e Federazione Russa), con conseguente alta mobilità dei lavoratori. Infatti, molti approfondimenti epidemiologici in corso per studiare e comprendere come il virus sia entrato e si sia diffuso nell’area evidenziano l’importanza della componente legata ai rapporti di lavoro internazionali e il conseguente contagio diretto tra persone, oltre all’iniziale diffusione del contagio in strutture sanitarie (ospedaliere e residenze sanitarie assistite, RSA), che ha agito quale forte moltiplicatore dell’infezione. Le misure di minimizzazione degli spostamenti e di distanziamento sociale che sono state adottate stanno mostrando tutta la loro efficacia, evidenziando ancora una volta il meccanismo preferenziale di contagio della malattia COVID-19. Lo studio di eventuali relazioni di causalità tra la diffusione del virus e l’inquinamento atmosferico, in particolare di PM (PM10 e PM2,5), necessita quindi di essere attentamente analizzato, approfondendo la conoscenza di eventuali fattori confondenti che possono suggerire spurie associazioni causa-effetto. In sintesi, la complessità del fenomeno, insieme alla parziale conoscenza di alcuni fattori che possono giocare o aver giocato un ruolo nella trasmissione e diffusione dell’infezione da SARS-CoV-2, rende al momento molto incerta una valutazione di associazione diretta tra elevati livelli di inquinamento atmosferico e la diffusione dell’epidemia da COVID-19, o del suo ruolo di amplificazione dell’infezione. Appare dunque necessario pianificare e realizzare studi caratterizzati da adeguati disegni e protocolli di indagine, e corredati da modelli di analisi che consentano di comprendere il ruolo giocato dalle molteplici variabili coinvolte nel fenomeno, effettuando anche un’analisi comparativa su scala più ampia quale quella europea e internazionale. Un elemento di sicuro approfondimento potrà essere rappresentato dal ruolo dell’ambiente indoor/outdoor nel suo complesso nel determinare lo stato di salute generale della popolazione, in particolare quella residente nelle aree urbane, e come questo possa aver influito sulla gravità degli esiti dell’infezione da SARS-CoV-2. Per esempio, l’analisi dei decessi su un ampio campione di casi effettuato dall’ISS ha mostrato come la mortalità per COVID-19 sia stata elevata in soggetti che già presentavano una o più patologie (malattie respiratorie, cardiocircolatorie, obesità, diabete, malattie renali, ecc), sulle quali la qualità ambientale indoor e outdoor e gli stili di vita, in ambiente urbano, possono aver giocato un ruolo. Uno studio che l’Università di Harvard ha presentato come pre-print, fornisce alcuni spunti di riflessione ma si basa su indicazioni parziali e presenta ampie incertezze ancora da risolvere (come gli autori stessi descrivono nei supplementary materials). Tra queste, sicuramente la modalità di conteggio dei decessi per COVID-19 ancora non completamente chiarite e standardizzate nonché la stima delle concentrazioni di PM2,5 sul territorio degli USA che si basa sull’applicazione di modellistica che deve tener conto delle misure effettuate nelle postazioni fisse, le quali non hanno una distribuzione omogenea sul territorio. Questo fattore introduce un’incertezza sulla rappresentatività spaziale delle stime del modello e gli stessi autori evidenziano una ampia variabilità dell’accuratezza del modello per aree geografiche diverse. Il lavoro dei ricercatori di Harvard mostra dunque alcune carenze metodologiche importanti, tra le quali non ultima la mancanza di controllo per autocorrelazione spaziale sia della esposizione a PM atmosferico sia del contagio. La diversa distribuzione spaziale delle postazioni di misura dell’inquinamento atmosferico che deve tener conto dell’alta disomogeneità dei territori (aree metropolitane, rurali, industriali, montane, costiere), come avviene anche in Italia, rappresenta un elemento di incertezza nella stima dell’esposizione inalatoria al PM2,5 indoor e outdoor della popolazione. La complessità del fenomeno necessita quindi di ulteriori approfondimenti per completare e risolvere le incertezze ed eventuali relazioni spurie, la covarianza tra variabili, il ruolo dei confondenti e dei modificatori di effetto, ecc. In merito all’argomento la comunità scientifica ha espresso la sua opinione pubblicando, principalmente in rete, una serie di contributi alcuni dei quali di seguito indicati e dai quali sono tratti elementi riportati e discussi in questo documento:   Data creazione della pagina: 4 maggio 2020Autori: Gaetano Settimo¹, Maria Eleonora Soggiu¹, Maria Masocco², Angela Spinelli²¹Dipartimento Ambiente e Salute, ISS²Centro Nazionale Prevenzione delle Malattie e Promozione della Salute, ISS \n",
      "\n",
      "L'infografica web con i dati della sorveglianza integrata COVID-19 e il report esteso vengono aggiornati periodicamente su EpiCentro. Dati della Sorveglianza integrata COVID-19 in Italia  Per approfondire i dati contenuti nella dashboard e nei bollettini settimanali della sorveglianza scarica:   Attenzione: Si sottolinea che i dati raccolti sono in continua fase di consolidamento e, come prevedibile in una situazione emergenziale, alcune informazioni possono risultare incomplete o posso essere oggetto di modifica da un giorno all’altro. Inoltre, soprattutto nelle Regioni/PA in cui si è verificata o si sta ancora verificando una trasmissione locale sostenuta del virus c’è la possibilità di un ritardo di alcuni giorni tra il momento della esecuzione del tampone per la diagnosi e la segnalazione sulla piattaforma dedicata. I dati pubblicati dall’ISS provengono dal Sistema di sorveglianza integrata COVID-19 in Italia e sono elaborati dall’ISS integrando i dati microbiologici ed epidemiologici forniti dalle Regioni e Provincie Autonome (PA) e dal Laboratorio nazionale di riferimento per SARS-CoV-2 dell’ISS. Tutte le Regioni/Province Autonome inviano quotidianamente all'ISS i dati relativi a tutti gli individui con infezione da SARS-CoV-2 confermata in laboratorio. L'ISS ha creato una piattaforma informatica dedicata, che consente la raccolta dei dati sia attraverso un’interfaccia web collegata alla piattaforma stessa che attraverso l’invio di un dataset. Tutti i casi di COVID-19 diagnosticati dai laboratori di riferimento regionali e dagli altri laboratori che sono entrati più di recente a far parte ufficialmente della rete diagnostica, entrano nell’ambito della sorveglianza. Si ricorda che la definizione internazionale di caso, adottata anche dall’ISS, prevede che venga considerata come caso confermato una persona con una conferma di laboratorio del virus che causa COVID-19 a prescindere dai segni e sintomi clinici. I dati individuali vengono aggiornati da ciascuna Regione/PA con cadenza giornaliera e hanno la peculiarità di fornire un livello di dettaglio maggiore rispetto a quello previsto in altri flussi di dati (come per esempio quello della Protezione Civile o del Ministero della Salute). Infatti sono spesso disponibili informazioni sulle patologie preesistenti e sulle condizioni cliniche in cui versano i pazienti al momento dell’inserimento dei loro dati nella piattaforma. Come prevedibile in una situazione emergenziale, alcune informazioni possono essere temporaneamente incomplete. Ci si riferisce a questo quando si parla di informazioni “in fase di consolidamento”. In particolare, soprattutto nelle Regioni/PA in cui c’è un alto numero di contagi, di malati e di ricoverati, c’è la possibilità di un ritardo di alcuni giorni tra il momento dell’esecuzione del tampone per la diagnosi e la segnalazione sulla piattaforma dedicata. Per i dati più recenti va usata particolare cautela, perché ci può essere un ritardo di notifica dei casi, e questo non deve essere interpretato come indice dell’andamento dell’epidemia. Per approfondire questo aspetto consulta lapagina dedicata sorveglianza integrata COVID-19. Definizione di caso  Secondo quanto riportato nella Circolare ministeriale 0007922-09/03/2020, la definizione di caso si basa sulle informazioni attualmente disponibili, perciò potrebbe essere rivista in base all’evoluzione della situazione epidemiologica e delle conoscenze scientifiche disponibili [3]. Caso sospetto di COVID 19 che richiede esecuzione di test diagnosticoCaso probabile: un caso sospetto il cui risultato del test per SARS-CoV-2 è dubbio o inconcludente utilizzando protocolli specifici di Real Time PCR per SARS-CoV-2 presso i laboratori di riferimento regionali individuati o è positivo utilizzando un test pan-coronavirus. Caso confermato: un caso con una conferma di laboratorio per infezione da SARS-CoV-2, effettuata presso il laboratorio di riferimento nazionale dell’ISS o da laboratori regionali di riferimento che rispondano ai criteri indicati nell’Allegato 3 della Circolare, indipendentemente dai segni e dai sintomi clinici. Definizione di decesso: Ai fini della sorveglianza l’OMS definisce undecesso per COVID-19 come un decesso risultante da una malattia clinicamente compatibile in un caso probabile o confermato di COVID-19, a meno che non vi sia una chiara causa di morte alternativa non correlabile al COVID-19 (per esempio, trauma). Non dovrebbe esserci un periodo di completa guarigione tra la malattia e il decesso. Età mediana/Età media: Mediana e media sono due misure statistiche utilizzate in epidemiologia per riassumere le informazioni su una variabile, in questo caso, l’età. La media è calcolata sommando tutte le età degli individui e dividendola per il numero di persone incluse. L'età mediana in un set di dati è l'età che divide il set in due metà, con una metà delle età al di sotto della mediana e l’altra metà al di sopra di questo numero. In questa epidemia, in cui la distribuzione delle età dei casi COVID-19 è asimmetrica la mediana descrive meglio la variabile rispetto alla media. Numero decessi/letalità: Il tasso di letalità di una malattia è il numero di persone che sono morte a causa della malattia diviso per il numero totale di persone ammalate di quella malattia. Questo è diverso dal tasso di mortalità, che è il numero di persone che sono morte a causa della malattia diviso per la popolazione totale. Asintomatici: Una persona trovata positiva al test perSARS-CoV-2 senza segni o sintomi apparenti di malattia. Pauci sintomatici: Una persona trovata positiva al test per SARS-CoV-2 con sintomi lievi (ad esempio malessere generale, lieve rialzo della temperatura corporea, stanchezza, ecc.). Lievi: Una persona trovata positiva al test per SARS-CoV-2 con chiari segni e sintomi di malattia (malattia respiratoria) ma non abbastanza gravi da richiedere il ricovero ospedaliero. Severi: Una persona trovata positiva al test per SARS-CoV-2 con chiari segni e sintomi di malattia (malattia respiratoria) abbastanza gravi da richiedere il ricovero ospedaliero. Critici: Una persona risultata positiva al test per SARS-CoV-2 con chiari segni e sintomi di malattia (ad esempio, malattia respiratoria) e abbastanza gravi da richiedere il ricovero in Terapia Intensiva Il documento “Informazioni privacy per la sorveglianza sanitaria integrata COVID-19” (pdf 477 kb). Data di ultimo aggiornamento: 16 gennaio 2021Data di pubblicazione: 11 marzo 2020Autori: Flavia Riccardo, Xanthi Andrianou, Antonino Bella, Martina Del Manso, Alberto Mateo Urdiales, Massimo Fabiani, Stefania Bellino, Stefano Boros, Fortunato (Paolo) D'Ancona, Maria Cristina Rota, Antonietta Filia, Ornella Punzo, Andrea Siddu, Maria Fenicia Vescio, Corrado Di Benedetto, Marco Tallon, Alessandra Ciervo, Patrizio Pezzotti, Paola Stefanelli - ISS \n",
      "\n",
      "Il rapporto sulle caratteristiche dei pazienti deceduti positivi a COVID-19 in Italia viene aggiornato periodicamente su questa pagina. report in English “Characteristics of COVID-19 patients dying in Italy Report based on available data on December 16th, 2020” (pdf 182 kb)Indice rapportoIl presente report descrive le caratteristiche di 63.573 pazienti deceduti e positivi a SARS-CoV-2 in Italia riportati dalla Sorveglianza Integrata COVID-19 coordinata dall’Istituto Superiore di Sanità. La Tabella riporta la distribuzione geografica dei decessi secondo le tre fasi che hanno caratterizzato la pandemia dall’inizio al 16 dicembre 2020: la prima ondata (marzo-maggio), la fase di bassa incidenza (giugno-settembre), e la seconda ondata (ottobre-dicembre), quest’ultima ancora in corso.I dati di sorveglianza sui decessi sono in continuo aggiornamento e consolidamento ed entrambe le attività necessitano di tempi per essere esplicate. Ogni Regione ha la propria organizzazione per l’aggiornamento e relativi tempi di esecuzione. Nel leggere quindi i dati per Regione, bisogna tenere conto che i tempi di notifica, controllo, verifica e aggiornamento dei dati varia da Regione a Regione e da periodo a periodo; ciò può implicare variazioni (in aumento e/o in diminuzione) e differenze sia con i dati già pubblicati nei report precedenti, sia con i dati pubblicati dalla Protezione Civile. Va inoltre considerato che le differenze regionali nella percentuale di decessi riportate in tabella non devono essere interpretate in termini di rischio. La letalità dipende infatti dal numero di infezioni avvenute in ciascuna Regione in un arco temporale compatibile con l’eventuale osservazione dell’evento fatale. A questo proposito, occorre anche tener presente che la differenza tra il numero di infezioni e casi notificati può variare a livello regionale e nel corso del tempo in funzione di diverse strategie di accesso al test adottate durante l’epidemia, distorcendo così il confronto della letalità regionale. Tabella: Distribuzione geografica dei pazienti deceduti SARS-CoV-2 positivi per periodomarzo-maggiogiugno-settembreottobre-16 dicembreTotaleREGIONEN%N%N%N%Lombardia16.35947,660733,07.10426,024.07037,9Emilia Romagna4.31312,51739,42.2328,26.71810,6Piemonte4.09111,91266,91.3264,85.5438,7Veneto1.9505,724813,52.88410,55.0828,0Lazio8402,41437,82.0997,73.0824,8Toscana1.0453,0965,21.7646,52.9054,6Campania4771,4583,22.1027,72.6374,1Liguria1.5164,41387,59743,62.6284,1Puglia5241,5754,11.4605,32.0593,2Sicilia3000,9573,11.6546,02.0113,2Marche9812,970,42230,81.2111,9Abruzzo4461,3372,05972,21.0801,7Friuli Venezia Giulia3461.0211.16322.39991.6Trento4021,240,23891,47951,3Bolzano2900,820,13801,46721,1Umbria750,290,54461,65300,8Sardegna1310,4241,33611,35160,8Valle d'Aosta1430,460,32060,83550,6Calabria960,340,22250,83250,5Basilicata290,120,11430,51740,3Molise220,120,11460,51700,3         Totale34.376100,01839100,027.347100,063.562100,0Nota: per 11 decessi non è stato possibile valutare il periodo; il numero dei morti, relativi al periodo ottobre - 16 dicembre, è in fase di consolidamento a causa del ritardo di notifica. L’età media dei pazienti deceduti e positivi a SARS-CoV-2 è 80 anni   (mediana 82, range 0-109, Range InterQuartile - IQR 75-88). Le donne   decedute sono 27.132 (42,7%). L’età mediana dei pazienti deceduti positivi   a SARS-CoV-2 è più alta di oltre 30 anni rispetto a quella dei pazienti   che hanno contratto l’infezione (età mediane: pazienti deceduti 82 anni –   pazienti con infezione 48 anni). Le donne decedute dopo aver contratto   infezione da SARS-CoV-2 hanno un’età più alta rispetto agli uomini (età   mediane: donne 85 – uomini 80). L’andamento dell’età media dei pazienti deceduti positivi a SARS-CoV-2   per settimana di calendario, a partire dalla 3° settimana di febbraio 2020   (la data del primo decesso risale al 21 febbraio 2020). L’età media dei   decessi settimanali è andata sostanzialmente aumentando fino agli 85 anni   (1° settimana di luglio) per poi calare leggermente Il grafico presenta le più comuni patologie croniche preesistenti   (diagnosticate prima di contrarre l’infezione) in un campione di pazienti   deceduti. Questo dato è stato ottenuto da 5962 deceduti per i quali è   stato possibile analizzare le cartelle cliniche. Le cartelle cliniche sono   inviate all’ISS dagli ospedali secondo tempistiche diverse,   compatibilmente con le prioritarie delle attività svolte negli ospedali   stessi. Il campione è quindi di tipo opportunistico, rappresenta solo i   decessi in soggetti che hanno avuto necessità del ricovero, e le Regioni   sono rappresentate cercando di conservare una proporzionalità rispetto al   numero di decessi. Il numero medio di patologie osservate in questa   popolazione è di 3,6 (mediana 3, Deviazione Standard 2,1). Complessivamente, 184 pazienti (3,1% del campione) presentavano 0   patologie, 739 (12,4%) presentavano 1 patologia, 1095 (18,4%) presentavano   2 patologie e 3944 (66,2%) presentavano 3 o più patologie.Prima del ricovero in ospedale, il 21% dei pazienti deceduti SARS-CoV-2   positivi seguiva una terapia con ACE-inibitori e il 14% una terapia con   Sartani (bloccanti del recettore per l'angiotensina).Le più comuni patologie croniche preesistenti nei pazienti deceduti   distinte per uomini (n=3589) e donne (n=2373). Nelle donne il numero medio   di patologie osservate è di 3,8 (mediana 4, Deviazione Standard 2,0). Negli uomini il numero medio di patologie osservate è di 3,5 (mediana 3,   Deviazione Standard 2,1). La tabella 1 riassume le principali caratteristiche dei decessi con COVID-19 avvenuti nei 3 periodi dall’inizio della pandemia nel 2020: il periodo iniziale (marzo-maggio), il secondo periodo (giugno-settembre) e il terzo (ottobre-dicembre), anche se quest’ultimo è ancora in corso. Complessivamente i dati erano rappresentativi del 9,6% dei deceduti dall’inizio della pandemia; in particolare, del 13,3% dei deceduti tra marzo e maggio, del 27,5% dei deceduti tra giugno e settembre e del 3,7% dei deceduti tra ottobre e dicembre.Nell’intero arco temporale preso in considerazione, aumentano i decessi di persone con 3 o più patologie preesistenti e diminuiscono quelli con meno patologie o nessuna: ciò sembra indicare che nel secondo e nel terzo periodo i decessi riguardano persone più anziane e con una condizione di salute preesistente peggiore rispetto ai decessi relativi al primo trimestre (tabella   1).Estremamente diverso nei tre periodi è anche l’uso di farmaci, con una netta riduzione nell’utilizzo degli antivirali e un aumento nell’uso degli steroidi nel secondo e terzo periodo. Tabella 1. Età media, prevalenza di donne, numero di patologie preesistenti, complicanze e trattamenti nei decessi con COVID-19 per trimestre di decessoCampione   delle cartelle cliniche valutateTutti(n=5962)mar-mag 2020(n=4470)giu-sett 2020(n=501)ott-16 dic 2020(n=991)p-value*  N di   comorbosità    0184 (3,1)169 (3,8)6 (1,2)9 (0,9)<0,001    1  739 (12,4)  606 (13,6)  44 (8,8)  89 (9,0)     2  1095 (18,4)  895 (20,0)  66 (13,2)134 (13,5)    3 o più3944 (66,2)2800 (62,6)385 (76,8)759 (76,6)Complicazioni durante   il ricovero in ospedale  Polmonite  5499 (94,0)  4142 (95,2)  412 (83,2)  945 (94,6)  <0,001   Danno renale acuto  1389 (23,8)  1001 (23,0)  134 (27,1)  254 (25,4)  0,052   Danno miocardico acuto  632 (10,8)  471 (10,8)  49 (9,9)  112 (11,2)  0,743   Sovrainfezione  1134 (19,4)  722 (16,6)  203 (41,0)  209 (20,9)  <0,001Terapie    Antibiotici  5052 (85,8)  3813 (86,7)  424 (86,0)  815 (81,7)  <0,001    Antivirali  2865 (48,7)  2599 (59,1)  157 (31,8)  109 (10,9)  <0,001    Steroidi  3022 (51,3)  1903 (43,3)321 (65,1)  798 (80,0)<0,001   Tocilizumab218 (4,1)170 (4,3)28 (5,9)20 (2,1)0,001* p-value per le differenze tra i 3 periodi  La distribuzione delle principali patologie preesistenti nei diversi periodi è presentata nella figura 6. La prevalenza di fibrillazione atriale, ictus, demenza, BPCO, cancro, insufficienza renale e obesità varia in maniera significativa nei tre periodi. Queste patologie sono più frequentemente diagnosticate nei deceduti del secondo e terzo periodo rispetto a quelli del primo. Nella tabella 2 sono riportate le durate come tempi mediani (in giorni) nei 3 periodi di tempo considerati: tra il primo e il secondo periodo quasi raddoppia il tempo che trascorre dall’insorgenza dei sintomi al decesso, che poi torna ai livelli iniziali nel terzo periodo; diminuisce il tempo che trascorre dall’insorgenza dei sintomi all’esecuzione del tampone per la rilevazione dell’infezione da SARS-CoV-2 nel secondo periodo e rimane tale nel terzo periodo, così come il tempo tra l’insorgenza dei sintomi e il ricovero in ospedale; raddoppia la durata mediana in giorni dal ricovero in ospedale al decesso tra il primo e il secondo periodo per poi tornare, nel terzo periodo, ai livelli del primo. Questi risultati sembrano suggerire una maggiore reattività del Sistema Sanitario testimoniata dalla maggiore rapidità nell’esecuzione di esami diagnostici e nell’ospedalizzazione. Tabella 2. Tempi mediani (in giorni) tra insorgenza dei sintomi, test PCR, ricovero in ospedale e decesso    Tutti(n=5962)mar-mag 2020(n=4470)giu-sett   2020(n=501)ott-16 dic   2020(n=991)p-value*Tempi (in giorni)MedianaIQRMedianaIQRMedianaIQRMedianaIQR Dall’insorgenza dei sintomi al   decesso127-20127-19229-55117-18<0,001Dall’insorgenza dei sintomi al test   SARS-CoV-252-852-931-731-6<0,001Dall’insorgenza dei sintomi al ricovero in ospedale42-742-731-731-7<0,001Dal ricovero in ospedale al decesso73-1473-13155-4373-12<0,001* p-value per le differenze tra i 3    periodi.IQR=Inter-Quartile Range  I dati qui presentati possono essere spiegati da maggiori conoscenze circa l’infezione e maggiori capacità e tempestività di cura della stessa nel periodo giugno-agosto. Inoltre è verosimile che nei mesi di marzo e aprile il COVID-19 sia stato sotto-diagnosticato in molti deceduti anziani fragili (come per esempio quelli nelle RSA). Questo può aver portato una sottostima del carico di patologie dei deceduti in tale periodo. Nella tabella 2 sono riportate le durate come tempi mediani (in giorni) nei 3 periodi di tempo considerati: tra il primo e il secondo periodo quasi raddoppia il tempo che trascorre dall’insorgenza dei sintomi al decesso, che poi torna ai livelli iniziali nel terzo periodo; diminuisce il tempo che trascorre dall’insorgenza dei sintomi all’esecuzione del tampone per la rilevazione dell’infezione da SARS-CoV-2 nel secondo periodo e rimane tale nel terzo periodo, così come il tempo tra l’insorgenza dei sintomi e il ricovero in ospedale; raddoppia la durata mediana in giorni dal ricovero in ospedale al decesso tra il primo e il secondo periodo per poi tornare, nel terzo periodo, ai livelli del primo. Questi risultati sembrano suggerire una maggiore reattività del Sistema Sanitario testimoniata dalla maggiore rapidità nell’esecuzione di esami diagnostici e nell’ospedalizzazione. Tabella 2. Tempi mediani (in giorni) tra insorgenza dei sintomi, test PCR, ricovero in ospedale e decessoTutti(n=5962)mar-mag 2020(n=4470)giu-sett   2020(n=501)ott-16 dic   2020(n=991)p-value*Tempi (in giorni)MedianaIQRMedianaIQRMedianaIQRMedianaIQR Dall’insorgenza dei sintomi al   decesso127-20127-19229-55117-18<0,001Dall’insorgenza dei sintomi al test   SARS-CoV-252-852-931-731-6<0,001Dall’insorgenza dei sintomi al ricovero in ospedale42-742-731-731-7<0,001Dal ricovero in ospedale al decesso73-1473-13155-4373-12<0,001* p-value per le differenze tra i 3    periodi.IQR=Inter-Quartile Range  I dati qui presentati possono essere spiegati da maggiori conoscenze circa l’infezione e maggiori capacità e tempestività di cura della stessa nel periodo giugno-agosto. Inoltre è verosimile che nei mesi di marzo e aprile il COVID-19 sia stato sotto-diagnosticato in molti deceduti anziani fragili (come per esempio quelli nelle RSA). Questo può aver portato una sottostima del carico di patologie dei deceduti in tale periodo. Sulla base delle indicazioni emanate dal Ministero della Salute nella Circolare pubblicata il 25 febbraio 2020 (protocollo 0005889-25/02/2020), la certificazione di decesso a causa di COVID-19 deve essere accompagnata da parere dell’Istituto Superiore di Sanità (ISS). Per questo motivo, è stato creato un gruppo di lavoro dedicato allo studio delle cause di morte dei pazienti deceduti che risultavano positivi all’infezione da SARS-CoV-2. L’analisi si basa sui dati contenuti nelle cartelle cliniche e nelle schede di morte ISTAT recanti le cause di decesso di questi pazienti. La raccolta dati avviene tramite la piattaforma webhttp://covid-19.iss.it, già utilizzata dalla sorveglianza nazionale, epidemiologica e virologica, dei casi di COVID-19 in Italia (coordinata dall’ISS e attivata dalla Circolare ministeriale del 22 gennaio 2020, n.1997). Per informazioni è possibile mandare un’e-mail all’indirizzo di posta elettronica decessicovid-19@iss.it o contattare il dott. Graziano Onder (Direttore del Dipartimento Malattie cardiovascolari, endocrino-metaboliche e invecchiamento, ISS) al numero di telefono: 06/49904231. il rapporto “Impatto dell'epidemia COVID-19 sulla mortalità: cause di morte nei deceduti positivi a SARS-CoV-2” (pdf 1,1 Mb) realizzato da ISS e ISTAT il 16 luglio 2020 che presenta un’analisi approfondita delle malattie presenti sulle schede di morte di soggetti diagnosticati microbiologicamente tramite tampone rino/orofaringeo positivo al SARS-CoV-2. Data di ultimo aggiornamento: 23 dicembre 2020Data di creazione della pagina: 27 marzo 2020Report prodotto dal Gruppo della Sorveglianza COVID-19: Luigi Palmieri, Elvira Agazio, Xanthi Andrianou, Pierfrancesco Barbariol, Antonino Bella, Eva Benelli, Luigi Bertinato, Matilde Bocci, Stefano Boros, Giovanni Calcagnini, Marco Canevelli, Federica Censi, Alessandra Ciervo, Elisa Colaizzo, Martina Del Manso, Corrado Di Benedetto, Chiara Donfrancesco, Massimo Fabiani, Francesco Facchiano, Marco Floridia, Fabio Galati, Marina Giuliano, Tiziana Grisetti, Cecilia Guastadisegni, Yllka Kodra, Ilaria Lega, Cinzia Lo Noce, Pietro Maiozzi, Valerio Manno, Margherita Martini, Alberto Mateo Urdiales, Eugenio Mattei, Claudia Meduri, Paola Meli, Giada Minelli, Lorenza Nisticò, Graziano Onder, Lucia Palmisano, Daniele Petrone, Patrizio Pezzotti, Flavia Pricci, Ornella Punzo, Vincenzo Puro, Federica Quarata, Valeria Raparelli, Flavia Riccardo, Simone Rocchetto, Paolo Salerno, Giulia Sarti, Debora Serra, Matteo Spuri, Paola Stefanelli, Marco Tallon, Manuela Tamburo De Bella, Dorina Tiple, Marco Toccaceli Blasi, Federica Trentin, Brigid Unim, Luana Vaianella, Nicola Vanacore, Maria Fenicia Vescio, Emanuele Rocco Villani, Silvio Brusaferro. \n",
      "\n",
      "I coronavirus (CoV) sono un’ampia famiglia di virus respiratori che possono causare malattie da lievi a moderate, dal comune raffreddore a sindromi respiratorie come la MERS (sindrome respiratoria mediorientale, Middle East respiratory syndrome) e la SARS (sindrome respiratoria acuta grave, Severe acute respiratory syndrome). Sono chiamati così per le punte a forma di corona che sono presenti sulla loro superficie. I coronavirus sono comuni in molte specie animali (come i cammelli e i pipistrelli) ma in alcuni casi, se pur raramente, possono evolversi e infettare l’uomo per poi diffondersi nella popolazione. Un nuovo coronavirus è un nuovo ceppo di coronavirus che non è stato precedentemente mai identificato nell'uomo. I coronavirus umani conosciuti ad oggi, comuni in tutto il mondo, sono sette, alcuni identificati diversi anni fa (i primi a metà degli anni Sessanta) e alcuni identificati nel nuovo millennio. Coronavirus umani comuni1 - 229E (coronavirus alpha) 2 - NL63 (coronavirus alpha) 3 - OC43 (coronavirus beta) 4 - HKU1 (coronavirus beta) Altri coronavirus umani 5 - MERS-CoV (il coronavirus beta che causa la Middle East respiratory syndrome) 6 - SARS-CoV (il coronavirus beta che causa la Severe acute respiratory syndrome) 7 - SARS-CoV-2 (il coronavirus che che causa la COVID-19)   Data di pubblicazione: 23 gennaio 2020Autori: Giovanni Rezza, Antonino Bella, Flavia Riccardo, Patrizio Pezzotti - Dipartimento Malattie infettive, ISS \n",
      "\n",
      "I coronavirus umani si trasmettono da una persona infetta a un’altra attraverso:Sulla base dei dati al momento disponibili, l’OMS ribadisce che il contatto con i casi sintomatici (persone che hanno contratto l’infezione e hanno già manifestato i sintomi della malattia) è il motore principale della trasmissione del nuovo coronavirus SARS-CoV-2. L’OMS è a conoscenza di una possibile trasmissione del virus da persone infette ma ancora asintomatiche. In base a quanto già noto sugli altri coronavirus (ad es. MERS-CoV), sappiamo che l’infezione asintomatica potrebbe essere rara e che la trasmissione del virus da casi asintomatici è possibile, ma non frequente. Sulla base di questi dati, l’OMS conclude che la trasmissione da casi asintomatici probabilmente non è uno dei motori principali della trasmissione del nuovo coronavirus SARS-CoV-2. Tuttavia molti studi sono in corso per ampliare le conoscenze sulle modalità di trasmissione di SARS-CoV-2. Non esistono trattamenti specifici per le infezioni causate dai coronavirus e non sono disponibili, al momento, vaccini per proteggersi dal virus. Riguardo il nuovo coronavirus SARS-CoV-2, non esistono al momento terapie specifiche, vengono curati i sintomi della malattia (così detta terapia di supporto) in modo da favorire la guarigione, ad esempio fornendo supporto respiratorio. Si ricorda che l’Agenzia italiana del farmaco (AIFA) fornisce sul proprio sito informazioni sui farmaci utilizzati al di fuori delle sperimentazioni cliniche, come quelli commercializzati per altre indicazioni che vengono resi disponibili ai pazienti, pur in assenza di indicazione terapeutica specifica per il COVID-19, sulla base di evidenze scientifiche spesso piuttosto limitate. Consulta la pagina dedicata sulsito AIFA. È possibile ridurre il rischio di infezione, proteggendo se stessi e gli altri, seguendo alcuni accorgimenti: Proteggi te stessoLavati spesso le mani (dopo aver tossito/starnutito, dopo aver assistito un malato, prima durante e dopo la preparazione di cibo, prima di mangiare, dopo essere andati in bagno, dopo aver toccato animali o le loro deiezioni o più in generale quando le mani sono sporche in qualunque modo). In ambito assistenziale (ad esempio negli ospedali) segui i consigli degli operatori sanitari che forniscono assistenza. Proteggi gli altri Data di ultimo aggiornamento: 25 aprile 2020Data di pubblicazione: 23 gennaio 2020Autori: Giovanni Rezza, Antonino Bella, Flavia Riccardo, Patrizio Pezzotti - Dipartimento Malattie infettive, ISS \n",
      "\n",
      "La prevenzione e il controllo delle infezioni (Infection prevention and control, IPC) è un approccio scientifico e pratico finalizzato a prevenire i rischi causati dalle infezioni per pazienti e operatori sanitari. In Italia, l’Istituto Superiore di Sanità, a seguito dell’epidemia da COVID-19 ha predisposto un Gruppo di lavoro dedicato specificamente alla prevenzione e controllo delle infezioni, che tra le diverse attività si occupa anche della pubblicazione di una serie di rapporti tecnici volti a fornire indicazioni sull’IPC. Consulta e scarica i rapporti ISS: Data di ultimo aggiornamento della pagina: 10 settembre 2020 Data di creazione della pagina: 20 luglio 2020 Revisore: Fortunato “Paolo” D’Ancona - Dipartimento Malattie infettive, ISS \n",
      "\n",
      "A causa della pandemia di COVID-19 (causata dal nuovo virus SARS-CoV-2) nei Paesi della Regione europea dell’Organizzazione Mondiale della Sanità (OMS) esiste il rischio che si possa verificare una riduzione generale delle normali attività vaccinali, sia per lo spostamento di risorse sanitarie verso le attività di controllo della pandemia, sia per le misure di distanziamento sociale imposte alla popolazione, che potrebbero portare alcune persone a decidere di rimandare le vaccinazioni programmate per se stessi o per i propri figli. Le vaccinazioni sono una componente fondamentale dei servizi sanitari e una loro interruzione, anche se per un breve periodo, porterebbe a un accumulo di persone suscettibili e a un maggiore rischio di epidemie di malattie prevenibili da vaccino (VPD, vaccine preventable diseases) che possono causare decessi e portare una aumentata richiesta di risorse sanitarie. È fondamentale pertanto ridurre al minimo questo rischio, soprattutto in un sistema già provato dalla risposta all’epidemia di COVID-19. L’OMS Europa, il 20 marzo 2020, ha pubblicato il documento “Guidance on routine immunization services during COVID-19 pandemic in the WHO European Region”, per fornire un supporto ai Paesi nella decisione di mantenere o meno le normali attività vaccinali nel periodo pandemico, indicare quali sono i fattori che ogni Paese deve considerare per effettuare una valutazione del rischio, fornire dei principi guida da seguire e indicazioni su come effettuare le vaccinazioni in sicurezza. Secondo l’OMS è essenziale mantenere gli appuntamenti vaccinali, soprattutto per le vaccinazioni di routine, fino a quando le misure di risposta alla COVID-19 lo consentano. Qualsiasi decisione inerente le possibili opzioni di funzionamento dei servizi vaccinali deve essere presa valutando in maniera dettagliata: l'epidemiologia delle VPD, lo scenario di trasmissione della COVID-19, le corrispondenti misure di mitigazione in atto e le risorse disponibili. In particolare, è necessario valutare i seguenti punti: L'impatto e l'adeguatezza delle opzioni scelte dovrebbero essere monitorati e valutati periodicamente con l'evoluzione della situazione relativa alla pandemia da COVID-19. L'attuale situazione COVID-19 e le capacità del sistema sanitario variano ampiamente all'interno della Regione europea e tutto è in rapida evoluzione. Pertanto, il miglior approccio per mantenere elevati i livelli di copertura vaccinale non potrà essere sempre lo stesso nei diversi Paesi. Tutti devono però fare ogni possibile sforzo per mantenere elevati i livelli di immunità nella popolazione. Considerando che potrebbero esserci delle interruzioni, è fondamentale tenere fin d’ora un elenco dei bambini che hanno saltato dosi di vaccino e sviluppare un piano d'azione ad hoc per il recupero successivo delle dosi non ricevute. Nel documento l’OMS delinea i principi guida per l’organizzazione dei servizi vaccinali, da seguire durante la pandemia COVID-19:Infine, le caratteristiche epidemiologiche, operative e contestuali di ciascun Paese sono uniche e sarebbe impossibile stabilire una strategia adeguata per tutte le situazioni. L’OMS Europa fornisce un algoritmo per aiutare le autorità nazionali a prendere decisioni relative al mantenere in funzione i servizi vaccinali. Si sottolinea inoltre l’importanza di mantenere e rinforzare la sorveglianza delle malattie prevenibili da vaccino, per identificare precocemente e gestire i casi di malattie prevenibili da vaccino. Le raccomandazioni dell’Ufficio Regionale europeo dell’OMS vengono ulteriormente ribadite in un secondo documento dell’OMS “Guiding principles for immunization activities during the COVID-19 pandemic”, in cui si sottolinea che l'elevato potenziale di epidemie di malattie prevenibili da vaccino rende indispensabile per i Paesi mantenere la continuità dei servizi vaccinali ovunque tali servizi possano essere condotti in condizioni di sicurezza. Data di creazione della pagina: 7 aprile 2020Autori: Antonietta Filia, Maria Cristina Rota – Dipartimento Malattie infettive, ISS \n",
      "\n",
      "Le dipendenze da sostanze come il tabacco, l’alcol e le droghe ma anche le dipendenze comportamentali (gioco d’azzardo, cibo, internet e nuove tecnologie, doping) sono importanti fattori di rischio per la salute pubblica e lo diventano ancora di più in una situazione particolare come quella correlata alla pandemia da COVID-19 che prevede un periodo di grandi chiusure e di forzata permanenza a casa. L’Istituto Superiore di Sanità (ISS) apre dunque una sezione dedicata alle dipendenze nel contesto COVID-19 per aiutare operatori e cittadini a far fronte all’emergenza con materiale di supporto e approfondimenti sul tema. Data di creazione della pagina: 6 maggio 2020Revisore: Roberta Pacifici - Centro nazionale dipendenze e doping, ISS \n",
      "\n"
     ]
    }
   ],
   "source": [
    "# ogni line abbiamo un documento\n",
    "for l in corpus[:10]:\n",
    "  print(l)"
   ]
  },
  {
   "cell_type": "code",
   "execution_count": null,
   "metadata": {
    "colab": {
     "base_uri": "https://localhost:8080/"
    },
    "id": "K3S4T4Iwthzw",
    "outputId": "5eee695b-f941-433f-b539-5c9f7c2cae34"
   },
   "outputs": [
    {
     "name": "stdout",
     "output_type": "stream",
     "text": [
      "['La pandemia da COVID-19 ha reso necessaria una riorganizzazione dei percorsi assistenziali legati alla nascita.', 'Per questo motivo, l’ISS mette a disposizione del personale sanitario una selezione di risorse, letteratura ed evidence disponibili su gravidanza, parto e allattamento.', 'In evidenza:  la pagina dedicata alla vaccinazione contro il COVID-19 in gravidanza e allattamentola pagina dedicata allo studio “COVID-19 e salute mentale perinatale: impatto del COVID-19 sul vissuto e lo stato emotivo in epoca perinatale delle donne in contatto con i Consultori Familiari (CF)”, di cui l’Istituto Superiore di Sanità è coordinatore, aggiornata al 7 gennaio 2021Leggi gli altri approfondimenti:Per aiutare il personale sanitario nel lavoro quotidiano di assistenza alle donne durante la gravidanza, il parto e l’allattamento, le ricercatrici dell’ISS hanno messo a punto alcuni materiali di comunicazione specifici.', 'Visita lapagina dedicata.Data di ultimo aggiornamento: 9 gennaio 2021 Data di creazione della pagina: 27 febbraio 2020']\n",
      "['Non esiste alcuna evidenza che gli animali domestici giochino un ruolo nella diffusione di SARS-CoV-2 che riconosce, invece, nel contagio interumano la via principale di trasmissione.', 'Tuttavia, poiché la sorveglianza veterinaria e gli studi sperimentali suggeriscono che gli animali domestici siano, occasionalmente, suscettibili a SARS-CoV-2, è importante proteggere gli animali di pazienti affetti da COVID-19, limitando la loro esposizione.', 'Il virus SARS-CoV-2, lasciato il suo probabile serbatoio animale selvatico, si è diffuso rapidamente in tutti i continenti, trovando nella specie umana una popolazione recettiva e in grado di permettergli una efficiente trasmissione intraspecifica.', \"L'elevata circolazione del virus tra gli esseri umani sembra però non risparmiare, in alcune occasioni, gli animali che condividono con l'uomo ambiente domestico, quotidianità e affetto.\", 'Al 2 aprile 2020, a fronte di 800 mila casi confermati nel mondo di COVID-19 nell’uomo, sono solamente 4 i casi documentati di positività da SARS-CoV-2 negli animali da compagnia: due cani e un gatto ad Hong Kong e un gatto in Belgio.', \"In tutti i casi, all'origine dell'infezione negli animali vi sarebbe la malattia dei loro proprietari, tutti affetti da COVID-19.\", 'Il dato, per quanto limitato a poche osservazioni, merita attenzione.', 'A questi casi di infezione avvenuta naturalmente, si stanno infatti aggiungendo i risultati degli studi sperimentali effettuati in laboratorio su alcune specie domestiche.', 'Questi confermerebbero la suscettibilità del gatto, del furetto e, in misura minore, del cane all’infezione da SARS-CoV-2.', 'Le evidenze disponibili suggeriscono che l’esposizione degli animali a SARS-CoV-2 possa dare luogo a infezioni asintomatiche/paucisintomatiche, ovvero manifestarsi con malattia vera e propria.', \"Nei due cani e nel gatto osservati ad Hong Kong, l'infezione si è evoluta in forma asintomatica.\", \"Il gatto descritto in Belgio ha, invece, sviluppato una sintomatologia respiratoria e gastroenterica a distanza di una settimana dal rientro della proprietaria dall'Italia.\", \"L'animale ha mostrato anoressia, vomito, diarrea, difficoltà respiratorie e tosse ma è andato incontro a un miglioramento spontaneo a partire dal nono giorno dall'esordio della malattia.\", \"Il rapporto realizzato dal Comitato scientifico istituito presso l'Agenzia federale Belga per la Sicurezza alimentare segnala che nel vomito e nelle feci dell'animale era presente un'elevata carica virale.\", \"Questo rilievo unitamente ai sintomi clinici, fa ipotizzare che l'animale, dopo essere stato esposto al contagio da parte della sua proprietaria, sia andato incontro a una infezione virale produttiva, ovvero accompagnata da una attiva replicazione del virus.\", 'È opportuno sottolineare che, in tutti e 4 i casi descritti, gli accertamenti diagnostici sono stati condotti mediante tecniche molecolari e, al momento, non sono disponibili dati di isolamento virale, utili a definire con maggiore certezza lo stato di infezione.', \"Tuttavia, in uno dei due cani di Hong Kong la positività degli accertamenti sierologici supporta l'ipotesi che il cane fosse infetto da SARS-CoV-2.\", 'Essendo SARS-CoV-2 un virus nuovo, occorre intensificare gli sforzi per raccogliere ulteriori segnali dell’eventuale comparsa di malattia nei nostri animali da compagnia, evitando tuttavia di generare allarmi ingiustificati.', \"Vivendo in ambienti a forte circolazione virale a causa della malattia dei loro proprietari, non è inatteso che anche gli animali possano, occasionalmente, contrarre l'infezione.\", 'Ma, nei casi osservati, gli animali sono stati incolpevoli “vittime”.', 'Non esiste infatti alcuna evidenza che cani o gatti giochino un ruolo nella diffusione epidemica di SARS-CoV-2 che riconosce, invece, nel contagio interumano la via di trasmissione.', \"Tuttavia, la possibilità che gli animali domestici possano contrarre l'infezione pone domande in merito alla gestione sanitaria degli animali di proprietà di pazienti affetti da COVID-19.\", \"La raccomandazione generale è quella di adottare comportamenti utili a ridurre quanto più possibile l'esposizione degli animali al contagio, evitando, ad esempio, i contatti ravvicinati con il paziente, così come si richiede agli altri membri del nucleo familiare.\", \"Gli organismi internazionali che si sono occupati dell'argomento raccomandano di evitare effusioni e di mantenere le misure igieniche di base che andrebbero sempre tenute come il lavaggio delle mani prima e dopo essere stati a contatto con gli animali, con la lettiera o la scodella del cibo.\", 'A margine di tutto ciò occorre sottolineare che gli animali domestici contribuiscono alla nostra gioia e al nostro benessere, soprattutto in periodi di stress come quelli che stiamo vivendo.', \"In assenza di sintomi riferibili a COVID-19 e se non si è in isolamento domiciliare, passare del tempo con il proprio animale domestico e accompagnare il proprio cane nell'uscita quotidiana (nel rispetto della normativa) contribuisce a mantenere in salute noi stessi e i nostri amici animali.\", 'Bisogna considerare che le conoscenze sul virus SARS-CoV-2 sono in rapida evoluzione e dunque quanto detto è da considerarsi ad interim.', \"Tuttavia, l'Istituto Superiore di Sanità (ISS) ritiene utile promuovere lo scambio di conoscenze, man mano che queste sono rese disponibili, per il benessere e salute degli animali da compagnia e dei loro proprietari e dunque fornirà gli aggiornamenti necessari per rimanere in linea con l’evolversi della letteratura scientifica e delle posizioni ufficiali delle principali autorità nazionali e internazionali e per fornire informazioni dettagliate e indicazioni di comportamento Il Rapporto ISS COVID-19 n. 16/2020 - “Animali da compagnia e SARS-cov-2: cosa occorre sapere, come occorre comportarsi.\", 'Versione del 19 aprile 2020” (pdf 2,1 Mb) Il poster “Animali da compagnia: consigli per un accudimento sicuro” (pdf 274 kb) Data di ultimo aggiornamento: 22 aprile 2020Data di creazione della pagina: 4 marzo 2020Autore: Umberto Agrimi – direttore del Dipartimento Sicurezza alimentare, nutrizione e sanità pubblica veterinaria, ISS']\n",
      "['Le ipotesi che suggeriscono correlazioni tra le aree a maggior inquinamento atmosferico e la diffusione del virus responsabile della COVID-19 hanno sollecitato la richiesta di pareri all’Istituto Superiore di Sanità (ISS) e stimolato molti gruppi di studiosi a collaborare per esaminare il problema e le possibili associazioni.', 'Tuttavia, l’incertezza che ancora riguarda molti aspetti di questa epidemia richiede quindi una certa cautela e un approfondimento delle eventuali relazioni causa-effetto.', 'L’esposizione all’inquinamento atmosferico indoor e outdoor - e in particolare al materiale particellare PM (PM10, PM2,5), agli ossidi di azoto (NO e NO2), nonché all’ozono (O3) - può determinare un insieme di effetti sanitari avversi già ampiamente descritti nella letteratura scientifica accreditata.', 'Nel 2016, l’Organizzazione Mondiale della Sanità (OMS) ha stimato che globalmente sono circa 7 milioni le morti premature all’anno correlate a questo fattore di rischio, con il 91% di questi decessi a carico dei Paesi a basso-medio reddito e relative alle popolazioni delle aree del sud asiatico, sub-sahariane e dell’America latina.', 'In particolare, per la popolazione europea sono state stimate circa 550.000 morti premature.', 'Inoltre, l’OMS ha dedicato particolare attenzione agli effetti sanitari dovuti ai livelli di inquinamento degli ambienti indoor, determinati principalmente dall’uso di combustibili di bassa qualità per il riscaldamento degli ambienti e dalla preparazione dei cibi, ma anche dall’uso di sostanze chimiche per l’igiene personale e per la pulizia degli ambienti, aromi per la profumazione indoor, pitture, vernici, ecc.', 'Questa componente riveste un ruolo rilevante se si considera che la popolazione trascorre la maggior parte del tempo in ambienti chiusi (abitazione, scuola, lavoro, solo per citarne alcuni).', 'A livello globale, i principali effetti sanitari correlati all’inquinamento dell’aria indoor e outdoor sono relativi all’aumento delle malattie non trasmissibili (Non Communicable Diseases, NCD), che includono principalmente le malattie croniche del sistema cardiocircolatorio quali le malattie ischemiche del cuore (infarto miocardico, ictus cerebrale), quelle dell’apparato respiratorio, come l’asma, la bronco pneumopatia cronica ostruttiva (BPCO), che porta a una maggiore predisposizione alle infezioni respiratorie, e il cancro del polmone per esposizioni sul lungo periodo.', 'Più recentemente all’esposizione cronica all’inquinamento atmosferico e al PM2,5 si associano patologie quali il diabete, un ritardo nello sviluppo neurologico dei bambini così come effetti neurologici degenerativi nella popolazione adulta/anziana.', 'Gli effetti a breve termine sono supportati da molti studi dedicati a singole città e/o a aree urbane aggregate e riguardano una ridotta capacità polmonare, aggravamento e complicanze dell’asma e, per esposizione durante la gestazione, un basso peso alla nascita del bambino.', 'L’ampia letteratura scientifica si è anche dedicata a indagare quale sia la popolazione più suscettibile agli effetti dell’esposizione all’inquinamento atmosferico indoor e outdoor.', 'Le caratteristiche di suscettibilità includono principalmente una predisposizione genetica, fattori socioeconomici, età, durata e intensità dell’esposizione, la presenza di malattie preesistenti, come asma, BPCO e fibrosi cistica.', 'Molti studi evidenziano che i bambini, e più in generale la popolazione di età inferiore ai 14 anni, è la più suscettibile agli effetti sanitari acuti delle infezioni alle basse vie respiratorie.', 'Un altro aspetto da sottolineare è la natura del materiale particellare.', 'Il PM (sia quello emesso direttamente nell’aria, che quello prodotto durante i processi di conversione gas-particelle) è una miscela complessa di inquinanti organici e inorganici, costituito dal materiale carbonioso derivante dai diversi processi di combustione che lo generano (per esempio, nelle aree a intensa urbanizzazione il PM deriva essenzialmente dai processi di combustione di sorgenti mobili e fisse come i veicoli a motore, gli impianti per la produzione di energia), ma anche da un insieme di altre sostanze particolarmente tossiche per l’uomo (microinquinanti inorganici e organici come: metalli, idrocarburi policiclici aromatici, diossine).', 'La composizione qualitativa e quantitativa del PM varia quindi molto in funzione della tipologia di sorgenti di emissione che lo producono.', 'Gli effetti sanitari che ne derivano dipendono non solo dai livelli di concentrazione a cui le popolazioni sono esposte ma anche da molti altri fattori, che includono le sorgenti, le trasformazioni fisiche e chimiche di precursori, il clima, e la specifica situazione locale (orografica e topografica) delle aree urbane e non urbane che ne influenzano la “qualità” e la composizione.', 'Vivere in aree urbane dove l’inquinamento atmosferico è elevato incide sullo stato di salute generale della popolazione, come dimostrano gli studi di numerosi gruppi di ricercatori scientifici nazionali e internazionali.', 'La popolazione di queste aree presenta alcuni profili di salute particolari, come registra anche il sistema di sorveglianza PASSI dell’ISS.', 'Dai dati PASSI, emerge che nella popolazione adulta che vive nelle città metropolitane è maggiore la prevalenza di persone con sintomi depressivi, con diagnosi di malattia cronica respiratoria (bronchite cronica, enfisema, insufficienza respiratoria o asma bronchiale), diabete e tumore.', 'Questi eccessi risultano statisticamente significativi anche tenendo conto delle differenze nella struttura per età, genere e caratteristiche sociali di chi vive nelle metropoli, rispetto a chi vive in altre aree urbane o rurali del Paese.', 'Gli stili di vita hanno sicuramente un peso nel determinare questo quadro e fra i residenti nelle città metropolitane si osserva una maggiore quota di sedentari e fumatori.', 'L’Agenzia Ambientale Europea (EEA) ogni anno produce un report sul Burden of Disease dell’inquinamento atmosferico in Europa in base ai livelli di concentrazione dei singoli inquinanti misurati (PM2,5, NO2 e O3) dalla rete di monitoraggio dell’aria presente in ciascun Paese (concentrazioni variabili anche in funzione delle condizioni meteorologiche peculiari registrate ogni anno, oltre al numero e alla qualità di funzionalità delle centraline).', 'Nel report 2019 (dati riferiti al 2017) l’EEA stima per l’Italia, per esposizione a PM2,5, circa 60.000 morti premature.', 'Va ricordato che le misure delle postazioni di monitoraggio dell’aria sono finalizzate alla corretta gestione dei territori per l’individuazione di possibili soluzioni di riduzione dell’inquinamento e rappresentano solo una misura indicativa dell’esposizione, considerando inoltre che ormai la popolazione trascorre la maggior parte del tempo in ambienti indoor.', 'In merito alla possibilità di un’associazione diretta della diffusione dell’infezione da SARS-CoV-2 con le aree a elevato livello di inquinamento atmosferico è necessario porre una particolare cautela, trattandosi di un’infezione virale, sottoposta a meccanismi di trasmissione attraverso il contagio diversi da quelli che caratterizzano la diffusione dell’inquinamento atmosferico.', 'In Italia, l’ipotesi di un’associazione è stata avanzata in virtù del fatto che aree come Lombardia, Veneto ed Emilia-Romagna, dove il virus ha presentato la maggiore diffusione, si registrano generalmente le maggiori concentrazioni degli inquinanti atmosferici misurati e controllati secondo quanto indicato e prescritto dalla legislazione di settore (DLgs 155/2010).', 'Tuttavia, la diffusione del virus si è presentata attraverso focolai circoscritti all’interno di zone della macroarea di appartenenza (pianura padana) sottoposta a valori di inquinamento atmosferico elevati e piuttosto omogenei; altre aree a forte inquinamento atmosferico, anche se prossime, sono rimaste inizialmente escluse e interessate, solo successivamente, con minor forza dalla contaminazione del virus.', 'Si osserva, inoltre, che a seguito delle disposizioni governative, la ridotta mobilità delle persone e la chiusura di molte attività produttive, ha portato a una progressiva e significativa riduzione dei livelli di inquinamento dell’aria (PM10, PM2,5, NO2, benzene).', 'Va considerato che le aree dove il virus ha evidenziato l’impatto più elevato, sono le aree italiane sia ad elevata densità di popolazione sia a più alta produttività del Paese.', 'In questi territori sono presenti il maggior numero di aziende con vocazione e crescita internazionale che hanno continui e frequenti rapporti con Paesi stranieri (in particolare Stati Uniti, Cina e Federazione Russa), con conseguente alta mobilità dei lavoratori.', 'Infatti, molti approfondimenti epidemiologici in corso per studiare e comprendere come il virus sia entrato e si sia diffuso nell’area evidenziano l’importanza della componente legata ai rapporti di lavoro internazionali e il conseguente contagio diretto tra persone, oltre all’iniziale diffusione del contagio in strutture sanitarie (ospedaliere e residenze sanitarie assistite, RSA), che ha agito quale forte moltiplicatore dell’infezione.', 'Le misure di minimizzazione degli spostamenti e di distanziamento sociale che sono state adottate stanno mostrando tutta la loro efficacia, evidenziando ancora una volta il meccanismo preferenziale di contagio della malattia COVID-19.', 'Lo studio di eventuali relazioni di causalità tra la diffusione del virus e l’inquinamento atmosferico, in particolare di PM (PM10 e PM2,5), necessita quindi di essere attentamente analizzato, approfondendo la conoscenza di eventuali fattori confondenti che possono suggerire spurie associazioni causa-effetto.', 'In sintesi, la complessità del fenomeno, insieme alla parziale conoscenza di alcuni fattori che possono giocare o aver giocato un ruolo nella trasmissione e diffusione dell’infezione da SARS-CoV-2, rende al momento molto incerta una valutazione di associazione diretta tra elevati livelli di inquinamento atmosferico e la diffusione dell’epidemia da COVID-19, o del suo ruolo di amplificazione dell’infezione.', 'Appare dunque necessario pianificare e realizzare studi caratterizzati da adeguati disegni e protocolli di indagine, e corredati da modelli di analisi che consentano di comprendere il ruolo giocato dalle molteplici variabili coinvolte nel fenomeno, effettuando anche un’analisi comparativa su scala più ampia quale quella europea e internazionale.', 'Un elemento di sicuro approfondimento potrà essere rappresentato dal ruolo dell’ambiente indoor/outdoor nel suo complesso nel determinare lo stato di salute generale della popolazione, in particolare quella residente nelle aree urbane, e come questo possa aver influito sulla gravità degli esiti dell’infezione da SARS-CoV-2.', 'Per esempio, l’analisi dei decessi su un ampio campione di casi effettuato dall’ISS ha mostrato come la mortalità per COVID-19 sia stata elevata in soggetti che già presentavano una o più patologie (malattie respiratorie, cardiocircolatorie, obesità, diabete, malattie renali, ecc), sulle quali la qualità ambientale indoor e outdoor e gli stili di vita, in ambiente urbano, possono aver giocato un ruolo.', 'Uno studio che l’Università di Harvard ha presentato come pre-print, fornisce alcuni spunti di riflessione ma si basa su indicazioni parziali e presenta ampie incertezze ancora da risolvere (come gli autori stessi descrivono nei supplementary materials).', 'Tra queste, sicuramente la modalità di conteggio dei decessi per COVID-19 ancora non completamente chiarite e standardizzate nonché la stima delle concentrazioni di PM2,5 sul territorio degli USA che si basa sull’applicazione di modellistica che deve tener conto delle misure effettuate nelle postazioni fisse, le quali non hanno una distribuzione omogenea sul territorio.', 'Questo fattore introduce un’incertezza sulla rappresentatività spaziale delle stime del modello e gli stessi autori evidenziano una ampia variabilità dell’accuratezza del modello per aree geografiche diverse.', 'Il lavoro dei ricercatori di Harvard mostra dunque alcune carenze metodologiche importanti, tra le quali non ultima la mancanza di controllo per autocorrelazione spaziale sia della esposizione a PM atmosferico sia del contagio.', 'La diversa distribuzione spaziale delle postazioni di misura dell’inquinamento atmosferico che deve tener conto dell’alta disomogeneità dei territori (aree metropolitane, rurali, industriali, montane, costiere), come avviene anche in Italia, rappresenta un elemento di incertezza nella stima dell’esposizione inalatoria al PM2,5 indoor e outdoor della popolazione.', 'La complessità del fenomeno necessita quindi di ulteriori approfondimenti per completare e risolvere le incertezze ed eventuali relazioni spurie, la covarianza tra variabili, il ruolo dei confondenti e dei modificatori di effetto, ecc.', 'In merito all’argomento la comunità scientifica ha espresso la sua opinione pubblicando, principalmente in rete, una serie di contributi alcuni dei quali di seguito indicati e dai quali sono tratti elementi riportati e discussi in questo documento:   Data creazione della pagina: 4 maggio 2020Autori: Gaetano Settimo¹, Maria Eleonora Soggiu¹, Maria Masocco², Angela Spinelli²¹Dipartimento Ambiente e Salute, ISS²Centro Nazionale Prevenzione delle Malattie e Promozione della Salute, ISS']\n",
      "[\"L'infografica web con i dati della sorveglianza integrata COVID-19 e il report esteso vengono aggiornati periodicamente su EpiCentro.\", 'Dati della Sorveglianza integrata COVID-19 in Italia  Per approfondire i dati contenuti nella dashboard e nei bollettini settimanali della sorveglianza scarica:   Attenzione: Si sottolinea che i dati raccolti sono in continua fase di consolidamento e, come prevedibile in una situazione emergenziale, alcune informazioni possono risultare incomplete o posso essere oggetto di modifica da un giorno all’altro.', 'Inoltre, soprattutto nelle Regioni/PA in cui si è verificata o si sta ancora verificando una trasmissione locale sostenuta del virus c’è la possibilità di un ritardo di alcuni giorni tra il momento della esecuzione del tampone per la diagnosi e la segnalazione sulla piattaforma dedicata.', 'I dati pubblicati dall’ISS provengono dal Sistema di sorveglianza integrata COVID-19 in Italia e sono elaborati dall’ISS integrando i dati microbiologici ed epidemiologici forniti dalle Regioni e Provincie Autonome (PA) e dal Laboratorio nazionale di riferimento per SARS-CoV-2 dell’ISS.', \"Tutte le Regioni/Province Autonome inviano quotidianamente all'ISS i dati relativi a tutti gli individui con infezione da SARS-CoV-2 confermata in laboratorio.\", \"L'ISS ha creato una piattaforma informatica dedicata, che consente la raccolta dei dati sia attraverso un’interfaccia web collegata alla piattaforma stessa che attraverso l’invio di un dataset.\", 'Tutti i casi di COVID-19 diagnosticati dai laboratori di riferimento regionali e dagli altri laboratori che sono entrati più di recente a far parte ufficialmente della rete diagnostica, entrano nell’ambito della sorveglianza.', 'Si ricorda che la definizione internazionale di caso, adottata anche dall’ISS, prevede che venga considerata come caso confermato una persona con una conferma di laboratorio del virus che causa COVID-19 a prescindere dai segni e sintomi clinici.', 'I dati individuali vengono aggiornati da ciascuna Regione/PA con cadenza giornaliera e hanno la peculiarità di fornire un livello di dettaglio maggiore rispetto a quello previsto in altri flussi di dati (come per esempio quello della Protezione Civile o del Ministero della Salute).', 'Infatti sono spesso disponibili informazioni sulle patologie preesistenti e sulle condizioni cliniche in cui versano i pazienti al momento dell’inserimento dei loro dati nella piattaforma.', 'Come prevedibile in una situazione emergenziale, alcune informazioni possono essere temporaneamente incomplete.', 'Ci si riferisce a questo quando si parla di informazioni “in fase di consolidamento”.', 'In particolare, soprattutto nelle Regioni/PA in cui c’è un alto numero di contagi, di malati e di ricoverati, c’è la possibilità di un ritardo di alcuni giorni tra il momento dell’esecuzione del tampone per la diagnosi e la segnalazione sulla piattaforma dedicata.', 'Per i dati più recenti va usata particolare cautela, perché ci può essere un ritardo di notifica dei casi, e questo non deve essere interpretato come indice dell’andamento dell’epidemia.', 'Per approfondire questo aspetto consulta lapagina dedicata sorveglianza integrata COVID-19.', 'Definizione di caso  Secondo quanto riportato nella Circolare ministeriale 0007922-09/03/2020, la definizione di caso si basa sulle informazioni attualmente disponibili, perciò potrebbe essere rivista in base all’evoluzione della situazione epidemiologica e delle conoscenze scientifiche disponibili [3].', 'Caso sospetto di COVID 19 che richiede esecuzione di test diagnosticoCaso probabile: un caso sospetto il cui risultato del test per SARS-CoV-2 è dubbio o inconcludente utilizzando protocolli specifici di Real Time PCR per SARS-CoV-2 presso i laboratori di riferimento regionali individuati o è positivo utilizzando un test pan-coronavirus.', 'Caso confermato: un caso con una conferma di laboratorio per infezione da SARS-CoV-2, effettuata presso il laboratorio di riferimento nazionale dell’ISS o da laboratori regionali di riferimento che rispondano ai criteri indicati nell’Allegato 3 della Circolare, indipendentemente dai segni e dai sintomi clinici.', 'Definizione di decesso: Ai fini della sorveglianza l’OMS definisce undecesso per COVID-19 come un decesso risultante da una malattia clinicamente compatibile in un caso probabile o confermato di COVID-19, a meno che non vi sia una chiara causa di morte alternativa non correlabile al COVID-19 (per esempio, trauma).', 'Non dovrebbe esserci un periodo di completa guarigione tra la malattia e il decesso.', 'Età mediana/Età media: Mediana e media sono due misure statistiche utilizzate in epidemiologia per riassumere le informazioni su una variabile, in questo caso, l’età.', 'La media è calcolata sommando tutte le età degli individui e dividendola per il numero di persone incluse.', \"L'età mediana in un set di dati è l'età che divide il set in due metà, con una metà delle età al di sotto della mediana e l’altra metà al di sopra di questo numero.\", 'In questa epidemia, in cui la distribuzione delle età dei casi COVID-19 è asimmetrica la mediana descrive meglio la variabile rispetto alla media.', 'Numero decessi/letalità: Il tasso di letalità di una malattia è il numero di persone che sono morte a causa della malattia diviso per il numero totale di persone ammalate di quella malattia.', 'Questo è diverso dal tasso di mortalità, che è il numero di persone che sono morte a causa della malattia diviso per la popolazione totale.', 'Asintomatici: Una persona trovata positiva al test perSARS-CoV-2 senza segni o sintomi apparenti di malattia.', 'Pauci sintomatici: Una persona trovata positiva al test per SARS-CoV-2 con sintomi lievi (ad esempio malessere generale, lieve rialzo della temperatura corporea, stanchezza, ecc.).', 'Lievi: Una persona trovata positiva al test per SARS-CoV-2 con chiari segni e sintomi di malattia (malattia respiratoria) ma non abbastanza gravi da richiedere il ricovero ospedaliero.', 'Severi: Una persona trovata positiva al test per SARS-CoV-2 con chiari segni e sintomi di malattia (malattia respiratoria) abbastanza gravi da richiedere il ricovero ospedaliero.', 'Critici: Una persona risultata positiva al test per SARS-CoV-2 con chiari segni e sintomi di malattia (ad esempio, malattia respiratoria) e abbastanza gravi da richiedere il ricovero in Terapia Intensiva Il documento “Informazioni privacy per la sorveglianza sanitaria integrata COVID-19” (pdf 477 kb).', \"Data di ultimo aggiornamento: 16 gennaio 2021Data di pubblicazione: 11 marzo 2020Autori: Flavia Riccardo, Xanthi Andrianou, Antonino Bella, Martina Del Manso, Alberto Mateo Urdiales, Massimo Fabiani, Stefania Bellino, Stefano Boros, Fortunato (Paolo) D'Ancona, Maria Cristina Rota, Antonietta Filia, Ornella Punzo, Andrea Siddu, Maria Fenicia Vescio, Corrado Di Benedetto, Marco Tallon, Alessandra Ciervo, Patrizio Pezzotti, Paola Stefanelli - ISS\"]\n",
      "['Il rapporto sulle caratteristiche dei pazienti deceduti positivi a COVID-19 in Italia viene aggiornato periodicamente su questa pagina.', 'report in English “Characteristics of COVID-19 patients dying in Italy Report based on available data on December 16th, 2020” (pdf 182 kb)Indice rapportoIl presente report descrive le caratteristiche di 63.573 pazienti deceduti e positivi a SARS-CoV-2 in Italia riportati dalla Sorveglianza Integrata COVID-19 coordinata dall’Istituto Superiore di Sanità.', 'La Tabella riporta la distribuzione geografica dei decessi secondo le tre fasi che hanno caratterizzato la pandemia dall’inizio al 16 dicembre 2020: la prima ondata (marzo-maggio), la fase di bassa incidenza (giugno-settembre), e la seconda ondata (ottobre-dicembre), quest’ultima ancora in corso.I dati di sorveglianza sui decessi sono in continuo aggiornamento e consolidamento ed entrambe le attività necessitano di tempi per essere esplicate.', 'Ogni Regione ha la propria organizzazione per l’aggiornamento e relativi tempi di esecuzione.', 'Nel leggere quindi i dati per Regione, bisogna tenere conto che i tempi di notifica, controllo, verifica e aggiornamento dei dati varia da Regione a Regione e da periodo a periodo; ciò può implicare variazioni (in aumento e/o in diminuzione) e differenze sia con i dati già pubblicati nei report precedenti, sia con i dati pubblicati dalla Protezione Civile.', 'Va inoltre considerato che le differenze regionali nella percentuale di decessi riportate in tabella non devono essere interpretate in termini di rischio.', 'La letalità dipende infatti dal numero di infezioni avvenute in ciascuna Regione in un arco temporale compatibile con l’eventuale osservazione dell’evento fatale.', 'A questo proposito, occorre anche tener presente che la differenza tra il numero di infezioni e casi notificati può variare a livello regionale e nel corso del tempo in funzione di diverse strategie di accesso al test adottate durante l’epidemia, distorcendo così il confronto della letalità regionale.', \"Tabella: Distribuzione geografica dei pazienti deceduti SARS-CoV-2 positivi per periodomarzo-maggiogiugno-settembreottobre-16 dicembreTotaleREGIONEN%N%N%N%Lombardia16.35947,660733,07.10426,024.07037,9Emilia Romagna4.31312,51739,42.2328,26.71810,6Piemonte4.09111,91266,91.3264,85.5438,7Veneto1.9505,724813,52.88410,55.0828,0Lazio8402,41437,82.0997,73.0824,8Toscana1.0453,0965,21.7646,52.9054,6Campania4771,4583,22.1027,72.6374,1Liguria1.5164,41387,59743,62.6284,1Puglia5241,5754,11.4605,32.0593,2Sicilia3000,9573,11.6546,02.0113,2Marche9812,970,42230,81.2111,9Abruzzo4461,3372,05972,21.0801,7Friuli Venezia Giulia3461.0211.16322.39991.6Trento4021,240,23891,47951,3Bolzano2900,820,13801,46721,1Umbria750,290,54461,65300,8Sardegna1310,4241,33611,35160,8Valle d'Aosta1430,460,32060,83550,6Calabria960,340,22250,83250,5Basilicata290,120,11430,51740,3Molise220,120,11460,51700,3         Totale34.376100,01839100,027.347100,063.562100,0Nota: per 11 decessi non è stato possibile valutare il periodo; il numero dei morti, relativi al periodo ottobre - 16 dicembre, è in fase di consolidamento a causa del ritardo di notifica.\", 'L’età media dei pazienti deceduti e positivi a SARS-CoV-2 è 80 anni   (mediana 82, range 0-109, Range InterQuartile - IQR 75-88).', 'Le donne   decedute sono 27.132 (42,7%).', 'L’età mediana dei pazienti deceduti positivi   a SARS-CoV-2 è più alta di oltre 30 anni rispetto a quella dei pazienti   che hanno contratto l’infezione (età mediane: pazienti deceduti 82 anni –   pazienti con infezione 48 anni).', 'Le donne decedute dopo aver contratto   infezione da SARS-CoV-2 hanno un’età più alta rispetto agli uomini (età   mediane: donne 85 – uomini 80).', 'L’andamento dell’età media dei pazienti deceduti positivi a SARS-CoV-2   per settimana di calendario, a partire dalla 3° settimana di febbraio 2020   (la data del primo decesso risale al 21 febbraio 2020).', 'L’età media dei   decessi settimanali è andata sostanzialmente aumentando fino agli 85 anni   (1° settimana di luglio) per poi calare leggermente Il grafico presenta le più comuni patologie croniche preesistenti   (diagnosticate prima di contrarre l’infezione) in un campione di pazienti   deceduti.', 'Questo dato è stato ottenuto da 5962 deceduti per i quali è   stato possibile analizzare le cartelle cliniche.', 'Le cartelle cliniche sono   inviate all’ISS dagli ospedali secondo tempistiche diverse,   compatibilmente con le prioritarie delle attività svolte negli ospedali   stessi.', 'Il campione è quindi di tipo opportunistico, rappresenta solo i   decessi in soggetti che hanno avuto necessità del ricovero, e le Regioni   sono rappresentate cercando di conservare una proporzionalità rispetto al   numero di decessi.', 'Il numero medio di patologie osservate in questa   popolazione è di 3,6 (mediana 3, Deviazione Standard 2,1).', \"Complessivamente, 184 pazienti (3,1% del campione) presentavano 0   patologie, 739 (12,4%) presentavano 1 patologia, 1095 (18,4%) presentavano   2 patologie e 3944 (66,2%) presentavano 3 o più patologie.Prima del ricovero in ospedale, il 21% dei pazienti deceduti SARS-CoV-2   positivi seguiva una terapia con ACE-inibitori e il 14% una terapia con   Sartani (bloccanti del recettore per l'angiotensina).Le più comuni patologie croniche preesistenti nei pazienti deceduti   distinte per uomini (n=3589) e donne (n=2373).\", 'Nelle donne il numero medio   di patologie osservate è di 3,8 (mediana 4, Deviazione Standard 2,0).', 'Negli uomini il numero medio di patologie osservate è di 3,5 (mediana 3,   Deviazione Standard 2,1).', 'La tabella 1 riassume le principali caratteristiche dei decessi con COVID-19 avvenuti nei 3 periodi dall’inizio della pandemia nel 2020: il periodo iniziale (marzo-maggio), il secondo periodo (giugno-settembre) e il terzo (ottobre-dicembre), anche se quest’ultimo è ancora in corso.', 'Complessivamente i dati erano rappresentativi del 9,6% dei deceduti dall’inizio della pandemia; in particolare, del 13,3% dei deceduti tra marzo e maggio, del 27,5% dei deceduti tra giugno e settembre e del 3,7% dei deceduti tra ottobre e dicembre.Nell’intero arco temporale preso in considerazione, aumentano i decessi di persone con 3 o più patologie preesistenti e diminuiscono quelli con meno patologie o nessuna: ciò sembra indicare che nel secondo e nel terzo periodo i decessi riguardano persone più anziane e con una condizione di salute preesistente peggiore rispetto ai decessi relativi al primo trimestre (tabella   1).Estremamente diverso nei tre periodi è anche l’uso di farmaci, con una netta riduzione nell’utilizzo degli antivirali e un aumento nell’uso degli steroidi nel secondo e terzo periodo.', 'Tabella 1.', 'Età media, prevalenza di donne, numero di patologie preesistenti, complicanze e trattamenti nei decessi con COVID-19 per trimestre di decessoCampione   delle cartelle cliniche valutateTutti(n=5962)mar-mag 2020(n=4470)giu-sett 2020(n=501)ott-16 dic 2020(n=991)p-value*  N di   comorbosità    0184 (3,1)169 (3,8)6 (1,2)9 (0,9)<0,001    1  739 (12,4)  606 (13,6)  44 (8,8)  89 (9,0)     2  1095 (18,4)  895 (20,0)  66 (13,2)134 (13,5)    3 o più3944 (66,2)2800 (62,6)385 (76,8)759 (76,6)Complicazioni durante   il ricovero in ospedale  Polmonite  5499 (94,0)  4142 (95,2)  412 (83,2)  945 (94,6)  <0,001   Danno renale acuto  1389 (23,8)  1001 (23,0)  134 (27,1)  254 (25,4)  0,052   Danno miocardico acuto  632 (10,8)  471 (10,8)  49 (9,9)  112 (11,2)  0,743   Sovrainfezione  1134 (19,4)  722 (16,6)  203 (41,0)  209 (20,9)  <0,001Terapie    Antibiotici  5052 (85,8)  3813 (86,7)  424 (86,0)  815 (81,7)  <0,001    Antivirali  2865 (48,7)  2599 (59,1)  157 (31,8)  109 (10,9)  <0,001    Steroidi  3022 (51,3)  1903 (43,3)321 (65,1)  798 (80,0)<0,001   Tocilizumab218 (4,1)170 (4,3)28 (5,9)20 (2,1)0,001* p-value per le differenze tra i 3 periodi  La distribuzione delle principali patologie preesistenti nei diversi periodi è presentata nella figura 6.', 'La prevalenza di fibrillazione atriale, ictus, demenza, BPCO, cancro, insufficienza renale e obesità varia in maniera significativa nei tre periodi.', 'Queste patologie sono più frequentemente diagnosticate nei deceduti del secondo e terzo periodo rispetto a quelli del primo.', 'Nella tabella 2 sono riportate le durate come tempi mediani (in giorni) nei 3 periodi di tempo considerati: tra il primo e il secondo periodo quasi raddoppia il tempo che trascorre dall’insorgenza dei sintomi al decesso, che poi torna ai livelli iniziali nel terzo periodo; diminuisce il tempo che trascorre dall’insorgenza dei sintomi all’esecuzione del tampone per la rilevazione dell’infezione da SARS-CoV-2 nel secondo periodo e rimane tale nel terzo periodo, così come il tempo tra l’insorgenza dei sintomi e il ricovero in ospedale; raddoppia la durata mediana in giorni dal ricovero in ospedale al decesso tra il primo e il secondo periodo per poi tornare, nel terzo periodo, ai livelli del primo.', 'Questi risultati sembrano suggerire una maggiore reattività del Sistema Sanitario testimoniata dalla maggiore rapidità nell’esecuzione di esami diagnostici e nell’ospedalizzazione.', 'Tabella 2.', 'Tempi mediani (in giorni) tra insorgenza dei sintomi, test PCR, ricovero in ospedale e decesso    Tutti(n=5962)mar-mag 2020(n=4470)giu-sett   2020(n=501)ott-16 dic   2020(n=991)p-value*Tempi (in giorni)MedianaIQRMedianaIQRMedianaIQRMedianaIQR Dall’insorgenza dei sintomi al   decesso127-20127-19229-55117-18<0,001Dall’insorgenza dei sintomi al test   SARS-CoV-252-852-931-731-6<0,001Dall’insorgenza dei sintomi al ricovero in ospedale42-742-731-731-7<0,001Dal ricovero in ospedale al decesso73-1473-13155-4373-12<0,001* p-value per le differenze tra i 3    periodi.IQR=Inter-Quartile Range  I dati qui presentati possono essere spiegati da maggiori conoscenze circa l’infezione e maggiori capacità e tempestività di cura della stessa nel periodo giugno-agosto.', 'Inoltre è verosimile che nei mesi di marzo e aprile il COVID-19 sia stato sotto-diagnosticato in molti deceduti anziani fragili (come per esempio quelli nelle RSA).', 'Questo può aver portato una sottostima del carico di patologie dei deceduti in tale periodo.', 'Nella tabella 2 sono riportate le durate come tempi mediani (in giorni) nei 3 periodi di tempo considerati: tra il primo e il secondo periodo quasi raddoppia il tempo che trascorre dall’insorgenza dei sintomi al decesso, che poi torna ai livelli iniziali nel terzo periodo; diminuisce il tempo che trascorre dall’insorgenza dei sintomi all’esecuzione del tampone per la rilevazione dell’infezione da SARS-CoV-2 nel secondo periodo e rimane tale nel terzo periodo, così come il tempo tra l’insorgenza dei sintomi e il ricovero in ospedale; raddoppia la durata mediana in giorni dal ricovero in ospedale al decesso tra il primo e il secondo periodo per poi tornare, nel terzo periodo, ai livelli del primo.', 'Questi risultati sembrano suggerire una maggiore reattività del Sistema Sanitario testimoniata dalla maggiore rapidità nell’esecuzione di esami diagnostici e nell’ospedalizzazione.', 'Tabella 2.', 'Tempi mediani (in giorni) tra insorgenza dei sintomi, test PCR, ricovero in ospedale e decessoTutti(n=5962)mar-mag 2020(n=4470)giu-sett   2020(n=501)ott-16 dic   2020(n=991)p-value*Tempi (in giorni)MedianaIQRMedianaIQRMedianaIQRMedianaIQR Dall’insorgenza dei sintomi al   decesso127-20127-19229-55117-18<0,001Dall’insorgenza dei sintomi al test   SARS-CoV-252-852-931-731-6<0,001Dall’insorgenza dei sintomi al ricovero in ospedale42-742-731-731-7<0,001Dal ricovero in ospedale al decesso73-1473-13155-4373-12<0,001* p-value per le differenze tra i 3    periodi.IQR=Inter-Quartile Range  I dati qui presentati possono essere spiegati da maggiori conoscenze circa l’infezione e maggiori capacità e tempestività di cura della stessa nel periodo giugno-agosto.', 'Inoltre è verosimile che nei mesi di marzo e aprile il COVID-19 sia stato sotto-diagnosticato in molti deceduti anziani fragili (come per esempio quelli nelle RSA).', 'Questo può aver portato una sottostima del carico di patologie dei deceduti in tale periodo.', 'Sulla base delle indicazioni emanate dal Ministero della Salute nella Circolare pubblicata il 25 febbraio 2020 (protocollo 0005889-25/02/2020), la certificazione di decesso a causa di COVID-19 deve essere accompagnata da parere dell’Istituto Superiore di Sanità (ISS).', 'Per questo motivo, è stato creato un gruppo di lavoro dedicato allo studio delle cause di morte dei pazienti deceduti che risultavano positivi all’infezione da SARS-CoV-2.', 'L’analisi si basa sui dati contenuti nelle cartelle cliniche e nelle schede di morte ISTAT recanti le cause di decesso di questi pazienti.', 'La raccolta dati avviene tramite la piattaforma webhttp://covid-19.iss.it, già utilizzata dalla sorveglianza nazionale, epidemiologica e virologica, dei casi di COVID-19 in Italia (coordinata dall’ISS e attivata dalla Circolare ministeriale del 22 gennaio 2020, n.1997).', 'Per informazioni è possibile mandare un’e-mail all’indirizzo di posta elettronica decessicovid-19@iss.it o contattare il dott.', 'Graziano Onder (Direttore del Dipartimento Malattie cardiovascolari, endocrino-metaboliche e invecchiamento, ISS) al numero di telefono: 06/49904231.', \"il rapporto “Impatto dell'epidemia COVID-19 sulla mortalità: cause di morte nei deceduti positivi a SARS-CoV-2” (pdf 1,1 Mb) realizzato da ISS e ISTAT il 16 luglio 2020 che presenta un’analisi approfondita delle malattie presenti sulle schede di morte di soggetti diagnosticati microbiologicamente tramite tampone rino/orofaringeo positivo al SARS-CoV-2.\", 'Data di ultimo aggiornamento: 23 dicembre 2020Data di creazione della pagina: 27 marzo 2020Report prodotto dal Gruppo della Sorveglianza COVID-19: Luigi Palmieri, Elvira Agazio, Xanthi Andrianou, Pierfrancesco Barbariol, Antonino Bella, Eva Benelli, Luigi Bertinato, Matilde Bocci, Stefano Boros, Giovanni Calcagnini, Marco Canevelli, Federica Censi, Alessandra Ciervo, Elisa Colaizzo, Martina Del Manso, Corrado Di Benedetto, Chiara Donfrancesco, Massimo Fabiani, Francesco Facchiano, Marco Floridia, Fabio Galati, Marina Giuliano, Tiziana Grisetti, Cecilia Guastadisegni, Yllka Kodra, Ilaria Lega, Cinzia Lo Noce, Pietro Maiozzi, Valerio Manno, Margherita Martini, Alberto Mateo Urdiales, Eugenio Mattei, Claudia Meduri, Paola Meli, Giada Minelli, Lorenza Nisticò, Graziano Onder, Lucia Palmisano, Daniele Petrone, Patrizio Pezzotti, Flavia Pricci, Ornella Punzo, Vincenzo Puro, Federica Quarata, Valeria Raparelli, Flavia Riccardo, Simone Rocchetto, Paolo Salerno, Giulia Sarti, Debora Serra, Matteo Spuri, Paola Stefanelli, Marco Tallon, Manuela Tamburo De Bella, Dorina Tiple, Marco Toccaceli Blasi, Federica Trentin, Brigid Unim, Luana Vaianella, Nicola Vanacore, Maria Fenicia Vescio, Emanuele Rocco Villani, Silvio Brusaferro.']\n",
      "['I coronavirus (CoV) sono un’ampia famiglia di virus respiratori che possono causare malattie da lievi a moderate, dal comune raffreddore a sindromi respiratorie come la MERS (sindrome respiratoria mediorientale, Middle East respiratory syndrome) e la SARS (sindrome respiratoria acuta grave, Severe acute respiratory syndrome).', 'Sono chiamati così per le punte a forma di corona che sono presenti sulla loro superficie.', 'I coronavirus sono comuni in molte specie animali (come i cammelli e i pipistrelli) ma in alcuni casi, se pur raramente, possono evolversi e infettare l’uomo per poi diffondersi nella popolazione.', \"Un nuovo coronavirus è un nuovo ceppo di coronavirus che non è stato precedentemente mai identificato nell'uomo.\", 'I coronavirus umani conosciuti ad oggi, comuni in tutto il mondo, sono sette, alcuni identificati diversi anni fa (i primi a metà degli anni Sessanta) e alcuni identificati nel nuovo millennio.', 'Coronavirus umani comuni1 - 229E (coronavirus alpha) 2 - NL63 (coronavirus alpha) 3 - OC43 (coronavirus beta) 4 - HKU1 (coronavirus beta) Altri coronavirus umani 5 - MERS-CoV (il coronavirus beta che causa la Middle East respiratory syndrome) 6 - SARS-CoV (il coronavirus beta che causa la Severe acute respiratory syndrome) 7 - SARS-CoV-2 (il coronavirus che che causa la COVID-19)   Data di pubblicazione: 23 gennaio 2020Autori: Giovanni Rezza, Antonino Bella, Flavia Riccardo, Patrizio Pezzotti - Dipartimento Malattie infettive, ISS']\n",
      "['I coronavirus umani si trasmettono da una persona infetta a un’altra attraverso:Sulla base dei dati al momento disponibili, l’OMS ribadisce che il contatto con i casi sintomatici (persone che hanno contratto l’infezione e hanno già manifestato i sintomi della malattia) è il motore principale della trasmissione del nuovo coronavirus SARS-CoV-2.', 'L’OMS è a conoscenza di una possibile trasmissione del virus da persone infette ma ancora asintomatiche.', 'In base a quanto già noto sugli altri coronavirus (ad es.', 'MERS-CoV), sappiamo che l’infezione asintomatica potrebbe essere rara e che la trasmissione del virus da casi asintomatici è possibile, ma non frequente.', 'Sulla base di questi dati, l’OMS conclude che la trasmissione da casi asintomatici probabilmente non è uno dei motori principali della trasmissione del nuovo coronavirus SARS-CoV-2.', 'Tuttavia molti studi sono in corso per ampliare le conoscenze sulle modalità di trasmissione di SARS-CoV-2.', 'Non esistono trattamenti specifici per le infezioni causate dai coronavirus e non sono disponibili, al momento, vaccini per proteggersi dal virus.', 'Riguardo il nuovo coronavirus SARS-CoV-2, non esistono al momento terapie specifiche, vengono curati i sintomi della malattia (così detta terapia di supporto) in modo da favorire la guarigione, ad esempio fornendo supporto respiratorio.', 'Si ricorda che l’Agenzia italiana del farmaco (AIFA) fornisce sul proprio sito informazioni sui farmaci utilizzati al di fuori delle sperimentazioni cliniche, come quelli commercializzati per altre indicazioni che vengono resi disponibili ai pazienti, pur in assenza di indicazione terapeutica specifica per il COVID-19, sulla base di evidenze scientifiche spesso piuttosto limitate.', 'Consulta la pagina dedicata sulsito AIFA.', 'È possibile ridurre il rischio di infezione, proteggendo se stessi e gli altri, seguendo alcuni accorgimenti: Proteggi te stessoLavati spesso le mani (dopo aver tossito/starnutito, dopo aver assistito un malato, prima durante e dopo la preparazione di cibo, prima di mangiare, dopo essere andati in bagno, dopo aver toccato animali o le loro deiezioni o più in generale quando le mani sono sporche in qualunque modo).', 'In ambito assistenziale (ad esempio negli ospedali) segui i consigli degli operatori sanitari che forniscono assistenza.', 'Proteggi gli altri Data di ultimo aggiornamento: 25 aprile 2020Data di pubblicazione: 23 gennaio 2020Autori: Giovanni Rezza, Antonino Bella, Flavia Riccardo, Patrizio Pezzotti - Dipartimento Malattie infettive, ISS']\n",
      "['La prevenzione e il controllo delle infezioni (Infection prevention and control, IPC) è un approccio scientifico e pratico finalizzato a prevenire i rischi causati dalle infezioni per pazienti e operatori sanitari.', 'In Italia, l’Istituto Superiore di Sanità, a seguito dell’epidemia da COVID-19 ha predisposto un Gruppo di lavoro dedicato specificamente alla prevenzione e controllo delle infezioni, che tra le diverse attività si occupa anche della pubblicazione di una serie di rapporti tecnici volti a fornire indicazioni sull’IPC.', 'Consulta e scarica i rapporti ISS: Data di ultimo aggiornamento della pagina: 10 settembre 2020 Data di creazione della pagina: 20 luglio 2020 Revisore: Fortunato “Paolo” D’Ancona - Dipartimento Malattie infettive, ISS']\n",
      "['A causa della pandemia di COVID-19 (causata dal nuovo virus SARS-CoV-2) nei Paesi della Regione europea dell’Organizzazione Mondiale della Sanità (OMS) esiste il rischio che si possa verificare una riduzione generale delle normali attività vaccinali, sia per lo spostamento di risorse sanitarie verso le attività di controllo della pandemia, sia per le misure di distanziamento sociale imposte alla popolazione, che potrebbero portare alcune persone a decidere di rimandare le vaccinazioni programmate per se stessi o per i propri figli.', 'Le vaccinazioni sono una componente fondamentale dei servizi sanitari e una loro interruzione, anche se per un breve periodo, porterebbe a un accumulo di persone suscettibili e a un maggiore rischio di epidemie di malattie prevenibili da vaccino (VPD, vaccine preventable diseases) che possono causare decessi e portare una aumentata richiesta di risorse sanitarie.', 'È fondamentale pertanto ridurre al minimo questo rischio, soprattutto in un sistema già provato dalla risposta all’epidemia di COVID-19.', 'L’OMS Europa, il 20 marzo 2020, ha pubblicato il documento “Guidance on routine immunization services during COVID-19 pandemic in the WHO European Region”, per fornire un supporto ai Paesi nella decisione di mantenere o meno le normali attività vaccinali nel periodo pandemico, indicare quali sono i fattori che ogni Paese deve considerare per effettuare una valutazione del rischio, fornire dei principi guida da seguire e indicazioni su come effettuare le vaccinazioni in sicurezza.', 'Secondo l’OMS è essenziale mantenere gli appuntamenti vaccinali, soprattutto per le vaccinazioni di routine, fino a quando le misure di risposta alla COVID-19 lo consentano.', \"Qualsiasi decisione inerente le possibili opzioni di funzionamento dei servizi vaccinali deve essere presa valutando in maniera dettagliata: l'epidemiologia delle VPD, lo scenario di trasmissione della COVID-19, le corrispondenti misure di mitigazione in atto e le risorse disponibili.\", \"In particolare, è necessario valutare i seguenti punti: L'impatto e l'adeguatezza delle opzioni scelte dovrebbero essere monitorati e valutati periodicamente con l'evoluzione della situazione relativa alla pandemia da COVID-19.\", \"L'attuale situazione COVID-19 e le capacità del sistema sanitario variano ampiamente all'interno della Regione europea e tutto è in rapida evoluzione.\", 'Pertanto, il miglior approccio per mantenere elevati i livelli di copertura vaccinale non potrà essere sempre lo stesso nei diversi Paesi.', 'Tutti devono però fare ogni possibile sforzo per mantenere elevati i livelli di immunità nella popolazione.', \"Considerando che potrebbero esserci delle interruzioni, è fondamentale tenere fin d’ora un elenco dei bambini che hanno saltato dosi di vaccino e sviluppare un piano d'azione ad hoc per il recupero successivo delle dosi non ricevute.\", 'Nel documento l’OMS delinea i principi guida per l’organizzazione dei servizi vaccinali, da seguire durante la pandemia COVID-19:Infine, le caratteristiche epidemiologiche, operative e contestuali di ciascun Paese sono uniche e sarebbe impossibile stabilire una strategia adeguata per tutte le situazioni.', 'L’OMS Europa fornisce un algoritmo per aiutare le autorità nazionali a prendere decisioni relative al mantenere in funzione i servizi vaccinali.', 'Si sottolinea inoltre l’importanza di mantenere e rinforzare la sorveglianza delle malattie prevenibili da vaccino, per identificare precocemente e gestire i casi di malattie prevenibili da vaccino.', \"Le raccomandazioni dell’Ufficio Regionale europeo dell’OMS vengono ulteriormente ribadite in un secondo documento dell’OMS “Guiding principles for immunization activities during the COVID-19 pandemic”, in cui si sottolinea che l'elevato potenziale di epidemie di malattie prevenibili da vaccino rende indispensabile per i Paesi mantenere la continuità dei servizi vaccinali ovunque tali servizi possano essere condotti in condizioni di sicurezza.\", 'Data di creazione della pagina: 7 aprile 2020Autori: Antonietta Filia, Maria Cristina Rota – Dipartimento Malattie infettive, ISS']\n",
      "['Le dipendenze da sostanze come il tabacco, l’alcol e le droghe ma anche le dipendenze comportamentali (gioco d’azzardo, cibo, internet e nuove tecnologie, doping) sono importanti fattori di rischio per la salute pubblica e lo diventano ancora di più in una situazione particolare come quella correlata alla pandemia da COVID-19 che prevede un periodo di grandi chiusure e di forzata permanenza a casa.', 'L’Istituto Superiore di Sanità (ISS) apre dunque una sezione dedicata alle dipendenze nel contesto COVID-19 per aiutare operatori e cittadini a far fronte all’emergenza con materiale di supporto e approfondimenti sul tema.', 'Data di creazione della pagina: 6 maggio 2020Revisore: Roberta Pacifici - Centro nazionale dipendenze e doping, ISS']\n"
     ]
    }
   ],
   "source": [
    "# ogni line abbiamo una lista di frasi\n",
    "for l in doc_corpus[:10]:\n",
    "  print(l)"
   ]
  },
  {
   "cell_type": "code",
   "execution_count": null,
   "metadata": {
    "colab": {
     "base_uri": "https://localhost:8080/"
    },
    "id": "mp0__4z3xlNy",
    "outputId": "c1218f9c-899f-445f-88ac-e9ab407346e1"
   },
   "outputs": [
    {
     "data": {
      "text/plain": [
       "['la pandemia da covid-19 ha reso necessaria una riorganizzazione dei percorsi assistenziali legati alla nascita.',\n",
       " 'per questo motivo, l’iss mette a disposizione del personale sanitario una selezione di risorse, letteratura ed evidence disponibili su gravidanza, parto e allattamento.',\n",
       " 'in evidenza:  la pagina dedicata alla vaccinazione contro il covid-19 in gravidanza e allattamentola pagina dedicata allo studio “covid-19 e salute mentale perinatale: impatto del covid-19 sul vissuto e lo stato emotivo in epoca perinatale delle donne in contatto con i consultori familiari (cf)”, di cui l’istituto superiore di sanità è coordinatore, aggiornata al 7 gennaio 2021leggi gli altri approfondimenti:per aiutare il personale sanitario nel lavoro quotidiano di assistenza alle donne durante la gravidanza, il parto e l’allattamento, le ricercatrici dell’iss hanno messo a punto alcuni materiali di comunicazione specifici.',\n",
       " 'visita lapagina dedicata.data di ultimo aggiornamento: 9 gennaio 2021 data di creazione della pagina: 27 febbraio 2020',\n",
       " 'non esiste alcuna evidenza che gli animali domestici giochino un ruolo nella diffusione di sars-cov-2 che riconosce, invece, nel contagio interumano la via principale di trasmissione.',\n",
       " 'tuttavia, poiché la sorveglianza veterinaria e gli studi sperimentali suggeriscono che gli animali domestici siano, occasionalmente, suscettibili a sars-cov-2, è importante proteggere gli animali di pazienti affetti da covid-19, limitando la loro esposizione.',\n",
       " 'il virus sars-cov-2, lasciato il suo probabile serbatoio animale selvatico, si è diffuso rapidamente in tutti i continenti, trovando nella specie umana una popolazione recettiva e in grado di permettergli una efficiente trasmissione intraspecifica.',\n",
       " \"l'elevata circolazione del virus tra gli esseri umani sembra però non risparmiare, in alcune occasioni, gli animali che condividono con l'uomo ambiente domestico, quotidianità e affetto.\",\n",
       " 'al 2 aprile 2020, a fronte di 800 mila casi confermati nel mondo di covid-19 nell’uomo, sono solamente 4 i casi documentati di positività da sars-cov-2 negli animali da compagnia: due cani e un gatto ad hong kong e un gatto in belgio.',\n",
       " \"in tutti i casi, all'origine dell'infezione negli animali vi sarebbe la malattia dei loro proprietari, tutti affetti da covid-19.\"]"
      ]
     },
     "execution_count": 15,
     "metadata": {
      "tags": []
     },
     "output_type": "execute_result"
    }
   ],
   "source": [
    "# SENTENCE_CORPUS\n",
    "# unica lista contenente tutte le frasi del corpus\n",
    "sentence_corpus[:10]"
   ]
  },
  {
   "cell_type": "code",
   "execution_count": null,
   "metadata": {
    "colab": {
     "base_uri": "https://localhost:8080/"
    },
    "id": "74uoLLgxzTwl",
    "outputId": "5377c1d8-e6ec-4943-a777-469983c8cf5a"
   },
   "outputs": [
    {
     "data": {
      "text/plain": [
       "[['pandemia',\n",
       "  'covid-19',\n",
       "  'reso',\n",
       "  'necessaria',\n",
       "  'riorganizzazione',\n",
       "  'percorsi',\n",
       "  'assistenziali',\n",
       "  'legati',\n",
       "  'nascita',\n",
       "  '.'],\n",
       " ['motivo',\n",
       "  ',',\n",
       "  '’',\n",
       "  'iss',\n",
       "  'mette',\n",
       "  'disposizione',\n",
       "  'personale',\n",
       "  'sanitario',\n",
       "  'selezione',\n",
       "  'risorse',\n",
       "  ',',\n",
       "  'letteratura',\n",
       "  'evidence',\n",
       "  'disponibili',\n",
       "  'gravidanza',\n",
       "  ',',\n",
       "  'parto',\n",
       "  'allattamento',\n",
       "  '.'],\n",
       " ['evidenza',\n",
       "  ':',\n",
       "  'pagina',\n",
       "  'dedicata',\n",
       "  'vaccinazione',\n",
       "  'covid-19',\n",
       "  'gravidanza',\n",
       "  'allattamentola',\n",
       "  'pagina',\n",
       "  'dedicata',\n",
       "  'studio',\n",
       "  '“',\n",
       "  'covid-19',\n",
       "  'salute',\n",
       "  'mentale',\n",
       "  'perinatale',\n",
       "  ':',\n",
       "  'impatto',\n",
       "  'covid-19',\n",
       "  'vissuto',\n",
       "  'stato',\n",
       "  'emotivo',\n",
       "  'epoca',\n",
       "  'perinatale',\n",
       "  'donne',\n",
       "  'contatto',\n",
       "  'consultori',\n",
       "  'familiari',\n",
       "  '(',\n",
       "  'cf',\n",
       "  ')',\n",
       "  '”',\n",
       "  ',',\n",
       "  '’',\n",
       "  'istituto',\n",
       "  'superiore',\n",
       "  'sanità',\n",
       "  'coordinatore',\n",
       "  ',',\n",
       "  'aggiornata',\n",
       "  '7',\n",
       "  'gennaio',\n",
       "  '2021leggi',\n",
       "  'altri',\n",
       "  'approfondimenti',\n",
       "  ':',\n",
       "  'aiutare',\n",
       "  'personale',\n",
       "  'sanitario',\n",
       "  'lavoro',\n",
       "  'quotidiano',\n",
       "  'assistenza',\n",
       "  'donne',\n",
       "  'durante',\n",
       "  'gravidanza',\n",
       "  ',',\n",
       "  'parto',\n",
       "  '’',\n",
       "  'allattamento',\n",
       "  ',',\n",
       "  'ricercatrici',\n",
       "  '’',\n",
       "  'iss',\n",
       "  'messo',\n",
       "  'punto',\n",
       "  'alcuni',\n",
       "  'materiali',\n",
       "  'comunicazione',\n",
       "  'specifici',\n",
       "  '.'],\n",
       " ['visita',\n",
       "  'lapagina',\n",
       "  'dedicata.data',\n",
       "  'ultimo',\n",
       "  'aggiornamento',\n",
       "  ':',\n",
       "  '9',\n",
       "  'gennaio',\n",
       "  '2021',\n",
       "  'data',\n",
       "  'creazione',\n",
       "  'pagina',\n",
       "  ':',\n",
       "  '27',\n",
       "  'febbraio',\n",
       "  '2020'],\n",
       " ['esiste',\n",
       "  'alcuna',\n",
       "  'evidenza',\n",
       "  'animali',\n",
       "  'domestici',\n",
       "  'giochino',\n",
       "  'ruolo',\n",
       "  'diffusione',\n",
       "  'sars-cov-2',\n",
       "  'riconosce',\n",
       "  ',',\n",
       "  'invece',\n",
       "  ',',\n",
       "  'contagio',\n",
       "  'interumano',\n",
       "  'via',\n",
       "  'principale',\n",
       "  'trasmissione',\n",
       "  '.'],\n",
       " ['tuttavia',\n",
       "  ',',\n",
       "  'poiché',\n",
       "  'sorveglianza',\n",
       "  'veterinaria',\n",
       "  'studi',\n",
       "  'sperimentali',\n",
       "  'suggeriscono',\n",
       "  'animali',\n",
       "  'domestici',\n",
       "  ',',\n",
       "  'occasionalmente',\n",
       "  ',',\n",
       "  'suscettibili',\n",
       "  'sars-cov-2',\n",
       "  ',',\n",
       "  'importante',\n",
       "  'proteggere',\n",
       "  'animali',\n",
       "  'pazienti',\n",
       "  'affetti',\n",
       "  'covid-19',\n",
       "  ',',\n",
       "  'limitando',\n",
       "  'esposizione',\n",
       "  '.'],\n",
       " ['virus',\n",
       "  'sars-cov-2',\n",
       "  ',',\n",
       "  'lasciato',\n",
       "  'probabile',\n",
       "  'serbatoio',\n",
       "  'animale',\n",
       "  'selvatico',\n",
       "  ',',\n",
       "  'diffuso',\n",
       "  'rapidamente',\n",
       "  'continenti',\n",
       "  ',',\n",
       "  'trovando',\n",
       "  'specie',\n",
       "  'umana',\n",
       "  'popolazione',\n",
       "  'recettiva',\n",
       "  'grado',\n",
       "  'permettergli',\n",
       "  'efficiente',\n",
       "  'trasmissione',\n",
       "  'intraspecifica',\n",
       "  '.'],\n",
       " [\"l'elevata\",\n",
       "  'circolazione',\n",
       "  'virus',\n",
       "  'esseri',\n",
       "  'umani',\n",
       "  'sembra',\n",
       "  'però',\n",
       "  'risparmiare',\n",
       "  ',',\n",
       "  'alcune',\n",
       "  'occasioni',\n",
       "  ',',\n",
       "  'animali',\n",
       "  'condividono',\n",
       "  \"l'uomo\",\n",
       "  'ambiente',\n",
       "  'domestico',\n",
       "  ',',\n",
       "  'quotidianità',\n",
       "  'affetto',\n",
       "  '.'],\n",
       " ['2',\n",
       "  'aprile',\n",
       "  '2020',\n",
       "  ',',\n",
       "  'fronte',\n",
       "  '800',\n",
       "  'mila',\n",
       "  'casi',\n",
       "  'confermati',\n",
       "  'mondo',\n",
       "  'covid-19',\n",
       "  '’',\n",
       "  'uomo',\n",
       "  ',',\n",
       "  'solamente',\n",
       "  '4',\n",
       "  'casi',\n",
       "  'documentati',\n",
       "  'positività',\n",
       "  'sars-cov-2',\n",
       "  'animali',\n",
       "  'compagnia',\n",
       "  ':',\n",
       "  'due',\n",
       "  'cani',\n",
       "  'gatto',\n",
       "  'hong',\n",
       "  'kong',\n",
       "  'gatto',\n",
       "  'belgio',\n",
       "  '.'],\n",
       " ['casi',\n",
       "  ',',\n",
       "  \"all'origine\",\n",
       "  \"dell'infezione\",\n",
       "  'animali',\n",
       "  'malattia',\n",
       "  'proprietari',\n",
       "  ',',\n",
       "  'affetti',\n",
       "  'covid-19',\n",
       "  '.']]"
      ]
     },
     "execution_count": 17,
     "metadata": {
      "tags": []
     },
     "output_type": "execute_result"
    }
   ],
   "source": [
    "token_corpus[:10]"
   ]
  },
  {
   "cell_type": "markdown",
   "metadata": {
    "id": "u_6WzL-i15Nh"
   },
   "source": [
    "### Costruzione del modello - Universal Sentence Encoder Multilingual\n",
    "\n"
   ]
  },
  {
   "cell_type": "code",
   "execution_count": null,
   "metadata": {
    "id": "j0lX-88dq1cw"
   },
   "outputs": [],
   "source": [
    "%%capture\n",
    "#@title Setup Environment\n",
    "# Install the latest Tensorflow version.\n",
    "!pip install tensorflow_text\n",
    "!pip install bokeh\n",
    "!pip install simpleneighbors[annoy]\n",
    "!pip install tqdm"
   ]
  },
  {
   "cell_type": "markdown",
   "metadata": {
    "id": "ePAxiaTx2J7f"
   },
   "source": [
    "Il modello è stato preso da https://tfhub.dev/google/universal-sentence-encoder-multilingual/3"
   ]
  },
  {
   "cell_type": "code",
   "execution_count": null,
   "metadata": {
    "id": "MSKZdeUJ2Hyr"
   },
   "outputs": [],
   "source": [
    "module_url = 'https://tfhub.dev/google/universal-sentence-encoder-multilingual/3' #@param ['https://tfhub.dev/google/universal-sentence-encoder-multilingual/3', 'https://tfhub.dev/google/universal-sentence-encoder-multilingual-large/3']\n",
    "model = hub.load(module_url)"
   ]
  },
  {
   "cell_type": "markdown",
   "metadata": {
    "id": "chCuck0A2les"
   },
   "source": [
    "A differenza di word2vec questo modello non richiede che il testo sia processato (gli passiamo la lista delle frasi del nostro corpus di documenti)"
   ]
  },
  {
   "cell_type": "code",
   "execution_count": null,
   "metadata": {
    "id": "PaMh5YA52rwX"
   },
   "outputs": [],
   "source": [
    "sentence_embeddings = model(corpus)"
   ]
  },
  {
   "cell_type": "code",
   "execution_count": null,
   "metadata": {
    "id": "mNfP2Gc76lhP"
   },
   "outputs": [],
   "source": [
    "# funzione che calcola la cosine similarity\n",
    "def cosine(u, v):\n",
    "    return np.dot(u, v) / (np.linalg.norm(u) * np.linalg.norm(v))"
   ]
  },
  {
   "cell_type": "markdown",
   "metadata": {
    "id": "GoIReFR86ZUh"
   },
   "source": [
    "### Impostazione del chatbot"
   ]
  },
  {
   "cell_type": "code",
   "execution_count": null,
   "metadata": {
    "id": "rP9O8m9o6XDN"
   },
   "outputs": [],
   "source": [
    "# function to return a random greeting responde to a users greeting\n",
    "def greeting_response(text):\n",
    "    text = text.lower()\n",
    "    \n",
    "    # bots greeting response\n",
    "    bot_greetings = ['ciao', 'ehi']\n",
    "    # user's greeting\n",
    "    user_greetings = ['ciao']\n",
    "    \n",
    "    # se una parola dell'utente contiene una parola in user_greetings\n",
    "    for word in text.split():\n",
    "        if word in user_greetings:\n",
    "            # restituisci una parola presa a caso da bot_greetings\n",
    "            return random.choice(bot_greetings)"
   ]
  },
  {
   "cell_type": "code",
   "execution_count": null,
   "metadata": {
    "id": "Yvg0eRQD6dpp"
   },
   "outputs": [],
   "source": [
    "def bot_response(user_input, model,embeddings, q_a, corpus):\n",
    "    input_emb = model([user_input])[0]\n",
    "    answers_list = list()\n",
    "    bot_response = ''\n",
    "    # flag per vedere se esiste una risposta per la query dell'utente\n",
    "    response_flag = 0\n",
    "    found_faq = False\n",
    "    for i in range(len(embeddings)):\n",
    "      sent = corpus[i]\n",
    "      # calcoliamo la similarità tra la query e ogni\n",
    "      # frase (embedding) del corpus\n",
    "      sim = cosine(input_emb, embeddings[i])\n",
    "      if sim > 0.05:\n",
    "        answers_list.append(((sim, sent)))\n",
    "      i += 1\n",
    "    # se esistono delle risposte\n",
    "      # riordiniamo la lista delle possibili risposte a seconda\n",
    "      # dello score di similarità \n",
    "    answers_list.sort(key=lambda x : x[0], reverse=True)\n",
    "    # prima controlliamo se ci sono delle FAQ\n",
    "    for k in q_a.keys():\n",
    "      if answers_list[0][1] == k.lower():\n",
    "        bot_response = bot_response + q_a[k][0]\n",
    "        response_flag = 1\n",
    "        found_faq = True\n",
    "        return bot_response\n",
    "   \n",
    "    i = 0\n",
    "    quest = True\n",
    "    if not found_faq:\n",
    "      while quest:\n",
    "        if '?' in answers_list[i][1]:\n",
    "          i += 1\n",
    "        else:\n",
    "          bot_response = answers_list[i][1]\n",
    "          response_flag = 1\n",
    "          quest = False\n",
    "    # se non abbiamo trovato una risposta\n",
    "    if response_flag == 0:\n",
    "        bot_response = bot_response + 'Scusa, non sono in grado di risponderti.'\n",
    "    return bot_response"
   ]
  },
  {
   "cell_type": "code",
   "execution_count": null,
   "metadata": {
    "id": "a8aWyLfL9_DC"
   },
   "outputs": [],
   "source": [
    "# esempio di conversazione\n",
    "print('Co-bot:')\n",
    "print('Benvenuto! Risponderò a tutti i tuoi dubbi riguardo il coronavirus')\n",
    "print()\n",
    "\n",
    "exit_list = ['esci']\n",
    "while(True):\n",
    "    print()\n",
    "    print('User:')\n",
    "    user_input = input()\n",
    "    if user_input.lower() in exit_list:\n",
    "        print('Co-bot: Ciao, a presto!')\n",
    "        break\n",
    "    else:\n",
    "        if greeting_response(user_input) != None:\n",
    "            print('Co-bot:')\n",
    "            print(greeting_response(user_input))\n",
    "        else:\n",
    "            print('Co-bot: ... ')\n",
    "            print(bot_response(user_input, model, sentence_embeddings ,q_a, sentence_corpus))"
   ]
  },
  {
   "cell_type": "markdown",
   "metadata": {
    "id": "H-tVmeNrq9OQ"
   },
   "source": [
    "## test domande"
   ]
  },
  {
   "cell_type": "code",
   "execution_count": null,
   "metadata": {},
   "outputs": [],
   "source": [
    "lista_domande = [\"Cosa fare nel caso in cui si manifestano i sintomi?\", \n",
    "            \"Posso viaggiare se ho il coronavirus?\", \n",
    "            \"Le donne in gravidanza possono trasmettere la malattia al figlio?\", \n",
    "            \"Quanto tempo resta nel corpo il coronavirus?\", \n",
    "            \"Come funziona il contact tracing?\", \n",
    "            \"Quando finirà la pandemia?\", \n",
    "            \"Il vaccino ha effetti collaterali?\", \n",
    "            \"Cosa sappiamo della nuova variante inglese?\", \n",
    "            \"Quanti tipi di vaccino esistono?\", \n",
    "            \"Fino a quando saranno chiuse le attività commerciali?\", \n",
    "            \"Come distinguiamo un'influenza stagionale da un'influenza covid?\", \n",
    "            \"Chi si è vaccinato può trasmette la malattia?\", \n",
    "            \"Quali sono i colori che possono assumere le regioni?\", \n",
    "            \"Come fanno le persone infette a trasmettere il virus?\", \n",
    "            \"Se vengo dall'estero devo fare il tampone?\", \n",
    "            \"Cos’è l'indice Rt?\", \n",
    "            \"Posso ammalarmi due volte di covid?\", \n",
    "            \"Quanto tempo dura l'isolamento fiduciario?\", \n",
    "            \"È possibile fare sport di contatto?\", \n",
    "            \"Come faccio a capire se sono positiva ma asintomatica?\", \n",
    "            \"Sono stato a contatto con un infetto: cosa devo fare?\", \n",
    "            \"Fino a quando resteranno chiuse le piscine e le palestre?\", \n",
    "            \"Dopo il vaccino, devo comunque continuare a usare la mascherina?\", \n",
    "            \"Che cosa devo fare se voglio andare all'estero?\", \n",
    "            \"Lo smog/inquinamento influisce sulla diffusione del coronavirus/covid?\", \n",
    "            \"Qual è il periodo di copertura del vaccino?\", \n",
    "            \"Se sono all’estero, cosa devo fare per tornare in Italia?\", \n",
    "            \"Come proteggere le persone più anziane dal virus?\", \n",
    "            \"Il coronavirus è pericoloso per gli animali domestici?\", \n",
    "            \"La mascherina è obbligatoria all’aperto?\", \n",
    "            \"Fino a quando sarà adottata la didattica a distanza per le scuole superiori?\", \n",
    "            \"Qual è l'incidenza del covid nei bambini?\", \n",
    "            \"I guanti servono a proteggere dal contagio?\", \n",
    "            \"Si può viaggiare fuori comune in area gialla?\", \n",
    "            \"Quanto sono importanti il distanziamento e la chiusura delle attività nella trasmissione del covid?\", \n",
    "            \"Posso fare attività sportiva se sono positivo asintomatico?\", \n",
    "            \"Per i bambini è obbligatorio l’uso della mascherina?\", \n",
    "            \"Come agiscono i linfociti T nelle infezioni da covid?\", \n",
    "            \"Posso visitare i miei nonni?\", \n",
    "            \"È possibile andare a pesca?\", \n",
    "            \"Quali sono i sintomi del coronavirus?\", \n",
    "            \"Il virus può rimanere sulle superfici?\"]"
   ]
  },
  {
   "cell_type": "code",
   "execution_count": null,
   "metadata": {
    "colab": {
     "base_uri": "https://localhost:8080/"
    },
    "id": "V5fsqfhnmAZX",
    "outputId": "c3b5a21d-bbb4-4ea3-e698-087689dfbeea"
   },
   "outputs": [
    {
     "name": "stdout",
     "output_type": "stream",
     "text": [
      "Co-bot:\n",
      "Benvenuto! Risponderò a tutti i tuoi dubbi riguardo il coronavirus\n",
      "\n",
      "\n",
      "\n",
      "user 1\n",
      "Cosa fare nel caso in cui si manifestano i sintomi?\n",
      "Co-bot: ... \n",
      "dal 2004 il ministero della salute e il centro nazionale per la prevenzione e il controllo delle malattie (ccm), in collaborazione con le regioni, promuovono la progettazione, sperimentazione e l’implementazione di sistemi di sorveglianza di popolazione per raccogliere informazioni sullo stato di salute della popolazione e sui fattori di rischio modificabili e associati all’insorgenza di malattie croniche, al fine di guidare a livello locale le azioni di prevenzione valutarne l’efficacia nel tempo verso gli obiettivi di salute fissati nei piani nazionali e regionali della prevenzione.\n",
      "\n",
      "\n",
      "user 2\n",
      "Posso viaggiare se ho il coronavirus?\n",
      "Co-bot: ... \n",
      "la pandemia di covid-19 ha portato con sé vari problemi aggiuntivi o ha aggravato condizioni di vita già difficili per le popolazioni migranti.\n",
      "\n",
      "\n",
      "user 3\n",
      "Le donne in gravidanza possono trasmettere la malattia al figlio?\n",
      "Co-bot: ... \n",
      "la raccolta dati avviene tramite la piattaforma webhttp://covid-19.iss.it, già utilizzata dalla sorveglianza nazionale, epidemiologica e virologica, dei casi di covid-19 in italia (coordinata dall’iss e attivata dalla circolare ministeriale del 22 gennaio 2020, n.1997).\n",
      "\n",
      "\n",
      "user 4\n",
      "Quanto tempo resta nel corpo il coronavirus?\n",
      "Co-bot: ... \n",
      "report in english “characteristics of covid-19 patients dying in italy report based on available data on december 16th, 2020” (pdf 182 kb)indice rapportoil presente report descrive le caratteristiche di 63.573 pazienti deceduti e positivi a sars-cov-2 in italia riportati dalla sorveglianza integrata covid-19 coordinata dall’istituto superiore di sanità.\n",
      "\n",
      "\n",
      "user 5\n",
      "Come funziona il contact tracing?\n",
      "Co-bot: ... \n",
      "il numero medio di patologie osservate in questa   popolazione è di 3,6 (mediana 3, deviazione standard 2,1).\n",
      "\n",
      "\n",
      "user 6\n",
      "Quando finirà la pandemia?\n",
      "Co-bot: ... \n",
      "anche ora che il numero dei pazienti ricoverati è decisamente inferiore a quanto registrato nella scorsa primavera, la rilevazione di così tante persone infette (seppur asintomatiche) è il risultato del lavoro capillare che la nostra sanità pubblica sta conducendo per identificare e interrompere le catene di trasmissione.\n",
      "\n",
      "\n",
      "user 7\n",
      "Il vaccino ha effetti collaterali?\n",
      "Co-bot: ... \n",
      "proteggi gli altri data di ultimo aggiornamento: 25 aprile 2020data di pubblicazione: 23 gennaio 2020autori: giovanni rezza, antonino bella, flavia riccardo, patrizio pezzotti - dipartimento malattie infettive, iss\n",
      "\n",
      "\n",
      "user 8\n",
      "Cosa sappiamo della nuova variante inglese?\n",
      "Co-bot: ... \n",
      "è questo il contesto in cui si è diffusa l'epidemia da sars-cov-2 in italia.\n",
      "\n",
      "\n",
      "user 9\n",
      "Quanti tipi di vaccino esistono?\n",
      "Co-bot: ... \n",
      "proteggi gli altri data di ultimo aggiornamento: 25 aprile 2020data di pubblicazione: 23 gennaio 2020autori: giovanni rezza, antonino bella, flavia riccardo, patrizio pezzotti - dipartimento malattie infettive, iss\n",
      "\n",
      "\n",
      "user 10\n",
      "Fino a quando saranno chiuse le attività commerciali?\n",
      "Co-bot: ... \n",
      "l’attenzione alla salute personale e familiare può rappresentare in questo momento un’opportunità sia per affrontare in modo positivo la complessità delle emozioni e degli stati d’animo, sia per gestire al meglio gli orari organizzando delle attività durante la giornata, con l’obiettivo di mantenere il benessere personale e familiare.\n",
      "\n",
      "\n",
      "user 11\n",
      "Come distinguiamo un'influenza stagionale da un'influenza covid?\n",
      "Co-bot: ... \n",
      "consulta e scarica: nota sulle fontil’allungamento della vita media e il progressivo invecchiamento della popolazione rappresentano un successo della scienza e della medicina, ma allo stesso tempo una sfida per l’intera società poiché si accompagnano a un aumento del peso delle malattie croniche degenerative.\n",
      "\n",
      "\n",
      "user 12\n",
      "Chi si è vaccinato può trasmette la malattia?\n",
      "Co-bot: ... \n",
      "le reazioni associate allo stress si accompagnano spesso a spossatezza fisica, tremori, tachicardia, pesantezza mentale, difficoltà a concentrarsi, nervosismo, ansia e paura, fino a sfociare nel panico.\n",
      "\n",
      "\n",
      "user 13\n",
      "Quali sono i colori che possono assumere le regioni?\n",
      "Co-bot: ... \n",
      "nei casi più gravi, l'infezione può causare polmonite, sindrome respiratoria acuta grave, insufficienza renale e persino la morte.\n",
      "\n",
      "\n",
      "user 14\n",
      "Come fanno le persone infette a trasmettere il virus?\n",
      "Co-bot: ... \n",
      "salvatore geraci, maurizio marceca (società italiana di medicina della migrazioni) e silvia declich (centro nazionale per la salute globale dell’iss) hanno analizzato l’impatto sanitario della pandemia sulle popolazioni migranti attraverso i dati della sorveglianza dell’iss.\n",
      "\n",
      "\n",
      "user 15\n",
      "Se vengo dall'estero devo fare il tampone?\n",
      "Co-bot: ... \n",
      "grazie alla generosità delle donne che hanno donato il loro tempo, e all’impegno dei professionisti sanitari dei cf che hanno promosso attivamente la partecipazione allo studio tra le proprie utenti, sono già più di 1000 le donne che hanno completato il questionario.\n",
      "\n",
      "\n",
      "user 16\n",
      "Cos’è l'indice Rt?\n",
      "Co-bot: ... \n",
      "mettere in risalto le difficoltà e i problemi incontrati dagli operatori sanitari durante l’epidemia da covid-19, supportare il loro ruolo, e produrre risultati che possano indirizzare azioni e politiche di sostegno rivolte agli operatori stessi e alla riorganizzazione dei servizi.\n",
      "\n",
      "\n",
      "user 17\n",
      "Posso ammalarmi due volte di covid?\n",
      "Co-bot: ... \n",
      "coordinatori: ilaria lega, alessandra bramante  data di creazione della pagina: 7 gennaio 2021testo scritto da: ilaria lega - centro nazionale per la prevenzione delle malattie e la promozione della salute, cnapps - iss.\n",
      "\n",
      "\n",
      "user 18\n",
      "Quanto tempo dura l'isolamento fiduciario?\n",
      "Co-bot: ... \n",
      "questo può aver portato una sottostima del carico di patologie dei deceduti in tale periodo.\n",
      "\n",
      "\n",
      "user 19\n",
      "È possibile fare sport di contatto?\n",
      "Co-bot: ... \n",
      "i sintomi più comuni di un’infezione da coronavirus nell’uomo includono febbre, tosse, difficoltà respiratorie.\n",
      "\n",
      "\n",
      "user 20\n",
      "Come faccio a capire se sono positiva ma asintomatica?\n",
      "Co-bot: ... \n",
      "dal 2004 il ministero della salute e il centro nazionale per la prevenzione e il controllo delle malattie (ccm), in collaborazione con le regioni, promuovono la progettazione, sperimentazione e l’implementazione di sistemi di sorveglianza di popolazione per raccogliere informazioni sullo stato di salute della popolazione e sui fattori di rischio modificabili e associati all’insorgenza di malattie croniche, al fine di guidare a livello locale le azioni di prevenzione valutarne l’efficacia nel tempo verso gli obiettivi di salute fissati nei piani nazionali e regionali della prevenzione.\n",
      "\n",
      "\n",
      "user 21\n",
      "Sono stato a contatto con un infetto: cosa devo fare?\n",
      "Co-bot: ... \n",
      "tabella 1.\n",
      "\n",
      "\n",
      "user 22\n",
      "Fino a quando resteranno chiuse le piscine e le palestre?\n",
      "Co-bot: ... \n",
      "l’attenzione alla salute personale e familiare può rappresentare in questo momento un’opportunità sia per affrontare in modo positivo la complessità delle emozioni e degli stati d’animo, sia per gestire al meglio gli orari organizzando delle attività durante la giornata, con l’obiettivo di mantenere il benessere personale e familiare.\n",
      "\n",
      "\n",
      "user 23\n",
      "Dopo il vaccino, devo comunque continuare a usare la mascherina?\n",
      "Co-bot: ... \n",
      "mettere in risalto le difficoltà e i problemi incontrati dagli operatori sanitari durante l’epidemia da covid-19, supportare il loro ruolo, e produrre risultati che possano indirizzare azioni e politiche di sostegno rivolte agli operatori stessi e alla riorganizzazione dei servizi.\n",
      "\n",
      "\n",
      "user 24\n",
      "Che cosa devo fare se voglio andare all'estero?\n",
      "Co-bot: ... \n",
      "molte strutture hanno sviluppato strumenti diversi per gli stessi scopi e la difformità degli strumenti adottati rende difficile avere una visione d’insieme delle esperienze nelle varie aree del paese e costruire una robusta mole di dati da cui trarre inferenze significative circa i reali di rischi di trasmissione per singole esposizioni (lavorative, familiari, comunità, ecc) e anche sulle specifiche misure di prevenzione.\n",
      "\n",
      "\n",
      "user 25\n",
      "Lo smog/inquinamento influisce sulla diffusione del coronavirus/covid?\n",
      "Co-bot: ... \n",
      "consulta e scarica: nota sulle fontil’allungamento della vita media e il progressivo invecchiamento della popolazione rappresentano un successo della scienza e della medicina, ma allo stesso tempo una sfida per l’intera società poiché si accompagnano a un aumento del peso delle malattie croniche degenerative.\n",
      "\n",
      "\n",
      "user 26\n",
      "Qual è il periodo di copertura del vaccino?\n",
      "Co-bot: ... \n",
      "data di ultimo aggiornamento: 4 giugno 2020data di creazione di pagina: 28 marzo 2020\n",
      "\n",
      "\n",
      "user 27\n",
      "Se sono all’estero, cosa devo fare per tornare in Italia?\n",
      "Co-bot: ... \n",
      "molte strutture hanno sviluppato strumenti diversi per gli stessi scopi e la difformità degli strumenti adottati rende difficile avere una visione d’insieme delle esperienze nelle varie aree del paese e costruire una robusta mole di dati da cui trarre inferenze significative circa i reali di rischi di trasmissione per singole esposizioni (lavorative, familiari, comunità, ecc) e anche sulle specifiche misure di prevenzione.\n",
      "\n",
      "\n",
      "user 28\n",
      "Come proteggere le persone più anziane dal virus?\n",
      "Co-bot: ... \n",
      "sembra anche che la pandemia non abbia colpito nella stessa misura le diverse comunità di stranieri, probabilmente in relazione al tipo di occupazione.\n",
      "\n",
      "\n",
      "user 29\n",
      "Il coronavirus è pericoloso per gli animali domestici?\n",
      "Co-bot: ... \n",
      "la pandemia di covid-19 ha portato con sé vari problemi aggiuntivi o ha aggravato condizioni di vita già difficili per le popolazioni migranti.\n",
      "\n",
      "\n",
      "user 30\n",
      "La mascherina è obbligatoria all’aperto?\n",
      "Co-bot: ... \n",
      "si tratta di materiali pratici, pensati per essere di supporto agli operatori e, tramite loro, alle persone e alle famiglie.\n",
      "\n",
      "\n",
      "user 31\n",
      "Fino a quando sarà adottata la didattica a distanza per le scuole superiori?\n",
      "Co-bot: ... \n",
      "tuttavia molti studi sono in corso per ampliare le conoscenze sulle modalità di trasmissione di sars-cov-2.\n",
      "\n",
      "\n",
      "user 32\n",
      "Qual è l'incidenza del covid nei bambini?\n",
      "Co-bot: ... \n",
      "il 30 gennaio 2020, dopo la seconda riunione del comitato di sicurezza, il direttore generale dell’organizzazione mondiale della sanità (oms) ha dichiarato il focolaio internazionale di covid-19 un’emergenza di sanità pubblica di rilevanza internazionale (public health emergency of international concern – pheic), come sancito nel regolamento sanitario internazionale (international health regulations, ihr, 2005).\n",
      "\n",
      "\n",
      "user 33\n",
      "I guanti servono a proteggere dal contagio?\n",
      "Co-bot: ... \n",
      "in particolare:data la poca specificità dei sintomi comuni dell’infezione da coronavirus è possibile effettuare test di laboratorio su campioni respiratori e/o siero soprattutto in caso di malattia grave.\n",
      "\n",
      "\n",
      "user 34\n",
      "Si può viaggiare fuori comune in area gialla?\n",
      "Co-bot: ... \n",
      "i sintomi più comuni di un’infezione da coronavirus nell’uomo includono febbre, tosse, difficoltà respiratorie.\n",
      "\n",
      "\n",
      "user 35\n",
      "Quanto sono importanti il distanziamento e la chiusura delle attività nella trasmissione del covid?\n",
      "Co-bot: ... \n",
      "il numero medio di patologie osservate in questa   popolazione è di 3,6 (mediana 3, deviazione standard 2,1).\n",
      "\n",
      "\n",
      "user 36\n",
      "Posso fare attività sportiva se sono positivo asintomatico?\n",
      "Co-bot: ... \n",
      "già a marzo-aprile 2020, nei primi mesi di pandemia la curva epidemica di covid-19 tra gli stranieri, presenta un ritardo di 8-10 giorni rispetto a quella sulla popolazione italiana e i dati connotano un maggiore rischio di ospedalizzazione (e quindi di livello di gravità clinica).\n",
      "\n",
      "\n",
      "user 37\n",
      "Per i bambini è obbligatorio l’uso della mascherina?\n",
      "Co-bot: ... \n",
      "si tratta di materiali pratici, pensati per essere di supporto agli operatori e, tramite loro, alle persone e alle famiglie.\n",
      "\n",
      "\n",
      "user 38\n",
      "Come agiscono i linfociti T nelle infezioni da covid?\n",
      "Co-bot: ... \n",
      "data di creazione della pagina: 5 novembre 2020 testo scritto da: silvia declich, giulia marchetti, maria elena tosti e maria grazia dente - centro nazionale per la salute globale, iss\n",
      "\n",
      "\n",
      "user 39\n",
      "Posso visitare i miei nonni?\n",
      "Co-bot: ... \n",
      "questo può aver portato una sottostima del carico di patologie dei deceduti in tale periodo.\n",
      "\n",
      "\n",
      "user 40\n",
      "È possibile andare a pesca?\n",
      "Co-bot: ... \n",
      "i sintomi più comuni di un’infezione da coronavirus nell’uomo includono febbre, tosse, difficoltà respiratorie.\n",
      "\n",
      "\n",
      "user 41\n",
      "Quali sono i sintomi del coronavirus?\n",
      "Co-bot: ... \n",
      "su una popolazione residente in italia di quasi 51 milioni di persone con più di 18 anni di età, si può stimare che oltre 14 milioni di persone convivano con una patologia cronica, e di questi 8,4 milioni siano ultra 65enni.\n",
      "\n",
      "\n",
      "user 42\n",
      "Il virus può rimanere sulle superfici?\n",
      "Co-bot: ... \n",
      "salvatore geraci, maurizio marceca (società italiana di medicina della migrazioni) e silvia declich (centro nazionale per la salute globale dell’iss) hanno analizzato l’impatto sanitario della pandemia sulle popolazioni migranti attraverso i dati della sorveglianza dell’iss.\n"
     ]
    }
   ],
   "source": [
    "print('Co-bot:')\n",
    "print('Benvenuto! Risponderò a tutti i tuoi dubbi riguardo il coronavirus')\n",
    "print()\n",
    "\n",
    "exit_list = ['esci']\n",
    "i=1\n",
    "for sentence in lista_domande:\n",
    "    print('\\n')\n",
    "    print('user'+\" \"+str(i))\n",
    "    i+=1\n",
    "    print (sentence)\n",
    "    user_input = sentence\n",
    "    if user_input.lower() in exit_list:\n",
    "        print('Co-bot: Ciao, a presto!')\n",
    "        break\n",
    "    else:\n",
    "        if greeting_response(user_input) != None:\n",
    "            print('Co-bot:')\n",
    "            print(greeting_response(user_input))\n",
    "        else:\n",
    "            print('Co-bot: ... ')\n",
    "            print(bot_response(user_input, model, sentence_embeddings,q_a, sentence_corpus))"
   ]
  }
 ],
 "metadata": {
  "colab": {
   "collapsed_sections": [
    "KRF-17AJv6ng"
   ],
   "name": "USEM.ipynb",
   "provenance": []
  },
  "kernelspec": {
   "display_name": "Python 3",
   "language": "python",
   "name": "python3"
  },
  "language_info": {
   "codemirror_mode": {
    "name": "ipython",
    "version": 3
   },
   "file_extension": ".py",
   "mimetype": "text/x-python",
   "name": "python",
   "nbconvert_exporter": "python",
   "pygments_lexer": "ipython3",
   "version": "3.8.3"
  }
 },
 "nbformat": 4,
 "nbformat_minor": 1
}
