{
 "cells": [
  {
   "cell_type": "markdown",
   "metadata": {},
   "source": [
    "****Questo notebook è stato pensato per essere eseguito su Colab.****"
   ]
  },
  {
   "cell_type": "code",
   "execution_count": null,
   "metadata": {
    "id": "I2OVPrY7q8Gs"
   },
   "outputs": [],
   "source": [
    "import json\n",
    "import nltk\n",
    "import numpy as np\n",
    "import random\n",
    "\n",
    "from google.colab import files\n",
    "from nltk import word_tokenize\n",
    "\n",
    "nltk.download('punkt')\n",
    "nltk.download('stopwords')"
   ]
  },
  {
   "cell_type": "code",
   "execution_count": null,
   "metadata": {
    "id": "NjFxfu8m5VNs"
   },
   "outputs": [],
   "source": [
    "!pip install sentence-transformers\n",
    "# !pip install -U sentence-transformers"
   ]
  },
  {
   "cell_type": "code",
   "execution_count": null,
   "metadata": {},
   "outputs": [],
   "source": [
    "from sentence_transformers import SentenceTransformer"
   ]
  },
  {
   "cell_type": "markdown",
   "metadata": {
    "id": "tY07YOmZrGV8"
   },
   "source": [
    "### Upload dei dati"
   ]
  },
  {
   "cell_type": "code",
   "execution_count": 18,
   "metadata": {
    "colab": {
     "base_uri": "https://localhost:8080/",
     "height": 184,
     "resources": {
      "http://localhost:8080/nbextensions/google.colab/files.js": {
       "data": "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",
       "headers": [
        [
         "content-type",
         "application/javascript"
        ]
       ],
       "ok": true,
       "status": 200,
       "status_text": ""
      }
     }
    },
    "executionInfo": {
     "elapsed": 33098,
     "status": "ok",
     "timestamp": 1611855667025,
     "user": {
      "displayName": "lorenzo di gianvittorio",
      "photoUrl": "",
      "userId": "05218746870272170826"
     },
     "user_tz": -60
    },
    "id": "RXgDfskDrIpS",
    "outputId": "421bd0b2-d4be-4b3f-90ce-8381edfb1861"
   },
   "outputs": [
    {
     "data": {
      "text/html": [
       "\n",
       "     <input type=\"file\" id=\"files-d435710f-05bb-48b8-8c84-2e490036b799\" name=\"files[]\" multiple disabled\n",
       "        style=\"border:none\" />\n",
       "     <output id=\"result-d435710f-05bb-48b8-8c84-2e490036b799\">\n",
       "      Upload widget is only available when the cell has been executed in the\n",
       "      current browser session. Please rerun this cell to enable.\n",
       "      </output>\n",
       "      <script src=\"/nbextensions/google.colab/files.js\"></script> "
      ],
      "text/plain": [
       "<IPython.core.display.HTML object>"
      ]
     },
     "metadata": {
      "tags": []
     },
     "output_type": "display_data"
    },
    {
     "name": "stdout",
     "output_type": "stream",
     "text": [
      "Saving file_Stefano.txt to file_Stefano (1).txt\n"
     ]
    },
    {
     "data": {
      "text/html": [
       "\n",
       "     <input type=\"file\" id=\"files-f92be4d5-34a4-4377-b305-dff98fe615af\" name=\"files[]\" multiple disabled\n",
       "        style=\"border:none\" />\n",
       "     <output id=\"result-f92be4d5-34a4-4377-b305-dff98fe615af\">\n",
       "      Upload widget is only available when the cell has been executed in the\n",
       "      current browser session. Please rerun this cell to enable.\n",
       "      </output>\n",
       "      <script src=\"/nbextensions/google.colab/files.js\"></script> "
      ],
      "text/plain": [
       "<IPython.core.display.HTML object>"
      ]
     },
     "metadata": {
      "tags": []
     },
     "output_type": "display_data"
    },
    {
     "name": "stdout",
     "output_type": "stream",
     "text": [
      "Saving file_Lorenzo.txt to file_Lorenzo (1).txt\n"
     ]
    },
    {
     "data": {
      "text/html": [
       "\n",
       "     <input type=\"file\" id=\"files-71bfb4c9-a042-49fb-aa07-e82c1be9417a\" name=\"files[]\" multiple disabled\n",
       "        style=\"border:none\" />\n",
       "     <output id=\"result-71bfb4c9-a042-49fb-aa07-e82c1be9417a\">\n",
       "      Upload widget is only available when the cell has been executed in the\n",
       "      current browser session. Please rerun this cell to enable.\n",
       "      </output>\n",
       "      <script src=\"/nbextensions/google.colab/files.js\"></script> "
      ],
      "text/plain": [
       "<IPython.core.display.HTML object>"
      ]
     },
     "metadata": {
      "tags": []
     },
     "output_type": "display_data"
    },
    {
     "name": "stdout",
     "output_type": "stream",
     "text": [
      "Saving q&a.json to q&a (1).json\n"
     ]
    }
   ],
   "source": [
    "corpus = list()\n",
    "\n",
    "files.upload() \n",
    "files.upload()\n",
    "files.upload()\n",
    "\n",
    "carica_file = list()\n",
    "carica_lore = list()\n",
    "carica_ludo = list()\n",
    "\n",
    "# articoli iss\n",
    "with open(\"file_Stefano.txt\", 'r', encoding='utf-8') as f:\n",
    "  for line in f:\n",
    "    carica_file.append(line)\n",
    "\n",
    "# articoli / news ministero della salue\n",
    "with open(\"file_Lorenzo.txt\", 'r', encoding='utf-8') as lo:\n",
    "  articoliSeparati = json.loads(lo.read())\n",
    "  for articolo in articoliSeparati:\n",
    "    for frase in articolo:\n",
    "        carica_lore.append(frase)\n",
    "\n",
    "# FAQ\n",
    "with open('q&a.json', 'r') as ludo:\n",
    "    q_a = json.load(ludo)\n",
    "    for k in q_a.keys():\n",
    "      carica_ludo.append(k)\n",
    "  \n",
    "corpus = carica_file + carica_lore + carica_ludo"
   ]
  },
  {
   "cell_type": "markdown",
   "metadata": {
    "id": "KRF-17AJv6ng"
   },
   "source": [
    "### Preprocessing\n",
    "**corpus** è la lista dei documenti/articoli che sono stati raccolti.\n",
    "\n",
    "**doc_corpus** è una lista contenente liste. Ogni lista contiene le frasi di un documento/articolo\n",
    "\n",
    "**sentence_corpus** è la lista contenente tutte le frasi del corpus."
   ]
  },
  {
   "cell_type": "code",
   "execution_count": 19,
   "metadata": {
    "executionInfo": {
     "elapsed": 603,
     "status": "ok",
     "timestamp": 1611855671321,
     "user": {
      "displayName": "lorenzo di gianvittorio",
      "photoUrl": "",
      "userId": "05218746870272170826"
     },
     "user_tz": -60
    },
    "id": "kge9b2o6v6W4"
   },
   "outputs": [],
   "source": [
    "# SENTENCE SPLITTING\n",
    "doc_corpus = list()\n",
    "sentence_corpus = list()\n",
    "\n",
    "for line in corpus:\n",
    "  sentence_doc_list = nltk.sent_tokenize(line)\n",
    "  doc_corpus.append(sentence_doc_list)\n",
    "\n",
    "for doc in doc_corpus:\n",
    "  for sentence in doc:\n",
    "    sentence_corpus.append(sentence.lower())"
   ]
  },
  {
   "cell_type": "code",
   "execution_count": null,
   "metadata": {
    "colab": {
     "base_uri": "https://localhost:8080/"
    },
    "collapsed": true,
    "executionInfo": {
     "elapsed": 1012,
     "status": "ok",
     "timestamp": 1611845697831,
     "user": {
      "displayName": "lorenzo di gianvittorio",
      "photoUrl": "",
      "userId": "05218746870272170826"
     },
     "user_tz": -60
    },
    "id": "jp2NG933xYwy",
    "outputId": "0cf560f7-72c0-4749-90e9-39aa1a64b359"
   },
   "outputs": [
    {
     "name": "stdout",
     "output_type": "stream",
     "text": [
      "La pandemia da COVID-19 ha reso necessaria una riorganizzazione dei percorsi assistenziali legati alla nascita. Per questo motivo, l’ISS mette a disposizione del personale sanitario una selezione di risorse, letteratura ed evidence disponibili su gravidanza, parto e allattamento. In evidenza:  la pagina dedicata alla vaccinazione contro il COVID-19 in gravidanza e allattamentola pagina dedicata allo studio “COVID-19 e salute mentale perinatale: impatto del COVID-19 sul vissuto e lo stato emotivo in epoca perinatale delle donne in contatto con i Consultori Familiari (CF)”, di cui l’Istituto Superiore di Sanità è coordinatore, aggiornata al 7 gennaio 2021Leggi gli altri approfondimenti:Per aiutare il personale sanitario nel lavoro quotidiano di assistenza alle donne durante la gravidanza, il parto e l’allattamento, le ricercatrici dell’ISS hanno messo a punto alcuni materiali di comunicazione specifici. Visita lapagina dedicata.Data di ultimo aggiornamento: 9 gennaio 2021 Data di creazione della pagina: 27 febbraio 2020 \n",
      "\n",
      "Non esiste alcuna evidenza che gli animali domestici giochino un ruolo nella diffusione di SARS-CoV-2 che riconosce, invece, nel contagio interumano la via principale di trasmissione. Tuttavia, poiché la sorveglianza veterinaria e gli studi sperimentali suggeriscono che gli animali domestici siano, occasionalmente, suscettibili a SARS-CoV-2, è importante proteggere gli animali di pazienti affetti da COVID-19, limitando la loro esposizione. Il virus SARS-CoV-2, lasciato il suo probabile serbatoio animale selvatico, si è diffuso rapidamente in tutti i continenti, trovando nella specie umana una popolazione recettiva e in grado di permettergli una efficiente trasmissione intraspecifica. L'elevata circolazione del virus tra gli esseri umani sembra però non risparmiare, in alcune occasioni, gli animali che condividono con l'uomo ambiente domestico, quotidianità e affetto. Al 2 aprile 2020, a fronte di 800 mila casi confermati nel mondo di COVID-19 nell’uomo, sono solamente 4 i casi documentati di positività da SARS-CoV-2 negli animali da compagnia: due cani e un gatto ad Hong Kong e un gatto in Belgio. In tutti i casi, all'origine dell'infezione negli animali vi sarebbe la malattia dei loro proprietari, tutti affetti da COVID-19. Il dato, per quanto limitato a poche osservazioni, merita attenzione. A questi casi di infezione avvenuta naturalmente, si stanno infatti aggiungendo i risultati degli studi sperimentali effettuati in laboratorio su alcune specie domestiche. Questi confermerebbero la suscettibilità del gatto, del furetto e, in misura minore, del cane all’infezione da SARS-CoV-2. Le evidenze disponibili suggeriscono che l’esposizione degli animali a SARS-CoV-2 possa dare luogo a infezioni asintomatiche/paucisintomatiche, ovvero manifestarsi con malattia vera e propria. Nei due cani e nel gatto osservati ad Hong Kong, l'infezione si è evoluta in forma asintomatica. Il gatto descritto in Belgio ha, invece, sviluppato una sintomatologia respiratoria e gastroenterica a distanza di una settimana dal rientro della proprietaria dall'Italia. L'animale ha mostrato anoressia, vomito, diarrea, difficoltà respiratorie e tosse ma è andato incontro a un miglioramento spontaneo a partire dal nono giorno dall'esordio della malattia. Il rapporto realizzato dal Comitato scientifico istituito presso l'Agenzia federale Belga per la Sicurezza alimentare segnala che nel vomito e nelle feci dell'animale era presente un'elevata carica virale. Questo rilievo unitamente ai sintomi clinici, fa ipotizzare che l'animale, dopo essere stato esposto al contagio da parte della sua proprietaria, sia andato incontro a una infezione virale produttiva, ovvero accompagnata da una attiva replicazione del virus. È opportuno sottolineare che, in tutti e 4 i casi descritti, gli accertamenti diagnostici sono stati condotti mediante tecniche molecolari e, al momento, non sono disponibili dati di isolamento virale, utili a definire con maggiore certezza lo stato di infezione. Tuttavia, in uno dei due cani di Hong Kong la positività degli accertamenti sierologici supporta l'ipotesi che il cane fosse infetto da SARS-CoV-2. Essendo SARS-CoV-2 un virus nuovo, occorre intensificare gli sforzi per raccogliere ulteriori segnali dell’eventuale comparsa di malattia nei nostri animali da compagnia, evitando tuttavia di generare allarmi ingiustificati. Vivendo in ambienti a forte circolazione virale a causa della malattia dei loro proprietari, non è inatteso che anche gli animali possano, occasionalmente, contrarre l'infezione. Ma, nei casi osservati, gli animali sono stati incolpevoli “vittime”. Non esiste infatti alcuna evidenza che cani o gatti giochino un ruolo nella diffusione epidemica di SARS-CoV-2 che riconosce, invece, nel contagio interumano la via di trasmissione. Tuttavia, la possibilità che gli animali domestici possano contrarre l'infezione pone domande in merito alla gestione sanitaria degli animali di proprietà di pazienti affetti da COVID-19. La raccomandazione generale è quella di adottare comportamenti utili a ridurre quanto più possibile l'esposizione degli animali al contagio, evitando, ad esempio, i contatti ravvicinati con il paziente, così come si richiede agli altri membri del nucleo familiare. Gli organismi internazionali che si sono occupati dell'argomento raccomandano di evitare effusioni e di mantenere le misure igieniche di base che andrebbero sempre tenute come il lavaggio delle mani prima e dopo essere stati a contatto con gli animali, con la lettiera o la scodella del cibo. A margine di tutto ciò occorre sottolineare che gli animali domestici contribuiscono alla nostra gioia e al nostro benessere, soprattutto in periodi di stress come quelli che stiamo vivendo. In assenza di sintomi riferibili a COVID-19 e se non si è in isolamento domiciliare, passare del tempo con il proprio animale domestico e accompagnare il proprio cane nell'uscita quotidiana (nel rispetto della normativa) contribuisce a mantenere in salute noi stessi e i nostri amici animali. Bisogna considerare che le conoscenze sul virus SARS-CoV-2 sono in rapida evoluzione e dunque quanto detto è da considerarsi ad interim. Tuttavia, l'Istituto Superiore di Sanità (ISS) ritiene utile promuovere lo scambio di conoscenze, man mano che queste sono rese disponibili, per il benessere e salute degli animali da compagnia e dei loro proprietari e dunque fornirà gli aggiornamenti necessari per rimanere in linea con l’evolversi della letteratura scientifica e delle posizioni ufficiali delle principali autorità nazionali e internazionali e per fornire informazioni dettagliate e indicazioni di comportamento Il Rapporto ISS COVID-19 n. 16/2020 - “Animali da compagnia e SARS-cov-2: cosa occorre sapere, come occorre comportarsi. Versione del 19 aprile 2020” (pdf 2,1 Mb) Il poster “Animali da compagnia: consigli per un accudimento sicuro” (pdf 274 kb) Data di ultimo aggiornamento: 22 aprile 2020Data di creazione della pagina: 4 marzo 2020Autore: Umberto Agrimi – direttore del Dipartimento Sicurezza alimentare, nutrizione e sanità pubblica veterinaria, ISS \n",
      "\n",
      "Le ipotesi che suggeriscono correlazioni tra le aree a maggior inquinamento atmosferico e la diffusione del virus responsabile della COVID-19 hanno sollecitato la richiesta di pareri all’Istituto Superiore di Sanità (ISS) e stimolato molti gruppi di studiosi a collaborare per esaminare il problema e le possibili associazioni. Tuttavia, l’incertezza che ancora riguarda molti aspetti di questa epidemia richiede quindi una certa cautela e un approfondimento delle eventuali relazioni causa-effetto. L’esposizione all’inquinamento atmosferico indoor e outdoor - e in particolare al materiale particellare PM (PM10, PM2,5), agli ossidi di azoto (NO e NO2), nonché all’ozono (O3) - può determinare un insieme di effetti sanitari avversi già ampiamente descritti nella letteratura scientifica accreditata. Nel 2016, l’Organizzazione Mondiale della Sanità (OMS) ha stimato che globalmente sono circa 7 milioni le morti premature all’anno correlate a questo fattore di rischio, con il 91% di questi decessi a carico dei Paesi a basso-medio reddito e relative alle popolazioni delle aree del sud asiatico, sub-sahariane e dell’America latina. In particolare, per la popolazione europea sono state stimate circa 550.000 morti premature. Inoltre, l’OMS ha dedicato particolare attenzione agli effetti sanitari dovuti ai livelli di inquinamento degli ambienti indoor, determinati principalmente dall’uso di combustibili di bassa qualità per il riscaldamento degli ambienti e dalla preparazione dei cibi, ma anche dall’uso di sostanze chimiche per l’igiene personale e per la pulizia degli ambienti, aromi per la profumazione indoor, pitture, vernici, ecc. Questa componente riveste un ruolo rilevante se si considera che la popolazione trascorre la maggior parte del tempo in ambienti chiusi (abitazione, scuola, lavoro, solo per citarne alcuni). A livello globale, i principali effetti sanitari correlati all’inquinamento dell’aria indoor e outdoor sono relativi all’aumento delle malattie non trasmissibili (Non Communicable Diseases, NCD), che includono principalmente le malattie croniche del sistema cardiocircolatorio quali le malattie ischemiche del cuore (infarto miocardico, ictus cerebrale), quelle dell’apparato respiratorio, come l’asma, la bronco pneumopatia cronica ostruttiva (BPCO), che porta a una maggiore predisposizione alle infezioni respiratorie, e il cancro del polmone per esposizioni sul lungo periodo. Più recentemente all’esposizione cronica all’inquinamento atmosferico e al PM2,5 si associano patologie quali il diabete, un ritardo nello sviluppo neurologico dei bambini così come effetti neurologici degenerativi nella popolazione adulta/anziana. Gli effetti a breve termine sono supportati da molti studi dedicati a singole città e/o a aree urbane aggregate e riguardano una ridotta capacità polmonare, aggravamento e complicanze dell’asma e, per esposizione durante la gestazione, un basso peso alla nascita del bambino. L’ampia letteratura scientifica si è anche dedicata a indagare quale sia la popolazione più suscettibile agli effetti dell’esposizione all’inquinamento atmosferico indoor e outdoor. Le caratteristiche di suscettibilità includono principalmente una predisposizione genetica, fattori socioeconomici, età, durata e intensità dell’esposizione, la presenza di malattie preesistenti, come asma, BPCO e fibrosi cistica. Molti studi evidenziano che i bambini, e più in generale la popolazione di età inferiore ai 14 anni, è la più suscettibile agli effetti sanitari acuti delle infezioni alle basse vie respiratorie. Un altro aspetto da sottolineare è la natura del materiale particellare. Il PM (sia quello emesso direttamente nell’aria, che quello prodotto durante i processi di conversione gas-particelle) è una miscela complessa di inquinanti organici e inorganici, costituito dal materiale carbonioso derivante dai diversi processi di combustione che lo generano (per esempio, nelle aree a intensa urbanizzazione il PM deriva essenzialmente dai processi di combustione di sorgenti mobili e fisse come i veicoli a motore, gli impianti per la produzione di energia), ma anche da un insieme di altre sostanze particolarmente tossiche per l’uomo (microinquinanti inorganici e organici come: metalli, idrocarburi policiclici aromatici, diossine). La composizione qualitativa e quantitativa del PM varia quindi molto in funzione della tipologia di sorgenti di emissione che lo producono. Gli effetti sanitari che ne derivano dipendono non solo dai livelli di concentrazione a cui le popolazioni sono esposte ma anche da molti altri fattori, che includono le sorgenti, le trasformazioni fisiche e chimiche di precursori, il clima, e la specifica situazione locale (orografica e topografica) delle aree urbane e non urbane che ne influenzano la “qualità” e la composizione. Vivere in aree urbane dove l’inquinamento atmosferico è elevato incide sullo stato di salute generale della popolazione, come dimostrano gli studi di numerosi gruppi di ricercatori scientifici nazionali e internazionali. La popolazione di queste aree presenta alcuni profili di salute particolari, come registra anche il sistema di sorveglianza PASSI dell’ISS. Dai dati PASSI, emerge che nella popolazione adulta che vive nelle città metropolitane è maggiore la prevalenza di persone con sintomi depressivi, con diagnosi di malattia cronica respiratoria (bronchite cronica, enfisema, insufficienza respiratoria o asma bronchiale), diabete e tumore. Questi eccessi risultano statisticamente significativi anche tenendo conto delle differenze nella struttura per età, genere e caratteristiche sociali di chi vive nelle metropoli, rispetto a chi vive in altre aree urbane o rurali del Paese. Gli stili di vita hanno sicuramente un peso nel determinare questo quadro e fra i residenti nelle città metropolitane si osserva una maggiore quota di sedentari e fumatori. L’Agenzia Ambientale Europea (EEA) ogni anno produce un report sul Burden of Disease dell’inquinamento atmosferico in Europa in base ai livelli di concentrazione dei singoli inquinanti misurati (PM2,5, NO2 e O3) dalla rete di monitoraggio dell’aria presente in ciascun Paese (concentrazioni variabili anche in funzione delle condizioni meteorologiche peculiari registrate ogni anno, oltre al numero e alla qualità di funzionalità delle centraline). Nel report 2019 (dati riferiti al 2017) l’EEA stima per l’Italia, per esposizione a PM2,5, circa 60.000 morti premature. Va ricordato che le misure delle postazioni di monitoraggio dell’aria sono finalizzate alla corretta gestione dei territori per l’individuazione di possibili soluzioni di riduzione dell’inquinamento e rappresentano solo una misura indicativa dell’esposizione, considerando inoltre che ormai la popolazione trascorre la maggior parte del tempo in ambienti indoor. In merito alla possibilità di un’associazione diretta della diffusione dell’infezione da SARS-CoV-2 con le aree a elevato livello di inquinamento atmosferico è necessario porre una particolare cautela, trattandosi di un’infezione virale, sottoposta a meccanismi di trasmissione attraverso il contagio diversi da quelli che caratterizzano la diffusione dell’inquinamento atmosferico. In Italia, l’ipotesi di un’associazione è stata avanzata in virtù del fatto che aree come Lombardia, Veneto ed Emilia-Romagna, dove il virus ha presentato la maggiore diffusione, si registrano generalmente le maggiori concentrazioni degli inquinanti atmosferici misurati e controllati secondo quanto indicato e prescritto dalla legislazione di settore (DLgs 155/2010). Tuttavia, la diffusione del virus si è presentata attraverso focolai circoscritti all’interno di zone della macroarea di appartenenza (pianura padana) sottoposta a valori di inquinamento atmosferico elevati e piuttosto omogenei; altre aree a forte inquinamento atmosferico, anche se prossime, sono rimaste inizialmente escluse e interessate, solo successivamente, con minor forza dalla contaminazione del virus. Si osserva, inoltre, che a seguito delle disposizioni governative, la ridotta mobilità delle persone e la chiusura di molte attività produttive, ha portato a una progressiva e significativa riduzione dei livelli di inquinamento dell’aria (PM10, PM2,5, NO2, benzene). Va considerato che le aree dove il virus ha evidenziato l’impatto più elevato, sono le aree italiane sia ad elevata densità di popolazione sia a più alta produttività del Paese. In questi territori sono presenti il maggior numero di aziende con vocazione e crescita internazionale che hanno continui e frequenti rapporti con Paesi stranieri (in particolare Stati Uniti, Cina e Federazione Russa), con conseguente alta mobilità dei lavoratori. Infatti, molti approfondimenti epidemiologici in corso per studiare e comprendere come il virus sia entrato e si sia diffuso nell’area evidenziano l’importanza della componente legata ai rapporti di lavoro internazionali e il conseguente contagio diretto tra persone, oltre all’iniziale diffusione del contagio in strutture sanitarie (ospedaliere e residenze sanitarie assistite, RSA), che ha agito quale forte moltiplicatore dell’infezione. Le misure di minimizzazione degli spostamenti e di distanziamento sociale che sono state adottate stanno mostrando tutta la loro efficacia, evidenziando ancora una volta il meccanismo preferenziale di contagio della malattia COVID-19. Lo studio di eventuali relazioni di causalità tra la diffusione del virus e l’inquinamento atmosferico, in particolare di PM (PM10 e PM2,5), necessita quindi di essere attentamente analizzato, approfondendo la conoscenza di eventuali fattori confondenti che possono suggerire spurie associazioni causa-effetto. In sintesi, la complessità del fenomeno, insieme alla parziale conoscenza di alcuni fattori che possono giocare o aver giocato un ruolo nella trasmissione e diffusione dell’infezione da SARS-CoV-2, rende al momento molto incerta una valutazione di associazione diretta tra elevati livelli di inquinamento atmosferico e la diffusione dell’epidemia da COVID-19, o del suo ruolo di amplificazione dell’infezione. Appare dunque necessario pianificare e realizzare studi caratterizzati da adeguati disegni e protocolli di indagine, e corredati da modelli di analisi che consentano di comprendere il ruolo giocato dalle molteplici variabili coinvolte nel fenomeno, effettuando anche un’analisi comparativa su scala più ampia quale quella europea e internazionale. Un elemento di sicuro approfondimento potrà essere rappresentato dal ruolo dell’ambiente indoor/outdoor nel suo complesso nel determinare lo stato di salute generale della popolazione, in particolare quella residente nelle aree urbane, e come questo possa aver influito sulla gravità degli esiti dell’infezione da SARS-CoV-2. Per esempio, l’analisi dei decessi su un ampio campione di casi effettuato dall’ISS ha mostrato come la mortalità per COVID-19 sia stata elevata in soggetti che già presentavano una o più patologie (malattie respiratorie, cardiocircolatorie, obesità, diabete, malattie renali, ecc), sulle quali la qualità ambientale indoor e outdoor e gli stili di vita, in ambiente urbano, possono aver giocato un ruolo. Uno studio che l’Università di Harvard ha presentato come pre-print, fornisce alcuni spunti di riflessione ma si basa su indicazioni parziali e presenta ampie incertezze ancora da risolvere (come gli autori stessi descrivono nei supplementary materials). Tra queste, sicuramente la modalità di conteggio dei decessi per COVID-19 ancora non completamente chiarite e standardizzate nonché la stima delle concentrazioni di PM2,5 sul territorio degli USA che si basa sull’applicazione di modellistica che deve tener conto delle misure effettuate nelle postazioni fisse, le quali non hanno una distribuzione omogenea sul territorio. Questo fattore introduce un’incertezza sulla rappresentatività spaziale delle stime del modello e gli stessi autori evidenziano una ampia variabilità dell’accuratezza del modello per aree geografiche diverse. Il lavoro dei ricercatori di Harvard mostra dunque alcune carenze metodologiche importanti, tra le quali non ultima la mancanza di controllo per autocorrelazione spaziale sia della esposizione a PM atmosferico sia del contagio. La diversa distribuzione spaziale delle postazioni di misura dell’inquinamento atmosferico che deve tener conto dell’alta disomogeneità dei territori (aree metropolitane, rurali, industriali, montane, costiere), come avviene anche in Italia, rappresenta un elemento di incertezza nella stima dell’esposizione inalatoria al PM2,5 indoor e outdoor della popolazione. La complessità del fenomeno necessita quindi di ulteriori approfondimenti per completare e risolvere le incertezze ed eventuali relazioni spurie, la covarianza tra variabili, il ruolo dei confondenti e dei modificatori di effetto, ecc. In merito all’argomento la comunità scientifica ha espresso la sua opinione pubblicando, principalmente in rete, una serie di contributi alcuni dei quali di seguito indicati e dai quali sono tratti elementi riportati e discussi in questo documento:   Data creazione della pagina: 4 maggio 2020Autori: Gaetano Settimo¹, Maria Eleonora Soggiu¹, Maria Masocco², Angela Spinelli²¹Dipartimento Ambiente e Salute, ISS²Centro Nazionale Prevenzione delle Malattie e Promozione della Salute, ISS \n",
      "\n",
      "L'infografica web con i dati della sorveglianza integrata COVID-19 e il report esteso vengono aggiornati periodicamente su EpiCentro. Dati della Sorveglianza integrata COVID-19 in Italia  Per approfondire i dati contenuti nella dashboard e nei bollettini settimanali della sorveglianza scarica:   Attenzione: Si sottolinea che i dati raccolti sono in continua fase di consolidamento e, come prevedibile in una situazione emergenziale, alcune informazioni possono risultare incomplete o posso essere oggetto di modifica da un giorno all’altro. Inoltre, soprattutto nelle Regioni/PA in cui si è verificata o si sta ancora verificando una trasmissione locale sostenuta del virus c’è la possibilità di un ritardo di alcuni giorni tra il momento della esecuzione del tampone per la diagnosi e la segnalazione sulla piattaforma dedicata. I dati pubblicati dall’ISS provengono dal Sistema di sorveglianza integrata COVID-19 in Italia e sono elaborati dall’ISS integrando i dati microbiologici ed epidemiologici forniti dalle Regioni e Provincie Autonome (PA) e dal Laboratorio nazionale di riferimento per SARS-CoV-2 dell’ISS. Tutte le Regioni/Province Autonome inviano quotidianamente all'ISS i dati relativi a tutti gli individui con infezione da SARS-CoV-2 confermata in laboratorio. L'ISS ha creato una piattaforma informatica dedicata, che consente la raccolta dei dati sia attraverso un’interfaccia web collegata alla piattaforma stessa che attraverso l’invio di un dataset. Tutti i casi di COVID-19 diagnosticati dai laboratori di riferimento regionali e dagli altri laboratori che sono entrati più di recente a far parte ufficialmente della rete diagnostica, entrano nell’ambito della sorveglianza. Si ricorda che la definizione internazionale di caso, adottata anche dall’ISS, prevede che venga considerata come caso confermato una persona con una conferma di laboratorio del virus che causa COVID-19 a prescindere dai segni e sintomi clinici. I dati individuali vengono aggiornati da ciascuna Regione/PA con cadenza giornaliera e hanno la peculiarità di fornire un livello di dettaglio maggiore rispetto a quello previsto in altri flussi di dati (come per esempio quello della Protezione Civile o del Ministero della Salute). Infatti sono spesso disponibili informazioni sulle patologie preesistenti e sulle condizioni cliniche in cui versano i pazienti al momento dell’inserimento dei loro dati nella piattaforma. Come prevedibile in una situazione emergenziale, alcune informazioni possono essere temporaneamente incomplete. Ci si riferisce a questo quando si parla di informazioni “in fase di consolidamento”. In particolare, soprattutto nelle Regioni/PA in cui c’è un alto numero di contagi, di malati e di ricoverati, c’è la possibilità di un ritardo di alcuni giorni tra il momento dell’esecuzione del tampone per la diagnosi e la segnalazione sulla piattaforma dedicata. Per i dati più recenti va usata particolare cautela, perché ci può essere un ritardo di notifica dei casi, e questo non deve essere interpretato come indice dell’andamento dell’epidemia. Per approfondire questo aspetto consulta lapagina dedicata sorveglianza integrata COVID-19. Definizione di caso  Secondo quanto riportato nella Circolare ministeriale 0007922-09/03/2020, la definizione di caso si basa sulle informazioni attualmente disponibili, perciò potrebbe essere rivista in base all’evoluzione della situazione epidemiologica e delle conoscenze scientifiche disponibili [3]. Caso sospetto di COVID 19 che richiede esecuzione di test diagnosticoCaso probabile: un caso sospetto il cui risultato del test per SARS-CoV-2 è dubbio o inconcludente utilizzando protocolli specifici di Real Time PCR per SARS-CoV-2 presso i laboratori di riferimento regionali individuati o è positivo utilizzando un test pan-coronavirus. Caso confermato: un caso con una conferma di laboratorio per infezione da SARS-CoV-2, effettuata presso il laboratorio di riferimento nazionale dell’ISS o da laboratori regionali di riferimento che rispondano ai criteri indicati nell’Allegato 3 della Circolare, indipendentemente dai segni e dai sintomi clinici. Definizione di decesso: Ai fini della sorveglianza l’OMS definisce undecesso per COVID-19 come un decesso risultante da una malattia clinicamente compatibile in un caso probabile o confermato di COVID-19, a meno che non vi sia una chiara causa di morte alternativa non correlabile al COVID-19 (per esempio, trauma). Non dovrebbe esserci un periodo di completa guarigione tra la malattia e il decesso. Età mediana/Età media: Mediana e media sono due misure statistiche utilizzate in epidemiologia per riassumere le informazioni su una variabile, in questo caso, l’età. La media è calcolata sommando tutte le età degli individui e dividendola per il numero di persone incluse. L'età mediana in un set di dati è l'età che divide il set in due metà, con una metà delle età al di sotto della mediana e l’altra metà al di sopra di questo numero. In questa epidemia, in cui la distribuzione delle età dei casi COVID-19 è asimmetrica la mediana descrive meglio la variabile rispetto alla media. Numero decessi/letalità: Il tasso di letalità di una malattia è il numero di persone che sono morte a causa della malattia diviso per il numero totale di persone ammalate di quella malattia. Questo è diverso dal tasso di mortalità, che è il numero di persone che sono morte a causa della malattia diviso per la popolazione totale. Asintomatici: Una persona trovata positiva al test perSARS-CoV-2 senza segni o sintomi apparenti di malattia. Pauci sintomatici: Una persona trovata positiva al test per SARS-CoV-2 con sintomi lievi (ad esempio malessere generale, lieve rialzo della temperatura corporea, stanchezza, ecc.). Lievi: Una persona trovata positiva al test per SARS-CoV-2 con chiari segni e sintomi di malattia (malattia respiratoria) ma non abbastanza gravi da richiedere il ricovero ospedaliero. Severi: Una persona trovata positiva al test per SARS-CoV-2 con chiari segni e sintomi di malattia (malattia respiratoria) abbastanza gravi da richiedere il ricovero ospedaliero. Critici: Una persona risultata positiva al test per SARS-CoV-2 con chiari segni e sintomi di malattia (ad esempio, malattia respiratoria) e abbastanza gravi da richiedere il ricovero in Terapia Intensiva Il documento “Informazioni privacy per la sorveglianza sanitaria integrata COVID-19” (pdf 477 kb). Data di ultimo aggiornamento: 16 gennaio 2021Data di pubblicazione: 11 marzo 2020Autori: Flavia Riccardo, Xanthi Andrianou, Antonino Bella, Martina Del Manso, Alberto Mateo Urdiales, Massimo Fabiani, Stefania Bellino, Stefano Boros, Fortunato (Paolo) D'Ancona, Maria Cristina Rota, Antonietta Filia, Ornella Punzo, Andrea Siddu, Maria Fenicia Vescio, Corrado Di Benedetto, Marco Tallon, Alessandra Ciervo, Patrizio Pezzotti, Paola Stefanelli - ISS \n",
      "\n",
      "Il rapporto sulle caratteristiche dei pazienti deceduti positivi a COVID-19 in Italia viene aggiornato periodicamente su questa pagina. report in English “Characteristics of COVID-19 patients dying in Italy Report based on available data on December 16th, 2020” (pdf 182 kb)Indice rapportoIl presente report descrive le caratteristiche di 63.573 pazienti deceduti e positivi a SARS-CoV-2 in Italia riportati dalla Sorveglianza Integrata COVID-19 coordinata dall’Istituto Superiore di Sanità. La Tabella riporta la distribuzione geografica dei decessi secondo le tre fasi che hanno caratterizzato la pandemia dall’inizio al 16 dicembre 2020: la prima ondata (marzo-maggio), la fase di bassa incidenza (giugno-settembre), e la seconda ondata (ottobre-dicembre), quest’ultima ancora in corso.I dati di sorveglianza sui decessi sono in continuo aggiornamento e consolidamento ed entrambe le attività necessitano di tempi per essere esplicate. Ogni Regione ha la propria organizzazione per l’aggiornamento e relativi tempi di esecuzione. Nel leggere quindi i dati per Regione, bisogna tenere conto che i tempi di notifica, controllo, verifica e aggiornamento dei dati varia da Regione a Regione e da periodo a periodo; ciò può implicare variazioni (in aumento e/o in diminuzione) e differenze sia con i dati già pubblicati nei report precedenti, sia con i dati pubblicati dalla Protezione Civile. Va inoltre considerato che le differenze regionali nella percentuale di decessi riportate in tabella non devono essere interpretate in termini di rischio. La letalità dipende infatti dal numero di infezioni avvenute in ciascuna Regione in un arco temporale compatibile con l’eventuale osservazione dell’evento fatale. A questo proposito, occorre anche tener presente che la differenza tra il numero di infezioni e casi notificati può variare a livello regionale e nel corso del tempo in funzione di diverse strategie di accesso al test adottate durante l’epidemia, distorcendo così il confronto della letalità regionale. Tabella: Distribuzione geografica dei pazienti deceduti SARS-CoV-2 positivi per periodomarzo-maggiogiugno-settembreottobre-16 dicembreTotaleREGIONEN%N%N%N%Lombardia16.35947,660733,07.10426,024.07037,9Emilia Romagna4.31312,51739,42.2328,26.71810,6Piemonte4.09111,91266,91.3264,85.5438,7Veneto1.9505,724813,52.88410,55.0828,0Lazio8402,41437,82.0997,73.0824,8Toscana1.0453,0965,21.7646,52.9054,6Campania4771,4583,22.1027,72.6374,1Liguria1.5164,41387,59743,62.6284,1Puglia5241,5754,11.4605,32.0593,2Sicilia3000,9573,11.6546,02.0113,2Marche9812,970,42230,81.2111,9Abruzzo4461,3372,05972,21.0801,7Friuli Venezia Giulia3461.0211.16322.39991.6Trento4021,240,23891,47951,3Bolzano2900,820,13801,46721,1Umbria750,290,54461,65300,8Sardegna1310,4241,33611,35160,8Valle d'Aosta1430,460,32060,83550,6Calabria960,340,22250,83250,5Basilicata290,120,11430,51740,3Molise220,120,11460,51700,3         Totale34.376100,01839100,027.347100,063.562100,0Nota: per 11 decessi non è stato possibile valutare il periodo; il numero dei morti, relativi al periodo ottobre - 16 dicembre, è in fase di consolidamento a causa del ritardo di notifica. L’età media dei pazienti deceduti e positivi a SARS-CoV-2 è 80 anni   (mediana 82, range 0-109, Range InterQuartile - IQR 75-88). Le donne   decedute sono 27.132 (42,7%). L’età mediana dei pazienti deceduti positivi   a SARS-CoV-2 è più alta di oltre 30 anni rispetto a quella dei pazienti   che hanno contratto l’infezione (età mediane: pazienti deceduti 82 anni –   pazienti con infezione 48 anni). Le donne decedute dopo aver contratto   infezione da SARS-CoV-2 hanno un’età più alta rispetto agli uomini (età   mediane: donne 85 – uomini 80). L’andamento dell’età media dei pazienti deceduti positivi a SARS-CoV-2   per settimana di calendario, a partire dalla 3° settimana di febbraio 2020   (la data del primo decesso risale al 21 febbraio 2020). L’età media dei   decessi settimanali è andata sostanzialmente aumentando fino agli 85 anni   (1° settimana di luglio) per poi calare leggermente Il grafico presenta le più comuni patologie croniche preesistenti   (diagnosticate prima di contrarre l’infezione) in un campione di pazienti   deceduti. Questo dato è stato ottenuto da 5962 deceduti per i quali è   stato possibile analizzare le cartelle cliniche. Le cartelle cliniche sono   inviate all’ISS dagli ospedali secondo tempistiche diverse,   compatibilmente con le prioritarie delle attività svolte negli ospedali   stessi. Il campione è quindi di tipo opportunistico, rappresenta solo i   decessi in soggetti che hanno avuto necessità del ricovero, e le Regioni   sono rappresentate cercando di conservare una proporzionalità rispetto al   numero di decessi. Il numero medio di patologie osservate in questa   popolazione è di 3,6 (mediana 3, Deviazione Standard 2,1). Complessivamente, 184 pazienti (3,1% del campione) presentavano 0   patologie, 739 (12,4%) presentavano 1 patologia, 1095 (18,4%) presentavano   2 patologie e 3944 (66,2%) presentavano 3 o più patologie.Prima del ricovero in ospedale, il 21% dei pazienti deceduti SARS-CoV-2   positivi seguiva una terapia con ACE-inibitori e il 14% una terapia con   Sartani (bloccanti del recettore per l'angiotensina).Le più comuni patologie croniche preesistenti nei pazienti deceduti   distinte per uomini (n=3589) e donne (n=2373). Nelle donne il numero medio   di patologie osservate è di 3,8 (mediana 4, Deviazione Standard 2,0). Negli uomini il numero medio di patologie osservate è di 3,5 (mediana 3,   Deviazione Standard 2,1). La tabella 1 riassume le principali caratteristiche dei decessi con COVID-19 avvenuti nei 3 periodi dall’inizio della pandemia nel 2020: il periodo iniziale (marzo-maggio), il secondo periodo (giugno-settembre) e il terzo (ottobre-dicembre), anche se quest’ultimo è ancora in corso. Complessivamente i dati erano rappresentativi del 9,6% dei deceduti dall’inizio della pandemia; in particolare, del 13,3% dei deceduti tra marzo e maggio, del 27,5% dei deceduti tra giugno e settembre e del 3,7% dei deceduti tra ottobre e dicembre.Nell’intero arco temporale preso in considerazione, aumentano i decessi di persone con 3 o più patologie preesistenti e diminuiscono quelli con meno patologie o nessuna: ciò sembra indicare che nel secondo e nel terzo periodo i decessi riguardano persone più anziane e con una condizione di salute preesistente peggiore rispetto ai decessi relativi al primo trimestre (tabella   1).Estremamente diverso nei tre periodi è anche l’uso di farmaci, con una netta riduzione nell’utilizzo degli antivirali e un aumento nell’uso degli steroidi nel secondo e terzo periodo. Tabella 1. Età media, prevalenza di donne, numero di patologie preesistenti, complicanze e trattamenti nei decessi con COVID-19 per trimestre di decessoCampione   delle cartelle cliniche valutateTutti(n=5962)mar-mag 2020(n=4470)giu-sett 2020(n=501)ott-16 dic 2020(n=991)p-value*  N di   comorbosità    0184 (3,1)169 (3,8)6 (1,2)9 (0,9)<0,001    1  739 (12,4)  606 (13,6)  44 (8,8)  89 (9,0)     2  1095 (18,4)  895 (20,0)  66 (13,2)134 (13,5)    3 o più3944 (66,2)2800 (62,6)385 (76,8)759 (76,6)Complicazioni durante   il ricovero in ospedale  Polmonite  5499 (94,0)  4142 (95,2)  412 (83,2)  945 (94,6)  <0,001   Danno renale acuto  1389 (23,8)  1001 (23,0)  134 (27,1)  254 (25,4)  0,052   Danno miocardico acuto  632 (10,8)  471 (10,8)  49 (9,9)  112 (11,2)  0,743   Sovrainfezione  1134 (19,4)  722 (16,6)  203 (41,0)  209 (20,9)  <0,001Terapie    Antibiotici  5052 (85,8)  3813 (86,7)  424 (86,0)  815 (81,7)  <0,001    Antivirali  2865 (48,7)  2599 (59,1)  157 (31,8)  109 (10,9)  <0,001    Steroidi  3022 (51,3)  1903 (43,3)321 (65,1)  798 (80,0)<0,001   Tocilizumab218 (4,1)170 (4,3)28 (5,9)20 (2,1)0,001* p-value per le differenze tra i 3 periodi  La distribuzione delle principali patologie preesistenti nei diversi periodi è presentata nella figura 6. La prevalenza di fibrillazione atriale, ictus, demenza, BPCO, cancro, insufficienza renale e obesità varia in maniera significativa nei tre periodi. Queste patologie sono più frequentemente diagnosticate nei deceduti del secondo e terzo periodo rispetto a quelli del primo. Nella tabella 2 sono riportate le durate come tempi mediani (in giorni) nei 3 periodi di tempo considerati: tra il primo e il secondo periodo quasi raddoppia il tempo che trascorre dall’insorgenza dei sintomi al decesso, che poi torna ai livelli iniziali nel terzo periodo; diminuisce il tempo che trascorre dall’insorgenza dei sintomi all’esecuzione del tampone per la rilevazione dell’infezione da SARS-CoV-2 nel secondo periodo e rimane tale nel terzo periodo, così come il tempo tra l’insorgenza dei sintomi e il ricovero in ospedale; raddoppia la durata mediana in giorni dal ricovero in ospedale al decesso tra il primo e il secondo periodo per poi tornare, nel terzo periodo, ai livelli del primo. Questi risultati sembrano suggerire una maggiore reattività del Sistema Sanitario testimoniata dalla maggiore rapidità nell’esecuzione di esami diagnostici e nell’ospedalizzazione. Tabella 2. Tempi mediani (in giorni) tra insorgenza dei sintomi, test PCR, ricovero in ospedale e decesso    Tutti(n=5962)mar-mag 2020(n=4470)giu-sett   2020(n=501)ott-16 dic   2020(n=991)p-value*Tempi (in giorni)MedianaIQRMedianaIQRMedianaIQRMedianaIQR Dall’insorgenza dei sintomi al   decesso127-20127-19229-55117-18<0,001Dall’insorgenza dei sintomi al test   SARS-CoV-252-852-931-731-6<0,001Dall’insorgenza dei sintomi al ricovero in ospedale42-742-731-731-7<0,001Dal ricovero in ospedale al decesso73-1473-13155-4373-12<0,001* p-value per le differenze tra i 3    periodi.IQR=Inter-Quartile Range  I dati qui presentati possono essere spiegati da maggiori conoscenze circa l’infezione e maggiori capacità e tempestività di cura della stessa nel periodo giugno-agosto. Inoltre è verosimile che nei mesi di marzo e aprile il COVID-19 sia stato sotto-diagnosticato in molti deceduti anziani fragili (come per esempio quelli nelle RSA). Questo può aver portato una sottostima del carico di patologie dei deceduti in tale periodo. Nella tabella 2 sono riportate le durate come tempi mediani (in giorni) nei 3 periodi di tempo considerati: tra il primo e il secondo periodo quasi raddoppia il tempo che trascorre dall’insorgenza dei sintomi al decesso, che poi torna ai livelli iniziali nel terzo periodo; diminuisce il tempo che trascorre dall’insorgenza dei sintomi all’esecuzione del tampone per la rilevazione dell’infezione da SARS-CoV-2 nel secondo periodo e rimane tale nel terzo periodo, così come il tempo tra l’insorgenza dei sintomi e il ricovero in ospedale; raddoppia la durata mediana in giorni dal ricovero in ospedale al decesso tra il primo e il secondo periodo per poi tornare, nel terzo periodo, ai livelli del primo. Questi risultati sembrano suggerire una maggiore reattività del Sistema Sanitario testimoniata dalla maggiore rapidità nell’esecuzione di esami diagnostici e nell’ospedalizzazione. Tabella 2. Tempi mediani (in giorni) tra insorgenza dei sintomi, test PCR, ricovero in ospedale e decessoTutti(n=5962)mar-mag 2020(n=4470)giu-sett   2020(n=501)ott-16 dic   2020(n=991)p-value*Tempi (in giorni)MedianaIQRMedianaIQRMedianaIQRMedianaIQR Dall’insorgenza dei sintomi al   decesso127-20127-19229-55117-18<0,001Dall’insorgenza dei sintomi al test   SARS-CoV-252-852-931-731-6<0,001Dall’insorgenza dei sintomi al ricovero in ospedale42-742-731-731-7<0,001Dal ricovero in ospedale al decesso73-1473-13155-4373-12<0,001* p-value per le differenze tra i 3    periodi.IQR=Inter-Quartile Range  I dati qui presentati possono essere spiegati da maggiori conoscenze circa l’infezione e maggiori capacità e tempestività di cura della stessa nel periodo giugno-agosto. Inoltre è verosimile che nei mesi di marzo e aprile il COVID-19 sia stato sotto-diagnosticato in molti deceduti anziani fragili (come per esempio quelli nelle RSA). Questo può aver portato una sottostima del carico di patologie dei deceduti in tale periodo. Sulla base delle indicazioni emanate dal Ministero della Salute nella Circolare pubblicata il 25 febbraio 2020 (protocollo 0005889-25/02/2020), la certificazione di decesso a causa di COVID-19 deve essere accompagnata da parere dell’Istituto Superiore di Sanità (ISS). Per questo motivo, è stato creato un gruppo di lavoro dedicato allo studio delle cause di morte dei pazienti deceduti che risultavano positivi all’infezione da SARS-CoV-2. L’analisi si basa sui dati contenuti nelle cartelle cliniche e nelle schede di morte ISTAT recanti le cause di decesso di questi pazienti. La raccolta dati avviene tramite la piattaforma webhttp://covid-19.iss.it, già utilizzata dalla sorveglianza nazionale, epidemiologica e virologica, dei casi di COVID-19 in Italia (coordinata dall’ISS e attivata dalla Circolare ministeriale del 22 gennaio 2020, n.1997). Per informazioni è possibile mandare un’e-mail all’indirizzo di posta elettronica decessicovid-19@iss.it o contattare il dott. Graziano Onder (Direttore del Dipartimento Malattie cardiovascolari, endocrino-metaboliche e invecchiamento, ISS) al numero di telefono: 06/49904231. il rapporto “Impatto dell'epidemia COVID-19 sulla mortalità: cause di morte nei deceduti positivi a SARS-CoV-2” (pdf 1,1 Mb) realizzato da ISS e ISTAT il 16 luglio 2020 che presenta un’analisi approfondita delle malattie presenti sulle schede di morte di soggetti diagnosticati microbiologicamente tramite tampone rino/orofaringeo positivo al SARS-CoV-2. Data di ultimo aggiornamento: 23 dicembre 2020Data di creazione della pagina: 27 marzo 2020Report prodotto dal Gruppo della Sorveglianza COVID-19: Luigi Palmieri, Elvira Agazio, Xanthi Andrianou, Pierfrancesco Barbariol, Antonino Bella, Eva Benelli, Luigi Bertinato, Matilde Bocci, Stefano Boros, Giovanni Calcagnini, Marco Canevelli, Federica Censi, Alessandra Ciervo, Elisa Colaizzo, Martina Del Manso, Corrado Di Benedetto, Chiara Donfrancesco, Massimo Fabiani, Francesco Facchiano, Marco Floridia, Fabio Galati, Marina Giuliano, Tiziana Grisetti, Cecilia Guastadisegni, Yllka Kodra, Ilaria Lega, Cinzia Lo Noce, Pietro Maiozzi, Valerio Manno, Margherita Martini, Alberto Mateo Urdiales, Eugenio Mattei, Claudia Meduri, Paola Meli, Giada Minelli, Lorenza Nisticò, Graziano Onder, Lucia Palmisano, Daniele Petrone, Patrizio Pezzotti, Flavia Pricci, Ornella Punzo, Vincenzo Puro, Federica Quarata, Valeria Raparelli, Flavia Riccardo, Simone Rocchetto, Paolo Salerno, Giulia Sarti, Debora Serra, Matteo Spuri, Paola Stefanelli, Marco Tallon, Manuela Tamburo De Bella, Dorina Tiple, Marco Toccaceli Blasi, Federica Trentin, Brigid Unim, Luana Vaianella, Nicola Vanacore, Maria Fenicia Vescio, Emanuele Rocco Villani, Silvio Brusaferro. \n",
      "\n",
      "I coronavirus (CoV) sono un’ampia famiglia di virus respiratori che possono causare malattie da lievi a moderate, dal comune raffreddore a sindromi respiratorie come la MERS (sindrome respiratoria mediorientale, Middle East respiratory syndrome) e la SARS (sindrome respiratoria acuta grave, Severe acute respiratory syndrome). Sono chiamati così per le punte a forma di corona che sono presenti sulla loro superficie. I coronavirus sono comuni in molte specie animali (come i cammelli e i pipistrelli) ma in alcuni casi, se pur raramente, possono evolversi e infettare l’uomo per poi diffondersi nella popolazione. Un nuovo coronavirus è un nuovo ceppo di coronavirus che non è stato precedentemente mai identificato nell'uomo. I coronavirus umani conosciuti ad oggi, comuni in tutto il mondo, sono sette, alcuni identificati diversi anni fa (i primi a metà degli anni Sessanta) e alcuni identificati nel nuovo millennio. Coronavirus umani comuni1 - 229E (coronavirus alpha) 2 - NL63 (coronavirus alpha) 3 - OC43 (coronavirus beta) 4 - HKU1 (coronavirus beta) Altri coronavirus umani 5 - MERS-CoV (il coronavirus beta che causa la Middle East respiratory syndrome) 6 - SARS-CoV (il coronavirus beta che causa la Severe acute respiratory syndrome) 7 - SARS-CoV-2 (il coronavirus che che causa la COVID-19)   Data di pubblicazione: 23 gennaio 2020Autori: Giovanni Rezza, Antonino Bella, Flavia Riccardo, Patrizio Pezzotti - Dipartimento Malattie infettive, ISS \n",
      "\n",
      "I coronavirus umani si trasmettono da una persona infetta a un’altra attraverso:Sulla base dei dati al momento disponibili, l’OMS ribadisce che il contatto con i casi sintomatici (persone che hanno contratto l’infezione e hanno già manifestato i sintomi della malattia) è il motore principale della trasmissione del nuovo coronavirus SARS-CoV-2. L’OMS è a conoscenza di una possibile trasmissione del virus da persone infette ma ancora asintomatiche. In base a quanto già noto sugli altri coronavirus (ad es. MERS-CoV), sappiamo che l’infezione asintomatica potrebbe essere rara e che la trasmissione del virus da casi asintomatici è possibile, ma non frequente. Sulla base di questi dati, l’OMS conclude che la trasmissione da casi asintomatici probabilmente non è uno dei motori principali della trasmissione del nuovo coronavirus SARS-CoV-2. Tuttavia molti studi sono in corso per ampliare le conoscenze sulle modalità di trasmissione di SARS-CoV-2. Non esistono trattamenti specifici per le infezioni causate dai coronavirus e non sono disponibili, al momento, vaccini per proteggersi dal virus. Riguardo il nuovo coronavirus SARS-CoV-2, non esistono al momento terapie specifiche, vengono curati i sintomi della malattia (così detta terapia di supporto) in modo da favorire la guarigione, ad esempio fornendo supporto respiratorio. Si ricorda che l’Agenzia italiana del farmaco (AIFA) fornisce sul proprio sito informazioni sui farmaci utilizzati al di fuori delle sperimentazioni cliniche, come quelli commercializzati per altre indicazioni che vengono resi disponibili ai pazienti, pur in assenza di indicazione terapeutica specifica per il COVID-19, sulla base di evidenze scientifiche spesso piuttosto limitate. Consulta la pagina dedicata sulsito AIFA. È possibile ridurre il rischio di infezione, proteggendo se stessi e gli altri, seguendo alcuni accorgimenti: Proteggi te stessoLavati spesso le mani (dopo aver tossito/starnutito, dopo aver assistito un malato, prima durante e dopo la preparazione di cibo, prima di mangiare, dopo essere andati in bagno, dopo aver toccato animali o le loro deiezioni o più in generale quando le mani sono sporche in qualunque modo). In ambito assistenziale (ad esempio negli ospedali) segui i consigli degli operatori sanitari che forniscono assistenza. Proteggi gli altri Data di ultimo aggiornamento: 25 aprile 2020Data di pubblicazione: 23 gennaio 2020Autori: Giovanni Rezza, Antonino Bella, Flavia Riccardo, Patrizio Pezzotti - Dipartimento Malattie infettive, ISS \n",
      "\n",
      "La prevenzione e il controllo delle infezioni (Infection prevention and control, IPC) è un approccio scientifico e pratico finalizzato a prevenire i rischi causati dalle infezioni per pazienti e operatori sanitari. In Italia, l’Istituto Superiore di Sanità, a seguito dell’epidemia da COVID-19 ha predisposto un Gruppo di lavoro dedicato specificamente alla prevenzione e controllo delle infezioni, che tra le diverse attività si occupa anche della pubblicazione di una serie di rapporti tecnici volti a fornire indicazioni sull’IPC. Consulta e scarica i rapporti ISS: Data di ultimo aggiornamento della pagina: 10 settembre 2020 Data di creazione della pagina: 20 luglio 2020 Revisore: Fortunato “Paolo” D’Ancona - Dipartimento Malattie infettive, ISS \n",
      "\n",
      "A causa della pandemia di COVID-19 (causata dal nuovo virus SARS-CoV-2) nei Paesi della Regione europea dell’Organizzazione Mondiale della Sanità (OMS) esiste il rischio che si possa verificare una riduzione generale delle normali attività vaccinali, sia per lo spostamento di risorse sanitarie verso le attività di controllo della pandemia, sia per le misure di distanziamento sociale imposte alla popolazione, che potrebbero portare alcune persone a decidere di rimandare le vaccinazioni programmate per se stessi o per i propri figli. Le vaccinazioni sono una componente fondamentale dei servizi sanitari e una loro interruzione, anche se per un breve periodo, porterebbe a un accumulo di persone suscettibili e a un maggiore rischio di epidemie di malattie prevenibili da vaccino (VPD, vaccine preventable diseases) che possono causare decessi e portare una aumentata richiesta di risorse sanitarie. È fondamentale pertanto ridurre al minimo questo rischio, soprattutto in un sistema già provato dalla risposta all’epidemia di COVID-19. L’OMS Europa, il 20 marzo 2020, ha pubblicato il documento “Guidance on routine immunization services during COVID-19 pandemic in the WHO European Region”, per fornire un supporto ai Paesi nella decisione di mantenere o meno le normali attività vaccinali nel periodo pandemico, indicare quali sono i fattori che ogni Paese deve considerare per effettuare una valutazione del rischio, fornire dei principi guida da seguire e indicazioni su come effettuare le vaccinazioni in sicurezza. Secondo l’OMS è essenziale mantenere gli appuntamenti vaccinali, soprattutto per le vaccinazioni di routine, fino a quando le misure di risposta alla COVID-19 lo consentano. Qualsiasi decisione inerente le possibili opzioni di funzionamento dei servizi vaccinali deve essere presa valutando in maniera dettagliata: l'epidemiologia delle VPD, lo scenario di trasmissione della COVID-19, le corrispondenti misure di mitigazione in atto e le risorse disponibili. In particolare, è necessario valutare i seguenti punti: L'impatto e l'adeguatezza delle opzioni scelte dovrebbero essere monitorati e valutati periodicamente con l'evoluzione della situazione relativa alla pandemia da COVID-19. L'attuale situazione COVID-19 e le capacità del sistema sanitario variano ampiamente all'interno della Regione europea e tutto è in rapida evoluzione. Pertanto, il miglior approccio per mantenere elevati i livelli di copertura vaccinale non potrà essere sempre lo stesso nei diversi Paesi. Tutti devono però fare ogni possibile sforzo per mantenere elevati i livelli di immunità nella popolazione. Considerando che potrebbero esserci delle interruzioni, è fondamentale tenere fin d’ora un elenco dei bambini che hanno saltato dosi di vaccino e sviluppare un piano d'azione ad hoc per il recupero successivo delle dosi non ricevute. Nel documento l’OMS delinea i principi guida per l’organizzazione dei servizi vaccinali, da seguire durante la pandemia COVID-19:Infine, le caratteristiche epidemiologiche, operative e contestuali di ciascun Paese sono uniche e sarebbe impossibile stabilire una strategia adeguata per tutte le situazioni. L’OMS Europa fornisce un algoritmo per aiutare le autorità nazionali a prendere decisioni relative al mantenere in funzione i servizi vaccinali. Si sottolinea inoltre l’importanza di mantenere e rinforzare la sorveglianza delle malattie prevenibili da vaccino, per identificare precocemente e gestire i casi di malattie prevenibili da vaccino. Le raccomandazioni dell’Ufficio Regionale europeo dell’OMS vengono ulteriormente ribadite in un secondo documento dell’OMS “Guiding principles for immunization activities during the COVID-19 pandemic”, in cui si sottolinea che l'elevato potenziale di epidemie di malattie prevenibili da vaccino rende indispensabile per i Paesi mantenere la continuità dei servizi vaccinali ovunque tali servizi possano essere condotti in condizioni di sicurezza. Data di creazione della pagina: 7 aprile 2020Autori: Antonietta Filia, Maria Cristina Rota – Dipartimento Malattie infettive, ISS \n",
      "\n",
      "Le dipendenze da sostanze come il tabacco, l’alcol e le droghe ma anche le dipendenze comportamentali (gioco d’azzardo, cibo, internet e nuove tecnologie, doping) sono importanti fattori di rischio per la salute pubblica e lo diventano ancora di più in una situazione particolare come quella correlata alla pandemia da COVID-19 che prevede un periodo di grandi chiusure e di forzata permanenza a casa. L’Istituto Superiore di Sanità (ISS) apre dunque una sezione dedicata alle dipendenze nel contesto COVID-19 per aiutare operatori e cittadini a far fronte all’emergenza con materiale di supporto e approfondimenti sul tema. Data di creazione della pagina: 6 maggio 2020Revisore: Roberta Pacifici - Centro nazionale dipendenze e doping, ISS \n",
      "\n"
     ]
    }
   ],
   "source": [
    "# ogni line abbiamo un documento\n",
    "for l in corpus[:10]:\n",
    "  print(l)"
   ]
  },
  {
   "cell_type": "code",
   "execution_count": null,
   "metadata": {
    "colab": {
     "base_uri": "https://localhost:8080/"
    },
    "collapsed": true,
    "executionInfo": {
     "elapsed": 760,
     "status": "ok",
     "timestamp": 1611768841345,
     "user": {
      "displayName": "lorenzo di gianvittorio",
      "photoUrl": "",
      "userId": "05218746870272170826"
     },
     "user_tz": -60
    },
    "id": "K3S4T4Iwthzw",
    "outputId": "b70e9942-e682-4723-b25f-159ef8eef0fe"
   },
   "outputs": [
    {
     "name": "stdout",
     "output_type": "stream",
     "text": [
      "['La pandemia da COVID-19 ha reso necessaria una riorganizzazione dei percorsi assistenziali legati alla nascita.', 'Per questo motivo, l’ISS mette a disposizione del personale sanitario una selezione di risorse, letteratura ed evidence disponibili su gravidanza, parto e allattamento.', 'In evidenza:  la pagina dedicata alla vaccinazione contro il COVID-19 in gravidanza e allattamentola pagina dedicata allo studio “COVID-19 e salute mentale perinatale: impatto del COVID-19 sul vissuto e lo stato emotivo in epoca perinatale delle donne in contatto con i Consultori Familiari (CF)”, di cui l’Istituto Superiore di Sanità è coordinatore, aggiornata al 7 gennaio 2021Leggi gli altri approfondimenti:Per aiutare il personale sanitario nel lavoro quotidiano di assistenza alle donne durante la gravidanza, il parto e l’allattamento, le ricercatrici dell’ISS hanno messo a punto alcuni materiali di comunicazione specifici.', 'Visita lapagina dedicata.Data di ultimo aggiornamento: 9 gennaio 2021 Data di creazione della pagina: 27 febbraio 2020']\n",
      "['Non esiste alcuna evidenza che gli animali domestici giochino un ruolo nella diffusione di SARS-CoV-2 che riconosce, invece, nel contagio interumano la via principale di trasmissione.', 'Tuttavia, poiché la sorveglianza veterinaria e gli studi sperimentali suggeriscono che gli animali domestici siano, occasionalmente, suscettibili a SARS-CoV-2, è importante proteggere gli animali di pazienti affetti da COVID-19, limitando la loro esposizione.', 'Il virus SARS-CoV-2, lasciato il suo probabile serbatoio animale selvatico, si è diffuso rapidamente in tutti i continenti, trovando nella specie umana una popolazione recettiva e in grado di permettergli una efficiente trasmissione intraspecifica.', \"L'elevata circolazione del virus tra gli esseri umani sembra però non risparmiare, in alcune occasioni, gli animali che condividono con l'uomo ambiente domestico, quotidianità e affetto.\", 'Al 2 aprile 2020, a fronte di 800 mila casi confermati nel mondo di COVID-19 nell’uomo, sono solamente 4 i casi documentati di positività da SARS-CoV-2 negli animali da compagnia: due cani e un gatto ad Hong Kong e un gatto in Belgio.', \"In tutti i casi, all'origine dell'infezione negli animali vi sarebbe la malattia dei loro proprietari, tutti affetti da COVID-19.\", 'Il dato, per quanto limitato a poche osservazioni, merita attenzione.', 'A questi casi di infezione avvenuta naturalmente, si stanno infatti aggiungendo i risultati degli studi sperimentali effettuati in laboratorio su alcune specie domestiche.', 'Questi confermerebbero la suscettibilità del gatto, del furetto e, in misura minore, del cane all’infezione da SARS-CoV-2.', 'Le evidenze disponibili suggeriscono che l’esposizione degli animali a SARS-CoV-2 possa dare luogo a infezioni asintomatiche/paucisintomatiche, ovvero manifestarsi con malattia vera e propria.', \"Nei due cani e nel gatto osservati ad Hong Kong, l'infezione si è evoluta in forma asintomatica.\", \"Il gatto descritto in Belgio ha, invece, sviluppato una sintomatologia respiratoria e gastroenterica a distanza di una settimana dal rientro della proprietaria dall'Italia.\", \"L'animale ha mostrato anoressia, vomito, diarrea, difficoltà respiratorie e tosse ma è andato incontro a un miglioramento spontaneo a partire dal nono giorno dall'esordio della malattia.\", \"Il rapporto realizzato dal Comitato scientifico istituito presso l'Agenzia federale Belga per la Sicurezza alimentare segnala che nel vomito e nelle feci dell'animale era presente un'elevata carica virale.\", \"Questo rilievo unitamente ai sintomi clinici, fa ipotizzare che l'animale, dopo essere stato esposto al contagio da parte della sua proprietaria, sia andato incontro a una infezione virale produttiva, ovvero accompagnata da una attiva replicazione del virus.\", 'È opportuno sottolineare che, in tutti e 4 i casi descritti, gli accertamenti diagnostici sono stati condotti mediante tecniche molecolari e, al momento, non sono disponibili dati di isolamento virale, utili a definire con maggiore certezza lo stato di infezione.', \"Tuttavia, in uno dei due cani di Hong Kong la positività degli accertamenti sierologici supporta l'ipotesi che il cane fosse infetto da SARS-CoV-2.\", 'Essendo SARS-CoV-2 un virus nuovo, occorre intensificare gli sforzi per raccogliere ulteriori segnali dell’eventuale comparsa di malattia nei nostri animali da compagnia, evitando tuttavia di generare allarmi ingiustificati.', \"Vivendo in ambienti a forte circolazione virale a causa della malattia dei loro proprietari, non è inatteso che anche gli animali possano, occasionalmente, contrarre l'infezione.\", 'Ma, nei casi osservati, gli animali sono stati incolpevoli “vittime”.', 'Non esiste infatti alcuna evidenza che cani o gatti giochino un ruolo nella diffusione epidemica di SARS-CoV-2 che riconosce, invece, nel contagio interumano la via di trasmissione.', \"Tuttavia, la possibilità che gli animali domestici possano contrarre l'infezione pone domande in merito alla gestione sanitaria degli animali di proprietà di pazienti affetti da COVID-19.\", \"La raccomandazione generale è quella di adottare comportamenti utili a ridurre quanto più possibile l'esposizione degli animali al contagio, evitando, ad esempio, i contatti ravvicinati con il paziente, così come si richiede agli altri membri del nucleo familiare.\", \"Gli organismi internazionali che si sono occupati dell'argomento raccomandano di evitare effusioni e di mantenere le misure igieniche di base che andrebbero sempre tenute come il lavaggio delle mani prima e dopo essere stati a contatto con gli animali, con la lettiera o la scodella del cibo.\", 'A margine di tutto ciò occorre sottolineare che gli animali domestici contribuiscono alla nostra gioia e al nostro benessere, soprattutto in periodi di stress come quelli che stiamo vivendo.', \"In assenza di sintomi riferibili a COVID-19 e se non si è in isolamento domiciliare, passare del tempo con il proprio animale domestico e accompagnare il proprio cane nell'uscita quotidiana (nel rispetto della normativa) contribuisce a mantenere in salute noi stessi e i nostri amici animali.\", 'Bisogna considerare che le conoscenze sul virus SARS-CoV-2 sono in rapida evoluzione e dunque quanto detto è da considerarsi ad interim.', \"Tuttavia, l'Istituto Superiore di Sanità (ISS) ritiene utile promuovere lo scambio di conoscenze, man mano che queste sono rese disponibili, per il benessere e salute degli animali da compagnia e dei loro proprietari e dunque fornirà gli aggiornamenti necessari per rimanere in linea con l’evolversi della letteratura scientifica e delle posizioni ufficiali delle principali autorità nazionali e internazionali e per fornire informazioni dettagliate e indicazioni di comportamento Il Rapporto ISS COVID-19 n. 16/2020 - “Animali da compagnia e SARS-cov-2: cosa occorre sapere, come occorre comportarsi.\", 'Versione del 19 aprile 2020” (pdf 2,1 Mb) Il poster “Animali da compagnia: consigli per un accudimento sicuro” (pdf 274 kb) Data di ultimo aggiornamento: 22 aprile 2020Data di creazione della pagina: 4 marzo 2020Autore: Umberto Agrimi – direttore del Dipartimento Sicurezza alimentare, nutrizione e sanità pubblica veterinaria, ISS']\n",
      "['Le ipotesi che suggeriscono correlazioni tra le aree a maggior inquinamento atmosferico e la diffusione del virus responsabile della COVID-19 hanno sollecitato la richiesta di pareri all’Istituto Superiore di Sanità (ISS) e stimolato molti gruppi di studiosi a collaborare per esaminare il problema e le possibili associazioni.', 'Tuttavia, l’incertezza che ancora riguarda molti aspetti di questa epidemia richiede quindi una certa cautela e un approfondimento delle eventuali relazioni causa-effetto.', 'L’esposizione all’inquinamento atmosferico indoor e outdoor - e in particolare al materiale particellare PM (PM10, PM2,5), agli ossidi di azoto (NO e NO2), nonché all’ozono (O3) - può determinare un insieme di effetti sanitari avversi già ampiamente descritti nella letteratura scientifica accreditata.', 'Nel 2016, l’Organizzazione Mondiale della Sanità (OMS) ha stimato che globalmente sono circa 7 milioni le morti premature all’anno correlate a questo fattore di rischio, con il 91% di questi decessi a carico dei Paesi a basso-medio reddito e relative alle popolazioni delle aree del sud asiatico, sub-sahariane e dell’America latina.', 'In particolare, per la popolazione europea sono state stimate circa 550.000 morti premature.', 'Inoltre, l’OMS ha dedicato particolare attenzione agli effetti sanitari dovuti ai livelli di inquinamento degli ambienti indoor, determinati principalmente dall’uso di combustibili di bassa qualità per il riscaldamento degli ambienti e dalla preparazione dei cibi, ma anche dall’uso di sostanze chimiche per l’igiene personale e per la pulizia degli ambienti, aromi per la profumazione indoor, pitture, vernici, ecc.', 'Questa componente riveste un ruolo rilevante se si considera che la popolazione trascorre la maggior parte del tempo in ambienti chiusi (abitazione, scuola, lavoro, solo per citarne alcuni).', 'A livello globale, i principali effetti sanitari correlati all’inquinamento dell’aria indoor e outdoor sono relativi all’aumento delle malattie non trasmissibili (Non Communicable Diseases, NCD), che includono principalmente le malattie croniche del sistema cardiocircolatorio quali le malattie ischemiche del cuore (infarto miocardico, ictus cerebrale), quelle dell’apparato respiratorio, come l’asma, la bronco pneumopatia cronica ostruttiva (BPCO), che porta a una maggiore predisposizione alle infezioni respiratorie, e il cancro del polmone per esposizioni sul lungo periodo.', 'Più recentemente all’esposizione cronica all’inquinamento atmosferico e al PM2,5 si associano patologie quali il diabete, un ritardo nello sviluppo neurologico dei bambini così come effetti neurologici degenerativi nella popolazione adulta/anziana.', 'Gli effetti a breve termine sono supportati da molti studi dedicati a singole città e/o a aree urbane aggregate e riguardano una ridotta capacità polmonare, aggravamento e complicanze dell’asma e, per esposizione durante la gestazione, un basso peso alla nascita del bambino.', 'L’ampia letteratura scientifica si è anche dedicata a indagare quale sia la popolazione più suscettibile agli effetti dell’esposizione all’inquinamento atmosferico indoor e outdoor.', 'Le caratteristiche di suscettibilità includono principalmente una predisposizione genetica, fattori socioeconomici, età, durata e intensità dell’esposizione, la presenza di malattie preesistenti, come asma, BPCO e fibrosi cistica.', 'Molti studi evidenziano che i bambini, e più in generale la popolazione di età inferiore ai 14 anni, è la più suscettibile agli effetti sanitari acuti delle infezioni alle basse vie respiratorie.', 'Un altro aspetto da sottolineare è la natura del materiale particellare.', 'Il PM (sia quello emesso direttamente nell’aria, che quello prodotto durante i processi di conversione gas-particelle) è una miscela complessa di inquinanti organici e inorganici, costituito dal materiale carbonioso derivante dai diversi processi di combustione che lo generano (per esempio, nelle aree a intensa urbanizzazione il PM deriva essenzialmente dai processi di combustione di sorgenti mobili e fisse come i veicoli a motore, gli impianti per la produzione di energia), ma anche da un insieme di altre sostanze particolarmente tossiche per l’uomo (microinquinanti inorganici e organici come: metalli, idrocarburi policiclici aromatici, diossine).', 'La composizione qualitativa e quantitativa del PM varia quindi molto in funzione della tipologia di sorgenti di emissione che lo producono.', 'Gli effetti sanitari che ne derivano dipendono non solo dai livelli di concentrazione a cui le popolazioni sono esposte ma anche da molti altri fattori, che includono le sorgenti, le trasformazioni fisiche e chimiche di precursori, il clima, e la specifica situazione locale (orografica e topografica) delle aree urbane e non urbane che ne influenzano la “qualità” e la composizione.', 'Vivere in aree urbane dove l’inquinamento atmosferico è elevato incide sullo stato di salute generale della popolazione, come dimostrano gli studi di numerosi gruppi di ricercatori scientifici nazionali e internazionali.', 'La popolazione di queste aree presenta alcuni profili di salute particolari, come registra anche il sistema di sorveglianza PASSI dell’ISS.', 'Dai dati PASSI, emerge che nella popolazione adulta che vive nelle città metropolitane è maggiore la prevalenza di persone con sintomi depressivi, con diagnosi di malattia cronica respiratoria (bronchite cronica, enfisema, insufficienza respiratoria o asma bronchiale), diabete e tumore.', 'Questi eccessi risultano statisticamente significativi anche tenendo conto delle differenze nella struttura per età, genere e caratteristiche sociali di chi vive nelle metropoli, rispetto a chi vive in altre aree urbane o rurali del Paese.', 'Gli stili di vita hanno sicuramente un peso nel determinare questo quadro e fra i residenti nelle città metropolitane si osserva una maggiore quota di sedentari e fumatori.', 'L’Agenzia Ambientale Europea (EEA) ogni anno produce un report sul Burden of Disease dell’inquinamento atmosferico in Europa in base ai livelli di concentrazione dei singoli inquinanti misurati (PM2,5, NO2 e O3) dalla rete di monitoraggio dell’aria presente in ciascun Paese (concentrazioni variabili anche in funzione delle condizioni meteorologiche peculiari registrate ogni anno, oltre al numero e alla qualità di funzionalità delle centraline).', 'Nel report 2019 (dati riferiti al 2017) l’EEA stima per l’Italia, per esposizione a PM2,5, circa 60.000 morti premature.', 'Va ricordato che le misure delle postazioni di monitoraggio dell’aria sono finalizzate alla corretta gestione dei territori per l’individuazione di possibili soluzioni di riduzione dell’inquinamento e rappresentano solo una misura indicativa dell’esposizione, considerando inoltre che ormai la popolazione trascorre la maggior parte del tempo in ambienti indoor.', 'In merito alla possibilità di un’associazione diretta della diffusione dell’infezione da SARS-CoV-2 con le aree a elevato livello di inquinamento atmosferico è necessario porre una particolare cautela, trattandosi di un’infezione virale, sottoposta a meccanismi di trasmissione attraverso il contagio diversi da quelli che caratterizzano la diffusione dell’inquinamento atmosferico.', 'In Italia, l’ipotesi di un’associazione è stata avanzata in virtù del fatto che aree come Lombardia, Veneto ed Emilia-Romagna, dove il virus ha presentato la maggiore diffusione, si registrano generalmente le maggiori concentrazioni degli inquinanti atmosferici misurati e controllati secondo quanto indicato e prescritto dalla legislazione di settore (DLgs 155/2010).', 'Tuttavia, la diffusione del virus si è presentata attraverso focolai circoscritti all’interno di zone della macroarea di appartenenza (pianura padana) sottoposta a valori di inquinamento atmosferico elevati e piuttosto omogenei; altre aree a forte inquinamento atmosferico, anche se prossime, sono rimaste inizialmente escluse e interessate, solo successivamente, con minor forza dalla contaminazione del virus.', 'Si osserva, inoltre, che a seguito delle disposizioni governative, la ridotta mobilità delle persone e la chiusura di molte attività produttive, ha portato a una progressiva e significativa riduzione dei livelli di inquinamento dell’aria (PM10, PM2,5, NO2, benzene).', 'Va considerato che le aree dove il virus ha evidenziato l’impatto più elevato, sono le aree italiane sia ad elevata densità di popolazione sia a più alta produttività del Paese.', 'In questi territori sono presenti il maggior numero di aziende con vocazione e crescita internazionale che hanno continui e frequenti rapporti con Paesi stranieri (in particolare Stati Uniti, Cina e Federazione Russa), con conseguente alta mobilità dei lavoratori.', 'Infatti, molti approfondimenti epidemiologici in corso per studiare e comprendere come il virus sia entrato e si sia diffuso nell’area evidenziano l’importanza della componente legata ai rapporti di lavoro internazionali e il conseguente contagio diretto tra persone, oltre all’iniziale diffusione del contagio in strutture sanitarie (ospedaliere e residenze sanitarie assistite, RSA), che ha agito quale forte moltiplicatore dell’infezione.', 'Le misure di minimizzazione degli spostamenti e di distanziamento sociale che sono state adottate stanno mostrando tutta la loro efficacia, evidenziando ancora una volta il meccanismo preferenziale di contagio della malattia COVID-19.', 'Lo studio di eventuali relazioni di causalità tra la diffusione del virus e l’inquinamento atmosferico, in particolare di PM (PM10 e PM2,5), necessita quindi di essere attentamente analizzato, approfondendo la conoscenza di eventuali fattori confondenti che possono suggerire spurie associazioni causa-effetto.', 'In sintesi, la complessità del fenomeno, insieme alla parziale conoscenza di alcuni fattori che possono giocare o aver giocato un ruolo nella trasmissione e diffusione dell’infezione da SARS-CoV-2, rende al momento molto incerta una valutazione di associazione diretta tra elevati livelli di inquinamento atmosferico e la diffusione dell’epidemia da COVID-19, o del suo ruolo di amplificazione dell’infezione.', 'Appare dunque necessario pianificare e realizzare studi caratterizzati da adeguati disegni e protocolli di indagine, e corredati da modelli di analisi che consentano di comprendere il ruolo giocato dalle molteplici variabili coinvolte nel fenomeno, effettuando anche un’analisi comparativa su scala più ampia quale quella europea e internazionale.', 'Un elemento di sicuro approfondimento potrà essere rappresentato dal ruolo dell’ambiente indoor/outdoor nel suo complesso nel determinare lo stato di salute generale della popolazione, in particolare quella residente nelle aree urbane, e come questo possa aver influito sulla gravità degli esiti dell’infezione da SARS-CoV-2.', 'Per esempio, l’analisi dei decessi su un ampio campione di casi effettuato dall’ISS ha mostrato come la mortalità per COVID-19 sia stata elevata in soggetti che già presentavano una o più patologie (malattie respiratorie, cardiocircolatorie, obesità, diabete, malattie renali, ecc), sulle quali la qualità ambientale indoor e outdoor e gli stili di vita, in ambiente urbano, possono aver giocato un ruolo.', 'Uno studio che l’Università di Harvard ha presentato come pre-print, fornisce alcuni spunti di riflessione ma si basa su indicazioni parziali e presenta ampie incertezze ancora da risolvere (come gli autori stessi descrivono nei supplementary materials).', 'Tra queste, sicuramente la modalità di conteggio dei decessi per COVID-19 ancora non completamente chiarite e standardizzate nonché la stima delle concentrazioni di PM2,5 sul territorio degli USA che si basa sull’applicazione di modellistica che deve tener conto delle misure effettuate nelle postazioni fisse, le quali non hanno una distribuzione omogenea sul territorio.', 'Questo fattore introduce un’incertezza sulla rappresentatività spaziale delle stime del modello e gli stessi autori evidenziano una ampia variabilità dell’accuratezza del modello per aree geografiche diverse.', 'Il lavoro dei ricercatori di Harvard mostra dunque alcune carenze metodologiche importanti, tra le quali non ultima la mancanza di controllo per autocorrelazione spaziale sia della esposizione a PM atmosferico sia del contagio.', 'La diversa distribuzione spaziale delle postazioni di misura dell’inquinamento atmosferico che deve tener conto dell’alta disomogeneità dei territori (aree metropolitane, rurali, industriali, montane, costiere), come avviene anche in Italia, rappresenta un elemento di incertezza nella stima dell’esposizione inalatoria al PM2,5 indoor e outdoor della popolazione.', 'La complessità del fenomeno necessita quindi di ulteriori approfondimenti per completare e risolvere le incertezze ed eventuali relazioni spurie, la covarianza tra variabili, il ruolo dei confondenti e dei modificatori di effetto, ecc.', 'In merito all’argomento la comunità scientifica ha espresso la sua opinione pubblicando, principalmente in rete, una serie di contributi alcuni dei quali di seguito indicati e dai quali sono tratti elementi riportati e discussi in questo documento:   Data creazione della pagina: 4 maggio 2020Autori: Gaetano Settimo¹, Maria Eleonora Soggiu¹, Maria Masocco², Angela Spinelli²¹Dipartimento Ambiente e Salute, ISS²Centro Nazionale Prevenzione delle Malattie e Promozione della Salute, ISS']\n",
      "[\"L'infografica web con i dati della sorveglianza integrata COVID-19 e il report esteso vengono aggiornati periodicamente su EpiCentro.\", 'Dati della Sorveglianza integrata COVID-19 in Italia  Per approfondire i dati contenuti nella dashboard e nei bollettini settimanali della sorveglianza scarica:   Attenzione: Si sottolinea che i dati raccolti sono in continua fase di consolidamento e, come prevedibile in una situazione emergenziale, alcune informazioni possono risultare incomplete o posso essere oggetto di modifica da un giorno all’altro.', 'Inoltre, soprattutto nelle Regioni/PA in cui si è verificata o si sta ancora verificando una trasmissione locale sostenuta del virus c’è la possibilità di un ritardo di alcuni giorni tra il momento della esecuzione del tampone per la diagnosi e la segnalazione sulla piattaforma dedicata.', 'I dati pubblicati dall’ISS provengono dal Sistema di sorveglianza integrata COVID-19 in Italia e sono elaborati dall’ISS integrando i dati microbiologici ed epidemiologici forniti dalle Regioni e Provincie Autonome (PA) e dal Laboratorio nazionale di riferimento per SARS-CoV-2 dell’ISS.', \"Tutte le Regioni/Province Autonome inviano quotidianamente all'ISS i dati relativi a tutti gli individui con infezione da SARS-CoV-2 confermata in laboratorio.\", \"L'ISS ha creato una piattaforma informatica dedicata, che consente la raccolta dei dati sia attraverso un’interfaccia web collegata alla piattaforma stessa che attraverso l’invio di un dataset.\", 'Tutti i casi di COVID-19 diagnosticati dai laboratori di riferimento regionali e dagli altri laboratori che sono entrati più di recente a far parte ufficialmente della rete diagnostica, entrano nell’ambito della sorveglianza.', 'Si ricorda che la definizione internazionale di caso, adottata anche dall’ISS, prevede che venga considerata come caso confermato una persona con una conferma di laboratorio del virus che causa COVID-19 a prescindere dai segni e sintomi clinici.', 'I dati individuali vengono aggiornati da ciascuna Regione/PA con cadenza giornaliera e hanno la peculiarità di fornire un livello di dettaglio maggiore rispetto a quello previsto in altri flussi di dati (come per esempio quello della Protezione Civile o del Ministero della Salute).', 'Infatti sono spesso disponibili informazioni sulle patologie preesistenti e sulle condizioni cliniche in cui versano i pazienti al momento dell’inserimento dei loro dati nella piattaforma.', 'Come prevedibile in una situazione emergenziale, alcune informazioni possono essere temporaneamente incomplete.', 'Ci si riferisce a questo quando si parla di informazioni “in fase di consolidamento”.', 'In particolare, soprattutto nelle Regioni/PA in cui c’è un alto numero di contagi, di malati e di ricoverati, c’è la possibilità di un ritardo di alcuni giorni tra il momento dell’esecuzione del tampone per la diagnosi e la segnalazione sulla piattaforma dedicata.', 'Per i dati più recenti va usata particolare cautela, perché ci può essere un ritardo di notifica dei casi, e questo non deve essere interpretato come indice dell’andamento dell’epidemia.', 'Per approfondire questo aspetto consulta lapagina dedicata sorveglianza integrata COVID-19.', 'Definizione di caso  Secondo quanto riportato nella Circolare ministeriale 0007922-09/03/2020, la definizione di caso si basa sulle informazioni attualmente disponibili, perciò potrebbe essere rivista in base all’evoluzione della situazione epidemiologica e delle conoscenze scientifiche disponibili [3].', 'Caso sospetto di COVID 19 che richiede esecuzione di test diagnosticoCaso probabile: un caso sospetto il cui risultato del test per SARS-CoV-2 è dubbio o inconcludente utilizzando protocolli specifici di Real Time PCR per SARS-CoV-2 presso i laboratori di riferimento regionali individuati o è positivo utilizzando un test pan-coronavirus.', 'Caso confermato: un caso con una conferma di laboratorio per infezione da SARS-CoV-2, effettuata presso il laboratorio di riferimento nazionale dell’ISS o da laboratori regionali di riferimento che rispondano ai criteri indicati nell’Allegato 3 della Circolare, indipendentemente dai segni e dai sintomi clinici.', 'Definizione di decesso: Ai fini della sorveglianza l’OMS definisce undecesso per COVID-19 come un decesso risultante da una malattia clinicamente compatibile in un caso probabile o confermato di COVID-19, a meno che non vi sia una chiara causa di morte alternativa non correlabile al COVID-19 (per esempio, trauma).', 'Non dovrebbe esserci un periodo di completa guarigione tra la malattia e il decesso.', 'Età mediana/Età media: Mediana e media sono due misure statistiche utilizzate in epidemiologia per riassumere le informazioni su una variabile, in questo caso, l’età.', 'La media è calcolata sommando tutte le età degli individui e dividendola per il numero di persone incluse.', \"L'età mediana in un set di dati è l'età che divide il set in due metà, con una metà delle età al di sotto della mediana e l’altra metà al di sopra di questo numero.\", 'In questa epidemia, in cui la distribuzione delle età dei casi COVID-19 è asimmetrica la mediana descrive meglio la variabile rispetto alla media.', 'Numero decessi/letalità: Il tasso di letalità di una malattia è il numero di persone che sono morte a causa della malattia diviso per il numero totale di persone ammalate di quella malattia.', 'Questo è diverso dal tasso di mortalità, che è il numero di persone che sono morte a causa della malattia diviso per la popolazione totale.', 'Asintomatici: Una persona trovata positiva al test perSARS-CoV-2 senza segni o sintomi apparenti di malattia.', 'Pauci sintomatici: Una persona trovata positiva al test per SARS-CoV-2 con sintomi lievi (ad esempio malessere generale, lieve rialzo della temperatura corporea, stanchezza, ecc.).', 'Lievi: Una persona trovata positiva al test per SARS-CoV-2 con chiari segni e sintomi di malattia (malattia respiratoria) ma non abbastanza gravi da richiedere il ricovero ospedaliero.', 'Severi: Una persona trovata positiva al test per SARS-CoV-2 con chiari segni e sintomi di malattia (malattia respiratoria) abbastanza gravi da richiedere il ricovero ospedaliero.', 'Critici: Una persona risultata positiva al test per SARS-CoV-2 con chiari segni e sintomi di malattia (ad esempio, malattia respiratoria) e abbastanza gravi da richiedere il ricovero in Terapia Intensiva Il documento “Informazioni privacy per la sorveglianza sanitaria integrata COVID-19” (pdf 477 kb).', \"Data di ultimo aggiornamento: 16 gennaio 2021Data di pubblicazione: 11 marzo 2020Autori: Flavia Riccardo, Xanthi Andrianou, Antonino Bella, Martina Del Manso, Alberto Mateo Urdiales, Massimo Fabiani, Stefania Bellino, Stefano Boros, Fortunato (Paolo) D'Ancona, Maria Cristina Rota, Antonietta Filia, Ornella Punzo, Andrea Siddu, Maria Fenicia Vescio, Corrado Di Benedetto, Marco Tallon, Alessandra Ciervo, Patrizio Pezzotti, Paola Stefanelli - ISS\"]\n",
      "['Il rapporto sulle caratteristiche dei pazienti deceduti positivi a COVID-19 in Italia viene aggiornato periodicamente su questa pagina.', 'report in English “Characteristics of COVID-19 patients dying in Italy Report based on available data on December 16th, 2020” (pdf 182 kb)Indice rapportoIl presente report descrive le caratteristiche di 63.573 pazienti deceduti e positivi a SARS-CoV-2 in Italia riportati dalla Sorveglianza Integrata COVID-19 coordinata dall’Istituto Superiore di Sanità.', 'La Tabella riporta la distribuzione geografica dei decessi secondo le tre fasi che hanno caratterizzato la pandemia dall’inizio al 16 dicembre 2020: la prima ondata (marzo-maggio), la fase di bassa incidenza (giugno-settembre), e la seconda ondata (ottobre-dicembre), quest’ultima ancora in corso.I dati di sorveglianza sui decessi sono in continuo aggiornamento e consolidamento ed entrambe le attività necessitano di tempi per essere esplicate.', 'Ogni Regione ha la propria organizzazione per l’aggiornamento e relativi tempi di esecuzione.', 'Nel leggere quindi i dati per Regione, bisogna tenere conto che i tempi di notifica, controllo, verifica e aggiornamento dei dati varia da Regione a Regione e da periodo a periodo; ciò può implicare variazioni (in aumento e/o in diminuzione) e differenze sia con i dati già pubblicati nei report precedenti, sia con i dati pubblicati dalla Protezione Civile.', 'Va inoltre considerato che le differenze regionali nella percentuale di decessi riportate in tabella non devono essere interpretate in termini di rischio.', 'La letalità dipende infatti dal numero di infezioni avvenute in ciascuna Regione in un arco temporale compatibile con l’eventuale osservazione dell’evento fatale.', 'A questo proposito, occorre anche tener presente che la differenza tra il numero di infezioni e casi notificati può variare a livello regionale e nel corso del tempo in funzione di diverse strategie di accesso al test adottate durante l’epidemia, distorcendo così il confronto della letalità regionale.', \"Tabella: Distribuzione geografica dei pazienti deceduti SARS-CoV-2 positivi per periodomarzo-maggiogiugno-settembreottobre-16 dicembreTotaleREGIONEN%N%N%N%Lombardia16.35947,660733,07.10426,024.07037,9Emilia Romagna4.31312,51739,42.2328,26.71810,6Piemonte4.09111,91266,91.3264,85.5438,7Veneto1.9505,724813,52.88410,55.0828,0Lazio8402,41437,82.0997,73.0824,8Toscana1.0453,0965,21.7646,52.9054,6Campania4771,4583,22.1027,72.6374,1Liguria1.5164,41387,59743,62.6284,1Puglia5241,5754,11.4605,32.0593,2Sicilia3000,9573,11.6546,02.0113,2Marche9812,970,42230,81.2111,9Abruzzo4461,3372,05972,21.0801,7Friuli Venezia Giulia3461.0211.16322.39991.6Trento4021,240,23891,47951,3Bolzano2900,820,13801,46721,1Umbria750,290,54461,65300,8Sardegna1310,4241,33611,35160,8Valle d'Aosta1430,460,32060,83550,6Calabria960,340,22250,83250,5Basilicata290,120,11430,51740,3Molise220,120,11460,51700,3         Totale34.376100,01839100,027.347100,063.562100,0Nota: per 11 decessi non è stato possibile valutare il periodo; il numero dei morti, relativi al periodo ottobre - 16 dicembre, è in fase di consolidamento a causa del ritardo di notifica.\", 'L’età media dei pazienti deceduti e positivi a SARS-CoV-2 è 80 anni   (mediana 82, range 0-109, Range InterQuartile - IQR 75-88).', 'Le donne   decedute sono 27.132 (42,7%).', 'L’età mediana dei pazienti deceduti positivi   a SARS-CoV-2 è più alta di oltre 30 anni rispetto a quella dei pazienti   che hanno contratto l’infezione (età mediane: pazienti deceduti 82 anni –   pazienti con infezione 48 anni).', 'Le donne decedute dopo aver contratto   infezione da SARS-CoV-2 hanno un’età più alta rispetto agli uomini (età   mediane: donne 85 – uomini 80).', 'L’andamento dell’età media dei pazienti deceduti positivi a SARS-CoV-2   per settimana di calendario, a partire dalla 3° settimana di febbraio 2020   (la data del primo decesso risale al 21 febbraio 2020).', 'L’età media dei   decessi settimanali è andata sostanzialmente aumentando fino agli 85 anni   (1° settimana di luglio) per poi calare leggermente Il grafico presenta le più comuni patologie croniche preesistenti   (diagnosticate prima di contrarre l’infezione) in un campione di pazienti   deceduti.', 'Questo dato è stato ottenuto da 5962 deceduti per i quali è   stato possibile analizzare le cartelle cliniche.', 'Le cartelle cliniche sono   inviate all’ISS dagli ospedali secondo tempistiche diverse,   compatibilmente con le prioritarie delle attività svolte negli ospedali   stessi.', 'Il campione è quindi di tipo opportunistico, rappresenta solo i   decessi in soggetti che hanno avuto necessità del ricovero, e le Regioni   sono rappresentate cercando di conservare una proporzionalità rispetto al   numero di decessi.', 'Il numero medio di patologie osservate in questa   popolazione è di 3,6 (mediana 3, Deviazione Standard 2,1).', \"Complessivamente, 184 pazienti (3,1% del campione) presentavano 0   patologie, 739 (12,4%) presentavano 1 patologia, 1095 (18,4%) presentavano   2 patologie e 3944 (66,2%) presentavano 3 o più patologie.Prima del ricovero in ospedale, il 21% dei pazienti deceduti SARS-CoV-2   positivi seguiva una terapia con ACE-inibitori e il 14% una terapia con   Sartani (bloccanti del recettore per l'angiotensina).Le più comuni patologie croniche preesistenti nei pazienti deceduti   distinte per uomini (n=3589) e donne (n=2373).\", 'Nelle donne il numero medio   di patologie osservate è di 3,8 (mediana 4, Deviazione Standard 2,0).', 'Negli uomini il numero medio di patologie osservate è di 3,5 (mediana 3,   Deviazione Standard 2,1).', 'La tabella 1 riassume le principali caratteristiche dei decessi con COVID-19 avvenuti nei 3 periodi dall’inizio della pandemia nel 2020: il periodo iniziale (marzo-maggio), il secondo periodo (giugno-settembre) e il terzo (ottobre-dicembre), anche se quest’ultimo è ancora in corso.', 'Complessivamente i dati erano rappresentativi del 9,6% dei deceduti dall’inizio della pandemia; in particolare, del 13,3% dei deceduti tra marzo e maggio, del 27,5% dei deceduti tra giugno e settembre e del 3,7% dei deceduti tra ottobre e dicembre.Nell’intero arco temporale preso in considerazione, aumentano i decessi di persone con 3 o più patologie preesistenti e diminuiscono quelli con meno patologie o nessuna: ciò sembra indicare che nel secondo e nel terzo periodo i decessi riguardano persone più anziane e con una condizione di salute preesistente peggiore rispetto ai decessi relativi al primo trimestre (tabella   1).Estremamente diverso nei tre periodi è anche l’uso di farmaci, con una netta riduzione nell’utilizzo degli antivirali e un aumento nell’uso degli steroidi nel secondo e terzo periodo.', 'Tabella 1.', 'Età media, prevalenza di donne, numero di patologie preesistenti, complicanze e trattamenti nei decessi con COVID-19 per trimestre di decessoCampione   delle cartelle cliniche valutateTutti(n=5962)mar-mag 2020(n=4470)giu-sett 2020(n=501)ott-16 dic 2020(n=991)p-value*  N di   comorbosità    0184 (3,1)169 (3,8)6 (1,2)9 (0,9)<0,001    1  739 (12,4)  606 (13,6)  44 (8,8)  89 (9,0)     2  1095 (18,4)  895 (20,0)  66 (13,2)134 (13,5)    3 o più3944 (66,2)2800 (62,6)385 (76,8)759 (76,6)Complicazioni durante   il ricovero in ospedale  Polmonite  5499 (94,0)  4142 (95,2)  412 (83,2)  945 (94,6)  <0,001   Danno renale acuto  1389 (23,8)  1001 (23,0)  134 (27,1)  254 (25,4)  0,052   Danno miocardico acuto  632 (10,8)  471 (10,8)  49 (9,9)  112 (11,2)  0,743   Sovrainfezione  1134 (19,4)  722 (16,6)  203 (41,0)  209 (20,9)  <0,001Terapie    Antibiotici  5052 (85,8)  3813 (86,7)  424 (86,0)  815 (81,7)  <0,001    Antivirali  2865 (48,7)  2599 (59,1)  157 (31,8)  109 (10,9)  <0,001    Steroidi  3022 (51,3)  1903 (43,3)321 (65,1)  798 (80,0)<0,001   Tocilizumab218 (4,1)170 (4,3)28 (5,9)20 (2,1)0,001* p-value per le differenze tra i 3 periodi  La distribuzione delle principali patologie preesistenti nei diversi periodi è presentata nella figura 6.', 'La prevalenza di fibrillazione atriale, ictus, demenza, BPCO, cancro, insufficienza renale e obesità varia in maniera significativa nei tre periodi.', 'Queste patologie sono più frequentemente diagnosticate nei deceduti del secondo e terzo periodo rispetto a quelli del primo.', 'Nella tabella 2 sono riportate le durate come tempi mediani (in giorni) nei 3 periodi di tempo considerati: tra il primo e il secondo periodo quasi raddoppia il tempo che trascorre dall’insorgenza dei sintomi al decesso, che poi torna ai livelli iniziali nel terzo periodo; diminuisce il tempo che trascorre dall’insorgenza dei sintomi all’esecuzione del tampone per la rilevazione dell’infezione da SARS-CoV-2 nel secondo periodo e rimane tale nel terzo periodo, così come il tempo tra l’insorgenza dei sintomi e il ricovero in ospedale; raddoppia la durata mediana in giorni dal ricovero in ospedale al decesso tra il primo e il secondo periodo per poi tornare, nel terzo periodo, ai livelli del primo.', 'Questi risultati sembrano suggerire una maggiore reattività del Sistema Sanitario testimoniata dalla maggiore rapidità nell’esecuzione di esami diagnostici e nell’ospedalizzazione.', 'Tabella 2.', 'Tempi mediani (in giorni) tra insorgenza dei sintomi, test PCR, ricovero in ospedale e decesso    Tutti(n=5962)mar-mag 2020(n=4470)giu-sett   2020(n=501)ott-16 dic   2020(n=991)p-value*Tempi (in giorni)MedianaIQRMedianaIQRMedianaIQRMedianaIQR Dall’insorgenza dei sintomi al   decesso127-20127-19229-55117-18<0,001Dall’insorgenza dei sintomi al test   SARS-CoV-252-852-931-731-6<0,001Dall’insorgenza dei sintomi al ricovero in ospedale42-742-731-731-7<0,001Dal ricovero in ospedale al decesso73-1473-13155-4373-12<0,001* p-value per le differenze tra i 3    periodi.IQR=Inter-Quartile Range  I dati qui presentati possono essere spiegati da maggiori conoscenze circa l’infezione e maggiori capacità e tempestività di cura della stessa nel periodo giugno-agosto.', 'Inoltre è verosimile che nei mesi di marzo e aprile il COVID-19 sia stato sotto-diagnosticato in molti deceduti anziani fragili (come per esempio quelli nelle RSA).', 'Questo può aver portato una sottostima del carico di patologie dei deceduti in tale periodo.', 'Nella tabella 2 sono riportate le durate come tempi mediani (in giorni) nei 3 periodi di tempo considerati: tra il primo e il secondo periodo quasi raddoppia il tempo che trascorre dall’insorgenza dei sintomi al decesso, che poi torna ai livelli iniziali nel terzo periodo; diminuisce il tempo che trascorre dall’insorgenza dei sintomi all’esecuzione del tampone per la rilevazione dell’infezione da SARS-CoV-2 nel secondo periodo e rimane tale nel terzo periodo, così come il tempo tra l’insorgenza dei sintomi e il ricovero in ospedale; raddoppia la durata mediana in giorni dal ricovero in ospedale al decesso tra il primo e il secondo periodo per poi tornare, nel terzo periodo, ai livelli del primo.', 'Questi risultati sembrano suggerire una maggiore reattività del Sistema Sanitario testimoniata dalla maggiore rapidità nell’esecuzione di esami diagnostici e nell’ospedalizzazione.', 'Tabella 2.', 'Tempi mediani (in giorni) tra insorgenza dei sintomi, test PCR, ricovero in ospedale e decessoTutti(n=5962)mar-mag 2020(n=4470)giu-sett   2020(n=501)ott-16 dic   2020(n=991)p-value*Tempi (in giorni)MedianaIQRMedianaIQRMedianaIQRMedianaIQR Dall’insorgenza dei sintomi al   decesso127-20127-19229-55117-18<0,001Dall’insorgenza dei sintomi al test   SARS-CoV-252-852-931-731-6<0,001Dall’insorgenza dei sintomi al ricovero in ospedale42-742-731-731-7<0,001Dal ricovero in ospedale al decesso73-1473-13155-4373-12<0,001* p-value per le differenze tra i 3    periodi.IQR=Inter-Quartile Range  I dati qui presentati possono essere spiegati da maggiori conoscenze circa l’infezione e maggiori capacità e tempestività di cura della stessa nel periodo giugno-agosto.', 'Inoltre è verosimile che nei mesi di marzo e aprile il COVID-19 sia stato sotto-diagnosticato in molti deceduti anziani fragili (come per esempio quelli nelle RSA).', 'Questo può aver portato una sottostima del carico di patologie dei deceduti in tale periodo.', 'Sulla base delle indicazioni emanate dal Ministero della Salute nella Circolare pubblicata il 25 febbraio 2020 (protocollo 0005889-25/02/2020), la certificazione di decesso a causa di COVID-19 deve essere accompagnata da parere dell’Istituto Superiore di Sanità (ISS).', 'Per questo motivo, è stato creato un gruppo di lavoro dedicato allo studio delle cause di morte dei pazienti deceduti che risultavano positivi all’infezione da SARS-CoV-2.', 'L’analisi si basa sui dati contenuti nelle cartelle cliniche e nelle schede di morte ISTAT recanti le cause di decesso di questi pazienti.', 'La raccolta dati avviene tramite la piattaforma webhttp://covid-19.iss.it, già utilizzata dalla sorveglianza nazionale, epidemiologica e virologica, dei casi di COVID-19 in Italia (coordinata dall’ISS e attivata dalla Circolare ministeriale del 22 gennaio 2020, n.1997).', 'Per informazioni è possibile mandare un’e-mail all’indirizzo di posta elettronica decessicovid-19@iss.it o contattare il dott.', 'Graziano Onder (Direttore del Dipartimento Malattie cardiovascolari, endocrino-metaboliche e invecchiamento, ISS) al numero di telefono: 06/49904231.', \"il rapporto “Impatto dell'epidemia COVID-19 sulla mortalità: cause di morte nei deceduti positivi a SARS-CoV-2” (pdf 1,1 Mb) realizzato da ISS e ISTAT il 16 luglio 2020 che presenta un’analisi approfondita delle malattie presenti sulle schede di morte di soggetti diagnosticati microbiologicamente tramite tampone rino/orofaringeo positivo al SARS-CoV-2.\", 'Data di ultimo aggiornamento: 23 dicembre 2020Data di creazione della pagina: 27 marzo 2020Report prodotto dal Gruppo della Sorveglianza COVID-19: Luigi Palmieri, Elvira Agazio, Xanthi Andrianou, Pierfrancesco Barbariol, Antonino Bella, Eva Benelli, Luigi Bertinato, Matilde Bocci, Stefano Boros, Giovanni Calcagnini, Marco Canevelli, Federica Censi, Alessandra Ciervo, Elisa Colaizzo, Martina Del Manso, Corrado Di Benedetto, Chiara Donfrancesco, Massimo Fabiani, Francesco Facchiano, Marco Floridia, Fabio Galati, Marina Giuliano, Tiziana Grisetti, Cecilia Guastadisegni, Yllka Kodra, Ilaria Lega, Cinzia Lo Noce, Pietro Maiozzi, Valerio Manno, Margherita Martini, Alberto Mateo Urdiales, Eugenio Mattei, Claudia Meduri, Paola Meli, Giada Minelli, Lorenza Nisticò, Graziano Onder, Lucia Palmisano, Daniele Petrone, Patrizio Pezzotti, Flavia Pricci, Ornella Punzo, Vincenzo Puro, Federica Quarata, Valeria Raparelli, Flavia Riccardo, Simone Rocchetto, Paolo Salerno, Giulia Sarti, Debora Serra, Matteo Spuri, Paola Stefanelli, Marco Tallon, Manuela Tamburo De Bella, Dorina Tiple, Marco Toccaceli Blasi, Federica Trentin, Brigid Unim, Luana Vaianella, Nicola Vanacore, Maria Fenicia Vescio, Emanuele Rocco Villani, Silvio Brusaferro.']\n",
      "['I coronavirus (CoV) sono un’ampia famiglia di virus respiratori che possono causare malattie da lievi a moderate, dal comune raffreddore a sindromi respiratorie come la MERS (sindrome respiratoria mediorientale, Middle East respiratory syndrome) e la SARS (sindrome respiratoria acuta grave, Severe acute respiratory syndrome).', 'Sono chiamati così per le punte a forma di corona che sono presenti sulla loro superficie.', 'I coronavirus sono comuni in molte specie animali (come i cammelli e i pipistrelli) ma in alcuni casi, se pur raramente, possono evolversi e infettare l’uomo per poi diffondersi nella popolazione.', \"Un nuovo coronavirus è un nuovo ceppo di coronavirus che non è stato precedentemente mai identificato nell'uomo.\", 'I coronavirus umani conosciuti ad oggi, comuni in tutto il mondo, sono sette, alcuni identificati diversi anni fa (i primi a metà degli anni Sessanta) e alcuni identificati nel nuovo millennio.', 'Coronavirus umani comuni1 - 229E (coronavirus alpha) 2 - NL63 (coronavirus alpha) 3 - OC43 (coronavirus beta) 4 - HKU1 (coronavirus beta) Altri coronavirus umani 5 - MERS-CoV (il coronavirus beta che causa la Middle East respiratory syndrome) 6 - SARS-CoV (il coronavirus beta che causa la Severe acute respiratory syndrome) 7 - SARS-CoV-2 (il coronavirus che che causa la COVID-19)   Data di pubblicazione: 23 gennaio 2020Autori: Giovanni Rezza, Antonino Bella, Flavia Riccardo, Patrizio Pezzotti - Dipartimento Malattie infettive, ISS']\n",
      "['I coronavirus umani si trasmettono da una persona infetta a un’altra attraverso:Sulla base dei dati al momento disponibili, l’OMS ribadisce che il contatto con i casi sintomatici (persone che hanno contratto l’infezione e hanno già manifestato i sintomi della malattia) è il motore principale della trasmissione del nuovo coronavirus SARS-CoV-2.', 'L’OMS è a conoscenza di una possibile trasmissione del virus da persone infette ma ancora asintomatiche.', 'In base a quanto già noto sugli altri coronavirus (ad es.', 'MERS-CoV), sappiamo che l’infezione asintomatica potrebbe essere rara e che la trasmissione del virus da casi asintomatici è possibile, ma non frequente.', 'Sulla base di questi dati, l’OMS conclude che la trasmissione da casi asintomatici probabilmente non è uno dei motori principali della trasmissione del nuovo coronavirus SARS-CoV-2.', 'Tuttavia molti studi sono in corso per ampliare le conoscenze sulle modalità di trasmissione di SARS-CoV-2.', 'Non esistono trattamenti specifici per le infezioni causate dai coronavirus e non sono disponibili, al momento, vaccini per proteggersi dal virus.', 'Riguardo il nuovo coronavirus SARS-CoV-2, non esistono al momento terapie specifiche, vengono curati i sintomi della malattia (così detta terapia di supporto) in modo da favorire la guarigione, ad esempio fornendo supporto respiratorio.', 'Si ricorda che l’Agenzia italiana del farmaco (AIFA) fornisce sul proprio sito informazioni sui farmaci utilizzati al di fuori delle sperimentazioni cliniche, come quelli commercializzati per altre indicazioni che vengono resi disponibili ai pazienti, pur in assenza di indicazione terapeutica specifica per il COVID-19, sulla base di evidenze scientifiche spesso piuttosto limitate.', 'Consulta la pagina dedicata sulsito AIFA.', 'È possibile ridurre il rischio di infezione, proteggendo se stessi e gli altri, seguendo alcuni accorgimenti: Proteggi te stessoLavati spesso le mani (dopo aver tossito/starnutito, dopo aver assistito un malato, prima durante e dopo la preparazione di cibo, prima di mangiare, dopo essere andati in bagno, dopo aver toccato animali o le loro deiezioni o più in generale quando le mani sono sporche in qualunque modo).', 'In ambito assistenziale (ad esempio negli ospedali) segui i consigli degli operatori sanitari che forniscono assistenza.', 'Proteggi gli altri Data di ultimo aggiornamento: 25 aprile 2020Data di pubblicazione: 23 gennaio 2020Autori: Giovanni Rezza, Antonino Bella, Flavia Riccardo, Patrizio Pezzotti - Dipartimento Malattie infettive, ISS']\n",
      "['La prevenzione e il controllo delle infezioni (Infection prevention and control, IPC) è un approccio scientifico e pratico finalizzato a prevenire i rischi causati dalle infezioni per pazienti e operatori sanitari.', 'In Italia, l’Istituto Superiore di Sanità, a seguito dell’epidemia da COVID-19 ha predisposto un Gruppo di lavoro dedicato specificamente alla prevenzione e controllo delle infezioni, che tra le diverse attività si occupa anche della pubblicazione di una serie di rapporti tecnici volti a fornire indicazioni sull’IPC.', 'Consulta e scarica i rapporti ISS: Data di ultimo aggiornamento della pagina: 10 settembre 2020 Data di creazione della pagina: 20 luglio 2020 Revisore: Fortunato “Paolo” D’Ancona - Dipartimento Malattie infettive, ISS']\n",
      "['A causa della pandemia di COVID-19 (causata dal nuovo virus SARS-CoV-2) nei Paesi della Regione europea dell’Organizzazione Mondiale della Sanità (OMS) esiste il rischio che si possa verificare una riduzione generale delle normali attività vaccinali, sia per lo spostamento di risorse sanitarie verso le attività di controllo della pandemia, sia per le misure di distanziamento sociale imposte alla popolazione, che potrebbero portare alcune persone a decidere di rimandare le vaccinazioni programmate per se stessi o per i propri figli.', 'Le vaccinazioni sono una componente fondamentale dei servizi sanitari e una loro interruzione, anche se per un breve periodo, porterebbe a un accumulo di persone suscettibili e a un maggiore rischio di epidemie di malattie prevenibili da vaccino (VPD, vaccine preventable diseases) che possono causare decessi e portare una aumentata richiesta di risorse sanitarie.', 'È fondamentale pertanto ridurre al minimo questo rischio, soprattutto in un sistema già provato dalla risposta all’epidemia di COVID-19.', 'L’OMS Europa, il 20 marzo 2020, ha pubblicato il documento “Guidance on routine immunization services during COVID-19 pandemic in the WHO European Region”, per fornire un supporto ai Paesi nella decisione di mantenere o meno le normali attività vaccinali nel periodo pandemico, indicare quali sono i fattori che ogni Paese deve considerare per effettuare una valutazione del rischio, fornire dei principi guida da seguire e indicazioni su come effettuare le vaccinazioni in sicurezza.', 'Secondo l’OMS è essenziale mantenere gli appuntamenti vaccinali, soprattutto per le vaccinazioni di routine, fino a quando le misure di risposta alla COVID-19 lo consentano.', \"Qualsiasi decisione inerente le possibili opzioni di funzionamento dei servizi vaccinali deve essere presa valutando in maniera dettagliata: l'epidemiologia delle VPD, lo scenario di trasmissione della COVID-19, le corrispondenti misure di mitigazione in atto e le risorse disponibili.\", \"In particolare, è necessario valutare i seguenti punti: L'impatto e l'adeguatezza delle opzioni scelte dovrebbero essere monitorati e valutati periodicamente con l'evoluzione della situazione relativa alla pandemia da COVID-19.\", \"L'attuale situazione COVID-19 e le capacità del sistema sanitario variano ampiamente all'interno della Regione europea e tutto è in rapida evoluzione.\", 'Pertanto, il miglior approccio per mantenere elevati i livelli di copertura vaccinale non potrà essere sempre lo stesso nei diversi Paesi.', 'Tutti devono però fare ogni possibile sforzo per mantenere elevati i livelli di immunità nella popolazione.', \"Considerando che potrebbero esserci delle interruzioni, è fondamentale tenere fin d’ora un elenco dei bambini che hanno saltato dosi di vaccino e sviluppare un piano d'azione ad hoc per il recupero successivo delle dosi non ricevute.\", 'Nel documento l’OMS delinea i principi guida per l’organizzazione dei servizi vaccinali, da seguire durante la pandemia COVID-19:Infine, le caratteristiche epidemiologiche, operative e contestuali di ciascun Paese sono uniche e sarebbe impossibile stabilire una strategia adeguata per tutte le situazioni.', 'L’OMS Europa fornisce un algoritmo per aiutare le autorità nazionali a prendere decisioni relative al mantenere in funzione i servizi vaccinali.', 'Si sottolinea inoltre l’importanza di mantenere e rinforzare la sorveglianza delle malattie prevenibili da vaccino, per identificare precocemente e gestire i casi di malattie prevenibili da vaccino.', \"Le raccomandazioni dell’Ufficio Regionale europeo dell’OMS vengono ulteriormente ribadite in un secondo documento dell’OMS “Guiding principles for immunization activities during the COVID-19 pandemic”, in cui si sottolinea che l'elevato potenziale di epidemie di malattie prevenibili da vaccino rende indispensabile per i Paesi mantenere la continuità dei servizi vaccinali ovunque tali servizi possano essere condotti in condizioni di sicurezza.\", 'Data di creazione della pagina: 7 aprile 2020Autori: Antonietta Filia, Maria Cristina Rota – Dipartimento Malattie infettive, ISS']\n",
      "['Le dipendenze da sostanze come il tabacco, l’alcol e le droghe ma anche le dipendenze comportamentali (gioco d’azzardo, cibo, internet e nuove tecnologie, doping) sono importanti fattori di rischio per la salute pubblica e lo diventano ancora di più in una situazione particolare come quella correlata alla pandemia da COVID-19 che prevede un periodo di grandi chiusure e di forzata permanenza a casa.', 'L’Istituto Superiore di Sanità (ISS) apre dunque una sezione dedicata alle dipendenze nel contesto COVID-19 per aiutare operatori e cittadini a far fronte all’emergenza con materiale di supporto e approfondimenti sul tema.', 'Data di creazione della pagina: 6 maggio 2020Revisore: Roberta Pacifici - Centro nazionale dipendenze e doping, ISS']\n"
     ]
    }
   ],
   "source": [
    "# ogni line abbiamo una lista di frasi\n",
    "for l in doc_corpus[:10]:\n",
    "  print(l)"
   ]
  },
  {
   "cell_type": "code",
   "execution_count": null,
   "metadata": {
    "colab": {
     "base_uri": "https://localhost:8080/"
    },
    "collapsed": true,
    "executionInfo": {
     "elapsed": 911,
     "status": "ok",
     "timestamp": 1611768844757,
     "user": {
      "displayName": "lorenzo di gianvittorio",
      "photoUrl": "",
      "userId": "05218746870272170826"
     },
     "user_tz": -60
    },
    "id": "mp0__4z3xlNy",
    "outputId": "9acf33ea-5750-48b0-958b-fcf62541639f"
   },
   "outputs": [
    {
     "data": {
      "text/plain": [
       "['la pandemia da covid-19 ha reso necessaria una riorganizzazione dei percorsi assistenziali legati alla nascita.',\n",
       " 'per questo motivo, l’iss mette a disposizione del personale sanitario una selezione di risorse, letteratura ed evidence disponibili su gravidanza, parto e allattamento.',\n",
       " 'in evidenza:  la pagina dedicata alla vaccinazione contro il covid-19 in gravidanza e allattamentola pagina dedicata allo studio “covid-19 e salute mentale perinatale: impatto del covid-19 sul vissuto e lo stato emotivo in epoca perinatale delle donne in contatto con i consultori familiari (cf)”, di cui l’istituto superiore di sanità è coordinatore, aggiornata al 7 gennaio 2021leggi gli altri approfondimenti:per aiutare il personale sanitario nel lavoro quotidiano di assistenza alle donne durante la gravidanza, il parto e l’allattamento, le ricercatrici dell’iss hanno messo a punto alcuni materiali di comunicazione specifici.',\n",
       " 'visita lapagina dedicata.data di ultimo aggiornamento: 9 gennaio 2021 data di creazione della pagina: 27 febbraio 2020',\n",
       " 'non esiste alcuna evidenza che gli animali domestici giochino un ruolo nella diffusione di sars-cov-2 che riconosce, invece, nel contagio interumano la via principale di trasmissione.',\n",
       " 'tuttavia, poiché la sorveglianza veterinaria e gli studi sperimentali suggeriscono che gli animali domestici siano, occasionalmente, suscettibili a sars-cov-2, è importante proteggere gli animali di pazienti affetti da covid-19, limitando la loro esposizione.',\n",
       " 'il virus sars-cov-2, lasciato il suo probabile serbatoio animale selvatico, si è diffuso rapidamente in tutti i continenti, trovando nella specie umana una popolazione recettiva e in grado di permettergli una efficiente trasmissione intraspecifica.',\n",
       " \"l'elevata circolazione del virus tra gli esseri umani sembra però non risparmiare, in alcune occasioni, gli animali che condividono con l'uomo ambiente domestico, quotidianità e affetto.\",\n",
       " 'al 2 aprile 2020, a fronte di 800 mila casi confermati nel mondo di covid-19 nell’uomo, sono solamente 4 i casi documentati di positività da sars-cov-2 negli animali da compagnia: due cani e un gatto ad hong kong e un gatto in belgio.',\n",
       " \"in tutti i casi, all'origine dell'infezione negli animali vi sarebbe la malattia dei loro proprietari, tutti affetti da covid-19.\"]"
      ]
     },
     "execution_count": 11,
     "metadata": {
      "tags": []
     },
     "output_type": "execute_result"
    }
   ],
   "source": [
    "sentence_corpus[:10]"
   ]
  },
  {
   "cell_type": "markdown",
   "metadata": {
    "id": "u_6WzL-i15Nh"
   },
   "source": [
    "### Costruzione del modello - BERT XXL\n",
    "\n"
   ]
  },
  {
   "cell_type": "markdown",
   "metadata": {
    "id": "ePAxiaTx2J7f"
   },
   "source": [
    "Il modello è stato preso da https://huggingface.co/dbmdz/bert-base-italian-cased"
   ]
  },
  {
   "cell_type": "code",
   "execution_count": 21,
   "metadata": {
    "colab": {
     "base_uri": "https://localhost:8080/"
    },
    "executionInfo": {
     "elapsed": 6466,
     "status": "ok",
     "timestamp": 1611855694705,
     "user": {
      "displayName": "lorenzo di gianvittorio",
      "photoUrl": "",
      "userId": "05218746870272170826"
     },
     "user_tz": -60
    },
    "id": "MSKZdeUJ2Hyr",
    "outputId": "5a3636c9-c58c-464c-d9fb-3e193b1b4326"
   },
   "outputs": [
    {
     "name": "stderr",
     "output_type": "stream",
     "text": [
      "Exception when trying to download https://sbert.net/models/dbmdz/bert-base-italian-xxl-uncased.zip. Response 404\n",
      "SentenceTransformer-Model https://sbert.net/models/dbmdz/bert-base-italian-xxl-uncased.zip not found. Try to create it from scratch\n",
      "Try to create Transformer Model dbmdz/bert-base-italian-xxl-uncased with mean pooling\n"
     ]
    }
   ],
   "source": [
    "bert_model = SentenceTransformer('dbmdz/bert-base-italian-xxl-uncased') "
   ]
  },
  {
   "cell_type": "markdown",
   "metadata": {
    "id": "chCuck0A2les"
   },
   "source": [
    "A differenza di word2vec questo modello non richiede che il testo sia processato (gli passiamo la lista delle frasi del nostro corpus di documenti)"
   ]
  },
  {
   "cell_type": "code",
   "execution_count": 22,
   "metadata": {
    "colab": {
     "base_uri": "https://localhost:8080/",
     "height": 66,
     "referenced_widgets": [
      "f98685d39b3c45babf964ec0c2463835",
      "6e15e39a1e604cb0b667266cf07c169a",
      "c2fc99adb94e485eb6728624acd07c5c",
      "71cced45e29d4c58a91feaa0ed25c330",
      "3272762835834465b3287a454a75cf6b",
      "f9f7b862fa8844039bc6c0b6491e0ccc",
      "cc38449d75814666bfe7acdc2f22191a",
      "3b68b31fa8544be09b3fe3fafe49f0d4"
     ]
    },
    "executionInfo": {
     "elapsed": 338032,
     "status": "ok",
     "timestamp": 1611856039204,
     "user": {
      "displayName": "lorenzo di gianvittorio",
      "photoUrl": "",
      "userId": "05218746870272170826"
     },
     "user_tz": -60
    },
    "id": "PaMh5YA52rwX",
    "outputId": "6f876b31-c6b5-45e5-a876-97a7fba41d2f"
   },
   "outputs": [
    {
     "data": {
      "application/vnd.jupyter.widget-view+json": {
       "model_id": "f98685d39b3c45babf964ec0c2463835",
       "version_major": 2,
       "version_minor": 0
      },
      "text/plain": [
       "HBox(children=(FloatProgress(value=0.0, description='Batches', max=69.0, style=ProgressStyle(description_width…"
      ]
     },
     "metadata": {
      "tags": []
     },
     "output_type": "display_data"
    },
    {
     "name": "stdout",
     "output_type": "stream",
     "text": [
      "\n"
     ]
    }
   ],
   "source": [
    "sentence_embeddings = bert_model.encode(sentence_corpus, \n",
    "                                        show_progress_bar=True)"
   ]
  },
  {
   "cell_type": "code",
   "execution_count": 23,
   "metadata": {
    "executionInfo": {
     "elapsed": 628,
     "status": "ok",
     "timestamp": 1611856041440,
     "user": {
      "displayName": "lorenzo di gianvittorio",
      "photoUrl": "",
      "userId": "05218746870272170826"
     },
     "user_tz": -60
    },
    "id": "mNfP2Gc76lhP"
   },
   "outputs": [],
   "source": [
    "# funzione che calcola la cosine similarity\n",
    "def cosine(u, v):\n",
    "    return np.dot(u, v) / (np.linalg.norm(u) * np.linalg.norm(v))"
   ]
  },
  {
   "cell_type": "markdown",
   "metadata": {
    "id": "5cE7pf4HAH0t"
   },
   "source": [
    "### Costruzione del modello RoBERTa\n",
    "Il modello è stato preso da https://huggingface.co/sentence-transformers/msmarco-distilroberta-base-v2"
   ]
  },
  {
   "cell_type": "code",
   "execution_count": null,
   "metadata": {
    "colab": {
     "base_uri": "https://localhost:8080/"
    },
    "executionInfo": {
     "elapsed": 21655,
     "status": "ok",
     "timestamp": 1611847296574,
     "user": {
      "displayName": "lorenzo di gianvittorio",
      "photoUrl": "",
      "userId": "05218746870272170826"
     },
     "user_tz": -60
    },
    "id": "BVHJJ1vZAVkR",
    "outputId": "db76c14d-eab8-4dbf-9600-ae3eae8fb22f"
   },
   "outputs": [
    {
     "name": "stderr",
     "output_type": "stream",
     "text": [
      "100%|██████████| 305M/305M [00:14<00:00, 20.8MB/s]\n"
     ]
    }
   ],
   "source": [
    "bert_model2 = SentenceTransformer('msmarco-distilroberta-base-v2')"
   ]
  },
  {
   "cell_type": "code",
   "execution_count": null,
   "metadata": {
    "colab": {
     "base_uri": "https://localhost:8080/",
     "height": 66,
     "referenced_widgets": [
      "0eec8af2f01a4c9e81c7c1c319f6f419",
      "92231943c5174d1f82c0e93f7957ac64",
      "9bb4549ef2de418a9e032a2ca65cdcb9",
      "9b766be21b204a22b435e79290274253",
      "d7dca275c5d34351878899204006c3e7",
      "d83ea2d7968f4840afeb9ed40f787d37",
      "67533be5532d467eb36b27b2c84fce49",
      "82601a76d51c46ebb3b89ddf8be70856"
     ]
    },
    "executionInfo": {
     "elapsed": 283984,
     "status": "ok",
     "timestamp": 1611847587107,
     "user": {
      "displayName": "lorenzo di gianvittorio",
      "photoUrl": "",
      "userId": "05218746870272170826"
     },
     "user_tz": -60
    },
    "id": "BmrE-xpHAuuz",
    "outputId": "624728a1-09fb-4bab-9239-1e913f105487"
   },
   "outputs": [
    {
     "data": {
      "application/vnd.jupyter.widget-view+json": {
       "model_id": "0eec8af2f01a4c9e81c7c1c319f6f419",
       "version_major": 2,
       "version_minor": 0
      },
      "text/plain": [
       "HBox(children=(FloatProgress(value=0.0, description='Batches', max=69.0, style=ProgressStyle(description_width…"
      ]
     },
     "metadata": {
      "tags": []
     },
     "output_type": "display_data"
    },
    {
     "name": "stdout",
     "output_type": "stream",
     "text": [
      "\n"
     ]
    }
   ],
   "source": [
    "sentence_embeddings2 = bert_model2.encode(sentence_corpus, \n",
    "                                          show_progress_bar=True)"
   ]
  },
  {
   "cell_type": "markdown",
   "metadata": {
    "id": "GoIReFR86ZUh"
   },
   "source": [
    "### Impostazione del chatbot"
   ]
  },
  {
   "cell_type": "code",
   "execution_count": 24,
   "metadata": {
    "executionInfo": {
     "elapsed": 592,
     "status": "ok",
     "timestamp": 1611856113859,
     "user": {
      "displayName": "lorenzo di gianvittorio",
      "photoUrl": "",
      "userId": "05218746870272170826"
     },
     "user_tz": -60
    },
    "id": "rP9O8m9o6XDN"
   },
   "outputs": [],
   "source": [
    "# funzione che restituisce un saluto come risposta a un saluto dell'utente\n",
    "def greeting_response(text):\n",
    "    text = text.lower()\n",
    "    \n",
    "    # lista dei possibili saluti che il bot può dare\n",
    "    bot_greetings = ['ciao', 'ehi']\n",
    "    # lista dei saluti che il bot riconosce\n",
    "    user_greetings = ['ciao']\n",
    "    \n",
    "    # se una parola dell'utente contiene una parola in user_greetings\n",
    "    for word in text.split():\n",
    "        if word in user_greetings:\n",
    "            # restituisci una parola presa a caso da bot_greetings\n",
    "            return random.choice(bot_greetings)"
   ]
  },
  {
   "cell_type": "code",
   "execution_count": 25,
   "metadata": {
    "executionInfo": {
     "elapsed": 682,
     "status": "ok",
     "timestamp": 1611856131570,
     "user": {
      "displayName": "lorenzo di gianvittorio",
      "photoUrl": "",
      "userId": "05218746870272170826"
     },
     "user_tz": -60
    },
    "id": "Yvg0eRQD6dpp"
   },
   "outputs": [],
   "source": [
    "def bot_response(user_input, model,embeddings, q_a, corpus):\n",
    "    bot_response = ''\n",
    "    # flag per vedere se esiste una risposta per la query dell'utente\n",
    "    response_flag = 0\n",
    "    found_faq = False\n",
    "    \n",
    "    # vettorizziamo l'input\n",
    "    input_emb = model.encode([user_input])[0]\n",
    "    # answer_list = lista che conterrà tutte le frasi che con similarità > 0.35\n",
    "    answers_list = list()\n",
    "    \n",
    "    for i in range(len(embeddings)):\n",
    "      sent = corpus[i]\n",
    "      # calcoliamo la similarità tra la query e ogni\n",
    "      # frase (embedding) del corpus\n",
    "      sim = cosine(input_emb, embeddings[i])\n",
    "      if sim > 0.35:\n",
    "        answers_list.append(((sim, sent)))\n",
    "      i += 1\n",
    "\n",
    "    # riordiniamo la lista delle possibili risposte a seconda dello score di similarità \n",
    "    answers_list.sort(key=lambda x : x[0], reverse=True)\n",
    "    \n",
    "    # prima controlliamo se ci sono delle FAQ\n",
    "    for k in q_a.keys():\n",
    "      if answers_list[0][1] == k.lower():\n",
    "        bot_response = bot_response + q_a[k][0]\n",
    "        response_flag = 1\n",
    "        found_faq = True\n",
    "        return bot_response\n",
    "   \n",
    "    i = 0\n",
    "    quest = True\n",
    "    if not found_faq:\n",
    "      while quest:\n",
    "        if '?' in answers_list[i][1]:\n",
    "          i += 1\n",
    "        else:\n",
    "          bot_response = answers_list[i][1]\n",
    "          response_flag = 1\n",
    "          quest = False\n",
    "        \n",
    "    # se non abbiamo trovato una risposta\n",
    "    if response_flag == 0:\n",
    "        bot_response = bot_response + 'Scusa, non sono in grado di risponderti.'\n",
    "    \n",
    "    return bot_response"
   ]
  },
  {
   "cell_type": "markdown",
   "metadata": {},
   "source": [
    "### Esempio di conversazione (try it yourself!)"
   ]
  },
  {
   "cell_type": "code",
   "execution_count": null,
   "metadata": {
    "colab": {
     "base_uri": "https://localhost:8080/"
    },
    "id": "Gpgx_ndAB-Fs",
    "outputId": "b2956b5b-aa10-4692-e583-96a23019400e"
   },
   "outputs": [
    {
     "name": "stdout",
     "output_type": "stream",
     "text": [
      "Co-bot:\n",
      "Benvenuto! Risponderò a tutti i tuoi dubbi riguardo il coronavirus\n",
      "\n",
      "\n",
      "User:\n",
      "cosa devo fare se ho i sintomi del coronavirus?\n",
      "Co-bot: ... \n",
      "I coronavirus sono virus che circolano tra gli animali e alcuni di essi infettano anche l’uomo. I pipistrelli sono considerati ospiti naturali di questi virus, ma anche molte altre specie di animali sono considerate fonti. Ad esempio, il Coronavirus della sindrome respiratoria del Medio Orientale (MERS-CoV) viene trasmesso all’uomo dai cammelli e la sindrome respiratoria acuta grave Coronavirus-1 (SARS-CoV-1) viene trasmesso all’uomo dallo zibetto.\n",
      "\n",
      "User:\n",
      "quali vaccini esistono\n",
      "Co-bot: ... \n",
      "Le tempistiche e le cifre potranno essere soggette a variazioni in funzione dei processi di autorizzazione e assegnazione delle dosi. L’Italia, in base agli accordi stipulati, potrà contare sulla disponibilità di 215 milioni di dosi. Il primo vaccino ad essere autorizzato in Unione Europea è stato Comirnaty di Pfizer-BioNtech il 21 dicembre. Le vaccinazioni con il Comirnaty sono iniziate con il Vaccine day, il 27 dicembre, in Italia e in Europa. Il 6 gennaio è stato autorizzato dall'EMA anche il vaccino Moderna, autorizzato da AIFA il 7 gennaio. In aggiunta, il 7 gennaio la Commissione Europea ha comunicato la sottoscrizione di un ulteriore accordo con Pfizer/BioNtech per altre 300 milioni di dosi che saranno successivamente ripartite in quota parte alla popolazione di ogni Paese Membro. Per saperne di più: Piano vaccini anti Covid-19(http://www.salute.gov.it/portale/nuovocoronavirus/dettaglioContenutiNuovoCoronavirus.jsp?lingua=italiano&id=5452&area=nuovoCoronavirus&menu=vuoto)\n",
      "\n",
      "User:\n",
      "quanti vaccini esistono\n",
      "Co-bot: ... \n",
      "Le tempistiche e le cifre potranno essere soggette a variazioni in funzione dei processi di autorizzazione e assegnazione delle dosi. L’Italia, in base agli accordi stipulati, potrà contare sulla disponibilità di 215 milioni di dosi. Il primo vaccino ad essere autorizzato in Unione Europea è stato Comirnaty di Pfizer-BioNtech il 21 dicembre. Le vaccinazioni con il Comirnaty sono iniziate con il Vaccine day, il 27 dicembre, in Italia e in Europa. Il 6 gennaio è stato autorizzato dall'EMA anche il vaccino Moderna, autorizzato da AIFA il 7 gennaio. In aggiunta, il 7 gennaio la Commissione Europea ha comunicato la sottoscrizione di un ulteriore accordo con Pfizer/BioNtech per altre 300 milioni di dosi che saranno successivamente ripartite in quota parte alla popolazione di ogni Paese Membro. Per saperne di più: Piano vaccini anti Covid-19(http://www.salute.gov.it/portale/nuovocoronavirus/dettaglioContenutiNuovoCoronavirus.jsp?lingua=italiano&id=5452&area=nuovoCoronavirus&menu=vuoto)\n",
      "\n",
      "User:\n",
      "quando devo indossare la mascherina?\n",
      "Co-bot: ... \n",
      "È obbligatorio avere sempre con sé le mascherine. Queste dovranno essere indossate nei luoghi al chiuso diversi dalle abitazioni private e anche in tutti i luoghi all’aperto , ad eccezione dei casi in cui, per le caratteristiche del luogo o per le circostanze di fatto, sia garantita in modo continuativo la condizione di isolamento rispetto a persone non conviventi. È fortemente raccomandato l'uso dei dispositivi di protezione delle vie respiratorie anche all'interno delle abitazioni private in presenza di persone non conviventi. Sono fatti salvi i protocolli e linee-guida anti-contagio previsti per le attività economiche, produttive, amministrative e sociali. Nei luoghi di lavoro continuano, quindi, ad applicarsi le vigenti regole di sicurezza. Fatte salve anche le linee guida per il consumo di cibi e bevande. Restano esclusi dall’obbligo di indossare la mascherina i bambini di età inferiore ai sei anni, le persone con patologie o disabilità incompatibili con l’uso della mascherina e coloro che, per interagire con questi ultimi, versino nella stessa incompatibilità. Inoltre, l’uso della mascherina non sarà obbligatorio durante lo svolgimento dell’attività sportiva. In comunità possono essere utilizzate mascherine monouso o mascherine lavabili, anche auto-prodotte, in materiali multistrato idonei a fornire un'adeguata barriera e, al contempo, che garantiscano comfort e respirabilità, forma e aderenza adeguate, che permettano di coprire dal mento al di sopra del naso. Non è utile indossare più mascherine chirurgiche sovrapposte. L'uso razionale delle mascherine chirurgiche è importante per evitare inutili sprechi di risorse preziose.\n",
      "\n",
      "User:\n"
     ]
    }
   ],
   "source": [
    "####### PER CAMBIARE MODELLO ###################################\n",
    "####### cambiare model e sentence_embedding ####################\n",
    "####### bert_model e sentence_embeddings (x BERT XXL) ###########\n",
    "####### bert_model2 e sentence_embeddings2 (x RoBERTa) #########\n",
    "\n",
    "print('Co-bot:')\n",
    "print('Benvenuto! Risponderò a tutti i tuoi dubbi riguardo il coronavirus')\n",
    "print()\n",
    "\n",
    "exit_list = ['esci']\n",
    "while(True):\n",
    "    print()\n",
    "    print('User:')\n",
    "    user_input = input()\n",
    "    if user_input.lower() in exit_list:\n",
    "        print('Co-bot: Ciao, a presto!')\n",
    "        break\n",
    "    else:\n",
    "        if greeting_response(user_input) != None:\n",
    "            print('Co-bot:')\n",
    "            print(greeting_response(user_input))\n",
    "        else:\n",
    "            print('Co-bot: ... ')\n",
    "            print(bot_response(user_input, bert_model, sentence_embeddings ,q_a, sentence_corpus))"
   ]
  },
  {
   "cell_type": "markdown",
   "metadata": {
    "id": "5bSDK9JBHnlp"
   },
   "source": [
    "### Testing\n",
    "Il nostro test set è una lista di 42 domande che sono state raccolte con le modalità descritte nel report."
   ]
  },
  {
   "cell_type": "code",
   "execution_count": 1,
   "metadata": {},
   "outputs": [],
   "source": [
    "test_set = [\"Cosa fare nel caso in cui si manifestano i sintomi?\", \n",
    "            \"Posso viaggiare se ho il coronavirus?\", \n",
    "            \"Le donne in gravidanza possono trasmettere la malattia al figlio?\", \n",
    "            \"Quanto tempo resta nel corpo il coronavirus?\", \n",
    "            \"Come funziona il contact tracing?\", \n",
    "            \"Quando finirà la pandemia?\", \n",
    "            \"Il vaccino ha effetti collaterali?\", \n",
    "            \"Cosa sappiamo della nuova variante inglese?\", \n",
    "            \"Quanti tipi di vaccino esistono?\", \n",
    "            \"Fino a quando saranno chiuse le attività commerciali?\", \n",
    "            \"Come distinguiamo un'influenza stagionale da un'influenza covid?\", \n",
    "            \"Chi si è vaccinato può trasmette la malattia?\", \n",
    "            \"Quali sono i colori che possono assumere le regioni?\", \n",
    "            \"Come fanno le persone infette a trasmettere il virus?\", \n",
    "            \"Se vengo dall'estero devo fare il tampone?\", \n",
    "            \"Cos’è l'indice Rt?\", \n",
    "            \"Posso ammalarmi due volte di covid?\", \n",
    "            \"Quanto tempo dura l'isolamento fiduciario?\", \n",
    "            \"È possibile fare sport di contatto?\", \n",
    "            \"Come faccio a capire se sono positiva ma asintomatica?\", \n",
    "            \"Sono stato a contatto con un infetto: cosa devo fare?\", \n",
    "            \"Fino a quando resteranno chiuse le piscine e le palestre?\", \n",
    "            \"Dopo il vaccino, devo comunque continuare a usare la mascherina?\", \n",
    "            \"Che cosa devo fare se voglio andare all'estero?\", \n",
    "            \"Lo smog/inquinamento influisce sulla diffusione del coronavirus/covid?\", \n",
    "            \"Qual è il periodo di copertura del vaccino?\", \n",
    "            \"Se sono all’estero, cosa devo fare per tornare in Italia?\", \n",
    "            \"Come proteggere le persone più anziane dal virus?\", \n",
    "            \"Il coronavirus è pericoloso per gli animali domestici?\", \n",
    "            \"La mascherina è obbligatoria all’aperto?\", \n",
    "            \"Fino a quando sarà adottata la didattica a distanza per le scuole superiori?\", \n",
    "            \"Qual è l'incidenza del covid nei bambini?\", \n",
    "            \"I guanti servono a proteggere dal contagio?\", \n",
    "            \"Si può viaggiare fuori comune in area gialla?\", \n",
    "            \"Quanto sono importanti il distanziamento e la chiusura delle attività nella trasmissione del covid?\", \n",
    "            \"Posso fare attività sportiva se sono positivo asintomatico?\", \n",
    "            \"Per i bambini è obbligatorio l’uso della mascherina?\", \n",
    "            \"Come agiscono i linfociti T nelle infezioni da covid?\", \n",
    "            \"Posso visitare i miei nonni?\", \n",
    "            \"È possibile andare a pesca?\", \n",
    "            \"Quali sono i sintomi del coronavirus?\", \n",
    "            \"Il virus può rimanere sulle superfici?\"]"
   ]
  },
  {
   "cell_type": "code",
   "execution_count": 28,
   "metadata": {
    "colab": {
     "base_uri": "https://localhost:8080/"
    },
    "executionInfo": {
     "elapsed": 4858,
     "status": "ok",
     "timestamp": 1611857612248,
     "user": {
      "displayName": "lorenzo di gianvittorio",
      "photoUrl": "",
      "userId": "05218746870272170826"
     },
     "user_tz": -60
    },
    "id": "Uu40i6CeCUKT",
    "outputId": "e1780a3d-c991-4ac6-fdb9-464ecff17192"
   },
   "outputs": [
    {
     "name": "stdout",
     "output_type": "stream",
     "text": [
      "Co-bot:\n",
      "Benvenuto! Risponderò a tutti i tuoi dubbi riguardo il coronavirus\n",
      "\n",
      "\n",
      "\n",
      "user 1\n",
      "Cosa fare nel caso in cui si manifestano i sintomi?\n",
      "Co-bot: ... \n",
      "La scuola dovrà pulire e disinfettare le superfici della stanza o area di isolamento dopo che l’alunno con i sintomi è tornato a casa. Una volta riportato il figlio/a a casa i genitori devono contattare il Pediatra di libera scelta (PLS) o il Medico di medicina generale (MMG) che, dopo avere valutato la situazione, deciderà se è necessario contattare il Dipartimento di prevenzione (DdP) per l’esecuzione del tampone.\n",
      "\n",
      "\n",
      "user 2\n",
      "Posso viaggiare se ho il coronavirus?\n",
      "Co-bot: ... \n",
      "inoltre, per facilitare la comunicazione, il gruppo di studio sul coronavirus ha proposto di utilizzare, per i singoli isolati, la convenzione di classificazione: sars-cov-2/isolato/ospite/data/luogo.\n",
      "\n",
      "\n",
      "user 3\n",
      "Le donne in gravidanza possono trasmettere la malattia al figlio?\n",
      "Co-bot: ... \n",
      "La gravidanza comporta cambiamenti del sistema immunitario che possono aumentare il rischio di contrarre infezioni respiratorie virali, tra cui quella da SARS-CoV-2. Tuttavia, ad oggi, come evidenziato dal Report dell’Iss(https://www.iss.it/documents/20126/0/Rapporto+ISS+COVID-19+45_2020.pdf/45c048fd-5049-97e7-3cf9-81a1c38eaf25?t=1592207670842) le donne in gravidanza non sembrano essere a maggior rischio rispetto alle non-gravide per infezione grave da COVID-19 che richiede il ricovero ospedaliero. Resta consigliato, anche per le donne in gravidanza, di intraprendere le normali azioni preventive per ridurre il rischio di infezione, come lavarsi spesso le mani ed evitare contatti con persone malate. Per saperne di più leggi la pagina Donne(http://www.salute.gov.it/portale/nuovocoronavirus/dettaglioContenutiNuovoCoronavirus.jsp?lingua=italiano&id=5415&area=nuovoCoronavirus&menu=vuoto) del sito nuovo coronavirus.\n",
      "\n",
      "\n",
      "user 4\n",
      "Quanto tempo resta nel corpo il coronavirus?\n",
      "Co-bot: ... \n",
      "Le evidenze scientifiche al momento disponibili indicano che il tempo di sopravvivenza del virus sulle superfici vari in relazione al tipo di superficie considerata. Il recente rapporto dell'Istituto superiore di sanità(http://www.iss.it/documents/20126/0/Rappporto+ISS+COVID-19+n.+25_2020.pdf/90decdd1-7c29-29e4-6663-b992e1773c98?t=1589836083759) riguardo le raccomandazioni sulla sanificazione di strutture non sanitarie nell’attuale emergenza COVID-19 (superfici, ambienti interni e abbigliamento) e la circolare 22 maggio 2020(http://www.trovanorme.salute.gov.it/norme/renderNormsanPdf?anno=2020&codLeg=74133&parte=1%20&serie=null) del ministero della Salute riportano i tempi di rilevazione di particelle virali sulle superfici più comuni, variabili da alcune ore (come ad es. sulla carta) fino a diversi giorni (come sulla plastica e l’acciaio inossidabile). Tuttavia, bisogna considerare che i dati finora disponibili, essendo generati da condizioni sperimentali, devono essere interpretati con cautela, tenendo anche conto del fatto che la presenza di RNA virale non indica necessariamente che il virus sia vitale e potenzialmente infettivo. L’utilizzo di semplici disinfettanti è in grado di uccidere il virus annullando la sua capacità di infettare le persone, per esempio disinfettanti contenenti alcol (etanolo) o ipoclorito di sodio (candeggina/varechina). Ricorda di pulire gli oggetti che usi frequentemente (telefono cellulare, auricolari, microfono) prima con acqua e sapone o altri detergenti neutri e poi disinfettarli con prodotti a base di ipoclorito di sodio (candeggina/varechina) o etanolo (alcol), tenendo conto delle indicazioni fornite dal produttore. Leggi il Rapporto ISS Raccomandazioni ad interim sulla sanificazione di strutture non sanitarie nell’attuale emergenza COVID-19: superfici, ambienti interni e abbigliamento(https://www.iss.it/documents/20126/0/Rappporto+ISS+COVID-19+n.+25_2020.pdf/90decdd1-7c29-29e4-6663-b992e1773c98?t=1589836083759) .\n",
      "\n",
      "\n",
      "user 5\n",
      "Come funziona il contact tracing?\n",
      "Co-bot: ... \n",
      "fonte:  www.governo.it\n",
      "\n",
      "\n",
      "user 6\n",
      "Quando finirà la pandemia?\n",
      "Co-bot: ... \n",
      "la pandemia da covid-19 ha reso necessaria una riorganizzazione dei percorsi assistenziali legati alla nascita.\n",
      "\n",
      "\n",
      "user 7\n",
      "Il vaccino ha effetti collaterali?\n",
      "Co-bot: ... \n",
      "Le tempistiche e le cifre potranno essere soggette a variazioni in funzione dei processi di autorizzazione e assegnazione delle dosi. L’Italia, in base agli accordi stipulati, potrà contare sulla disponibilità di 215 milioni di dosi. Il primo vaccino ad essere autorizzato in Unione Europea è stato Comirnaty di Pfizer-BioNtech il 21 dicembre. Le vaccinazioni con il Comirnaty sono iniziate con il Vaccine day, il 27 dicembre, in Italia e in Europa. Il 6 gennaio è stato autorizzato dall'EMA anche il vaccino Moderna, autorizzato da AIFA il 7 gennaio. In aggiunta, il 7 gennaio la Commissione Europea ha comunicato la sottoscrizione di un ulteriore accordo con Pfizer/BioNtech per altre 300 milioni di dosi che saranno successivamente ripartite in quota parte alla popolazione di ogni Paese Membro. Per saperne di più: Piano vaccini anti Covid-19(http://www.salute.gov.it/portale/nuovocoronavirus/dettaglioContenutiNuovoCoronavirus.jsp?lingua=italiano&id=5452&area=nuovoCoronavirus&menu=vuoto)\n",
      "\n",
      "\n",
      "user 8\n",
      "Cosa sappiamo della nuova variante inglese?\n",
      "Co-bot: ... \n",
      "Analisi preliminari indicano che la nuova variante isolata nel Regno Unito ha una maggiore trasmissibilità rispetto ad altre varianti già in circolazione ma non ci sono finora evidenze che possa causare una malattia più grave. La diffusione di una variante con maggiore trasmissibilità implica comunque un maggior numero di casi positivi e di conseguenza un possibile aumento di casi gravi nelle persone in età avanzata e con più malattie preesistenti, e quindi dei ricoveri.\n",
      "\n",
      "\n",
      "user 9\n",
      "Quanti tipi di vaccino esistono?\n",
      "Co-bot: ... \n",
      "Per i vaccini autorizzati dall'EMA (ad oggi Comirnaty e Moderna) sono previste due dosi a distanza di qualche settimana in base al tipo di vaccino.\n",
      "\n",
      "\n",
      "user 10\n",
      "Fino a quando saranno chiuse le attività commerciali?\n",
      "Co-bot: ... \n",
      "L'alunno deve restare a casa. I genitori devono informare il Pediatra di libera di scelta o il Medico di medicina generale e devono comunicare l’assenza scolastica per motivi di salute. In caso di sospetto Covid-19, il Pediatra di libera di scelta o il Medico di medicina generale richiede tempestivamente il test diagnostico e lo comunica al Dipartimento di Prevenzione, che provvede all’esecuzione del test diagnostico. Il Dipartimento di Prevenzione si attiva anche per l’approfondimento dell’indagine epidemiologica e le procedure conseguenti. Per saperne di più Domande e risposte - sintomi Covid-19(http://www.salute.gov.it/portale/nuovocoronavirus/dettaglioFaqNuovoCoronavirus.jsp?lingua=italiano&id=234#2)\n",
      "\n",
      "\n",
      "user 11\n",
      "Come distinguiamo un'influenza stagionale da un'influenza covid?\n",
      "Co-bot: ... \n",
      "No, i virus che causano sia COVID-19 che l'influenza stagionale vengono trasmessi da persona a persona e possono causare sintomi simili, ma i due virus sono molto diversi e non si comportano allo stesso modo. L'ECDC (il Centro Europeo per il Controllo delle Malattie) stima che ogni anno nell'UE, nel Regno Unito, in Norvegia, Islanda e Liechtenstein muoiano prematuramente tra le 15.000 e le 75.000 persone per complicanze dell'influenza stagionale. Si tratta di circa 1 persona su 1.000 infette. Nonostante il tasso di mortalità per influenza stagionale sia relativamente basso, le persone che muoiono per influenza sono molte perché ogni anno un numero elevato di persone contraggono la malattia. A differenza dell'influenza, per COVID-19 non esiste un vaccino né un trattamento specifico. Inoltre sembra essere più trasmissibile dell'influenza stagionale. Poiché si tratta di un nuovo virus, nessuno ha un'immunità pregressa, il che significa che l'intera popolazione umana è potenzialmente suscettibile all'infezione da SARS-CoV-2.\n",
      "\n",
      "\n",
      "user 12\n",
      "Chi si è vaccinato può trasmette la malattia?\n",
      "Co-bot: ... \n",
      "per chi è diretto in italia e proviene da spagna, grecia, croazia e malta, è consigliabile presentarsi all’imbarco in aeroporto con l’attestazione di un test (molecolare o antigenico) eseguito nelle 72 ore prima e risultato negativo.\n",
      "\n",
      "\n",
      "user 13\n",
      "Quali sono i colori che possono assumere le regioni?\n",
      "Co-bot: ... \n",
      "La persona che presta assistenza al malato Covid-19 deve essere in buona salute, non avere malattie che lo mettano a rischio, indossare una mascherina chirurgica accuratamente posizionata sul viso quando si trova nella stessa stanza del  malato. Le mani vanno accuratamente lavate con acqua e sapone o con una soluzione idroalcolica dopo ogni contatto con il malato o con il suo ambiente circostante, prima e dopo aver preparato il cibo, prima di mangiare, dopo aver usato il bagno e ogni volta che le mani appaiono sporche. Stoviglie, posate, asciugamani e lenzuola devono essere dedicate esclusivamente alla persona malata. Devono essere lavate spesso con acqua e detersivo a 60-90 °C. Le superfici toccate frequentemente dalla persona malata devono essere pulite e disinfettate ogni giorno. Se la persona malata peggiora o ha difficoltà respiratorie chiamare immediatamente il 112/118.\n",
      "\n",
      "\n",
      "user 14\n",
      "Come fanno le persone infette a trasmettere il virus?\n",
      "Co-bot: ... \n",
      "Sulla base delle attuali conoscenze, la trasmissione del virus avviene principalmente da persone sintomatiche, ma può verificarsi anche poco prima dell’insorgenza della sintomatologia, quando sono in prossimità di altre persone per periodi di tempo prolungati. Le persone che non manifestano mai sintomi possono trasmettere il virus anche se non è ancora chiaro in che misura tale eventualità si verifichi: sono necessari ulteriori studi. Per aiutare ad interrompere la catena di trasmissione è necessario limitare i contatti con persone COVID-19 positive, lavarsi frequentemente e accuratamente le mani, mantenere il distanziamento fisico di almeno un metro e indossare una mascherina.\n",
      "\n",
      "\n",
      "user 15\n",
      "Se vengo dall'estero devo fare il tampone?\n",
      "Co-bot: ... \n",
      "è previsto che il documento venga aggiornato per rispondere alle esigenze della situazione e alle conoscenze scientifiche man mano acquisite.\n",
      "\n",
      "\n",
      "user 16\n",
      "Cos’è l'indice Rt?\n",
      "Co-bot: ... \n",
      "l’italia c’è.\n",
      "\n",
      "\n",
      "user 17\n",
      "Posso ammalarmi due volte di covid?\n",
      "Co-bot: ... \n",
      "Allo stato attuale, non esiste un trattamento specifico per la malattia causata dal nuovo coronavirus. Il trattamento resta principalmente basato su un approccio sintomatico, fornendo terapie di supporto (ad es. ossigenoterapia) alle persone infette. Sulla base anche delle esperienze maturate in ambito nazionale e internazionale, sono stati definiti protocolli terapeutici e di gestione clinica. Il trattamento si articola su approcci differenziati: farmaci a potenziale attività antivirale contro SARS-CoV-2 farmaci ad attività profilattica/terapeutica contro manifestazioni trombotiche farmaci in grado di modulare la risposta immunitaria infusioni di plasma mirate a un trasferimento di anticorpi neutralizzanti Va ricordato che, ancora oggi, esistono larghi margini d’incertezza rispetto all’efficacia di alcuni farmaci e continuano le sperimentazioni cliniche per trovare farmaci più efficaci. Per approfondire pagina dedicata(https://www.aifa.gov.it/aggiornamento-sui-farmaci-utilizzabili-per-il-trattamento-della-malattia-covid19) ai farmaci resi disponibili per i pazienti COVID-19 sul sito dell'Agenzia italiana del farmaco (AIFA) documento Prevenzione e risposta a COVID-19: evoluzione della strategia e pianificazione nella fase di transizione per il periodo autunno-invernale(https://www.trovanorme.salute.gov.it/norme/renderNormsanPdf?anno=2020&codLeg=76597&parte=1%20&serie=null) (pagine 40-48).\n",
      "\n",
      "\n",
      "user 18\n",
      "Quanto tempo dura l'isolamento fiduciario?\n",
      "Co-bot: ... \n",
      "il rapporto sulle caratteristiche dei pazienti deceduti positivi a covid-19 in italia viene aggiornato periodicamente su questa pagina.\n",
      "\n",
      "\n",
      "user 19\n",
      "È possibile fare sport di contatto?\n",
      "Co-bot: ... \n",
      "Il “contatto stretto” (esposizione ad alto rischio) di un caso probabile o confermato è definito come: una persona che vive nella stessa casa di un caso COVID-19 una persona che ha avuto un contatto fisico diretto con un caso COVID-19 (per esempio la stretta di mano) una persona che ha avuto un contatto diretto non protetto con le secrezioni di un caso COVID19 (ad esempio toccare a mani nude fazzoletti di carta usati) una persona che ha avuto un contatto diretto (faccia a faccia) con un caso COVID-19, a distanza minore di 2 metri e di almeno 15 minuti una persona che si è trovata in un ambiente chiuso (ad esempio aula, sala riunioni, sala d'attesa dell'ospedale) con un caso COVID-19 in assenza di DPI idonei un operatore sanitario o altra persona che fornisce assistenza diretta ad un caso COVID-19 oppure personale di laboratorio addetto alla manipolazione di campioni di un caso COVID-19 senza l’impiego dei DPI raccomandati o mediante l’utilizzo di DPI non idonei una persona che ha viaggiato seduta in treno, aereo o qualsiasi altro mezzo di trasporto entro due posti in qualsiasi direzione rispetto a un caso COVID-19; sono contatti stretti anche i compagni di viaggio e il personale addetto alla sezione dell’aereo/treno dove il caso indice era seduto. Gli operatori sanitari, sulla base di valutazioni individuali del rischio, possono ritenere che alcune persone, a prescindere dalla durata e dal setting in cui è avvenuto il contatto, abbiano avuto un'esposizione ad alto rischio.\n",
      "\n",
      "\n",
      "user 20\n",
      "Come faccio a capire se sono positiva ma asintomatica?\n",
      "Co-bot: ... \n",
      "queste le parole del ministro speranza che con l’ordinanza 20 dicembre 2020dispone inoltre che chiunque si trovi già in italia, in provenienza da quel territorio, anche se asintomatico, ètenuto a sottoporsi a tampone antigenico o molecolarecontattando i dipartimenti di prevenzione.\n",
      "\n",
      "\n",
      "user 21\n",
      "Sono stato a contatto con un infetto: cosa devo fare?\n",
      "Co-bot: ... \n",
      "sono chiamati così per le punte a forma di corona che sono presenti sulla loro superficie.\n",
      "\n",
      "\n",
      "user 22\n",
      "Fino a quando resteranno chiuse le piscine e le palestre?\n",
      "Co-bot: ... \n",
      "La persona con sospetta o accertata infezione COVID-19 deve stare lontana dagli altri familiari, se possibile, in una stanza singola ben ventilata e non deve ricevere visite. Chi l’assiste deve essere in buona salute e non avere malattie che lo mettano a rischio se contagiato. I membri della famiglia devono soggiornare in altre stanze o, se non è possibile, mantenere una distanza di almeno 1 metro dalla persona malata e dormire in un letto diverso. Chi assiste il malato deve indossare una mascherina chirurgica accuratamente posizionata sul viso quando si trova nella stessa stanza. Se la maschera è bagnata o sporca per secrezioni è necessario sostituirla immediatamente e lavarsi le mani dopo averla rimossa. Le mani vanno accuratamente lavate con acqua e sapone o con una soluzione idroalcolica dopo ogni contatto con il malato o con il suo ambiente circostante, prima e dopo aver preparato il cibo, prima di mangiare, dopo aver usato il bagno e ogni volta che le mani appaiono sporche. Queste sono solo alcune delle tante raccomandazioni contenute in una guida realizzata dall'Istituto Superiore di Sanità (https://www.iss.it/rapporti-covid-19/-/asset_publisher/btw1J82wtYzH/content/id/5292564?_com_liferay_asset_publisher_web_portlet_AssetPublisherPortlet_INSTANCE_btw1J82wtYzH_redirect=https%3A%2F%2Fwww.iss.it%2Frapporti-covid-19%3Fp_p_id%3Dcom_liferay_asset_publisher_web_portlet_AssetPublisherPortlet_INSTANCE_btw1J82wtYzH%26p_p_lifecycle%3D0%26p_p_state%3Dnormal%26p_p_mode%3Dview%26_com_liferay_asset_publisher_web_portlet_AssetPublisherPortlet_INSTANCE_btw1J82wtYzH_cur%3D0%26p_r_p_resetCur%3Dfalse%26_com_liferay_asset_publisher_web_portlet_AssetPublisherPortlet_INSTANCE_btw1J82wtYzH_assetEntryId%3D5292564) e riassunte in 21 punti in un poster(https://www.iss.it/documents/20126/0/Poster+Raccomandazioni+isolamento+rev+12+marzo+%281%29.pdf/d409de34-8bba-a220-10e8-e7e8a33963c3?t=1584027346339) scaricabile. Per approfondire Circolare ministeriale 30 novembre 2020  - Gestione domiciliare dei pazienti con infezione da SARS-CoV-2(https://www.trovanorme.salute.gov.it/norme/renderNormsanPdf?anno=2020&codLeg=77456&parte=1%20&serie=null) .\n",
      "\n",
      "\n",
      "user 23\n",
      "Dopo il vaccino, devo comunque continuare a usare la mascherina?\n",
      "Co-bot: ... \n",
      "Prima di indossare la mascherina lavare le mani con acqua e sapone per almeno 40-60 secondi o eseguire l’igiene delle mani con soluzione alcolica per almeno 20-30 secondi indossare la mascherina toccando solo gli elastici o i legacci e avendo cura di non toccare la parte interna posizionare correttamente la mascherina facendo aderire il ferretto superiore al naso e portandola sotto il mento accertarsi di averla indossata nel verso giusto (ad esempio nelle mascherine chirurgiche la parta colorata è quella esterna). Durante l’uso se si deve spostare la mascherina manipolarla sempre utilizzando gli elastici o i legacci se durante l’uso si tocca la mascherina, si deve ripetere l’igiene delle mani non riporre la mascherina in tasca e non poggiarla su mobili o ripiani. Quando si rimuove manipolare la mascherina utilizzando sempre gli elastici o i legacci lavare le mani con acqua e sapone o eseguire l'igiene delle mani con una soluzione alcolica Nel caso di mascherine riutilizzabili procedere alle operazioni di lavaggio a 60°C con comune detersivo o secondo le istruzioni del produttore, se disponibili; talvolta i produttori indicano anche il numero massimo di lavaggi possibili senza riduzione della performance della mascherina dopo avere maneggiato una mascherina usata, effettuare il lavaggio o l’igiene delle mani.\n",
      "\n",
      "\n",
      "user 24\n",
      "Che cosa devo fare se voglio andare all'estero?\n",
      "Co-bot: ... \n",
      "questo fattore introduce un’incertezza sulla rappresentatività spaziale delle stime del modello e gli stessi autori evidenziano una ampia variabilità dell’accuratezza del modello per aree geografiche diverse.\n",
      "\n",
      "\n",
      "user 25\n",
      "Lo smog/inquinamento influisce sulla diffusione del coronavirus/covid?\n",
      "Co-bot: ... \n",
      "Le evidenze scientifiche al momento disponibili indicano che il tempo di sopravvivenza del virus sulle superfici vari in relazione al tipo di superficie considerata. Il recente rapporto dell'Istituto superiore di sanità(http://www.iss.it/documents/20126/0/Rappporto+ISS+COVID-19+n.+25_2020.pdf/90decdd1-7c29-29e4-6663-b992e1773c98?t=1589836083759) riguardo le raccomandazioni sulla sanificazione di strutture non sanitarie nell’attuale emergenza COVID-19 (superfici, ambienti interni e abbigliamento) e la circolare 22 maggio 2020(http://www.trovanorme.salute.gov.it/norme/renderNormsanPdf?anno=2020&codLeg=74133&parte=1%20&serie=null) del ministero della Salute riportano i tempi di rilevazione di particelle virali sulle superfici più comuni, variabili da alcune ore (come ad es. sulla carta) fino a diversi giorni (come sulla plastica e l’acciaio inossidabile). Tuttavia, bisogna considerare che i dati finora disponibili, essendo generati da condizioni sperimentali, devono essere interpretati con cautela, tenendo anche conto del fatto che la presenza di RNA virale non indica necessariamente che il virus sia vitale e potenzialmente infettivo. L’utilizzo di semplici disinfettanti è in grado di uccidere il virus annullando la sua capacità di infettare le persone, per esempio disinfettanti contenenti alcol (etanolo) o ipoclorito di sodio (candeggina/varechina). Ricorda di pulire gli oggetti che usi frequentemente (telefono cellulare, auricolari, microfono) prima con acqua e sapone o altri detergenti neutri e poi disinfettarli con prodotti a base di ipoclorito di sodio (candeggina/varechina) o etanolo (alcol), tenendo conto delle indicazioni fornite dal produttore. Leggi il Rapporto ISS Raccomandazioni ad interim sulla sanificazione di strutture non sanitarie nell’attuale emergenza COVID-19: superfici, ambienti interni e abbigliamento(https://www.iss.it/documents/20126/0/Rappporto+ISS+COVID-19+n.+25_2020.pdf/90decdd1-7c29-29e4-6663-b992e1773c98?t=1589836083759) .\n",
      "\n",
      "\n",
      "user 26\n",
      "Qual è il periodo di copertura del vaccino?\n",
      "Co-bot: ... \n",
      "Sicuramente sarà rilasciata una normale certificazione di avvenuta vaccinazione. Istituzioni internazionali quali la Commissione Europea e l’OMS stanno valutando una proposta di certificato internazionale digitale.\n",
      "\n",
      "\n",
      "user 27\n",
      "Se sono all’estero, cosa devo fare per tornare in Italia?\n",
      "Co-bot: ... \n",
      "per questo sono stato costretto a firmare ordinanze con misure stringenti non solo per quanto riguarda i paesi extra ue ed extra shengen, ma anche perromania e bulgaria.\n",
      "\n",
      "\n",
      "user 28\n",
      "Come proteggere le persone più anziane dal virus?\n",
      "Co-bot: ... \n",
      "Sulla base delle attuali conoscenze, la trasmissione del virus avviene principalmente da persone sintomatiche, ma può verificarsi anche poco prima dell’insorgenza della sintomatologia, quando sono in prossimità di altre persone per periodi di tempo prolungati. Le persone che non manifestano mai sintomi possono trasmettere il virus anche se non è ancora chiaro in che misura tale eventualità si verifichi: sono necessari ulteriori studi. Per aiutare ad interrompere la catena di trasmissione è necessario limitare i contatti con persone COVID-19 positive, lavarsi frequentemente e accuratamente le mani, mantenere il distanziamento fisico di almeno un metro e indossare una mascherina.\n",
      "\n",
      "\n",
      "user 29\n",
      "Il coronavirus è pericoloso per gli animali domestici?\n",
      "Co-bot: ... \n",
      "i coronavirus sono comuni in molte specie animali (come i cammelli e i pipistrelli) ma in alcuni casi, se pur raramente, possono evolversi e infettare l’uomo per poi diffondersi nella popolazione.\n",
      "\n",
      "\n",
      "user 30\n",
      "La mascherina è obbligatoria all’aperto?\n",
      "Co-bot: ... \n",
      "Dai sei anni in su anche i bambini devono portare la mascherina e per loro va posta attenzione alla forma evitando di usare mascherine troppo grandi e scomode per il loro viso.\n",
      "\n",
      "\n",
      "user 31\n",
      "Fino a quando sarà adottata la didattica a distanza per le scuole superiori?\n",
      "Co-bot: ... \n",
      "“nella nostra esperienza italiana - ha sottolineato il ministro - la chiave più importante per piegare la curva del contagio è stata proprio la sintonia di fondo tra le misure che abbiamo adottato e il sentire comune della popolazione, consapevole dei rischi che tutto il paese stava correndo”.\n",
      "\n",
      "\n",
      "user 32\n",
      "Qual è l'incidenza del covid nei bambini?\n",
      "Co-bot: ... \n",
      "I bambini sono spesso asintomatici o presentano sintomi lievi di COVID-19 e hanno un rischio molto inferiore rispetto agli adulti di sviluppare forme gravi di malattia. Tuttavia, l’infezione in alcuni casi può comportare lo sviluppo di complicanze o forme cliniche peculiari. Ecco perché va comunque posta molta attenzione quando i bambini manifestano i sintomi dell’infezione, soprattutto se con meno di un anno di età e in presenza di condizioni patologiche preesistenti. Non è ancora nota la capacità dei bambini, prevalentemente asintomatici, di trasmettere SARS-CoV-2 rispetto agli adulti. Per approfondire Pagina Covid-19 - Bambini (https://nsis.sanita.it/PROTOCOLLO/PROTOCOLLO/PROTOCOLLO/PROTOCOLLO/PROTOCOLLO/PROTOCOLLO/PROTOCOLLO/PROTOCOLLO/PROTOCOLLO/PROTOCOLLO/PROTOCOLLO/PROTOCOLLO/PROTOCOLLO/PROTOCOLLO/PROTOCOLLO/PROTOCOLLO/stage/portale/nuovocoronavirus/dettaglioContenutiNuovoCoronavirus.jsp?lingua=italiano&id=5413&area=nuovoCoronavirus&menu=vuoto)\n",
      "\n",
      "\n",
      "user 33\n",
      "I guanti servono a proteggere dal contagio?\n",
      "Co-bot: ... \n",
      "Per la gestione della Fase 2 è stato attivato uno specifico sistema di monitoraggio, introdotto con il decreto del ministero della Salute del 30 aprile 2020, sui dati epidemiologici e sulla capacità di risposta dei servizi sanitari regionali. Il monitoraggio è elaborato dalla Cabina di regia costituita da ministero della Salute, Istituto superiore di sanità e Regioni. In Italia, inoltre, è attiva fin dall’inizio dell’epidemia la sorveglianza specifica per questo virus a livello nazionale. La situazione è costantemente monitorata dal Ministero, che è in continuo contatto con l’OMS, l’ECDC, la Commissione Europea e pubblica tempestivamente ogni nuovo aggiornamento nel Portale www.salute.gov.it/nuovocoronavirus(http://www.salute.gov.it/nuovocoronavirus) . In considerazione della dichiarazione di “Emergenza internazionale di salute pubblica” da parte della OMS, il 31 gennaio 2020 il Consiglio dei Ministri ha dichiarato lo stato di emergenza in conseguenza del rischio sanitario connesso all’infezione da Coronavirus.\n",
      "\n",
      "\n",
      "user 34\n",
      "Si può viaggiare fuori comune in area gialla?\n",
      "Co-bot: ... \n",
      "Al ritorno dalle passeggiate, per proteggere il nostro amico è opportuno sempre provvedere alla sua igiene, pulire soprattutto le zampe evitando prodotti aggressivi e quelli a base alcolica che possono indurre fenomeni irritativi, provocando prurito e usando invece prodotti senza aggiunta di profumo (es. acqua e sapone neutro). Per il mantello si consiglia di spazzolarlo e poi passare un panno umido.\n",
      "\n",
      "\n",
      "user 35\n",
      "Quanto sono importanti il distanziamento e la chiusura delle attività nella trasmissione del covid?\n",
      "Co-bot: ... \n",
      "in merito al divieto di ingresso per chi arriva da paesi extra ue e ai controlli più stringenti su aeroporti, porti e luoghi di confine, il ministro speranza ha specificato che: “questa ultima misura che ho adottato con mia ordinanza è direttamente correlata alla grave situazione di contagio in un numero crescente di aree nel mondo”.\n",
      "\n",
      "\n",
      "user 36\n",
      "Posso fare attività sportiva se sono positivo asintomatico?\n",
      "Co-bot: ... \n",
      "è consentito svolgere attività sportiva o attività motoria all'aperto, anche presso aree attrezzate e parchi pubblici, ove accessibili, purché comunque nel rispetto delladistanzadi sicurezza interpersonale di almenodue metri per l'attività sportivae di almenoun metro per ogni altra attivitàsalvo che non sia necessaria la presenza di un accompagnatore per i minori o le persone non completamente autosufficienti.\n",
      "\n",
      "\n",
      "user 37\n",
      "Per i bambini è obbligatorio l’uso della mascherina?\n",
      "Co-bot: ... \n",
      "Dai sei anni in su anche i bambini devono portare la mascherina e per loro va posta attenzione alla forma evitando di usare mascherine troppo grandi e scomode per il loro viso.\n",
      "\n",
      "\n",
      "user 38\n",
      "Come agiscono i linfociti T nelle infezioni da covid?\n",
      "Co-bot: ... \n",
      "ciò è dovuto a vari aspetti che sono legati alle caratteristiche dell’infezione, a quelle della persona infettata, al contesto organizzativo dei servizi sanitari locali e/o regionali.\n",
      "\n",
      "\n",
      "user 39\n",
      "Posso visitare i miei nonni?\n",
      "Co-bot: ... \n",
      "Per i vaccini autorizzati dall'EMA (ad oggi Comirnaty e Moderna) sono previste due dosi a distanza di qualche settimana in base al tipo di vaccino.\n",
      "\n",
      "\n",
      "user 40\n",
      "È possibile andare a pesca?\n",
      "Co-bot: ... \n",
      "consulta le pagine:\n",
      "\n",
      "\n",
      "user 41\n",
      "Quali sono i sintomi del coronavirus?\n",
      "Co-bot: ... \n",
      "i sintomi più comuni di un’infezione da coronavirus nell’uomo includono febbre, tosse, difficoltà respiratorie.\n",
      "\n",
      "\n",
      "user 42\n",
      "Il virus può rimanere sulle superfici?\n",
      "Co-bot: ... \n",
      "Sulla base delle attuali conoscenze, la trasmissione del virus avviene principalmente da persone sintomatiche, ma può verificarsi anche poco prima dell’insorgenza della sintomatologia, quando sono in prossimità di altre persone per periodi di tempo prolungati. Le persone che non manifestano mai sintomi possono trasmettere il virus anche se non è ancora chiaro in che misura tale eventualità si verifichi: sono necessari ulteriori studi. Per aiutare ad interrompere la catena di trasmissione è necessario limitare i contatti con persone COVID-19 positive, lavarsi frequentemente e accuratamente le mani, mantenere il distanziamento fisico di almeno un metro e indossare una mascherina.\n"
     ]
    }
   ],
   "source": [
    "print('Co-bot:')\n",
    "print('Benvenuto! Risponderò a tutti i tuoi dubbi riguardo il coronavirus')\n",
    "print()\n",
    "\n",
    "for sentence in test_set:\n",
    "    user_input = sentence\n",
    "    \n",
    "    print()\n",
    "    print('User:')\n",
    "    print (user_input)\n",
    "\n",
    "    print('Co-bot: ... ')\n",
    "    print(bot_response(user_input, bert_model, \n",
    "                       sentence_embeddings,\n",
    "                       q_a, sentence_corpus))"
   ]
  }
 ],
 "metadata": {
  "colab": {
   "collapsed_sections": [
    "KRF-17AJv6ng"
   ],
   "name": "BERT.ipynb",
   "provenance": []
  },
  "kernelspec": {
   "display_name": "Python 3",
   "language": "python",
   "name": "python3"
  },
  "language_info": {
   "codemirror_mode": {
    "name": "ipython",
    "version": 3
   },
   "file_extension": ".py",
   "mimetype": "text/x-python",
   "name": "python",
   "nbconvert_exporter": "python",
   "pygments_lexer": "ipython3",
   "version": "3.8.3"
  },
  "widgets": {
   "application/vnd.jupyter.widget-state+json": {
    "0eec8af2f01a4c9e81c7c1c319f6f419": {
     "model_module": "@jupyter-widgets/controls",
     "model_name": "HBoxModel",
     "state": {
      "_dom_classes": [],
      "_model_module": "@jupyter-widgets/controls",
      "_model_module_version": "1.5.0",
      "_model_name": "HBoxModel",
      "_view_count": null,
      "_view_module": "@jupyter-widgets/controls",
      "_view_module_version": "1.5.0",
      "_view_name": "HBoxView",
      "box_style": "",
      "children": [
       "IPY_MODEL_9bb4549ef2de418a9e032a2ca65cdcb9",
       "IPY_MODEL_9b766be21b204a22b435e79290274253"
      ],
      "layout": "IPY_MODEL_92231943c5174d1f82c0e93f7957ac64"
     }
    },
    "3272762835834465b3287a454a75cf6b": {
     "model_module": "@jupyter-widgets/controls",
     "model_name": "ProgressStyleModel",
     "state": {
      "_model_module": "@jupyter-widgets/controls",
      "_model_module_version": "1.5.0",
      "_model_name": "ProgressStyleModel",
      "_view_count": null,
      "_view_module": "@jupyter-widgets/base",
      "_view_module_version": "1.2.0",
      "_view_name": "StyleView",
      "bar_color": null,
      "description_width": "initial"
     }
    },
    "3b68b31fa8544be09b3fe3fafe49f0d4": {
     "model_module": "@jupyter-widgets/base",
     "model_name": "LayoutModel",
     "state": {
      "_model_module": "@jupyter-widgets/base",
      "_model_module_version": "1.2.0",
      "_model_name": "LayoutModel",
      "_view_count": null,
      "_view_module": "@jupyter-widgets/base",
      "_view_module_version": "1.2.0",
      "_view_name": "LayoutView",
      "align_content": null,
      "align_items": null,
      "align_self": null,
      "border": null,
      "bottom": null,
      "display": null,
      "flex": null,
      "flex_flow": null,
      "grid_area": null,
      "grid_auto_columns": null,
      "grid_auto_flow": null,
      "grid_auto_rows": null,
      "grid_column": null,
      "grid_gap": null,
      "grid_row": null,
      "grid_template_areas": null,
      "grid_template_columns": null,
      "grid_template_rows": null,
      "height": null,
      "justify_content": null,
      "justify_items": null,
      "left": null,
      "margin": null,
      "max_height": null,
      "max_width": null,
      "min_height": null,
      "min_width": null,
      "object_fit": null,
      "object_position": null,
      "order": null,
      "overflow": null,
      "overflow_x": null,
      "overflow_y": null,
      "padding": null,
      "right": null,
      "top": null,
      "visibility": null,
      "width": null
     }
    },
    "67533be5532d467eb36b27b2c84fce49": {
     "model_module": "@jupyter-widgets/controls",
     "model_name": "DescriptionStyleModel",
     "state": {
      "_model_module": "@jupyter-widgets/controls",
      "_model_module_version": "1.5.0",
      "_model_name": "DescriptionStyleModel",
      "_view_count": null,
      "_view_module": "@jupyter-widgets/base",
      "_view_module_version": "1.2.0",
      "_view_name": "StyleView",
      "description_width": ""
     }
    },
    "6e15e39a1e604cb0b667266cf07c169a": {
     "model_module": "@jupyter-widgets/base",
     "model_name": "LayoutModel",
     "state": {
      "_model_module": "@jupyter-widgets/base",
      "_model_module_version": "1.2.0",
      "_model_name": "LayoutModel",
      "_view_count": null,
      "_view_module": "@jupyter-widgets/base",
      "_view_module_version": "1.2.0",
      "_view_name": "LayoutView",
      "align_content": null,
      "align_items": null,
      "align_self": null,
      "border": null,
      "bottom": null,
      "display": null,
      "flex": null,
      "flex_flow": null,
      "grid_area": null,
      "grid_auto_columns": null,
      "grid_auto_flow": null,
      "grid_auto_rows": null,
      "grid_column": null,
      "grid_gap": null,
      "grid_row": null,
      "grid_template_areas": null,
      "grid_template_columns": null,
      "grid_template_rows": null,
      "height": null,
      "justify_content": null,
      "justify_items": null,
      "left": null,
      "margin": null,
      "max_height": null,
      "max_width": null,
      "min_height": null,
      "min_width": null,
      "object_fit": null,
      "object_position": null,
      "order": null,
      "overflow": null,
      "overflow_x": null,
      "overflow_y": null,
      "padding": null,
      "right": null,
      "top": null,
      "visibility": null,
      "width": null
     }
    },
    "71cced45e29d4c58a91feaa0ed25c330": {
     "model_module": "@jupyter-widgets/controls",
     "model_name": "HTMLModel",
     "state": {
      "_dom_classes": [],
      "_model_module": "@jupyter-widgets/controls",
      "_model_module_version": "1.5.0",
      "_model_name": "HTMLModel",
      "_view_count": null,
      "_view_module": "@jupyter-widgets/controls",
      "_view_module_version": "1.5.0",
      "_view_name": "HTMLView",
      "description": "",
      "description_tooltip": null,
      "layout": "IPY_MODEL_3b68b31fa8544be09b3fe3fafe49f0d4",
      "placeholder": "​",
      "style": "IPY_MODEL_cc38449d75814666bfe7acdc2f22191a",
      "value": " 69/69 [08:31&lt;00:00,  7.42s/it]"
     }
    },
    "82601a76d51c46ebb3b89ddf8be70856": {
     "model_module": "@jupyter-widgets/base",
     "model_name": "LayoutModel",
     "state": {
      "_model_module": "@jupyter-widgets/base",
      "_model_module_version": "1.2.0",
      "_model_name": "LayoutModel",
      "_view_count": null,
      "_view_module": "@jupyter-widgets/base",
      "_view_module_version": "1.2.0",
      "_view_name": "LayoutView",
      "align_content": null,
      "align_items": null,
      "align_self": null,
      "border": null,
      "bottom": null,
      "display": null,
      "flex": null,
      "flex_flow": null,
      "grid_area": null,
      "grid_auto_columns": null,
      "grid_auto_flow": null,
      "grid_auto_rows": null,
      "grid_column": null,
      "grid_gap": null,
      "grid_row": null,
      "grid_template_areas": null,
      "grid_template_columns": null,
      "grid_template_rows": null,
      "height": null,
      "justify_content": null,
      "justify_items": null,
      "left": null,
      "margin": null,
      "max_height": null,
      "max_width": null,
      "min_height": null,
      "min_width": null,
      "object_fit": null,
      "object_position": null,
      "order": null,
      "overflow": null,
      "overflow_x": null,
      "overflow_y": null,
      "padding": null,
      "right": null,
      "top": null,
      "visibility": null,
      "width": null
     }
    },
    "92231943c5174d1f82c0e93f7957ac64": {
     "model_module": "@jupyter-widgets/base",
     "model_name": "LayoutModel",
     "state": {
      "_model_module": "@jupyter-widgets/base",
      "_model_module_version": "1.2.0",
      "_model_name": "LayoutModel",
      "_view_count": null,
      "_view_module": "@jupyter-widgets/base",
      "_view_module_version": "1.2.0",
      "_view_name": "LayoutView",
      "align_content": null,
      "align_items": null,
      "align_self": null,
      "border": null,
      "bottom": null,
      "display": null,
      "flex": null,
      "flex_flow": null,
      "grid_area": null,
      "grid_auto_columns": null,
      "grid_auto_flow": null,
      "grid_auto_rows": null,
      "grid_column": null,
      "grid_gap": null,
      "grid_row": null,
      "grid_template_areas": null,
      "grid_template_columns": null,
      "grid_template_rows": null,
      "height": null,
      "justify_content": null,
      "justify_items": null,
      "left": null,
      "margin": null,
      "max_height": null,
      "max_width": null,
      "min_height": null,
      "min_width": null,
      "object_fit": null,
      "object_position": null,
      "order": null,
      "overflow": null,
      "overflow_x": null,
      "overflow_y": null,
      "padding": null,
      "right": null,
      "top": null,
      "visibility": null,
      "width": null
     }
    },
    "9b766be21b204a22b435e79290274253": {
     "model_module": "@jupyter-widgets/controls",
     "model_name": "HTMLModel",
     "state": {
      "_dom_classes": [],
      "_model_module": "@jupyter-widgets/controls",
      "_model_module_version": "1.5.0",
      "_model_name": "HTMLModel",
      "_view_count": null,
      "_view_module": "@jupyter-widgets/controls",
      "_view_module_version": "1.5.0",
      "_view_name": "HTMLView",
      "description": "",
      "description_tooltip": null,
      "layout": "IPY_MODEL_82601a76d51c46ebb3b89ddf8be70856",
      "placeholder": "​",
      "style": "IPY_MODEL_67533be5532d467eb36b27b2c84fce49",
      "value": " 69/69 [2:28:30&lt;00:00, 129.14s/it]"
     }
    },
    "9bb4549ef2de418a9e032a2ca65cdcb9": {
     "model_module": "@jupyter-widgets/controls",
     "model_name": "FloatProgressModel",
     "state": {
      "_dom_classes": [],
      "_model_module": "@jupyter-widgets/controls",
      "_model_module_version": "1.5.0",
      "_model_name": "FloatProgressModel",
      "_view_count": null,
      "_view_module": "@jupyter-widgets/controls",
      "_view_module_version": "1.5.0",
      "_view_name": "ProgressView",
      "bar_style": "success",
      "description": "Batches: 100%",
      "description_tooltip": null,
      "layout": "IPY_MODEL_d83ea2d7968f4840afeb9ed40f787d37",
      "max": 69,
      "min": 0,
      "orientation": "horizontal",
      "style": "IPY_MODEL_d7dca275c5d34351878899204006c3e7",
      "value": 69
     }
    },
    "c2fc99adb94e485eb6728624acd07c5c": {
     "model_module": "@jupyter-widgets/controls",
     "model_name": "FloatProgressModel",
     "state": {
      "_dom_classes": [],
      "_model_module": "@jupyter-widgets/controls",
      "_model_module_version": "1.5.0",
      "_model_name": "FloatProgressModel",
      "_view_count": null,
      "_view_module": "@jupyter-widgets/controls",
      "_view_module_version": "1.5.0",
      "_view_name": "ProgressView",
      "bar_style": "success",
      "description": "Batches: 100%",
      "description_tooltip": null,
      "layout": "IPY_MODEL_f9f7b862fa8844039bc6c0b6491e0ccc",
      "max": 69,
      "min": 0,
      "orientation": "horizontal",
      "style": "IPY_MODEL_3272762835834465b3287a454a75cf6b",
      "value": 69
     }
    },
    "cc38449d75814666bfe7acdc2f22191a": {
     "model_module": "@jupyter-widgets/controls",
     "model_name": "DescriptionStyleModel",
     "state": {
      "_model_module": "@jupyter-widgets/controls",
      "_model_module_version": "1.5.0",
      "_model_name": "DescriptionStyleModel",
      "_view_count": null,
      "_view_module": "@jupyter-widgets/base",
      "_view_module_version": "1.2.0",
      "_view_name": "StyleView",
      "description_width": ""
     }
    },
    "d7dca275c5d34351878899204006c3e7": {
     "model_module": "@jupyter-widgets/controls",
     "model_name": "ProgressStyleModel",
     "state": {
      "_model_module": "@jupyter-widgets/controls",
      "_model_module_version": "1.5.0",
      "_model_name": "ProgressStyleModel",
      "_view_count": null,
      "_view_module": "@jupyter-widgets/base",
      "_view_module_version": "1.2.0",
      "_view_name": "StyleView",
      "bar_color": null,
      "description_width": "initial"
     }
    },
    "d83ea2d7968f4840afeb9ed40f787d37": {
     "model_module": "@jupyter-widgets/base",
     "model_name": "LayoutModel",
     "state": {
      "_model_module": "@jupyter-widgets/base",
      "_model_module_version": "1.2.0",
      "_model_name": "LayoutModel",
      "_view_count": null,
      "_view_module": "@jupyter-widgets/base",
      "_view_module_version": "1.2.0",
      "_view_name": "LayoutView",
      "align_content": null,
      "align_items": null,
      "align_self": null,
      "border": null,
      "bottom": null,
      "display": null,
      "flex": null,
      "flex_flow": null,
      "grid_area": null,
      "grid_auto_columns": null,
      "grid_auto_flow": null,
      "grid_auto_rows": null,
      "grid_column": null,
      "grid_gap": null,
      "grid_row": null,
      "grid_template_areas": null,
      "grid_template_columns": null,
      "grid_template_rows": null,
      "height": null,
      "justify_content": null,
      "justify_items": null,
      "left": null,
      "margin": null,
      "max_height": null,
      "max_width": null,
      "min_height": null,
      "min_width": null,
      "object_fit": null,
      "object_position": null,
      "order": null,
      "overflow": null,
      "overflow_x": null,
      "overflow_y": null,
      "padding": null,
      "right": null,
      "top": null,
      "visibility": null,
      "width": null
     }
    },
    "f98685d39b3c45babf964ec0c2463835": {
     "model_module": "@jupyter-widgets/controls",
     "model_name": "HBoxModel",
     "state": {
      "_dom_classes": [],
      "_model_module": "@jupyter-widgets/controls",
      "_model_module_version": "1.5.0",
      "_model_name": "HBoxModel",
      "_view_count": null,
      "_view_module": "@jupyter-widgets/controls",
      "_view_module_version": "1.5.0",
      "_view_name": "HBoxView",
      "box_style": "",
      "children": [
       "IPY_MODEL_c2fc99adb94e485eb6728624acd07c5c",
       "IPY_MODEL_71cced45e29d4c58a91feaa0ed25c330"
      ],
      "layout": "IPY_MODEL_6e15e39a1e604cb0b667266cf07c169a"
     }
    },
    "f9f7b862fa8844039bc6c0b6491e0ccc": {
     "model_module": "@jupyter-widgets/base",
     "model_name": "LayoutModel",
     "state": {
      "_model_module": "@jupyter-widgets/base",
      "_model_module_version": "1.2.0",
      "_model_name": "LayoutModel",
      "_view_count": null,
      "_view_module": "@jupyter-widgets/base",
      "_view_module_version": "1.2.0",
      "_view_name": "LayoutView",
      "align_content": null,
      "align_items": null,
      "align_self": null,
      "border": null,
      "bottom": null,
      "display": null,
      "flex": null,
      "flex_flow": null,
      "grid_area": null,
      "grid_auto_columns": null,
      "grid_auto_flow": null,
      "grid_auto_rows": null,
      "grid_column": null,
      "grid_gap": null,
      "grid_row": null,
      "grid_template_areas": null,
      "grid_template_columns": null,
      "grid_template_rows": null,
      "height": null,
      "justify_content": null,
      "justify_items": null,
      "left": null,
      "margin": null,
      "max_height": null,
      "max_width": null,
      "min_height": null,
      "min_width": null,
      "object_fit": null,
      "object_position": null,
      "order": null,
      "overflow": null,
      "overflow_x": null,
      "overflow_y": null,
      "padding": null,
      "right": null,
      "top": null,
      "visibility": null,
      "width": null
     }
    }
   }
  }
 },
 "nbformat": 4,
 "nbformat_minor": 1
}
