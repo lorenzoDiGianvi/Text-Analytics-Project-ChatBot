{
 "cells": [
  {
   "cell_type": "code",
   "execution_count": 1,
   "metadata": {},
   "outputs": [],
   "source": [
    "import json\n",
    "import random\n",
    "import gensim\n",
    "\n",
    "from gensim.parsing.preprocessing import preprocess_documents"
   ]
  },
  {
   "cell_type": "markdown",
   "metadata": {},
   "source": [
    "### Upload dei file\n",
    "La variabile **corpus** è una lista delle:\n",
    "- frasi contenute negli articoli \n",
    "- domande delle FAQ"
   ]
  },
  {
   "cell_type": "code",
   "execution_count": 2,
   "metadata": {},
   "outputs": [],
   "source": [
    "corpus = list()"
   ]
  },
  {
   "cell_type": "code",
   "execution_count": 3,
   "metadata": {},
   "outputs": [],
   "source": [
    "with open ('articoli.txt', 'r', encoding = 'utf-8') as file:\n",
    "    corpus = json.loads(file.read())\n",
    "    \n",
    "# eliminazione di quelle frasi che sono delle domande\n",
    "# (per evitare che il chatbot risponda con delle domande)\n",
    "for sentence in corpus:\n",
    "    if (sentence[len(sentence)-1] == '?'):\n",
    "        corpus.remove(sentence)"
   ]
  },
  {
   "cell_type": "markdown",
   "metadata": {},
   "source": [
    "**q_a** dizionario che ha per chiave le domande delle FAQ e per valore una tupla contenente la risposta alla FAQ e il link della pagina web in cui le FAQ sono state estratte"
   ]
  },
  {
   "cell_type": "code",
   "execution_count": 4,
   "metadata": {},
   "outputs": [],
   "source": [
    "with open('q&a.json', 'r') as data_structure:\n",
    "    q_a = json.load(data_structure)\n",
    "    # appendiamo le chiavi del dizionario (le domande delle FAQ)\n",
    "    for k in q_a.keys():\n",
    "        corpus.append(k)"
   ]
  },
  {
   "cell_type": "markdown",
   "metadata": {},
   "source": [
    "### Pre-processing\n",
    "Per il preprocessing abbiamo usato una funzione di gensim **simple_preprocess** che:\n",
    "- prende in input un documento (nel nostro caso una frase)\n",
    "- trasforma tutto in lower case\n",
    "- tokenizza\n",
    "- restituisce una lista di tokens"
   ]
  },
  {
   "cell_type": "code",
   "execution_count": 5,
   "metadata": {},
   "outputs": [],
   "source": [
    "# funzione che effettua il preprocessing di ogni frase contenuta \n",
    "# nel corpus\n",
    "def sent_to_words(sentences):\n",
    "    for sentence in sentences:\n",
    "        yield(gensim.utils.simple_preprocess(str(sentence)))"
   ]
  },
  {
   "cell_type": "code",
   "execution_count": 6,
   "metadata": {},
   "outputs": [],
   "source": [
    "# richiamiamo la funzione \n",
    "processed_corpus =list(sent_to_words(corpus))"
   ]
  },
  {
   "cell_type": "markdown",
   "metadata": {},
   "source": [
    "### Costruzione del modello"
   ]
  },
  {
   "cell_type": "markdown",
   "metadata": {},
   "source": [
    "Creazione del dizionario e rappresentazione Bag Of Words\n",
    "- corpora.Dictionary = serve per creare il concetto di dizionario (inteso come mapping tra una parola e un suo identificatore numerico)"
   ]
  },
  {
   "cell_type": "code",
   "execution_count": 7,
   "metadata": {},
   "outputs": [],
   "source": [
    "dictionary = gensim.corpora.Dictionary(processed_corpus)\n",
    "\n",
    "# forniamo a ogni documento/frase del corpus una rappresentazione bow\n",
    "bow_corpus = [dictionary.doc2bow(text) for text in processed_corpus]"
   ]
  },
  {
   "cell_type": "markdown",
   "metadata": {},
   "source": [
    "**bow_corpus** è una lista di frasi in cui ogni parola è rappresentata da una tupla: il primo elemento della tupla è l'id di quella parola nel dizionario, il secondo elemento è un numero che indica quante volte quella parola appare nella frase"
   ]
  },
  {
   "cell_type": "code",
   "execution_count": 8,
   "metadata": {},
   "outputs": [],
   "source": [
    "# carichiamo il modello tfidf dalla gensim library\n",
    "tfidf = gensim.models.TfidfModel(bow_corpus, smartirs='npu')\n",
    "# applichiamo il modello alla precedente rappresentazione bow\n",
    "corpus_tfidf = tfidf[bow_corpus]"
   ]
  },
  {
   "cell_type": "markdown",
   "metadata": {},
   "source": [
    "**LSI = Latent Semantic Indexing**\n",
    "\n",
    "Si tratta di un algoritmo che restituisce come output un vettore a bassa dimensionalità che rappresenta il documento/frase. Nel nostro caso, l'input è un insieme di vettori che hanno una rappresentazione tf-idf.\n",
    "\n",
    "- num_topics = number of latent dimensions"
   ]
  },
  {
   "cell_type": "code",
   "execution_count": 9,
   "metadata": {},
   "outputs": [],
   "source": [
    "lsi = gensim.models.LsiModel(corpus_tfidf, num_topics=200)"
   ]
  },
  {
   "cell_type": "markdown",
   "metadata": {},
   "source": [
    "**MatrixSimilarity** = funzione di gensim che calcola la cosine similarity tra i documenti di un corpus. La matrice di similarità viene indicizzata. Prende in input vettori densi (per questo gli si passa l'output di LSI)."
   ]
  },
  {
   "cell_type": "code",
   "execution_count": 10,
   "metadata": {},
   "outputs": [],
   "source": [
    "index = gensim.similarities.MatrixSimilarity(lsi[corpus_tfidf])"
   ]
  },
  {
   "cell_type": "markdown",
   "metadata": {},
   "source": [
    "### Impostazione chatbot"
   ]
  },
  {
   "cell_type": "code",
   "execution_count": 11,
   "metadata": {},
   "outputs": [],
   "source": [
    "# funzione che restituisce un saluto come risposta a un saluto dell'utente\n",
    "def greeting_response(text):\n",
    "    text = text.lower()\n",
    "    \n",
    "    # lista dei possibili saluti che il bot può dare\n",
    "    bot_greetings = ['ciao', 'ehi']\n",
    "    # lista dei saluti che il bot riconosce\n",
    "    user_greetings = ['ciao']\n",
    "    \n",
    "    # se una parola dell'utente contiene una parola in user_greetings\n",
    "    for word in text.split():\n",
    "        if word in user_greetings:\n",
    "            # restituisci una parola presa a caso da bot_greetings\n",
    "            return random.choice(bot_greetings)"
   ]
  },
  {
   "cell_type": "code",
   "execution_count": 12,
   "metadata": {},
   "outputs": [],
   "source": [
    "def bot_response(user_input, index, q_a):\n",
    "    bot_response = ''\n",
    "    # flag per vedere se esiste una risposta per la query dell'utente\n",
    "    response_flag = 0\n",
    "    found_faq = False\n",
    "    \n",
    "    # minimo preprocessing dell'input\n",
    "    processed_input = user_input.lower().split()\n",
    "    bow_query_vec = dictionary.doc2bow(processed_input)\n",
    "    tfidf_query_vec = tfidf[bow_query_vec]\n",
    "    \n",
    "    # facciamo rappresentazione densa del vettore query\n",
    "    lsi_query_vec = lsi[tfidf_query_vec]\n",
    "    \n",
    "    sims = index[lsi_query_vec]\n",
    "    sims = sorted(enumerate(sims), key=lambda item: item[1], reverse=True)\n",
    "    \n",
    "    # se la frase più simile che ha trovato è una domanda delle FAQ\n",
    "    # restituisco la risposta\n",
    "    for k in q_a.keys():\n",
    "        if corpus[sims[0][0]].lower() == k.lower():\n",
    "            bot_response = bot_response + q_a[k][0]\n",
    "            response_flag = 1 # abbiamo trovato la risposta\n",
    "            found_faq = True # abbiamo trovato la risposta\n",
    "\n",
    "    if not found_faq:\n",
    "        bot_response = bot_response + corpus[sims[0][0]]\n",
    "        response_flag = 1 # abbiamo trovato la risposta\n",
    "    \n",
    "    # se non abbiamo trovato una risposta\n",
    "    if response_flag == 0:\n",
    "        bot_response = bot_response + 'Scusa, non sono in grado di risponderti.'\n",
    "        \n",
    "    return bot_response"
   ]
  },
  {
   "cell_type": "markdown",
   "metadata": {},
   "source": [
    "### Esempio di conversazione (try it yourself!)"
   ]
  },
  {
   "cell_type": "code",
   "execution_count": 13,
   "metadata": {},
   "outputs": [
    {
     "name": "stdout",
     "output_type": "stream",
     "text": [
      "Co-bot:\n",
      "Benvenuto! Risponderò a tutti i tuoi dubbi riguardo il coronavirus\n",
      "\n",
      "\n",
      "User:\n"
     ]
    },
    {
     "ename": "KeyboardInterrupt",
     "evalue": "Interrupted by user",
     "output_type": "error",
     "traceback": [
      "\u001b[1;31m---------------------------------------------------------------------------\u001b[0m",
      "\u001b[1;31mKeyboardInterrupt\u001b[0m                         Traceback (most recent call last)",
      "\u001b[1;32m<ipython-input-13-faf3c1a76476>\u001b[0m in \u001b[0;36m<module>\u001b[1;34m\u001b[0m\n\u001b[0;32m      7\u001b[0m     \u001b[0mprint\u001b[0m\u001b[1;33m(\u001b[0m\u001b[1;33m)\u001b[0m\u001b[1;33m\u001b[0m\u001b[1;33m\u001b[0m\u001b[0m\n\u001b[0;32m      8\u001b[0m     \u001b[0mprint\u001b[0m\u001b[1;33m(\u001b[0m\u001b[1;34m'User:'\u001b[0m\u001b[1;33m)\u001b[0m\u001b[1;33m\u001b[0m\u001b[1;33m\u001b[0m\u001b[0m\n\u001b[1;32m----> 9\u001b[1;33m     \u001b[0muser_input\u001b[0m \u001b[1;33m=\u001b[0m \u001b[0minput\u001b[0m\u001b[1;33m(\u001b[0m\u001b[1;33m)\u001b[0m\u001b[1;33m\u001b[0m\u001b[1;33m\u001b[0m\u001b[0m\n\u001b[0m\u001b[0;32m     10\u001b[0m     \u001b[1;32mif\u001b[0m \u001b[0muser_input\u001b[0m\u001b[1;33m.\u001b[0m\u001b[0mlower\u001b[0m\u001b[1;33m(\u001b[0m\u001b[1;33m)\u001b[0m \u001b[1;32min\u001b[0m \u001b[0mexit_list\u001b[0m\u001b[1;33m:\u001b[0m\u001b[1;33m\u001b[0m\u001b[1;33m\u001b[0m\u001b[0m\n\u001b[0;32m     11\u001b[0m         \u001b[0mprint\u001b[0m\u001b[1;33m(\u001b[0m\u001b[1;34m'Co-bot: Ciao, a presto!'\u001b[0m\u001b[1;33m)\u001b[0m\u001b[1;33m\u001b[0m\u001b[1;33m\u001b[0m\u001b[0m\n",
      "\u001b[1;32m~\\anaconda3\\lib\\site-packages\\ipykernel\\kernelbase.py\u001b[0m in \u001b[0;36mraw_input\u001b[1;34m(self, prompt)\u001b[0m\n\u001b[0;32m    858\u001b[0m                 \u001b[1;34m\"raw_input was called, but this frontend does not support input requests.\"\u001b[0m\u001b[1;33m\u001b[0m\u001b[1;33m\u001b[0m\u001b[0m\n\u001b[0;32m    859\u001b[0m             )\n\u001b[1;32m--> 860\u001b[1;33m         return self._input_request(str(prompt),\n\u001b[0m\u001b[0;32m    861\u001b[0m             \u001b[0mself\u001b[0m\u001b[1;33m.\u001b[0m\u001b[0m_parent_ident\u001b[0m\u001b[1;33m,\u001b[0m\u001b[1;33m\u001b[0m\u001b[1;33m\u001b[0m\u001b[0m\n\u001b[0;32m    862\u001b[0m             \u001b[0mself\u001b[0m\u001b[1;33m.\u001b[0m\u001b[0m_parent_header\u001b[0m\u001b[1;33m,\u001b[0m\u001b[1;33m\u001b[0m\u001b[1;33m\u001b[0m\u001b[0m\n",
      "\u001b[1;32m~\\anaconda3\\lib\\site-packages\\ipykernel\\kernelbase.py\u001b[0m in \u001b[0;36m_input_request\u001b[1;34m(self, prompt, ident, parent, password)\u001b[0m\n\u001b[0;32m    902\u001b[0m             \u001b[1;32mexcept\u001b[0m \u001b[0mKeyboardInterrupt\u001b[0m\u001b[1;33m:\u001b[0m\u001b[1;33m\u001b[0m\u001b[1;33m\u001b[0m\u001b[0m\n\u001b[0;32m    903\u001b[0m                 \u001b[1;31m# re-raise KeyboardInterrupt, to truncate traceback\u001b[0m\u001b[1;33m\u001b[0m\u001b[1;33m\u001b[0m\u001b[1;33m\u001b[0m\u001b[0m\n\u001b[1;32m--> 904\u001b[1;33m                 \u001b[1;32mraise\u001b[0m \u001b[0mKeyboardInterrupt\u001b[0m\u001b[1;33m(\u001b[0m\u001b[1;34m\"Interrupted by user\"\u001b[0m\u001b[1;33m)\u001b[0m \u001b[1;32mfrom\u001b[0m \u001b[1;32mNone\u001b[0m\u001b[1;33m\u001b[0m\u001b[1;33m\u001b[0m\u001b[0m\n\u001b[0m\u001b[0;32m    905\u001b[0m             \u001b[1;32mexcept\u001b[0m \u001b[0mException\u001b[0m \u001b[1;32mas\u001b[0m \u001b[0me\u001b[0m\u001b[1;33m:\u001b[0m\u001b[1;33m\u001b[0m\u001b[1;33m\u001b[0m\u001b[0m\n\u001b[0;32m    906\u001b[0m                 \u001b[0mself\u001b[0m\u001b[1;33m.\u001b[0m\u001b[0mlog\u001b[0m\u001b[1;33m.\u001b[0m\u001b[0mwarning\u001b[0m\u001b[1;33m(\u001b[0m\u001b[1;34m\"Invalid Message:\"\u001b[0m\u001b[1;33m,\u001b[0m \u001b[0mexc_info\u001b[0m\u001b[1;33m=\u001b[0m\u001b[1;32mTrue\u001b[0m\u001b[1;33m)\u001b[0m\u001b[1;33m\u001b[0m\u001b[1;33m\u001b[0m\u001b[0m\n",
      "\u001b[1;31mKeyboardInterrupt\u001b[0m: Interrupted by user"
     ]
    }
   ],
   "source": [
    "print('Co-bot:')\n",
    "print('Benvenuto! Risponderò a tutti i tuoi dubbi riguardo il coronavirus')\n",
    "print()\n",
    "\n",
    "exit_list = ['esci']\n",
    "while(True):\n",
    "    print()\n",
    "    print('User:')\n",
    "    user_input = input()\n",
    "    if user_input.lower() in exit_list:\n",
    "        print('Co-bot: Ciao, a presto!')\n",
    "        break\n",
    "    else:\n",
    "        if greeting_response(user_input) != None:\n",
    "            print('Co-bot:')\n",
    "            print(greeting_response(user_input))\n",
    "        else:\n",
    "            print('Co-bot: ... ')\n",
    "            print(bot_response(user_input, index, q_a))"
   ]
  },
  {
   "cell_type": "markdown",
   "metadata": {},
   "source": [
    "### Testing\n",
    "Il nostro test set è una lista di 42 domande che sono state raccolte con le modalità descritte nel report."
   ]
  },
  {
   "cell_type": "code",
   "execution_count": 14,
   "metadata": {},
   "outputs": [],
   "source": [
    "test_set = [\"Cosa fare nel caso in cui si manifestano i sintomi?\", \n",
    "            \"Posso viaggiare se ho il coronavirus?\", \n",
    "            \"Le donne in gravidanza possono trasmettere la malattia al figlio?\", \n",
    "            \"Quanto tempo resta nel corpo il coronavirus?\", \n",
    "            \"Come funziona il contact tracing?\", \n",
    "            \"Quando finirà la pandemia?\", \n",
    "            \"Il vaccino ha effetti collaterali?\", \n",
    "            \"Cosa sappiamo della nuova variante inglese?\", \n",
    "            \"Quanti tipi di vaccino esistono?\", \n",
    "            \"Fino a quando saranno chiuse le attività commerciali?\", \n",
    "            \"Come distinguiamo un'influenza stagionale da un'influenza covid?\", \n",
    "            \"Chi si è vaccinato può trasmette la malattia?\", \n",
    "            \"Quali sono i colori che possono assumere le regioni?\", \n",
    "            \"Come fanno le persone infette a trasmettere il virus?\", \n",
    "            \"Se vengo dall'estero devo fare il tampone?\", \n",
    "            \"Cos’è l'indice Rt?\", \n",
    "            \"Posso ammalarmi due volte di covid?\", \n",
    "            \"Quanto tempo dura l'isolamento fiduciario?\", \n",
    "            \"È possibile fare sport di contatto?\", \n",
    "            \"Come faccio a capire se sono positiva ma asintomatica?\", \n",
    "            \"Sono stato a contatto con un infetto: cosa devo fare?\", \n",
    "            \"Fino a quando resteranno chiuse le piscine e le palestre?\", \n",
    "            \"Dopo il vaccino, devo comunque continuare a usare la mascherina?\", \n",
    "            \"Che cosa devo fare se voglio andare all'estero?\", \n",
    "            \"Lo smog/inquinamento influisce sulla diffusione del coronavirus/covid?\", \n",
    "            \"Qual è il periodo di copertura del vaccino?\", \n",
    "            \"Se sono all’estero, cosa devo fare per tornare in Italia?\", \n",
    "            \"Come proteggere le persone più anziane dal virus?\", \n",
    "            \"Il coronavirus è pericoloso per gli animali domestici?\", \n",
    "            \"La mascherina è obbligatoria all’aperto?\", \n",
    "            \"Fino a quando sarà adottata la didattica a distanza per le scuole superiori?\", \n",
    "            \"Qual è l'incidenza del covid nei bambini?\", \n",
    "            \"I guanti servono a proteggere dal contagio?\", \n",
    "            \"Si può viaggiare fuori comune in area gialla?\", \n",
    "            \"Quanto sono importanti il distanziamento e la chiusura delle attività nella trasmissione del covid?\", \n",
    "            \"Posso fare attività sportiva se sono positivo asintomatico?\", \n",
    "            \"Per i bambini è obbligatorio l’uso della mascherina?\", \n",
    "            \"Come agiscono i linfociti T nelle infezioni da covid?\", \n",
    "            \"Posso visitare i miei nonni?\", \n",
    "            \"È possibile andare a pesca?\", \n",
    "            \"Quali sono i sintomi del coronavirus?\", \n",
    "            \"Il virus può rimanere sulle superfici?\"]"
   ]
  },
  {
   "cell_type": "code",
   "execution_count": 15,
   "metadata": {},
   "outputs": [
    {
     "name": "stdout",
     "output_type": "stream",
     "text": [
      "Co-bot:\n",
      "Benvenuto! Risponderò a tutti i tuoi dubbi riguardo il coronavirus\n",
      "\n",
      "\n",
      "User:\n",
      "Cosa fare nel caso in cui si manifestano i sintomi?\n",
      "Co-bot: ... \n",
      "Il referente scolastico per il Covid-19 deve comunicare al Dipartimento di Prevenzione se si verifica un numero elevato di assenze improvvise di studenti in una classe o di insegnanti. Il Dipartimento effettuerà un’indagine epidemiologica per valutare le azioni di sanità pubblica da intraprendere, tenendo conto della presenza di casi confermati nella scuola o di focolai di Covid-19 nella comunità.\n",
      "\n",
      "User:\n",
      "Posso viaggiare se ho il coronavirus?\n",
      "Co-bot: ... \n",
      "L'influenza e il virus che causa COVID-19 sono due virus diversi e il vaccino contro l'influenza stagionale non protegge da COVID-19. La vaccinazione anti-influenzale è fortemente raccomandata perché rende la diagnosi differenziale (cioè la distinzione tra le due infezioni), più facile e più rapida, portando più precocemente all'isolamento di eventuali casi di coronavirus.\n",
      "\n",
      "User:\n",
      "Le donne in gravidanza possono trasmettere la malattia al figlio?\n",
      "Co-bot: ... \n",
      "Nonostante le evidenze siano ancora scarse, la trasmissione verticale del virus SARS-CoV-2 non può essere esclusa. Ad oggi viene considerato un evento raro ma possibile. Sono vari i casi in Italia di positività tra i neonati, presumibilmente infettati a seguito del contatto con la madre positiva durante o dopo il parto. È stato osservato che questi bambini non presentano sintomi importanti e si tratta di una condizione che non desta particolari preoccupazioni.\n",
      "\n",
      "User:\n",
      "Quanto tempo resta nel corpo il coronavirus?\n",
      "Co-bot: ... \n",
      "Le evidenze scientifiche al momento disponibili indicano che il tempo di sopravvivenza del virus sulle superfici vari in relazione al tipo di superficie considerata. Il recente rapporto dell'Istituto superiore di sanità(http://www.iss.it/documents/20126/0/Rappporto+ISS+COVID-19+n.+25_2020.pdf/90decdd1-7c29-29e4-6663-b992e1773c98?t=1589836083759) riguardo le raccomandazioni sulla sanificazione di strutture non sanitarie nell’attuale emergenza COVID-19 (superfici, ambienti interni e abbigliamento) e la circolare 22 maggio 2020(http://www.trovanorme.salute.gov.it/norme/renderNormsanPdf?anno=2020&codLeg=74133&parte=1%20&serie=null) del ministero della Salute riportano i tempi di rilevazione di particelle virali sulle superfici più comuni, variabili da alcune ore (come ad es. sulla carta) fino a diversi giorni (come sulla plastica e l’acciaio inossidabile). Tuttavia, bisogna considerare che i dati finora disponibili, essendo generati da condizioni sperimentali, devono essere interpretati con cautela, tenendo anche conto del fatto che la presenza di RNA virale non indica necessariamente che il virus sia vitale e potenzialmente infettivo. L’utilizzo di semplici disinfettanti è in grado di uccidere il virus annullando la sua capacità di infettare le persone, per esempio disinfettanti contenenti alcol (etanolo) o ipoclorito di sodio (candeggina/varechina). Ricorda di pulire gli oggetti che usi frequentemente (telefono cellulare, auricolari, microfono) prima con acqua e sapone o altri detergenti neutri e poi disinfettarli con prodotti a base di ipoclorito di sodio (candeggina/varechina) o etanolo (alcol), tenendo conto delle indicazioni fornite dal produttore. Leggi il Rapporto ISS Raccomandazioni ad interim sulla sanificazione di strutture non sanitarie nell’attuale emergenza COVID-19: superfici, ambienti interni e abbigliamento(https://www.iss.it/documents/20126/0/Rappporto+ISS+COVID-19+n.+25_2020.pdf/90decdd1-7c29-29e4-6663-b992e1773c98?t=1589836083759) .\n",
      "\n",
      "User:\n",
      "Come funziona il contact tracing?\n",
      "Co-bot: ... \n",
      "Prima di indossare la mascherina lavare le mani con acqua e sapone per almeno 40-60 secondi o eseguire l’igiene delle mani con soluzione alcolica per almeno 20-30 secondi indossare la mascherina toccando solo gli elastici o i legacci e avendo cura di non toccare la parte interna posizionare correttamente la mascherina facendo aderire il ferretto superiore al naso e portandola sotto il mento accertarsi di averla indossata nel verso giusto (ad esempio nelle mascherine chirurgiche la parta colorata è quella esterna). Durante l’uso se si deve spostare la mascherina manipolarla sempre utilizzando gli elastici o i legacci se durante l’uso si tocca la mascherina, si deve ripetere l’igiene delle mani non riporre la mascherina in tasca e non poggiarla su mobili o ripiani. Quando si rimuove manipolare la mascherina utilizzando sempre gli elastici o i legacci lavare le mani con acqua e sapone o eseguire l'igiene delle mani con una soluzione alcolica Nel caso di mascherine riutilizzabili procedere alle operazioni di lavaggio a 60°C con comune detersivo o secondo le istruzioni del produttore, se disponibili; talvolta i produttori indicano anche il numero massimo di lavaggi possibili senza riduzione della performance della mascherina dopo avere maneggiato una mascherina usata, effettuare il lavaggio o l’igiene delle mani.\n",
      "\n",
      "User:\n",
      "Quando finirà la pandemia?\n",
      "Co-bot: ... \n",
      "È obbligatorio avere sempre con sé le mascherine. Queste dovranno essere indossate nei luoghi al chiuso diversi dalle abitazioni private e anche in tutti i luoghi all’aperto , ad eccezione dei casi in cui, per le caratteristiche del luogo o per le circostanze di fatto, sia garantita in modo continuativo la condizione di isolamento rispetto a persone non conviventi. È fortemente raccomandato l'uso dei dispositivi di protezione delle vie respiratorie anche all'interno delle abitazioni private in presenza di persone non conviventi. Sono fatti salvi i protocolli e linee-guida anti-contagio previsti per le attività economiche, produttive, amministrative e sociali. Nei luoghi di lavoro continuano, quindi, ad applicarsi le vigenti regole di sicurezza. Fatte salve anche le linee guida per il consumo di cibi e bevande. Restano esclusi dall’obbligo di indossare la mascherina i bambini di età inferiore ai sei anni, le persone con patologie o disabilità incompatibili con l’uso della mascherina e coloro che, per interagire con questi ultimi, versino nella stessa incompatibilità. Inoltre, l’uso della mascherina non sarà obbligatorio durante lo svolgimento dell’attività sportiva. In comunità possono essere utilizzate mascherine monouso o mascherine lavabili, anche auto-prodotte, in materiali multistrato idonei a fornire un'adeguata barriera e, al contempo, che garantiscano comfort e respirabilità, forma e aderenza adeguate, che permettano di coprire dal mento al di sopra del naso. Non è utile indossare più mascherine chirurgiche sovrapposte. L'uso razionale delle mascherine chirurgiche è importante per evitare inutili sprechi di risorse preziose.\n",
      "\n",
      "User:\n",
      "Il vaccino ha effetti collaterali?\n",
      "Co-bot: ... \n",
      "Speranza è intervenuto anche sul tema deivaccini: in merito al vaccino Astrazeneca il ministro ha annunciato che \"leprime dosi, se il vaccino dovesse essere confermato come un vaccino sicuro e in grado di raggiungere l'obiettivo per cui è stato ricostruito, saranno già disponibilientro la fine del 2020\".\n",
      "\n",
      "User:\n",
      "Cosa sappiamo della nuova variante inglese?\n",
      "Co-bot: ... \n",
      "Analisi preliminari indicano che la nuova variante isolata nel Regno Unito ha una maggiore trasmissibilità rispetto ad altre varianti già in circolazione ma non ci sono finora evidenze che possa causare una malattia più grave. La diffusione di una variante con maggiore trasmissibilità implica comunque un maggior numero di casi positivi e di conseguenza un possibile aumento di casi gravi nelle persone in età avanzata e con più malattie preesistenti, e quindi dei ricoveri.\n",
      "\n",
      "User:\n",
      "Quanti tipi di vaccino esistono?\n",
      "Co-bot: ... \n",
      "Ilprimoasse è relativo alla centralizzazione e gratuità del vaccino.\n",
      "\n",
      "User:\n",
      "Fino a quando saranno chiuse le attività commerciali?\n",
      "Co-bot: ... \n",
      "Attività sportive\n",
      "\n",
      "User:\n",
      "Come distinguiamo un'influenza stagionale da un'influenza covid?\n",
      "Co-bot: ... \n",
      "Prima di indossare la mascherina lavare le mani con acqua e sapone per almeno 40-60 secondi o eseguire l’igiene delle mani con soluzione alcolica per almeno 20-30 secondi indossare la mascherina toccando solo gli elastici o i legacci e avendo cura di non toccare la parte interna posizionare correttamente la mascherina facendo aderire il ferretto superiore al naso e portandola sotto il mento accertarsi di averla indossata nel verso giusto (ad esempio nelle mascherine chirurgiche la parta colorata è quella esterna). Durante l’uso se si deve spostare la mascherina manipolarla sempre utilizzando gli elastici o i legacci se durante l’uso si tocca la mascherina, si deve ripetere l’igiene delle mani non riporre la mascherina in tasca e non poggiarla su mobili o ripiani. Quando si rimuove manipolare la mascherina utilizzando sempre gli elastici o i legacci lavare le mani con acqua e sapone o eseguire l'igiene delle mani con una soluzione alcolica Nel caso di mascherine riutilizzabili procedere alle operazioni di lavaggio a 60°C con comune detersivo o secondo le istruzioni del produttore, se disponibili; talvolta i produttori indicano anche il numero massimo di lavaggi possibili senza riduzione della performance della mascherina dopo avere maneggiato una mascherina usata, effettuare il lavaggio o l’igiene delle mani.\n",
      "\n",
      "User:\n",
      "Chi si è vaccinato può trasmette la malattia?\n",
      "Co-bot: ... \n",
      "L’ AIFA(https://www.aifa.gov.it/) (Agenzia Italiana del Farmaco), oltre alle attività di farmacovigilanza normalmente previste per farmaci e vaccini (basate sulle segnalazioni spontanee e sulle reti di farmacovigilanza già presenti), promuoverà l’avvio di alcuni studi indipendenti post-autorizzativi sui vaccini COVID-19. Le attività di vigilanza riguarderanno sia la raccolta e valutazione delle segnalazioni spontanee di sospetta reazione avversa (farmacovigilanza passiva) che azioni proattive, attraverso studi/progetti di farmaco-epidemiologia (farmacovigilanza attiva). L’AIFA si è dotata di un Comitato scientifico(https://www.aifa.gov.it/-/l-aifa-istituisce-il-comitato-scientifico-per-la-sorveglianza-dei-vaccini-covid-19) , che, per tutto il periodo della campagna vaccinale, avrà la funzione di supportare l’Agenzia e i responsabili scientifici dei singoli studi nella fase di impostazione delle attività, nell'analisi complessiva dei dati che saranno raccolti e nell’individuazione di possibili interventi. La finalità è quella di disporre, anche attraverso una rete collaborativa internazionale, della capacità di evidenziare ogni eventuale segnale di rischio e, nel contempo, di confrontare i profili di sicurezza dei diversi vaccini che si renderanno disponibili, di fornire raccomandazioni. Leggi anche le Faq dell'AIFA(https://www.aifa.gov.it/domande-e-risposte-su-vaccino-covid-19-comirnaty) .\n",
      "\n",
      "User:\n",
      "Quali sono i colori che possono assumere le regioni?\n",
      "Co-bot: ... \n",
      "La persona con sospetta o accertata infezione COVID-19 deve stare lontana dagli altri familiari, se possibile, in una stanza singola ben ventilata e non deve ricevere visite. Chi l’assiste deve essere in buona salute e non avere malattie che lo mettano a rischio se contagiato. I membri della famiglia devono soggiornare in altre stanze o, se non è possibile, mantenere una distanza di almeno 1 metro dalla persona malata e dormire in un letto diverso. Chi assiste il malato deve indossare una mascherina chirurgica accuratamente posizionata sul viso quando si trova nella stessa stanza. Se la maschera è bagnata o sporca per secrezioni è necessario sostituirla immediatamente e lavarsi le mani dopo averla rimossa. Le mani vanno accuratamente lavate con acqua e sapone o con una soluzione idroalcolica dopo ogni contatto con il malato o con il suo ambiente circostante, prima e dopo aver preparato il cibo, prima di mangiare, dopo aver usato il bagno e ogni volta che le mani appaiono sporche. Queste sono solo alcune delle tante raccomandazioni contenute in una guida realizzata dall'Istituto Superiore di Sanità (https://www.iss.it/rapporti-covid-19/-/asset_publisher/btw1J82wtYzH/content/id/5292564?_com_liferay_asset_publisher_web_portlet_AssetPublisherPortlet_INSTANCE_btw1J82wtYzH_redirect=https%3A%2F%2Fwww.iss.it%2Frapporti-covid-19%3Fp_p_id%3Dcom_liferay_asset_publisher_web_portlet_AssetPublisherPortlet_INSTANCE_btw1J82wtYzH%26p_p_lifecycle%3D0%26p_p_state%3Dnormal%26p_p_mode%3Dview%26_com_liferay_asset_publisher_web_portlet_AssetPublisherPortlet_INSTANCE_btw1J82wtYzH_cur%3D0%26p_r_p_resetCur%3Dfalse%26_com_liferay_asset_publisher_web_portlet_AssetPublisherPortlet_INSTANCE_btw1J82wtYzH_assetEntryId%3D5292564) e riassunte in 21 punti in un poster(https://www.iss.it/documents/20126/0/Poster+Raccomandazioni+isolamento+rev+12+marzo+%281%29.pdf/d409de34-8bba-a220-10e8-e7e8a33963c3?t=1584027346339) scaricabile. Per approfondire Circolare ministeriale 30 novembre 2020  - Gestione domiciliare dei pazienti con infezione da SARS-CoV-2(https://www.trovanorme.salute.gov.it/norme/renderNormsanPdf?anno=2020&codLeg=77456&parte=1%20&serie=null) .\n",
      "\n",
      "User:\n",
      "Come fanno le persone infette a trasmettere il virus?\n",
      "Co-bot: ... \n",
      "Sulla base delle attuali conoscenze, la trasmissione del virus avviene principalmente da persone sintomatiche, ma può verificarsi anche poco prima dell’insorgenza della sintomatologia, quando sono in prossimità di altre persone per periodi di tempo prolungati. Le persone che non manifestano mai sintomi possono trasmettere il virus anche se non è ancora chiaro in che misura tale eventualità si verifichi: sono necessari ulteriori studi. Per aiutare ad interrompere la catena di trasmissione è necessario limitare i contatti con persone COVID-19 positive, lavarsi frequentemente e accuratamente le mani, mantenere il distanziamento fisico di almeno un metro e indossare una mascherina.\n",
      "\n",
      "User:\n",
      "Se vengo dall'estero devo fare il tampone?\n",
      "Co-bot: ... \n",
      "Le Regioni e le Provincie Autonome, attraverso le strutture sanitarie locali, sono responsabili della sorveglianza sanitaria dei contatti presenti nell’ambito del territorio di competenza. Tali attività sono affidate al Dipartimento di Prevenzione dell’azienda sanitaria locale (ASL). In attesa di essere contattati dal Dipartimento di Prevenzione della ASL territorialmente competente è possibile rivolgersi al proprio medico di medicina generale (MMG) o pediatra di libera scelta (PLS) o alla continuità assistenziale ( ex-guardia medica ), che potrà fornire indicazioni specifiche su come procedere per contattare l’ASL di riferimento, oppure ai numeri verdi regionali attivati per rispondere alle richieste di informazioni riguardo le misure adottate per il contenimento e la gestione dell’emergenza COVID-19 in Italia(http://www.salute.gov.it/portale/nuovocoronavirus/dettaglioContenutiNuovoCoronavirus.jsp?lingua=italiano&id=5364&area=nuovoCoronavirus&menu=aChiRivolgersi) , consultabili sul sito del Ministero della salute o sui siti web delle singole Regioni(http://www.regioni.it/regioni-online/.) . Per ulteriori informazioni contattare il Ministero della Salute al numero gratuito di pubblica utilità 1500 , attivo tutti i giorni 24 ore su 24.\n",
      "\n",
      "User:\n",
      "Cos’è l'indice Rt?\n",
      "Co-bot: ... \n",
      "\"Ho firmato una nuova ordinanza che blocca i voli in partenza dal Brasile e vieta l’ingresso in Italia di chi negli ultimi 14 giorni vi è transitato.\n",
      "\n",
      "User:\n",
      "Posso ammalarmi due volte di covid?\n",
      "Co-bot: ... \n",
      "Tuttavia, in uno dei due cani di Hong Kong la positività degli accertamenti sierologici supporta l'ipotesi che il cane fosse infetto da SARS-CoV-2.\n",
      "\n",
      "User:\n",
      "Quanto tempo dura l'isolamento fiduciario?\n",
      "Co-bot: ... \n",
      "Le evidenze scientifiche al momento disponibili indicano che il tempo di sopravvivenza del virus sulle superfici vari in relazione al tipo di superficie considerata. Il recente rapporto dell'Istituto superiore di sanità(http://www.iss.it/documents/20126/0/Rappporto+ISS+COVID-19+n.+25_2020.pdf/90decdd1-7c29-29e4-6663-b992e1773c98?t=1589836083759) riguardo le raccomandazioni sulla sanificazione di strutture non sanitarie nell’attuale emergenza COVID-19 (superfici, ambienti interni e abbigliamento) e la circolare 22 maggio 2020(http://www.trovanorme.salute.gov.it/norme/renderNormsanPdf?anno=2020&codLeg=74133&parte=1%20&serie=null) del ministero della Salute riportano i tempi di rilevazione di particelle virali sulle superfici più comuni, variabili da alcune ore (come ad es. sulla carta) fino a diversi giorni (come sulla plastica e l’acciaio inossidabile). Tuttavia, bisogna considerare che i dati finora disponibili, essendo generati da condizioni sperimentali, devono essere interpretati con cautela, tenendo anche conto del fatto che la presenza di RNA virale non indica necessariamente che il virus sia vitale e potenzialmente infettivo. L’utilizzo di semplici disinfettanti è in grado di uccidere il virus annullando la sua capacità di infettare le persone, per esempio disinfettanti contenenti alcol (etanolo) o ipoclorito di sodio (candeggina/varechina). Ricorda di pulire gli oggetti che usi frequentemente (telefono cellulare, auricolari, microfono) prima con acqua e sapone o altri detergenti neutri e poi disinfettarli con prodotti a base di ipoclorito di sodio (candeggina/varechina) o etanolo (alcol), tenendo conto delle indicazioni fornite dal produttore. Leggi il Rapporto ISS Raccomandazioni ad interim sulla sanificazione di strutture non sanitarie nell’attuale emergenza COVID-19: superfici, ambienti interni e abbigliamento(https://www.iss.it/documents/20126/0/Rappporto+ISS+COVID-19+n.+25_2020.pdf/90decdd1-7c29-29e4-6663-b992e1773c98?t=1589836083759) .\n",
      "\n",
      "User:\n",
      "È possibile fare sport di contatto?\n",
      "Co-bot: ... \n",
      "Ecco le misure da adottare: Portare sempre con sé dispositivi di protezione delle vie respiratorie e indossarli nei luoghi al chiuso e in tutti i luoghi all'aperto quando non possa essere garantita in modo continuativo la condizione di isolamento rispetto a persone non conviventi. È fortemente raccomandato l'uso dei dispositivi di protezione delle vie respiratorie anche all'interno delle abitazioni private in presenza di persone non conviventi. ​Sono esonerati dall’obbligo di indossare la mascherina: i soggetti che stanno svolgendo attività sportiva i bambini di età inferiore ai sei anni i soggetti con patologie o disabilità incompatibili con l'uso della mascherina e chi interagisce con loro. Mantenere una distanza di sicurezza interpersonale di almeno un metro. Lavarsi spesso le mani con con acqua e sapone o in assenza con soluzioni idroalcoliche per il lavaggio delle mani. Evitare i luoghi affollati, gli ambienti chiusi con scarsa ventilazione e la distanza ravvicinata. Garantire una buona ventilazione di ambienti chiusi, inclusi abitazioni e uffici. Evitare abbracci e strette di mano. Starnutire e/o tossire in un fazzoletto evitando il contatto delle mani con le secrezioni respiratorie. Evitare l'uso promiscuo di bottiglie e bicchieri, in particolare durante l'attività sportiva. Non toccarsi occhi, naso e bocca con le mani. Non assumere farmaci antivirali e antibiotici, se non prescritti dal medico. Pulire le superfici con acqua e sapone o comuni detergenti neutri per rimuovere lo sporco e poi disinfettarle con soluzioni a base di ipoclorito di sodio (candeggina/varechina) o alcol adeguatamente diluite. Se si presentano febbre, tosse o difficoltà respiratorie e si sospetta di essere stato in stretto contatto con una persona affetta da malattia respiratoria Covid-19: restare in casa, non recarsi al pronto soccorso o presso gli studi medici ma telefonare al medico di famiglia, al pediatra o alla guardia medica, oppure chiamare il numero verde(http://www.salute.gov.it/portale/nuovocoronavirus/dettaglioContenutiNuovoCoronavirus.jsp?lingua=italiano&id=5364&area=nuovoCoronavirus&menu=vuoto) regionale. Utilizzare i numeri di emergenza 112/118 solo in caso di effettiva necessità. Per ulteriori informazioni contattare il Ministero della Salute al numero gratuito di pubblica utilità 1500 , attivo tutti i giorni 24 ore su 24. Mantieniti informato sulla diffusione della pandemia, disponibile sul sito dell'OMS(https://www.who.int/emergencies/diseases/novel-coronavirus-2019/situation-reports/) e sul sito del ministero(http://www.salute.gov.it/nuovocoronavirus) .\n",
      "\n",
      "User:\n",
      "Come faccio a capire se sono positiva ma asintomatica?\n",
      "Co-bot: ... \n",
      "Sarà dunque importante nella fase post pandemica capire se e come sono cambiate le comunità, perché le azioni di prevenzione e promozione della salute dovranno tener conto di questo cambiamento, non solo per migliorare la risposta alla pandemia, ma anche per recuperare le ricadute negative sul benessere psicofisico e sulle disuguaglianze.\n",
      "\n",
      "User:\n",
      "Sono stato a contatto con un infetto: cosa devo fare?\n",
      "Co-bot: ... \n",
      "Ecco le misure da adottare: Portare sempre con sé dispositivi di protezione delle vie respiratorie e indossarli nei luoghi al chiuso e in tutti i luoghi all'aperto quando non possa essere garantita in modo continuativo la condizione di isolamento rispetto a persone non conviventi. È fortemente raccomandato l'uso dei dispositivi di protezione delle vie respiratorie anche all'interno delle abitazioni private in presenza di persone non conviventi. ​Sono esonerati dall’obbligo di indossare la mascherina: i soggetti che stanno svolgendo attività sportiva i bambini di età inferiore ai sei anni i soggetti con patologie o disabilità incompatibili con l'uso della mascherina e chi interagisce con loro. Mantenere una distanza di sicurezza interpersonale di almeno un metro. Lavarsi spesso le mani con con acqua e sapone o in assenza con soluzioni idroalcoliche per il lavaggio delle mani. Evitare i luoghi affollati, gli ambienti chiusi con scarsa ventilazione e la distanza ravvicinata. Garantire una buona ventilazione di ambienti chiusi, inclusi abitazioni e uffici. Evitare abbracci e strette di mano. Starnutire e/o tossire in un fazzoletto evitando il contatto delle mani con le secrezioni respiratorie. Evitare l'uso promiscuo di bottiglie e bicchieri, in particolare durante l'attività sportiva. Non toccarsi occhi, naso e bocca con le mani. Non assumere farmaci antivirali e antibiotici, se non prescritti dal medico. Pulire le superfici con acqua e sapone o comuni detergenti neutri per rimuovere lo sporco e poi disinfettarle con soluzioni a base di ipoclorito di sodio (candeggina/varechina) o alcol adeguatamente diluite. Se si presentano febbre, tosse o difficoltà respiratorie e si sospetta di essere stato in stretto contatto con una persona affetta da malattia respiratoria Covid-19: restare in casa, non recarsi al pronto soccorso o presso gli studi medici ma telefonare al medico di famiglia, al pediatra o alla guardia medica, oppure chiamare il numero verde(http://www.salute.gov.it/portale/nuovocoronavirus/dettaglioContenutiNuovoCoronavirus.jsp?lingua=italiano&id=5364&area=nuovoCoronavirus&menu=vuoto) regionale. Utilizzare i numeri di emergenza 112/118 solo in caso di effettiva necessità. Per ulteriori informazioni contattare il Ministero della Salute al numero gratuito di pubblica utilità 1500 , attivo tutti i giorni 24 ore su 24. Mantieniti informato sulla diffusione della pandemia, disponibile sul sito dell'OMS(https://www.who.int/emergencies/diseases/novel-coronavirus-2019/situation-reports/) e sul sito del ministero(http://www.salute.gov.it/nuovocoronavirus) .\n",
      "\n",
      "User:\n",
      "Fino a quando resteranno chiuse le piscine e le palestre?\n",
      "Co-bot: ... \n",
      "Le Ordinanze restano in vigore fino al 3 dicembre 2020.\n",
      "\n",
      "User:\n",
      "Dopo il vaccino, devo comunque continuare a usare la mascherina?\n",
      "Co-bot: ... \n",
      "È possibile ridurre il rischio di infezione, proteggendo se stessi e gli altri, seguendo alcuni accorgimenti: Proteggi te stessoLavati spesso le mani (dopo aver tossito/starnutito, dopo aver assistito un malato, prima durante e dopo la preparazione di cibo, prima di mangiare, dopo essere andati in bagno, dopo aver toccato animali o le loro deiezioni o più in generale quando le mani sono sporche in qualunque modo).\n",
      "\n",
      "User:\n",
      "Che cosa devo fare se voglio andare all'estero?\n",
      "Co-bot: ... \n",
      "Ecco le misure da adottare: Portare sempre con sé dispositivi di protezione delle vie respiratorie e indossarli nei luoghi al chiuso e in tutti i luoghi all'aperto quando non possa essere garantita in modo continuativo la condizione di isolamento rispetto a persone non conviventi. È fortemente raccomandato l'uso dei dispositivi di protezione delle vie respiratorie anche all'interno delle abitazioni private in presenza di persone non conviventi. ​Sono esonerati dall’obbligo di indossare la mascherina: i soggetti che stanno svolgendo attività sportiva i bambini di età inferiore ai sei anni i soggetti con patologie o disabilità incompatibili con l'uso della mascherina e chi interagisce con loro. Mantenere una distanza di sicurezza interpersonale di almeno un metro. Lavarsi spesso le mani con con acqua e sapone o in assenza con soluzioni idroalcoliche per il lavaggio delle mani. Evitare i luoghi affollati, gli ambienti chiusi con scarsa ventilazione e la distanza ravvicinata. Garantire una buona ventilazione di ambienti chiusi, inclusi abitazioni e uffici. Evitare abbracci e strette di mano. Starnutire e/o tossire in un fazzoletto evitando il contatto delle mani con le secrezioni respiratorie. Evitare l'uso promiscuo di bottiglie e bicchieri, in particolare durante l'attività sportiva. Non toccarsi occhi, naso e bocca con le mani. Non assumere farmaci antivirali e antibiotici, se non prescritti dal medico. Pulire le superfici con acqua e sapone o comuni detergenti neutri per rimuovere lo sporco e poi disinfettarle con soluzioni a base di ipoclorito di sodio (candeggina/varechina) o alcol adeguatamente diluite. Se si presentano febbre, tosse o difficoltà respiratorie e si sospetta di essere stato in stretto contatto con una persona affetta da malattia respiratoria Covid-19: restare in casa, non recarsi al pronto soccorso o presso gli studi medici ma telefonare al medico di famiglia, al pediatra o alla guardia medica, oppure chiamare il numero verde(http://www.salute.gov.it/portale/nuovocoronavirus/dettaglioContenutiNuovoCoronavirus.jsp?lingua=italiano&id=5364&area=nuovoCoronavirus&menu=vuoto) regionale. Utilizzare i numeri di emergenza 112/118 solo in caso di effettiva necessità. Per ulteriori informazioni contattare il Ministero della Salute al numero gratuito di pubblica utilità 1500 , attivo tutti i giorni 24 ore su 24. Mantieniti informato sulla diffusione della pandemia, disponibile sul sito dell'OMS(https://www.who.int/emergencies/diseases/novel-coronavirus-2019/situation-reports/) e sul sito del ministero(http://www.salute.gov.it/nuovocoronavirus) .\n",
      "\n",
      "User:\n",
      "Lo smog/inquinamento influisce sulla diffusione del coronavirus/covid?\n",
      "Co-bot: ... \n",
      "Lo scopo del Bando è quello di mettere a disposizione della comunità medica e scientifica conoscenze utili per le scelte cliniche e di sanità pubblica, per migliorare la salute dei pazienti, contenere la diffusione di SARS-CoV-2 e comprendere la patogenesi del COVID-19.\n",
      "\n",
      "User:\n",
      "Qual è il periodo di copertura del vaccino?\n",
      "Co-bot: ... \n",
      "Nella tabella 2 sono riportate le durate come tempi mediani (in giorni) nei 3 periodi di tempo considerati: tra il primo e il secondo periodo quasi raddoppia il tempo che trascorre dall’insorgenza dei sintomi al decesso, che poi torna ai livelli iniziali nel terzo periodo; diminuisce il tempo che trascorre dall’insorgenza dei sintomi all’esecuzione del tampone per la rilevazione dell’infezione da SARS-CoV-2 nel secondo periodo e rimane tale nel terzo periodo, così come il tempo tra l’insorgenza dei sintomi e il ricovero in ospedale; raddoppia la durata mediana in giorni dal ricovero in ospedale al decesso tra il primo e il secondo periodo per poi tornare, nel terzo periodo, ai livelli del primo.\n",
      "\n",
      "User:\n",
      "Se sono all’estero, cosa devo fare per tornare in Italia?\n",
      "Co-bot: ... \n",
      "Ecco le misure da adottare: Portare sempre con sé dispositivi di protezione delle vie respiratorie e indossarli nei luoghi al chiuso e in tutti i luoghi all'aperto quando non possa essere garantita in modo continuativo la condizione di isolamento rispetto a persone non conviventi. È fortemente raccomandato l'uso dei dispositivi di protezione delle vie respiratorie anche all'interno delle abitazioni private in presenza di persone non conviventi. ​Sono esonerati dall’obbligo di indossare la mascherina: i soggetti che stanno svolgendo attività sportiva i bambini di età inferiore ai sei anni i soggetti con patologie o disabilità incompatibili con l'uso della mascherina e chi interagisce con loro. Mantenere una distanza di sicurezza interpersonale di almeno un metro. Lavarsi spesso le mani con con acqua e sapone o in assenza con soluzioni idroalcoliche per il lavaggio delle mani. Evitare i luoghi affollati, gli ambienti chiusi con scarsa ventilazione e la distanza ravvicinata. Garantire una buona ventilazione di ambienti chiusi, inclusi abitazioni e uffici. Evitare abbracci e strette di mano. Starnutire e/o tossire in un fazzoletto evitando il contatto delle mani con le secrezioni respiratorie. Evitare l'uso promiscuo di bottiglie e bicchieri, in particolare durante l'attività sportiva. Non toccarsi occhi, naso e bocca con le mani. Non assumere farmaci antivirali e antibiotici, se non prescritti dal medico. Pulire le superfici con acqua e sapone o comuni detergenti neutri per rimuovere lo sporco e poi disinfettarle con soluzioni a base di ipoclorito di sodio (candeggina/varechina) o alcol adeguatamente diluite. Se si presentano febbre, tosse o difficoltà respiratorie e si sospetta di essere stato in stretto contatto con una persona affetta da malattia respiratoria Covid-19: restare in casa, non recarsi al pronto soccorso o presso gli studi medici ma telefonare al medico di famiglia, al pediatra o alla guardia medica, oppure chiamare il numero verde(http://www.salute.gov.it/portale/nuovocoronavirus/dettaglioContenutiNuovoCoronavirus.jsp?lingua=italiano&id=5364&area=nuovoCoronavirus&menu=vuoto) regionale. Utilizzare i numeri di emergenza 112/118 solo in caso di effettiva necessità. Per ulteriori informazioni contattare il Ministero della Salute al numero gratuito di pubblica utilità 1500 , attivo tutti i giorni 24 ore su 24. Mantieniti informato sulla diffusione della pandemia, disponibile sul sito dell'OMS(https://www.who.int/emergencies/diseases/novel-coronavirus-2019/situation-reports/) e sul sito del ministero(http://www.salute.gov.it/nuovocoronavirus) .\n",
      "\n",
      "User:\n",
      "Come proteggere le persone più anziane dal virus?\n",
      "Co-bot: ... \n",
      "Le persone con HIV in trattamento antiretrovirale efficace, con un numero di CD4 maggiore di 500 e con viremia controllata, per i dati oggi a disposizione, non hanno un rischio di peggior decorso rispetto a una persona HIV-negativa. Però, come per la popolazione generale, hanno maggiori probabilità di sviluppare forme gravi di malattia, le persone anziane e quelle con patologie sottostanti, quali ipertensione, problemi cardiaci o diabete e i pazienti immunodepressi (per patologia congenita o acquisita o in trattamento con farmaci immunosoppressori, trapiantati). Sono da considerarsi immunodepresse e quindi teoricamente potrebbero essere più esposte a complicanze e ad un decorso più severo di COVID-19, le persone con HIV con un numero di CD4 minore di 500, indipendentemente dal trattamento antiretrovirale, anche se al momento non ci sono casi che lo confermino. A queste persone si applica in modo particolarmente stringente l’indicazione di rimanere in casa.\n",
      "\n",
      "User:\n",
      "Il coronavirus è pericoloso per gli animali domestici?\n",
      "Co-bot: ... \n",
      "Tuttavia, poiché la sorveglianza veterinaria e gli studi sperimentali suggeriscono che gli animali domestici siano, occasionalmente, suscettibili a SARS-CoV-2, è importante proteggere gli animali di pazienti affetti da COVID-19, limitando la loro esposizione.\n",
      "\n",
      "User:\n",
      "La mascherina è obbligatoria all’aperto?\n",
      "Co-bot: ... \n",
      "Il Comitato tecnico scientifico ha diffuso il 31 agosto delle Raccomandazioni tecniche in cui precisa che nell’ambito della scuola primaria, per favorire l’apprendimento e lo sviluppo relazionale, la mascherina chirurgica può essere rimossa in condizione di staticità con il rispetto della distanza di almeno un metro e l’assenza di situazioni che prevedano la possibilità di aerosolizzazione (es. canto).\n",
      "\n",
      "User:\n",
      "Fino a quando sarà adottata la didattica a distanza per le scuole superiori?\n",
      "Co-bot: ... \n"
     ]
    },
    {
     "name": "stdout",
     "output_type": "stream",
     "text": [
      "Il nuovo DPCM dispone per le scuole secondarie il ricorso alla didattica digitale integrata, che deve comunque rimanere complementare alla didattica in presenza, modulando ulteriormente la gestione degli orari di ingresso e di uscita degli alunni, anche attraverso l’eventuale utilizzo di turni pomeridiani e disponendo che l’ingresso non avvenga in ogni caso prima delle 9.00.Le università invece dovranno essere in grado di adattarsi in base all'andamento del quadro epidemiologico, prevedendo la possibilità di didattica a distanza in caso di necessità.\n",
      "\n",
      "User:\n",
      "Qual è l'incidenza del covid nei bambini?\n",
      "Co-bot: ... \n",
      "Allo stato attuale non esistono evidenze scientifiche che il vaccino contro la tubercolosi (TBC), possa fornire protezione contro il nuovo coronavirus (SARS-CoV-2). Questo vaccino resta indicato in particolari categorie di popolazione a rischio per queste infezioni.\n",
      "\n",
      "User:\n",
      "I guanti servono a proteggere dal contagio?\n",
      "Co-bot: ... \n",
      "Al momento non esistono evidenze che gli antiretrovirali utilizzati nella terapia di COVID-19 (inibitori delle proteasi) possano fornire protezione efficace contro il contagio da SARS-Cov-2 nelle persone che li assumono per l’infezione da HIV.\n",
      "\n",
      "User:\n",
      "Si può viaggiare fuori comune in area gialla?\n",
      "Co-bot: ... \n",
      "Con laseconda Ordinanzale Regioni Campania, Toscana, Valle D’Aosta e la Provincia Autonoma di Bolzano passano dall’area rossa all’area arancione.\n",
      "\n",
      "User:\n",
      "Quanto sono importanti il distanziamento e la chiusura delle attività nella trasmissione del covid?\n",
      "Co-bot: ... \n",
      "I bambini sono spesso asintomatici o presentano sintomi lievi di COVID-19 e hanno un rischio molto inferiore rispetto agli adulti di sviluppare forme gravi di malattia. Tuttavia, l’infezione in alcuni casi può comportare lo sviluppo di complicanze o forme cliniche peculiari. Ecco perché va comunque posta molta attenzione quando i bambini manifestano i sintomi dell’infezione, soprattutto se con meno di un anno di età e in presenza di condizioni patologiche preesistenti. Non è ancora nota la capacità dei bambini, prevalentemente asintomatici, di trasmettere SARS-CoV-2 rispetto agli adulti. Per approfondire Pagina Covid-19 - Bambini (https://nsis.sanita.it/PROTOCOLLO/PROTOCOLLO/PROTOCOLLO/PROTOCOLLO/PROTOCOLLO/PROTOCOLLO/PROTOCOLLO/PROTOCOLLO/PROTOCOLLO/PROTOCOLLO/PROTOCOLLO/PROTOCOLLO/PROTOCOLLO/PROTOCOLLO/PROTOCOLLO/PROTOCOLLO/stage/portale/nuovocoronavirus/dettaglioContenutiNuovoCoronavirus.jsp?lingua=italiano&id=5413&area=nuovoCoronavirus&menu=vuoto)\n",
      "\n",
      "User:\n",
      "Posso fare attività sportiva se sono positivo asintomatico?\n",
      "Co-bot: ... \n",
      "Ecco le misure da adottare: Portare sempre con sé dispositivi di protezione delle vie respiratorie e indossarli nei luoghi al chiuso e in tutti i luoghi all'aperto quando non possa essere garantita in modo continuativo la condizione di isolamento rispetto a persone non conviventi. È fortemente raccomandato l'uso dei dispositivi di protezione delle vie respiratorie anche all'interno delle abitazioni private in presenza di persone non conviventi. ​Sono esonerati dall’obbligo di indossare la mascherina: i soggetti che stanno svolgendo attività sportiva i bambini di età inferiore ai sei anni i soggetti con patologie o disabilità incompatibili con l'uso della mascherina e chi interagisce con loro. Mantenere una distanza di sicurezza interpersonale di almeno un metro. Lavarsi spesso le mani con con acqua e sapone o in assenza con soluzioni idroalcoliche per il lavaggio delle mani. Evitare i luoghi affollati, gli ambienti chiusi con scarsa ventilazione e la distanza ravvicinata. Garantire una buona ventilazione di ambienti chiusi, inclusi abitazioni e uffici. Evitare abbracci e strette di mano. Starnutire e/o tossire in un fazzoletto evitando il contatto delle mani con le secrezioni respiratorie. Evitare l'uso promiscuo di bottiglie e bicchieri, in particolare durante l'attività sportiva. Non toccarsi occhi, naso e bocca con le mani. Non assumere farmaci antivirali e antibiotici, se non prescritti dal medico. Pulire le superfici con acqua e sapone o comuni detergenti neutri per rimuovere lo sporco e poi disinfettarle con soluzioni a base di ipoclorito di sodio (candeggina/varechina) o alcol adeguatamente diluite. Se si presentano febbre, tosse o difficoltà respiratorie e si sospetta di essere stato in stretto contatto con una persona affetta da malattia respiratoria Covid-19: restare in casa, non recarsi al pronto soccorso o presso gli studi medici ma telefonare al medico di famiglia, al pediatra o alla guardia medica, oppure chiamare il numero verde(http://www.salute.gov.it/portale/nuovocoronavirus/dettaglioContenutiNuovoCoronavirus.jsp?lingua=italiano&id=5364&area=nuovoCoronavirus&menu=vuoto) regionale. Utilizzare i numeri di emergenza 112/118 solo in caso di effettiva necessità. Per ulteriori informazioni contattare il Ministero della Salute al numero gratuito di pubblica utilità 1500 , attivo tutti i giorni 24 ore su 24. Mantieniti informato sulla diffusione della pandemia, disponibile sul sito dell'OMS(https://www.who.int/emergencies/diseases/novel-coronavirus-2019/situation-reports/) e sul sito del ministero(http://www.salute.gov.it/nuovocoronavirus) .\n",
      "\n",
      "User:\n",
      "Per i bambini è obbligatorio l’uso della mascherina?\n",
      "Co-bot: ... \n",
      "Dai sei anni in su anche i bambini devono portare la mascherina e per loro va posta attenzione alla forma evitando di usare mascherine troppo grandi e scomode per il loro viso.\n",
      "\n",
      "User:\n",
      "Come agiscono i linfociti T nelle infezioni da covid?\n",
      "Co-bot: ... \n",
      "Data di ultimo aggiornamento: 13 marzo 2020Data di pubblicazione: 11 marzo 2020 \n",
      "La prevenzione e il controllo delle infezioni (Infection prevention and control, IPC) è un approccio scientifico e pratico finalizzato a prevenire i rischi causati dalle infezioni per pazienti e operatori sanitari.\n",
      "\n",
      "User:\n",
      "Posso visitare i miei nonni?\n",
      "Co-bot: ... \n",
      "Potrai donare sangue e plasma dopo un periodo di sospensione che dipende dal tipo di vaccino a cui sei stato sottoposto. Se si tratta di un vaccino a base di virus inattivati , che non contiene agenti vivi, o un vaccino ricombinante (come quelli attualmente disponibili in Italia) allora potrai donare 48 ore dopo la somministrazione. Ma in caso di sintomi come febbre o spossatezza successivi alla vaccinazione dovrai aspettare almeno una settimana dalla risoluzione dei sintomi prima di donare. Se si tratta di un vaccino con virus attenuati (al momento non ancora disponibili in Italia) dovrai aspettare almeno 4 settimane prima di donare. In ogni caso, se hai dubbi, contatta la struttura di riferimento e al momento della prenotazione della donazione specifica di essere stato vaccinato e, se lo sai, con quale vaccino. Informa sempre di un’eventuale vaccinazione anche il medico responsabile della selezione donatori\n",
      "\n",
      "User:\n",
      "È possibile andare a pesca?\n",
      "Co-bot: ... \n",
      "Poiché l'isolamento sociale e la solitudine rappresentano motivo di sofferenza e importanti fattori di rischio nella popolazione anziana, le visite dei parenti e dei volontari devono essere consentite, in piena sicurezza e con l'ausilio di tamponi rapidi antigenici per lo screening dei contagi da COVID-19. Questi test possono essere effettuati direttamente in loco e, in caso di esito negativo, i visitatori sono autorizzati ad accedere in struttura secondo le indicazioni fornite dal direttore. Se, però, in struttura è presente un caso COVID-19 o un focolaio in atto, le visite devono essere sospese . Possono essere tuttavia consentite, in casi selezionati, secondo la valutazione del direttore della struttura e in base alle possibilità di gestire in modo completamente autonomo le aree con pazienti COVID-19 da quelle con gli assistiti negativi. In caso di hospice, le visite possono essere autorizzate, in situazioni di fine vita di assistiti affetti da COVID-19, dal direttore della struttura, dopo valutazione dei rischi-benefici. Le persone autorizzate dovranno comunque essere in numero limitato e osservare tutte le precauzioni raccomandate per la prevenzione della trasmissione dell’infezione da SARS-CoV-2. Nelle situazioni di fine vita, su richiesta dell’assistito o dei familiari, va anche autorizzata l’assistenza spirituale. Leggi Indicazioni ad interim per la prevenzione e il controllo dell’infezione da SARS-CoV-2 in strutture residenziali sociosanitarie e socioassistenziali(http://www.salute.gov.it/imgs/C_17_pagineAree_5373_15_file.pdf) , Circolare 30 novembre 2020(https://www.trovanorme.salute.gov.it/norme/renderNormsanPdf?anno=2020&codLeg=77455&parte=1%20&serie=null) - Disposizioni per l’accesso dei visitatori a strutture residenziali socioassistenziali, sociosanitarie e hospice e indicazioni per i nuovi ingressi nell’evenienza di assistiti positivi nella struttura\n",
      "\n",
      "User:\n",
      "Quali sono i sintomi del coronavirus?\n",
      "Co-bot: ... \n",
      "I sintomi di COVID-19 variano sulla base della gravità della malattia, dall'assenza di sintomi (essere asintomatici) a presentare febbre, tosse, mal di gola, mal di testa, naso che cola, debolezza, affaticamento e dolore muscolare e nei casi più gravi, polmonite, insufficienza respiratoria, sepsi e shock settico, che potenzialmente portano alla morte. I sintomi più comuni di COVID-19 sono: febbre ≥ 37,5°C e brividi tosse di recente comparsa difficoltà respiratoria perdita improvvisa dell’olfatto (anosmia) o diminuzione dell'olfatto (iposmia), perdita del gusto (ageusia) o alterazione del gusto (disgeusia) naso che cola mal di gola diarrea (soprattutto nei bambini).\n",
      "\n",
      "User:\n",
      "Il virus può rimanere sulle superfici?\n",
      "Co-bot: ... \n",
      "\"È senz'altro vero - ha sottolineato Speranza - che il virus tra le generazioni più giovani fa meno male rispetto all'impatto che esso ha naturalmente sulle generazioni più avanti negli anni, ma è altrettanto vero che i giovani continuano a essere comunque uno strumento di diffusione del virus e questo può essere pericoloso, qualora il virus dovesse estendersi in modo particolare ai genitori e ai nonni, che pagherebbero un prezzo molto più alto.\"\n"
     ]
    }
   ],
   "source": [
    "print('Co-bot:')\n",
    "print('Benvenuto! Risponderò a tutti i tuoi dubbi riguardo il coronavirus')\n",
    "print()\n",
    "\n",
    "for sentence in test_set:\n",
    "    user_input = sentence\n",
    "    \n",
    "    print()\n",
    "    print('User:')\n",
    "    print (user_input)\n",
    "\n",
    "    print('Co-bot: ... ')\n",
    "    print(bot_response(user_input, index, q_a))"
   ]
  }
 ],
 "metadata": {
  "kernelspec": {
   "display_name": "Python 3",
   "language": "python",
   "name": "python3"
  },
  "language_info": {
   "codemirror_mode": {
    "name": "ipython",
    "version": 3
   },
   "file_extension": ".py",
   "mimetype": "text/x-python",
   "name": "python",
   "nbconvert_exporter": "python",
   "pygments_lexer": "ipython3",
   "version": "3.8.3"
  }
 },
 "nbformat": 4,
 "nbformat_minor": 4
}
