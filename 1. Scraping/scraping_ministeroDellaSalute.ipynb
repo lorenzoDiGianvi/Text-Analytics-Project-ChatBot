{
 "cells": [
  {
   "cell_type": "markdown",
   "metadata": {},
   "source": [
    "## Scraping del sito del Ministero della salute"
   ]
  },
  {
   "cell_type": "code",
   "execution_count": 1,
   "metadata": {},
   "outputs": [],
   "source": [
    "import requests\n",
    "import urllib\n",
    "import urllib.request\n",
    "from bs4 import BeautifulSoup"
   ]
  },
  {
   "cell_type": "code",
   "execution_count": null,
   "metadata": {},
   "outputs": [],
   "source": []
  },
  {
   "cell_type": "code",
   "execution_count": 2,
   "metadata": {},
   "outputs": [
    {
     "name": "stdout",
     "output_type": "stream",
     "text": [
      "http://www.salute.gov.it/portale/nuovocoronavirus/archivioNotizieNuovoCoronavirus.jsp?lingua=italiano&menu=notizie&p=dalministero&area=nuovocoronavirus&notizie.page=0\n",
      "http://www.salute.gov.it/portale/nuovocoronavirus/archivioNotizieNuovoCoronavirus.jsp?lingua=italiano&menu=notizie&p=dalministero&area=nuovocoronavirus&notizie.page=1\n",
      "http://www.salute.gov.it/portale/nuovocoronavirus/archivioNotizieNuovoCoronavirus.jsp?lingua=italiano&menu=notizie&p=dalministero&area=nuovocoronavirus&notizie.page=2\n",
      "http://www.salute.gov.it/portale/nuovocoronavirus/archivioNotizieNuovoCoronavirus.jsp?lingua=italiano&menu=notizie&p=dalministero&area=nuovocoronavirus&notizie.page=3\n",
      "http://www.salute.gov.it/portale/nuovocoronavirus/archivioNotizieNuovoCoronavirus.jsp?lingua=italiano&menu=notizie&p=dalministero&area=nuovocoronavirus&notizie.page=4\n",
      "http://www.salute.gov.it/portale/nuovocoronavirus/archivioNotizieNuovoCoronavirus.jsp?lingua=italiano&menu=notizie&p=dalministero&area=nuovocoronavirus&notizie.page=5\n",
      "http://www.salute.gov.it/portale/nuovocoronavirus/archivioNotizieNuovoCoronavirus.jsp?lingua=italiano&menu=notizie&p=dalministero&area=nuovocoronavirus&notizie.page=6\n",
      "http://www.salute.gov.it/portale/nuovocoronavirus/archivioNotizieNuovoCoronavirus.jsp?lingua=italiano&menu=notizie&p=dalministero&area=nuovocoronavirus&notizie.page=7\n",
      "http://www.salute.gov.it/portale/nuovocoronavirus/archivioNotizieNuovoCoronavirus.jsp?lingua=italiano&menu=notizie&p=dalministero&area=nuovocoronavirus&notizie.page=8\n",
      "http://www.salute.gov.it/portale/nuovocoronavirus/archivioNotizieNuovoCoronavirus.jsp?lingua=italiano&menu=notizie&p=dalministero&area=nuovocoronavirus&notizie.page=9\n",
      "['http://www.salute.gov.it/portale/nuovocoronavirus/archivioNotizieNuovoCoronavirus.jsp?lingua=italiano&menu=notizie&p=dalministero&area=nuovocoronavirus&notizie.page=0', 'http://www.salute.gov.it/portale/nuovocoronavirus/archivioNotizieNuovoCoronavirus.jsp?lingua=italiano&menu=notizie&p=dalministero&area=nuovocoronavirus&notizie.page=1', 'http://www.salute.gov.it/portale/nuovocoronavirus/archivioNotizieNuovoCoronavirus.jsp?lingua=italiano&menu=notizie&p=dalministero&area=nuovocoronavirus&notizie.page=2', 'http://www.salute.gov.it/portale/nuovocoronavirus/archivioNotizieNuovoCoronavirus.jsp?lingua=italiano&menu=notizie&p=dalministero&area=nuovocoronavirus&notizie.page=3', 'http://www.salute.gov.it/portale/nuovocoronavirus/archivioNotizieNuovoCoronavirus.jsp?lingua=italiano&menu=notizie&p=dalministero&area=nuovocoronavirus&notizie.page=4', 'http://www.salute.gov.it/portale/nuovocoronavirus/archivioNotizieNuovoCoronavirus.jsp?lingua=italiano&menu=notizie&p=dalministero&area=nuovocoronavirus&notizie.page=5', 'http://www.salute.gov.it/portale/nuovocoronavirus/archivioNotizieNuovoCoronavirus.jsp?lingua=italiano&menu=notizie&p=dalministero&area=nuovocoronavirus&notizie.page=6', 'http://www.salute.gov.it/portale/nuovocoronavirus/archivioNotizieNuovoCoronavirus.jsp?lingua=italiano&menu=notizie&p=dalministero&area=nuovocoronavirus&notizie.page=7', 'http://www.salute.gov.it/portale/nuovocoronavirus/archivioNotizieNuovoCoronavirus.jsp?lingua=italiano&menu=notizie&p=dalministero&area=nuovocoronavirus&notizie.page=8', 'http://www.salute.gov.it/portale/nuovocoronavirus/archivioNotizieNuovoCoronavirus.jsp?lingua=italiano&menu=notizie&p=dalministero&area=nuovocoronavirus&notizie.page=9']\n"
     ]
    }
   ],
   "source": [
    "\n",
    "\n",
    "#creo una lista contenente tutte le pagine da 0 a 10\n",
    "#da cui voglio prendere gli articoli\n",
    "\n",
    "#il link qui sotto non contiene il carattere finale che classifica la pagina (ovvero '0')\n",
    "#così da aggiungerlo automaticamente\n",
    "url = 'http://www.salute.gov.it/portale/nuovocoronavirus/archivioNotizieNuovoCoronavirus.jsp?lingua=italiano&menu=notizie&p=dalministero&area=nuovocoronavirus&notizie.page='\n",
    "\n",
    "i = 0\n",
    "pagine = list()\n",
    "for c in range(10):\n",
    "    url = url + str(i)\n",
    "    i+=1\n",
    "    print (url)\n",
    "    if url not in pagine:\n",
    "        pagine.append(url)\n",
    "    url = 'http://www.salute.gov.it/portale/nuovocoronavirus/archivioNotizieNuovoCoronavirus.jsp?lingua=italiano&menu=notizie&p=dalministero&area=nuovocoronavirus&notizie.page='\n",
    "\n",
    "print (pagine)"
   ]
  },
  {
   "cell_type": "code",
   "execution_count": 3,
   "metadata": {},
   "outputs": [],
   "source": [
    "#prendo tutti i link \n",
    "\n",
    "import time\n",
    "\n",
    "links = list()\n",
    "for page in pagine:\n",
    "    soup = BeautifulSoup(requests.get(page).text)\n",
    "    time.sleep(0.3)\n",
    "    for link in soup.find_all('a'):\n",
    "        links.append(link.get('href'))\n",
    "    links\n",
    "    "
   ]
  },
  {
   "cell_type": "code",
   "execution_count": 4,
   "metadata": {},
   "outputs": [
    {
     "data": {
      "text/plain": [
       "891"
      ]
     },
     "execution_count": 4,
     "metadata": {},
     "output_type": "execute_result"
    }
   ],
   "source": [
    "len(links)"
   ]
  },
  {
   "cell_type": "code",
   "execution_count": 5,
   "metadata": {
    "scrolled": true
   },
   "outputs": [],
   "source": [
    "# prendo tutti quei link che corrispondono ad una notizia/articolo grazie alla specifica var notizia\n",
    "texts = dict()\n",
    "listaLink = list()\n",
    "notizia = '/portale/nuovocoronavirus/dettaglioNotizieNuovoCoronavirus.jsp?lingua=italiano&menu=notizie&p=dalministero&id'\n",
    "for link in links:\n",
    "    if notizia in link:\n",
    "        listaLink.append(link)"
   ]
  },
  {
   "cell_type": "code",
   "execution_count": 6,
   "metadata": {
    "scrolled": true
   },
   "outputs": [
    {
     "data": {
      "text/plain": [
       "100"
      ]
     },
     "execution_count": 6,
     "metadata": {},
     "output_type": "execute_result"
    }
   ],
   "source": [
    "#dovrebbero essere 100, dato che ci sono 10 notizie in ogni pagina e sono 10 pagine \n",
    "\n",
    "len(listaLink)"
   ]
  },
  {
   "cell_type": "code",
   "execution_count": 7,
   "metadata": {},
   "outputs": [],
   "source": [
    "#per ogni link (contenente l'articolo/notizia), fai la richiesta, prendi i <p> e mettili in una lista\n",
    "ministeroDS = 'http://www.salute.gov.it'\n",
    "\n",
    "articoli = list()\n",
    "for link in listaLink:\n",
    "    soup = BeautifulSoup(requests.get(ministeroDS+link).text)\n",
    "    time.sleep(0.2)\n",
    "    testo = soup.find_all('p')\n",
    "    articoli.append(testo)"
   ]
  },
  {
   "cell_type": "code",
   "execution_count": 8,
   "metadata": {},
   "outputs": [],
   "source": [
    "#dato che articoli è una lista di liste, entro nella lista e poi nella sottolista, poi parso tutto\n",
    "\n",
    "articoliSeparati = list()\n",
    "i = 0\n",
    "\n",
    "for lista in articoli:\n",
    "    l = list()\n",
    "    for riga in lista:\n",
    "        r = riga.get_text(strip=True)\n",
    "        l.append(r)\n",
    "    articoliSeparati.append(l)"
   ]
  },
  {
   "cell_type": "code",
   "execution_count": 12,
   "metadata": {},
   "outputs": [
    {
     "data": {
      "text/plain": [
       "100"
      ]
     },
     "execution_count": 12,
     "metadata": {},
     "output_type": "execute_result"
    }
   ],
   "source": [
    "len(articoliSeparati)"
   ]
  },
  {
   "cell_type": "code",
   "execution_count": 11,
   "metadata": {},
   "outputs": [],
   "source": [
    "# effettuo una minima pulizia manuale andando a\n",
    "# eliminare tutte quelle righe inutili come lo spazio o frasi esterne al testo.\n",
    "\n",
    "\n",
    "spazio = ''\n",
    "ministro = 'Ministero della Salute'\n",
    "testata = '© 2020 - Testata di proprietà del Ministero della Salute'\n",
    "portale = 'Il portale utilizza cookie tecnici, analytics e di terze parti per il corretto funzionamento delle pagine web e per fornire le funzionalità di condivisione sui social network e la visualizzazione di media. Per avere maggiori informazioni su tutti i cookie utilizzati, su come disabilitarli o negare il consenso all\\'utilizzo consulta la policy sulla Privacy. Proseguendo nella navigazione presti il consenso all\\'uso di tutti i cookie.'\n",
    "leggi = 'Leggi:'\n",
    "cons = 'Consulta'\n",
    "Guarda = 'Guarda'\n",
    "saperne = 'Per saperne di più'\n",
    "approfondire = 'Per approfondire'\n",
    "\n",
    "for article in articoliSeparati:\n",
    "    for riga in article:\n",
    "        if spazio in article:\n",
    "            article.remove(spazio)\n",
    "        if ministro in article:\n",
    "            article.remove(ministro)\n",
    "        if testata in article:\n",
    "            article.remove(testata)\n",
    "        if portale in article:\n",
    "            article.remove(portale)\n",
    "        if leggi in article:\n",
    "            article.remove(leggi)\n",
    "        if cons in article:\n",
    "            article.remove(cons)\n",
    "        if Guarda in article:\n",
    "            article.remove(Guarda)\n",
    "        if saperne in article:\n",
    "            article.remove(saperne)\n",
    "        if approfondire in article:\n",
    "            article.remove(approfondire)\n",
    "    \n",
    "  \n"
   ]
  },
  {
   "cell_type": "raw",
   "metadata": {},
   "source": []
  },
  {
   "cell_type": "markdown",
   "metadata": {},
   "source": [
    "## salvo tutto in un file.txt e in un test.json"
   ]
  },
  {
   "cell_type": "code",
   "execution_count": 13,
   "metadata": {},
   "outputs": [],
   "source": [
    "with open(\"file2.txt\", \"w\", encoding='utf8') as output:\n",
    "    output.write(str(articoliSeparati))"
   ]
  },
  {
   "cell_type": "code",
   "execution_count": 16,
   "metadata": {},
   "outputs": [],
   "source": [
    "import json\n",
    "\n",
    "with open('file_Lorenzo.txt', 'w') as f:\n",
    "    f.write(json.dumps(articoliSeparati))\n",
    "\n",
    "\n",
    "#Now read the file back into a Python list object\n",
    "#with open('test.txt', 'r') as f:\n",
    " #   a = json.loads(f.read())"
   ]
  }
 ],
 "metadata": {
  "kernelspec": {
   "display_name": "Python 3",
   "language": "python",
   "name": "python3"
  },
  "language_info": {
   "codemirror_mode": {
    "name": "ipython",
    "version": 3
   },
   "file_extension": ".py",
   "mimetype": "text/x-python",
   "name": "python",
   "nbconvert_exporter": "python",
   "pygments_lexer": "ipython3",
   "version": "3.8.5"
  }
 },
 "nbformat": 4,
 "nbformat_minor": 4
}
